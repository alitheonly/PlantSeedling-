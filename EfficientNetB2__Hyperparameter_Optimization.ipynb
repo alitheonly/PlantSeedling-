{
  "cells": [
    {
      "cell_type": "code",
      "execution_count": null,
      "metadata": {
        "id": "lNHfavkeFV3m"
      },
      "outputs": [],
      "source": [
        "\n",
        "\n",
        "from keras.preprocessing.image import ImageDataGenerator\n",
        "from keras.models import Model\n",
        "from keras.layers import Dense, GlobalAveragePooling2D, Dropout\n",
        "from keras.optimizers import Adam, SGD, RMSprop\n",
        "import tensorflow as tf\n",
        "import cv2\n",
        "import os\n",
        "import pandas as pd\n",
        "import numpy as np\n",
        "import matplotlib.pyplot as plt\n",
        "from collections import OrderedDict\n",
        "import matplotlib.cm as cm\n",
        "from matplotlib.colors import Normalize\n",
        "import random\n",
        "from glob import glob\n",
        "import imageio\n",
        "from sklearn.preprocessing import LabelBinarizer\n",
        "import shutil\n",
        "from tensorflow.keras.models import load_model\n",
        "import optuna\n",
        "from keras.applications import EfficientNetV2B0\n",
        "from re import VERBOSE\n",
        "import gc\n",
        "import optuna\n",
        "from tensorflow.keras.models import Sequential\n",
        "from tensorflow.keras.callbacks import EarlyStopping, ModelCheckpoint\n",
        "import optuna.visualization as optuna_viz\n",
        "\n"
      ]
    },
    {
      "cell_type": "code",
      "execution_count": null,
      "metadata": {
        "colab": {
          "base_uri": "https://localhost:8080/"
        },
        "id": "a57NAtYdsKBJ",
        "outputId": "a35d3f3d-c6b8-4af5-9f8b-4893d22b4bf4"
      },
      "outputs": [
        {
          "output_type": "stream",
          "name": "stdout",
          "text": [
            "Requirement already satisfied: optuna in /usr/local/lib/python3.10/dist-packages (3.5.0)\n",
            "Requirement already satisfied: matplotlib in /usr/local/lib/python3.10/dist-packages (3.7.1)\n",
            "Requirement already satisfied: alembic>=1.5.0 in /usr/local/lib/python3.10/dist-packages (from optuna) (1.13.1)\n",
            "Requirement already satisfied: colorlog in /usr/local/lib/python3.10/dist-packages (from optuna) (6.8.0)\n",
            "Requirement already satisfied: numpy in /usr/local/lib/python3.10/dist-packages (from optuna) (1.23.5)\n",
            "Requirement already satisfied: packaging>=20.0 in /usr/local/lib/python3.10/dist-packages (from optuna) (23.2)\n",
            "Requirement already satisfied: sqlalchemy>=1.3.0 in /usr/local/lib/python3.10/dist-packages (from optuna) (2.0.23)\n",
            "Requirement already satisfied: tqdm in /usr/local/lib/python3.10/dist-packages (from optuna) (4.66.1)\n",
            "Requirement already satisfied: PyYAML in /usr/local/lib/python3.10/dist-packages (from optuna) (6.0.1)\n",
            "Requirement already satisfied: contourpy>=1.0.1 in /usr/local/lib/python3.10/dist-packages (from matplotlib) (1.2.0)\n",
            "Requirement already satisfied: cycler>=0.10 in /usr/local/lib/python3.10/dist-packages (from matplotlib) (0.12.1)\n",
            "Requirement already satisfied: fonttools>=4.22.0 in /usr/local/lib/python3.10/dist-packages (from matplotlib) (4.47.0)\n",
            "Requirement already satisfied: kiwisolver>=1.0.1 in /usr/local/lib/python3.10/dist-packages (from matplotlib) (1.4.5)\n",
            "Requirement already satisfied: pillow>=6.2.0 in /usr/local/lib/python3.10/dist-packages (from matplotlib) (9.4.0)\n",
            "Requirement already satisfied: pyparsing>=2.3.1 in /usr/local/lib/python3.10/dist-packages (from matplotlib) (3.1.1)\n",
            "Requirement already satisfied: python-dateutil>=2.7 in /usr/local/lib/python3.10/dist-packages (from matplotlib) (2.8.2)\n",
            "Requirement already satisfied: Mako in /usr/local/lib/python3.10/dist-packages (from alembic>=1.5.0->optuna) (1.3.0)\n",
            "Requirement already satisfied: typing-extensions>=4 in /usr/local/lib/python3.10/dist-packages (from alembic>=1.5.0->optuna) (4.5.0)\n",
            "Requirement already satisfied: six>=1.5 in /usr/local/lib/python3.10/dist-packages (from python-dateutil>=2.7->matplotlib) (1.16.0)\n",
            "Requirement already satisfied: greenlet!=0.4.17 in /usr/local/lib/python3.10/dist-packages (from sqlalchemy>=1.3.0->optuna) (3.0.2)\n",
            "Requirement already satisfied: MarkupSafe>=0.9.2 in /usr/local/lib/python3.10/dist-packages (from Mako->alembic>=1.5.0->optuna) (2.1.3)\n"
          ]
        }
      ],
      "source": [
        "pip install optuna matplotlib"
      ]
    },
    {
      "cell_type": "code",
      "execution_count": null,
      "metadata": {
        "colab": {
          "base_uri": "https://localhost:8080/",
          "height": 35
        },
        "id": "gy5JH5n2cJV9",
        "outputId": "599c6ea8-d5fc-4aa5-a8a4-cd0874b9f39c"
      },
      "outputs": [
        {
          "output_type": "execute_result",
          "data": {
            "text/plain": [
              "'/content/local_train_dataset'"
            ],
            "application/vnd.google.colaboratory.intrinsic+json": {
              "type": "string"
            }
          },
          "metadata": {},
          "execution_count": 5
        }
      ],
      "source": [
        "\n",
        "\n",
        "# Replace '/content/drive/MyDrive/Dataset/train_dataset' with your actual train path\n",
        "source_path = '/content/Splitdataset0101/MyDrive/train_dataset'\n",
        "destination_path = '/content/local_train_dataset'\n",
        "\n",
        "# Copy the dataset\n",
        "shutil.copytree(source_path, destination_path)\n"
      ]
    },
    {
      "cell_type": "code",
      "execution_count": null,
      "metadata": {
        "colab": {
          "base_uri": "https://localhost:8080/",
          "height": 35
        },
        "id": "O0yYAncgcdB0",
        "outputId": "e8f407b1-08b6-47bf-d510-0851dc746e9a"
      },
      "outputs": [
        {
          "output_type": "execute_result",
          "data": {
            "text/plain": [
              "'/content/local_Valid_dataset'"
            ],
            "application/vnd.google.colaboratory.intrinsic+json": {
              "type": "string"
            }
          },
          "metadata": {},
          "execution_count": 6
        }
      ],
      "source": [
        "\n",
        "source_path = '/content/Splitdataset0101/MyDrive/valid_dataset'\n",
        "destination_path = '/content/local_Valid_dataset'\n",
        "\n",
        "# Copy the dataset\n",
        "shutil.copytree(source_path, destination_path)"
      ]
    },
    {
      "cell_type": "code",
      "execution_count": null,
      "metadata": {
        "colab": {
          "base_uri": "https://localhost:8080/",
          "height": 35
        },
        "id": "CDczZb5IcdSb",
        "outputId": "fe005a6b-e12e-4dda-ba56-76bfd7fdf28f"
      },
      "outputs": [
        {
          "output_type": "execute_result",
          "data": {
            "text/plain": [
              "'/content/local_test_dataset'"
            ],
            "application/vnd.google.colaboratory.intrinsic+json": {
              "type": "string"
            }
          },
          "metadata": {},
          "execution_count": 7
        }
      ],
      "source": [
        "\n",
        "source_path = '/content/Splitdataset0101/MyDrive/test_dataset'\n",
        "destination_path = '/content/local_test_dataset'\n",
        "\n",
        "# Copy the dataset\n",
        "shutil.copytree(source_path, destination_path)"
      ]
    },
    {
      "cell_type": "code",
      "execution_count": null,
      "metadata": {
        "colab": {
          "base_uri": "https://localhost:8080/"
        },
        "id": "074Shc6oZpvd",
        "outputId": "e873b9ba-d9ca-421e-cab0-e5b69e0ec85d"
      },
      "outputs": [
        {
          "output_type": "execute_result",
          "data": {
            "text/plain": [
              "['Black-grass',\n",
              " 'Charlock',\n",
              " 'Cleavers',\n",
              " 'Common Chickweed',\n",
              " 'Common wheat',\n",
              " 'Fat Hen',\n",
              " 'Loose Silky-bent',\n",
              " 'Maize',\n",
              " 'Scentless Mayweed',\n",
              " 'Shepherd’s Purse',\n",
              " 'Small-flowered Cranesbill',\n",
              " 'Sugar beet']"
            ]
          },
          "metadata": {},
          "execution_count": 8
        }
      ],
      "source": [
        "# all train class names...\n",
        "train_dir = sorted(os.listdir('/content/local_train_dataset'))\n",
        "class_names_lst = [dir_name for dir_name in train_dir]\n",
        "class_names_lst"
      ]
    },
    {
      "cell_type": "code",
      "execution_count": null,
      "metadata": {
        "colab": {
          "base_uri": "https://localhost:8080/"
        },
        "id": "RmixW7wIZqG5",
        "outputId": "0d1dc462-2011-4c52-da74-d82c81d17e24"
      },
      "outputs": [
        {
          "output_type": "execute_result",
          "data": {
            "text/plain": [
              "['Black-grass',\n",
              " 'Charlock',\n",
              " 'Cleavers',\n",
              " 'Common Chickweed',\n",
              " 'Common wheat',\n",
              " 'Fat Hen',\n",
              " 'Loose Silky-bent',\n",
              " 'Maize',\n",
              " 'Scentless Mayweed',\n",
              " 'Shepherd’s Purse',\n",
              " 'Small-flowered Cranesbill',\n",
              " 'Sugar beet']"
            ]
          },
          "metadata": {},
          "execution_count": 9
        }
      ],
      "source": [
        "# all train class names...\n",
        "test_dir = sorted(os.listdir('/content/local_test_dataset'))\n",
        "class_names_lst = [dir_name for dir_name in test_dir]\n",
        "class_names_lst"
      ]
    },
    {
      "cell_type": "code",
      "execution_count": null,
      "metadata": {
        "colab": {
          "base_uri": "https://localhost:8080/"
        },
        "id": "427XXZq5aUBa",
        "outputId": "3190df29-8ba8-49a5-8090-19e099e2f462"
      },
      "outputs": [
        {
          "output_type": "execute_result",
          "data": {
            "text/plain": [
              "['Black-grass',\n",
              " 'Charlock',\n",
              " 'Cleavers',\n",
              " 'Common Chickweed',\n",
              " 'Common wheat',\n",
              " 'Fat Hen',\n",
              " 'Loose Silky-bent',\n",
              " 'Maize',\n",
              " 'Scentless Mayweed',\n",
              " 'Shepherd’s Purse',\n",
              " 'Small-flowered Cranesbill',\n",
              " 'Sugar beet']"
            ]
          },
          "metadata": {},
          "execution_count": 10
        }
      ],
      "source": [
        "# all train class names...\n",
        "val_dir = sorted(os.listdir('/content/local_Valid_dataset'))\n",
        "class_names_lst = [dir_name for dir_name in val_dir]\n",
        "class_names_lst"
      ]
    },
    {
      "cell_type": "code",
      "execution_count": null,
      "metadata": {
        "id": "ifL4ii9gzjLe"
      },
      "outputs": [],
      "source": [
        "data_path = '/content/'\n",
        "train_dir = os.path.join(data_path,'local_train_dataset')\n",
        "test_dir = os.path.join(data_path, 'local_test_dataset')\n",
        "val_dir = os.path.join(data_path, 'local_Valid_dataset')"
      ]
    },
    {
      "cell_type": "code",
      "execution_count": null,
      "metadata": {
        "id": "W17RnxpeYVlN"
      },
      "outputs": [],
      "source": [
        "images_path= os.path.join(train_dir, '*', '*.png')\n",
        "images = glob(images_path)\n",
        "\n",
        "img_size = 224\n",
        "train_images = []\n",
        "train_labels = []\n",
        "for i in images:\n",
        "    train_images.append(cv2.resize(cv2.imread(i), (img_size, img_size)))\n",
        "    train_labels.append(i.split('/')[-2])\n",
        "train_X = np.asarray(train_images)\n",
        "train_Y = pd.DataFrame(train_labels)"
      ]
    },
    {
      "cell_type": "code",
      "execution_count": null,
      "metadata": {
        "id": "LRQxEvr-VXW1"
      },
      "outputs": [],
      "source": [
        "images_path= os.path.join(val_dir, '*', '*.png')\n",
        "images = glob(images_path)\n",
        "\n",
        "img_size = 224\n",
        "valid_images = []\n",
        "valid_labels = []\n",
        "for i in images:\n",
        "    valid_images.append(cv2.resize(cv2.imread(i), (img_size, img_size)))\n",
        "    valid_labels.append(i.split('/')[-2])\n",
        "valid_X = np.asarray(valid_images)\n",
        "valid_Y = pd.DataFrame(valid_labels)"
      ]
    },
    {
      "cell_type": "code",
      "execution_count": null,
      "metadata": {
        "id": "Gv12L3Q5VXhg"
      },
      "outputs": [],
      "source": [
        "images_path= os.path.join(test_dir, '*', '*.png')\n",
        "images = glob(images_path)\n",
        "\n",
        "img_size = 224\n",
        "test_images = []\n",
        "test_labels = []\n",
        "for i in images:\n",
        "    test_images.append(cv2.resize(cv2.imread(i), (img_size, img_size)))\n",
        "    test_labels.append(i.split('/')[-2])\n",
        "test_X = np.asarray(test_images)\n",
        "test_Y = pd.DataFrame(test_labels)"
      ]
    },
    {
      "cell_type": "code",
      "execution_count": null,
      "metadata": {
        "colab": {
          "base_uri": "https://localhost:8080/"
        },
        "id": "DA-bQpOhfrXG",
        "outputId": "519878ed-da47-4410-e5fa-cf8718efd55e"
      },
      "outputs": [
        {
          "output_type": "stream",
          "name": "stdout",
          "text": [
            "Category: Shepherd’s Purse, Number of Images: 29\n",
            "Category: Loose Silky-bent, Number of Images: 78\n",
            "Category: Scentless Mayweed, Number of Images: 62\n",
            "Category: Common wheat, Number of Images: 23\n",
            "Category: Common Chickweed, Number of Images: 66\n",
            "Category: Charlock, Number of Images: 50\n",
            "Category: Sugar beet, Number of Images: 54\n",
            "Category: Maize, Number of Images: 18\n",
            "Category: Fat Hen, Number of Images: 51\n",
            "Category: Small-flowered Cranesbill, Number of Images: 51\n",
            "Category: Cleavers, Number of Images: 31\n",
            "Category: Black-grass, Number of Images: 41\n",
            "\n",
            "Total Number of Images Across All Categories: 554\n"
          ]
        }
      ],
      "source": [
        "# Get a list of subdirectories (categories) in the train path\n",
        "categories = [category for category in os.listdir(source_path) if os.path.isdir(os.path.join(source_path, category))]\n",
        "\n",
        "# Initialize total count\n",
        "total_images = 0\n",
        "\n",
        "# Print the count of images in each category and accumulate the total count\n",
        "for category in categories:\n",
        "    category_path = os.path.join(source_path, category)\n",
        "    num_images = len(os.listdir(category_path))\n",
        "    total_images += num_images\n",
        "    print(f\"Category: {category}, Number of Images: {num_images}\")\n",
        "\n",
        "# Print the total count of images across all categories\n",
        "print(f\"\\nTotal Number of Images Across All Categories: {total_images}\")"
      ]
    },
    {
      "cell_type": "code",
      "execution_count": null,
      "metadata": {
        "colab": {
          "base_uri": "https://localhost:8080/",
          "height": 424
        },
        "id": "7sZ9NnAdaBz8",
        "outputId": "3b65832b-f6db-4ce6-ed3d-ac487e23ab22"
      },
      "outputs": [
        {
          "output_type": "execute_result",
          "data": {
            "text/plain": [
              "                             0\n",
              "0    Small-flowered Cranesbill\n",
              "1    Small-flowered Cranesbill\n",
              "2    Small-flowered Cranesbill\n",
              "3    Small-flowered Cranesbill\n",
              "4    Small-flowered Cranesbill\n",
              "..                         ...\n",
              "549          Scentless Mayweed\n",
              "550          Scentless Mayweed\n",
              "551          Scentless Mayweed\n",
              "552          Scentless Mayweed\n",
              "553          Scentless Mayweed\n",
              "\n",
              "[554 rows x 1 columns]"
            ],
            "text/html": [
              "\n",
              "  <div id=\"df-6fadf00b-559b-4bb6-8f7a-acc7bb729906\" class=\"colab-df-container\">\n",
              "    <div>\n",
              "<style scoped>\n",
              "    .dataframe tbody tr th:only-of-type {\n",
              "        vertical-align: middle;\n",
              "    }\n",
              "\n",
              "    .dataframe tbody tr th {\n",
              "        vertical-align: top;\n",
              "    }\n",
              "\n",
              "    .dataframe thead th {\n",
              "        text-align: right;\n",
              "    }\n",
              "</style>\n",
              "<table border=\"1\" class=\"dataframe\">\n",
              "  <thead>\n",
              "    <tr style=\"text-align: right;\">\n",
              "      <th></th>\n",
              "      <th>0</th>\n",
              "    </tr>\n",
              "  </thead>\n",
              "  <tbody>\n",
              "    <tr>\n",
              "      <th>0</th>\n",
              "      <td>Small-flowered Cranesbill</td>\n",
              "    </tr>\n",
              "    <tr>\n",
              "      <th>1</th>\n",
              "      <td>Small-flowered Cranesbill</td>\n",
              "    </tr>\n",
              "    <tr>\n",
              "      <th>2</th>\n",
              "      <td>Small-flowered Cranesbill</td>\n",
              "    </tr>\n",
              "    <tr>\n",
              "      <th>3</th>\n",
              "      <td>Small-flowered Cranesbill</td>\n",
              "    </tr>\n",
              "    <tr>\n",
              "      <th>4</th>\n",
              "      <td>Small-flowered Cranesbill</td>\n",
              "    </tr>\n",
              "    <tr>\n",
              "      <th>...</th>\n",
              "      <td>...</td>\n",
              "    </tr>\n",
              "    <tr>\n",
              "      <th>549</th>\n",
              "      <td>Scentless Mayweed</td>\n",
              "    </tr>\n",
              "    <tr>\n",
              "      <th>550</th>\n",
              "      <td>Scentless Mayweed</td>\n",
              "    </tr>\n",
              "    <tr>\n",
              "      <th>551</th>\n",
              "      <td>Scentless Mayweed</td>\n",
              "    </tr>\n",
              "    <tr>\n",
              "      <th>552</th>\n",
              "      <td>Scentless Mayweed</td>\n",
              "    </tr>\n",
              "    <tr>\n",
              "      <th>553</th>\n",
              "      <td>Scentless Mayweed</td>\n",
              "    </tr>\n",
              "  </tbody>\n",
              "</table>\n",
              "<p>554 rows × 1 columns</p>\n",
              "</div>\n",
              "    <div class=\"colab-df-buttons\">\n",
              "\n",
              "  <div class=\"colab-df-container\">\n",
              "    <button class=\"colab-df-convert\" onclick=\"convertToInteractive('df-6fadf00b-559b-4bb6-8f7a-acc7bb729906')\"\n",
              "            title=\"Convert this dataframe to an interactive table.\"\n",
              "            style=\"display:none;\">\n",
              "\n",
              "  <svg xmlns=\"http://www.w3.org/2000/svg\" height=\"24px\" viewBox=\"0 -960 960 960\">\n",
              "    <path d=\"M120-120v-720h720v720H120Zm60-500h600v-160H180v160Zm220 220h160v-160H400v160Zm0 220h160v-160H400v160ZM180-400h160v-160H180v160Zm440 0h160v-160H620v160ZM180-180h160v-160H180v160Zm440 0h160v-160H620v160Z\"/>\n",
              "  </svg>\n",
              "    </button>\n",
              "\n",
              "  <style>\n",
              "    .colab-df-container {\n",
              "      display:flex;\n",
              "      gap: 12px;\n",
              "    }\n",
              "\n",
              "    .colab-df-convert {\n",
              "      background-color: #E8F0FE;\n",
              "      border: none;\n",
              "      border-radius: 50%;\n",
              "      cursor: pointer;\n",
              "      display: none;\n",
              "      fill: #1967D2;\n",
              "      height: 32px;\n",
              "      padding: 0 0 0 0;\n",
              "      width: 32px;\n",
              "    }\n",
              "\n",
              "    .colab-df-convert:hover {\n",
              "      background-color: #E2EBFA;\n",
              "      box-shadow: 0px 1px 2px rgba(60, 64, 67, 0.3), 0px 1px 3px 1px rgba(60, 64, 67, 0.15);\n",
              "      fill: #174EA6;\n",
              "    }\n",
              "\n",
              "    .colab-df-buttons div {\n",
              "      margin-bottom: 4px;\n",
              "    }\n",
              "\n",
              "    [theme=dark] .colab-df-convert {\n",
              "      background-color: #3B4455;\n",
              "      fill: #D2E3FC;\n",
              "    }\n",
              "\n",
              "    [theme=dark] .colab-df-convert:hover {\n",
              "      background-color: #434B5C;\n",
              "      box-shadow: 0px 1px 3px 1px rgba(0, 0, 0, 0.15);\n",
              "      filter: drop-shadow(0px 1px 2px rgba(0, 0, 0, 0.3));\n",
              "      fill: #FFFFFF;\n",
              "    }\n",
              "  </style>\n",
              "\n",
              "    <script>\n",
              "      const buttonEl =\n",
              "        document.querySelector('#df-6fadf00b-559b-4bb6-8f7a-acc7bb729906 button.colab-df-convert');\n",
              "      buttonEl.style.display =\n",
              "        google.colab.kernel.accessAllowed ? 'block' : 'none';\n",
              "\n",
              "      async function convertToInteractive(key) {\n",
              "        const element = document.querySelector('#df-6fadf00b-559b-4bb6-8f7a-acc7bb729906');\n",
              "        const dataTable =\n",
              "          await google.colab.kernel.invokeFunction('convertToInteractive',\n",
              "                                                    [key], {});\n",
              "        if (!dataTable) return;\n",
              "\n",
              "        const docLinkHtml = 'Like what you see? Visit the ' +\n",
              "          '<a target=\"_blank\" href=https://colab.research.google.com/notebooks/data_table.ipynb>data table notebook</a>'\n",
              "          + ' to learn more about interactive tables.';\n",
              "        element.innerHTML = '';\n",
              "        dataTable['output_type'] = 'display_data';\n",
              "        await google.colab.output.renderOutput(dataTable, element);\n",
              "        const docLink = document.createElement('div');\n",
              "        docLink.innerHTML = docLinkHtml;\n",
              "        element.appendChild(docLink);\n",
              "      }\n",
              "    </script>\n",
              "  </div>\n",
              "\n",
              "\n",
              "<div id=\"df-2b91f2c4-4df3-43a7-afa9-7ef5f1d9bf47\">\n",
              "  <button class=\"colab-df-quickchart\" onclick=\"quickchart('df-2b91f2c4-4df3-43a7-afa9-7ef5f1d9bf47')\"\n",
              "            title=\"Suggest charts\"\n",
              "            style=\"display:none;\">\n",
              "\n",
              "<svg xmlns=\"http://www.w3.org/2000/svg\" height=\"24px\"viewBox=\"0 0 24 24\"\n",
              "     width=\"24px\">\n",
              "    <g>\n",
              "        <path d=\"M19 3H5c-1.1 0-2 .9-2 2v14c0 1.1.9 2 2 2h14c1.1 0 2-.9 2-2V5c0-1.1-.9-2-2-2zM9 17H7v-7h2v7zm4 0h-2V7h2v10zm4 0h-2v-4h2v4z\"/>\n",
              "    </g>\n",
              "</svg>\n",
              "  </button>\n",
              "\n",
              "<style>\n",
              "  .colab-df-quickchart {\n",
              "      --bg-color: #E8F0FE;\n",
              "      --fill-color: #1967D2;\n",
              "      --hover-bg-color: #E2EBFA;\n",
              "      --hover-fill-color: #174EA6;\n",
              "      --disabled-fill-color: #AAA;\n",
              "      --disabled-bg-color: #DDD;\n",
              "  }\n",
              "\n",
              "  [theme=dark] .colab-df-quickchart {\n",
              "      --bg-color: #3B4455;\n",
              "      --fill-color: #D2E3FC;\n",
              "      --hover-bg-color: #434B5C;\n",
              "      --hover-fill-color: #FFFFFF;\n",
              "      --disabled-bg-color: #3B4455;\n",
              "      --disabled-fill-color: #666;\n",
              "  }\n",
              "\n",
              "  .colab-df-quickchart {\n",
              "    background-color: var(--bg-color);\n",
              "    border: none;\n",
              "    border-radius: 50%;\n",
              "    cursor: pointer;\n",
              "    display: none;\n",
              "    fill: var(--fill-color);\n",
              "    height: 32px;\n",
              "    padding: 0;\n",
              "    width: 32px;\n",
              "  }\n",
              "\n",
              "  .colab-df-quickchart:hover {\n",
              "    background-color: var(--hover-bg-color);\n",
              "    box-shadow: 0 1px 2px rgba(60, 64, 67, 0.3), 0 1px 3px 1px rgba(60, 64, 67, 0.15);\n",
              "    fill: var(--button-hover-fill-color);\n",
              "  }\n",
              "\n",
              "  .colab-df-quickchart-complete:disabled,\n",
              "  .colab-df-quickchart-complete:disabled:hover {\n",
              "    background-color: var(--disabled-bg-color);\n",
              "    fill: var(--disabled-fill-color);\n",
              "    box-shadow: none;\n",
              "  }\n",
              "\n",
              "  .colab-df-spinner {\n",
              "    border: 2px solid var(--fill-color);\n",
              "    border-color: transparent;\n",
              "    border-bottom-color: var(--fill-color);\n",
              "    animation:\n",
              "      spin 1s steps(1) infinite;\n",
              "  }\n",
              "\n",
              "  @keyframes spin {\n",
              "    0% {\n",
              "      border-color: transparent;\n",
              "      border-bottom-color: var(--fill-color);\n",
              "      border-left-color: var(--fill-color);\n",
              "    }\n",
              "    20% {\n",
              "      border-color: transparent;\n",
              "      border-left-color: var(--fill-color);\n",
              "      border-top-color: var(--fill-color);\n",
              "    }\n",
              "    30% {\n",
              "      border-color: transparent;\n",
              "      border-left-color: var(--fill-color);\n",
              "      border-top-color: var(--fill-color);\n",
              "      border-right-color: var(--fill-color);\n",
              "    }\n",
              "    40% {\n",
              "      border-color: transparent;\n",
              "      border-right-color: var(--fill-color);\n",
              "      border-top-color: var(--fill-color);\n",
              "    }\n",
              "    60% {\n",
              "      border-color: transparent;\n",
              "      border-right-color: var(--fill-color);\n",
              "    }\n",
              "    80% {\n",
              "      border-color: transparent;\n",
              "      border-right-color: var(--fill-color);\n",
              "      border-bottom-color: var(--fill-color);\n",
              "    }\n",
              "    90% {\n",
              "      border-color: transparent;\n",
              "      border-bottom-color: var(--fill-color);\n",
              "    }\n",
              "  }\n",
              "</style>\n",
              "\n",
              "  <script>\n",
              "    async function quickchart(key) {\n",
              "      const quickchartButtonEl =\n",
              "        document.querySelector('#' + key + ' button');\n",
              "      quickchartButtonEl.disabled = true;  // To prevent multiple clicks.\n",
              "      quickchartButtonEl.classList.add('colab-df-spinner');\n",
              "      try {\n",
              "        const charts = await google.colab.kernel.invokeFunction(\n",
              "            'suggestCharts', [key], {});\n",
              "      } catch (error) {\n",
              "        console.error('Error during call to suggestCharts:', error);\n",
              "      }\n",
              "      quickchartButtonEl.classList.remove('colab-df-spinner');\n",
              "      quickchartButtonEl.classList.add('colab-df-quickchart-complete');\n",
              "    }\n",
              "    (() => {\n",
              "      let quickchartButtonEl =\n",
              "        document.querySelector('#df-2b91f2c4-4df3-43a7-afa9-7ef5f1d9bf47 button');\n",
              "      quickchartButtonEl.style.display =\n",
              "        google.colab.kernel.accessAllowed ? 'block' : 'none';\n",
              "    })();\n",
              "  </script>\n",
              "</div>\n",
              "\n",
              "  <div id=\"id_07d5c0e9-a35c-4c20-8588-e9f49ed7d4b0\">\n",
              "    <style>\n",
              "      .colab-df-generate {\n",
              "        background-color: #E8F0FE;\n",
              "        border: none;\n",
              "        border-radius: 50%;\n",
              "        cursor: pointer;\n",
              "        display: none;\n",
              "        fill: #1967D2;\n",
              "        height: 32px;\n",
              "        padding: 0 0 0 0;\n",
              "        width: 32px;\n",
              "      }\n",
              "\n",
              "      .colab-df-generate:hover {\n",
              "        background-color: #E2EBFA;\n",
              "        box-shadow: 0px 1px 2px rgba(60, 64, 67, 0.3), 0px 1px 3px 1px rgba(60, 64, 67, 0.15);\n",
              "        fill: #174EA6;\n",
              "      }\n",
              "\n",
              "      [theme=dark] .colab-df-generate {\n",
              "        background-color: #3B4455;\n",
              "        fill: #D2E3FC;\n",
              "      }\n",
              "\n",
              "      [theme=dark] .colab-df-generate:hover {\n",
              "        background-color: #434B5C;\n",
              "        box-shadow: 0px 1px 3px 1px rgba(0, 0, 0, 0.15);\n",
              "        filter: drop-shadow(0px 1px 2px rgba(0, 0, 0, 0.3));\n",
              "        fill: #FFFFFF;\n",
              "      }\n",
              "    </style>\n",
              "    <button class=\"colab-df-generate\" onclick=\"generateWithVariable('test_Y')\"\n",
              "            title=\"Generate code using this dataframe.\"\n",
              "            style=\"display:none;\">\n",
              "\n",
              "  <svg xmlns=\"http://www.w3.org/2000/svg\" height=\"24px\"viewBox=\"0 0 24 24\"\n",
              "       width=\"24px\">\n",
              "    <path d=\"M7,19H8.4L18.45,9,17,7.55,7,17.6ZM5,21V16.75L18.45,3.32a2,2,0,0,1,2.83,0l1.4,1.43a1.91,1.91,0,0,1,.58,1.4,1.91,1.91,0,0,1-.58,1.4L9.25,21ZM18.45,9,17,7.55Zm-12,3A5.31,5.31,0,0,0,4.9,8.1,5.31,5.31,0,0,0,1,6.5,5.31,5.31,0,0,0,4.9,4.9,5.31,5.31,0,0,0,6.5,1,5.31,5.31,0,0,0,8.1,4.9,5.31,5.31,0,0,0,12,6.5,5.46,5.46,0,0,0,6.5,12Z\"/>\n",
              "  </svg>\n",
              "    </button>\n",
              "    <script>\n",
              "      (() => {\n",
              "      const buttonEl =\n",
              "        document.querySelector('#id_07d5c0e9-a35c-4c20-8588-e9f49ed7d4b0 button.colab-df-generate');\n",
              "      buttonEl.style.display =\n",
              "        google.colab.kernel.accessAllowed ? 'block' : 'none';\n",
              "\n",
              "      buttonEl.onclick = () => {\n",
              "        google.colab.notebook.generateWithVariable('test_Y');\n",
              "      }\n",
              "      })();\n",
              "    </script>\n",
              "  </div>\n",
              "\n",
              "    </div>\n",
              "  </div>\n"
            ]
          },
          "metadata": {},
          "execution_count": 16
        }
      ],
      "source": [
        "test_Y"
      ]
    },
    {
      "cell_type": "code",
      "execution_count": null,
      "metadata": {
        "colab": {
          "base_uri": "https://localhost:8080/",
          "height": 426
        },
        "id": "K63jyLJKkJVd",
        "outputId": "a1cfe382-9832-4e6c-82e3-852e31c268f9"
      },
      "outputs": [
        {
          "output_type": "execute_result",
          "data": {
            "text/plain": [
              "    Train                       Name\n",
              "0     212                Black-grass\n",
              "1     323                   Charlock\n",
              "2     252                   Cleavers\n",
              "3     541           Common Chickweed\n",
              "4     177               Common wheat\n",
              "5     387                    Fat Hen\n",
              "6     556           Loose Silky-bent\n",
              "7     189                      Maize\n",
              "8     414          Scentless Mayweed\n",
              "9     187           Shepherd’s Purse\n",
              "10    421  Small-flowered Cranesbill\n",
              "11    329                 Sugar beet"
            ],
            "text/html": [
              "\n",
              "  <div id=\"df-627e4e3d-c0a8-468f-bd43-77948dad6fa3\" class=\"colab-df-container\">\n",
              "    <div>\n",
              "<style scoped>\n",
              "    .dataframe tbody tr th:only-of-type {\n",
              "        vertical-align: middle;\n",
              "    }\n",
              "\n",
              "    .dataframe tbody tr th {\n",
              "        vertical-align: top;\n",
              "    }\n",
              "\n",
              "    .dataframe thead th {\n",
              "        text-align: right;\n",
              "    }\n",
              "</style>\n",
              "<table border=\"1\" class=\"dataframe\">\n",
              "  <thead>\n",
              "    <tr style=\"text-align: right;\">\n",
              "      <th></th>\n",
              "      <th>Train</th>\n",
              "      <th>Name</th>\n",
              "    </tr>\n",
              "  </thead>\n",
              "  <tbody>\n",
              "    <tr>\n",
              "      <th>0</th>\n",
              "      <td>212</td>\n",
              "      <td>Black-grass</td>\n",
              "    </tr>\n",
              "    <tr>\n",
              "      <th>1</th>\n",
              "      <td>323</td>\n",
              "      <td>Charlock</td>\n",
              "    </tr>\n",
              "    <tr>\n",
              "      <th>2</th>\n",
              "      <td>252</td>\n",
              "      <td>Cleavers</td>\n",
              "    </tr>\n",
              "    <tr>\n",
              "      <th>3</th>\n",
              "      <td>541</td>\n",
              "      <td>Common Chickweed</td>\n",
              "    </tr>\n",
              "    <tr>\n",
              "      <th>4</th>\n",
              "      <td>177</td>\n",
              "      <td>Common wheat</td>\n",
              "    </tr>\n",
              "    <tr>\n",
              "      <th>5</th>\n",
              "      <td>387</td>\n",
              "      <td>Fat Hen</td>\n",
              "    </tr>\n",
              "    <tr>\n",
              "      <th>6</th>\n",
              "      <td>556</td>\n",
              "      <td>Loose Silky-bent</td>\n",
              "    </tr>\n",
              "    <tr>\n",
              "      <th>7</th>\n",
              "      <td>189</td>\n",
              "      <td>Maize</td>\n",
              "    </tr>\n",
              "    <tr>\n",
              "      <th>8</th>\n",
              "      <td>414</td>\n",
              "      <td>Scentless Mayweed</td>\n",
              "    </tr>\n",
              "    <tr>\n",
              "      <th>9</th>\n",
              "      <td>187</td>\n",
              "      <td>Shepherd’s Purse</td>\n",
              "    </tr>\n",
              "    <tr>\n",
              "      <th>10</th>\n",
              "      <td>421</td>\n",
              "      <td>Small-flowered Cranesbill</td>\n",
              "    </tr>\n",
              "    <tr>\n",
              "      <th>11</th>\n",
              "      <td>329</td>\n",
              "      <td>Sugar beet</td>\n",
              "    </tr>\n",
              "  </tbody>\n",
              "</table>\n",
              "</div>\n",
              "    <div class=\"colab-df-buttons\">\n",
              "\n",
              "  <div class=\"colab-df-container\">\n",
              "    <button class=\"colab-df-convert\" onclick=\"convertToInteractive('df-627e4e3d-c0a8-468f-bd43-77948dad6fa3')\"\n",
              "            title=\"Convert this dataframe to an interactive table.\"\n",
              "            style=\"display:none;\">\n",
              "\n",
              "  <svg xmlns=\"http://www.w3.org/2000/svg\" height=\"24px\" viewBox=\"0 -960 960 960\">\n",
              "    <path d=\"M120-120v-720h720v720H120Zm60-500h600v-160H180v160Zm220 220h160v-160H400v160Zm0 220h160v-160H400v160ZM180-400h160v-160H180v160Zm440 0h160v-160H620v160ZM180-180h160v-160H180v160Zm440 0h160v-160H620v160Z\"/>\n",
              "  </svg>\n",
              "    </button>\n",
              "\n",
              "  <style>\n",
              "    .colab-df-container {\n",
              "      display:flex;\n",
              "      gap: 12px;\n",
              "    }\n",
              "\n",
              "    .colab-df-convert {\n",
              "      background-color: #E8F0FE;\n",
              "      border: none;\n",
              "      border-radius: 50%;\n",
              "      cursor: pointer;\n",
              "      display: none;\n",
              "      fill: #1967D2;\n",
              "      height: 32px;\n",
              "      padding: 0 0 0 0;\n",
              "      width: 32px;\n",
              "    }\n",
              "\n",
              "    .colab-df-convert:hover {\n",
              "      background-color: #E2EBFA;\n",
              "      box-shadow: 0px 1px 2px rgba(60, 64, 67, 0.3), 0px 1px 3px 1px rgba(60, 64, 67, 0.15);\n",
              "      fill: #174EA6;\n",
              "    }\n",
              "\n",
              "    .colab-df-buttons div {\n",
              "      margin-bottom: 4px;\n",
              "    }\n",
              "\n",
              "    [theme=dark] .colab-df-convert {\n",
              "      background-color: #3B4455;\n",
              "      fill: #D2E3FC;\n",
              "    }\n",
              "\n",
              "    [theme=dark] .colab-df-convert:hover {\n",
              "      background-color: #434B5C;\n",
              "      box-shadow: 0px 1px 3px 1px rgba(0, 0, 0, 0.15);\n",
              "      filter: drop-shadow(0px 1px 2px rgba(0, 0, 0, 0.3));\n",
              "      fill: #FFFFFF;\n",
              "    }\n",
              "  </style>\n",
              "\n",
              "    <script>\n",
              "      const buttonEl =\n",
              "        document.querySelector('#df-627e4e3d-c0a8-468f-bd43-77948dad6fa3 button.colab-df-convert');\n",
              "      buttonEl.style.display =\n",
              "        google.colab.kernel.accessAllowed ? 'block' : 'none';\n",
              "\n",
              "      async function convertToInteractive(key) {\n",
              "        const element = document.querySelector('#df-627e4e3d-c0a8-468f-bd43-77948dad6fa3');\n",
              "        const dataTable =\n",
              "          await google.colab.kernel.invokeFunction('convertToInteractive',\n",
              "                                                    [key], {});\n",
              "        if (!dataTable) return;\n",
              "\n",
              "        const docLinkHtml = 'Like what you see? Visit the ' +\n",
              "          '<a target=\"_blank\" href=https://colab.research.google.com/notebooks/data_table.ipynb>data table notebook</a>'\n",
              "          + ' to learn more about interactive tables.';\n",
              "        element.innerHTML = '';\n",
              "        dataTable['output_type'] = 'display_data';\n",
              "        await google.colab.output.renderOutput(dataTable, element);\n",
              "        const docLink = document.createElement('div');\n",
              "        docLink.innerHTML = docLinkHtml;\n",
              "        element.appendChild(docLink);\n",
              "      }\n",
              "    </script>\n",
              "  </div>\n",
              "\n",
              "\n",
              "<div id=\"df-4261db34-aca9-4621-be90-5d8e75e958f4\">\n",
              "  <button class=\"colab-df-quickchart\" onclick=\"quickchart('df-4261db34-aca9-4621-be90-5d8e75e958f4')\"\n",
              "            title=\"Suggest charts\"\n",
              "            style=\"display:none;\">\n",
              "\n",
              "<svg xmlns=\"http://www.w3.org/2000/svg\" height=\"24px\"viewBox=\"0 0 24 24\"\n",
              "     width=\"24px\">\n",
              "    <g>\n",
              "        <path d=\"M19 3H5c-1.1 0-2 .9-2 2v14c0 1.1.9 2 2 2h14c1.1 0 2-.9 2-2V5c0-1.1-.9-2-2-2zM9 17H7v-7h2v7zm4 0h-2V7h2v10zm4 0h-2v-4h2v4z\"/>\n",
              "    </g>\n",
              "</svg>\n",
              "  </button>\n",
              "\n",
              "<style>\n",
              "  .colab-df-quickchart {\n",
              "      --bg-color: #E8F0FE;\n",
              "      --fill-color: #1967D2;\n",
              "      --hover-bg-color: #E2EBFA;\n",
              "      --hover-fill-color: #174EA6;\n",
              "      --disabled-fill-color: #AAA;\n",
              "      --disabled-bg-color: #DDD;\n",
              "  }\n",
              "\n",
              "  [theme=dark] .colab-df-quickchart {\n",
              "      --bg-color: #3B4455;\n",
              "      --fill-color: #D2E3FC;\n",
              "      --hover-bg-color: #434B5C;\n",
              "      --hover-fill-color: #FFFFFF;\n",
              "      --disabled-bg-color: #3B4455;\n",
              "      --disabled-fill-color: #666;\n",
              "  }\n",
              "\n",
              "  .colab-df-quickchart {\n",
              "    background-color: var(--bg-color);\n",
              "    border: none;\n",
              "    border-radius: 50%;\n",
              "    cursor: pointer;\n",
              "    display: none;\n",
              "    fill: var(--fill-color);\n",
              "    height: 32px;\n",
              "    padding: 0;\n",
              "    width: 32px;\n",
              "  }\n",
              "\n",
              "  .colab-df-quickchart:hover {\n",
              "    background-color: var(--hover-bg-color);\n",
              "    box-shadow: 0 1px 2px rgba(60, 64, 67, 0.3), 0 1px 3px 1px rgba(60, 64, 67, 0.15);\n",
              "    fill: var(--button-hover-fill-color);\n",
              "  }\n",
              "\n",
              "  .colab-df-quickchart-complete:disabled,\n",
              "  .colab-df-quickchart-complete:disabled:hover {\n",
              "    background-color: var(--disabled-bg-color);\n",
              "    fill: var(--disabled-fill-color);\n",
              "    box-shadow: none;\n",
              "  }\n",
              "\n",
              "  .colab-df-spinner {\n",
              "    border: 2px solid var(--fill-color);\n",
              "    border-color: transparent;\n",
              "    border-bottom-color: var(--fill-color);\n",
              "    animation:\n",
              "      spin 1s steps(1) infinite;\n",
              "  }\n",
              "\n",
              "  @keyframes spin {\n",
              "    0% {\n",
              "      border-color: transparent;\n",
              "      border-bottom-color: var(--fill-color);\n",
              "      border-left-color: var(--fill-color);\n",
              "    }\n",
              "    20% {\n",
              "      border-color: transparent;\n",
              "      border-left-color: var(--fill-color);\n",
              "      border-top-color: var(--fill-color);\n",
              "    }\n",
              "    30% {\n",
              "      border-color: transparent;\n",
              "      border-left-color: var(--fill-color);\n",
              "      border-top-color: var(--fill-color);\n",
              "      border-right-color: var(--fill-color);\n",
              "    }\n",
              "    40% {\n",
              "      border-color: transparent;\n",
              "      border-right-color: var(--fill-color);\n",
              "      border-top-color: var(--fill-color);\n",
              "    }\n",
              "    60% {\n",
              "      border-color: transparent;\n",
              "      border-right-color: var(--fill-color);\n",
              "    }\n",
              "    80% {\n",
              "      border-color: transparent;\n",
              "      border-right-color: var(--fill-color);\n",
              "      border-bottom-color: var(--fill-color);\n",
              "    }\n",
              "    90% {\n",
              "      border-color: transparent;\n",
              "      border-bottom-color: var(--fill-color);\n",
              "    }\n",
              "  }\n",
              "</style>\n",
              "\n",
              "  <script>\n",
              "    async function quickchart(key) {\n",
              "      const quickchartButtonEl =\n",
              "        document.querySelector('#' + key + ' button');\n",
              "      quickchartButtonEl.disabled = true;  // To prevent multiple clicks.\n",
              "      quickchartButtonEl.classList.add('colab-df-spinner');\n",
              "      try {\n",
              "        const charts = await google.colab.kernel.invokeFunction(\n",
              "            'suggestCharts', [key], {});\n",
              "      } catch (error) {\n",
              "        console.error('Error during call to suggestCharts:', error);\n",
              "      }\n",
              "      quickchartButtonEl.classList.remove('colab-df-spinner');\n",
              "      quickchartButtonEl.classList.add('colab-df-quickchart-complete');\n",
              "    }\n",
              "    (() => {\n",
              "      let quickchartButtonEl =\n",
              "        document.querySelector('#df-4261db34-aca9-4621-be90-5d8e75e958f4 button');\n",
              "      quickchartButtonEl.style.display =\n",
              "        google.colab.kernel.accessAllowed ? 'block' : 'none';\n",
              "    })();\n",
              "  </script>\n",
              "</div>\n",
              "\n",
              "  <div id=\"id_18689d02-d506-4fc3-a935-967ec1387c2f\">\n",
              "    <style>\n",
              "      .colab-df-generate {\n",
              "        background-color: #E8F0FE;\n",
              "        border: none;\n",
              "        border-radius: 50%;\n",
              "        cursor: pointer;\n",
              "        display: none;\n",
              "        fill: #1967D2;\n",
              "        height: 32px;\n",
              "        padding: 0 0 0 0;\n",
              "        width: 32px;\n",
              "      }\n",
              "\n",
              "      .colab-df-generate:hover {\n",
              "        background-color: #E2EBFA;\n",
              "        box-shadow: 0px 1px 2px rgba(60, 64, 67, 0.3), 0px 1px 3px 1px rgba(60, 64, 67, 0.15);\n",
              "        fill: #174EA6;\n",
              "      }\n",
              "\n",
              "      [theme=dark] .colab-df-generate {\n",
              "        background-color: #3B4455;\n",
              "        fill: #D2E3FC;\n",
              "      }\n",
              "\n",
              "      [theme=dark] .colab-df-generate:hover {\n",
              "        background-color: #434B5C;\n",
              "        box-shadow: 0px 1px 3px 1px rgba(0, 0, 0, 0.15);\n",
              "        filter: drop-shadow(0px 1px 2px rgba(0, 0, 0, 0.3));\n",
              "        fill: #FFFFFF;\n",
              "      }\n",
              "    </style>\n",
              "    <button class=\"colab-df-generate\" onclick=\"generateWithVariable('train_df')\"\n",
              "            title=\"Generate code using this dataframe.\"\n",
              "            style=\"display:none;\">\n",
              "\n",
              "  <svg xmlns=\"http://www.w3.org/2000/svg\" height=\"24px\"viewBox=\"0 0 24 24\"\n",
              "       width=\"24px\">\n",
              "    <path d=\"M7,19H8.4L18.45,9,17,7.55,7,17.6ZM5,21V16.75L18.45,3.32a2,2,0,0,1,2.83,0l1.4,1.43a1.91,1.91,0,0,1,.58,1.4,1.91,1.91,0,0,1-.58,1.4L9.25,21ZM18.45,9,17,7.55Zm-12,3A5.31,5.31,0,0,0,4.9,8.1,5.31,5.31,0,0,0,1,6.5,5.31,5.31,0,0,0,4.9,4.9,5.31,5.31,0,0,0,6.5,1,5.31,5.31,0,0,0,8.1,4.9,5.31,5.31,0,0,0,12,6.5,5.46,5.46,0,0,0,6.5,12Z\"/>\n",
              "  </svg>\n",
              "    </button>\n",
              "    <script>\n",
              "      (() => {\n",
              "      const buttonEl =\n",
              "        document.querySelector('#id_18689d02-d506-4fc3-a935-967ec1387c2f button.colab-df-generate');\n",
              "      buttonEl.style.display =\n",
              "        google.colab.kernel.accessAllowed ? 'block' : 'none';\n",
              "\n",
              "      buttonEl.onclick = () => {\n",
              "        google.colab.notebook.generateWithVariable('train_df');\n",
              "      }\n",
              "      })();\n",
              "    </script>\n",
              "  </div>\n",
              "\n",
              "    </div>\n",
              "  </div>\n"
            ]
          },
          "metadata": {},
          "execution_count": 17
        }
      ],
      "source": [
        "train_Y.rename(columns={0:'species'},inplace=True)\n",
        "_, train_count = np.unique(train_Y,return_counts=True)\n",
        "train_df = pd.DataFrame(data = train_count)\n",
        "a = train_Y['species'].unique()\n",
        "a = a.tolist()\n",
        "a.sort()\n",
        "train_df['Index'] = a\n",
        "train_df.columns = ['Train','Name']\n",
        "train_df"
      ]
    },
    {
      "cell_type": "code",
      "execution_count": null,
      "metadata": {
        "colab": {
          "base_uri": "https://localhost:8080/"
        },
        "id": "V18HKjuaaoIE",
        "outputId": "b3ad314d-6cfd-457d-e77b-28c554a83edd"
      },
      "outputs": [
        {
          "output_type": "execute_result",
          "data": {
            "text/plain": [
              "array([[0., 0., 0., ..., 0., 1., 0.],\n",
              "       [0., 0., 0., ..., 0., 1., 0.],\n",
              "       [0., 0., 0., ..., 0., 1., 0.],\n",
              "       ...,\n",
              "       [0., 0., 0., ..., 0., 0., 0.],\n",
              "       [0., 0., 0., ..., 0., 0., 0.],\n",
              "       [0., 0., 0., ..., 0., 0., 0.]], dtype=float32)"
            ]
          },
          "metadata": {},
          "execution_count": 18
        }
      ],
      "source": [
        "y_train = LabelBinarizer().fit_transform(train_Y.species)\n",
        "train_label = np.array(y_train,dtype=np.float32)\n",
        "train_label"
      ]
    },
    {
      "cell_type": "code",
      "execution_count": null,
      "metadata": {
        "colab": {
          "base_uri": "https://localhost:8080/",
          "height": 426
        },
        "id": "EvHy9BwQzGUv",
        "outputId": "6b01ca3e-0ab8-4607-f3c4-60c7e9e630de"
      },
      "outputs": [
        {
          "output_type": "execute_result",
          "data": {
            "text/plain": [
              "    Valid                       Name\n",
              "0      56                Black-grass\n",
              "1      79                   Charlock\n",
              "2      52                   Cleavers\n",
              "3     106           Common Chickweed\n",
              "4      53               Common wheat\n",
              "5     100                    Fat Hen\n",
              "6     128           Loose Silky-bent\n",
              "7      50                      Maize\n",
              "8     131          Scentless Mayweed\n",
              "9      58           Shepherd’s Purse\n",
              "10    104  Small-flowered Cranesbill\n",
              "11     80                 Sugar beet"
            ],
            "text/html": [
              "\n",
              "  <div id=\"df-ff4c361c-92cd-4071-a395-1d5ad51ed101\" class=\"colab-df-container\">\n",
              "    <div>\n",
              "<style scoped>\n",
              "    .dataframe tbody tr th:only-of-type {\n",
              "        vertical-align: middle;\n",
              "    }\n",
              "\n",
              "    .dataframe tbody tr th {\n",
              "        vertical-align: top;\n",
              "    }\n",
              "\n",
              "    .dataframe thead th {\n",
              "        text-align: right;\n",
              "    }\n",
              "</style>\n",
              "<table border=\"1\" class=\"dataframe\">\n",
              "  <thead>\n",
              "    <tr style=\"text-align: right;\">\n",
              "      <th></th>\n",
              "      <th>Valid</th>\n",
              "      <th>Name</th>\n",
              "    </tr>\n",
              "  </thead>\n",
              "  <tbody>\n",
              "    <tr>\n",
              "      <th>0</th>\n",
              "      <td>56</td>\n",
              "      <td>Black-grass</td>\n",
              "    </tr>\n",
              "    <tr>\n",
              "      <th>1</th>\n",
              "      <td>79</td>\n",
              "      <td>Charlock</td>\n",
              "    </tr>\n",
              "    <tr>\n",
              "      <th>2</th>\n",
              "      <td>52</td>\n",
              "      <td>Cleavers</td>\n",
              "    </tr>\n",
              "    <tr>\n",
              "      <th>3</th>\n",
              "      <td>106</td>\n",
              "      <td>Common Chickweed</td>\n",
              "    </tr>\n",
              "    <tr>\n",
              "      <th>4</th>\n",
              "      <td>53</td>\n",
              "      <td>Common wheat</td>\n",
              "    </tr>\n",
              "    <tr>\n",
              "      <th>5</th>\n",
              "      <td>100</td>\n",
              "      <td>Fat Hen</td>\n",
              "    </tr>\n",
              "    <tr>\n",
              "      <th>6</th>\n",
              "      <td>128</td>\n",
              "      <td>Loose Silky-bent</td>\n",
              "    </tr>\n",
              "    <tr>\n",
              "      <th>7</th>\n",
              "      <td>50</td>\n",
              "      <td>Maize</td>\n",
              "    </tr>\n",
              "    <tr>\n",
              "      <th>8</th>\n",
              "      <td>131</td>\n",
              "      <td>Scentless Mayweed</td>\n",
              "    </tr>\n",
              "    <tr>\n",
              "      <th>9</th>\n",
              "      <td>58</td>\n",
              "      <td>Shepherd’s Purse</td>\n",
              "    </tr>\n",
              "    <tr>\n",
              "      <th>10</th>\n",
              "      <td>104</td>\n",
              "      <td>Small-flowered Cranesbill</td>\n",
              "    </tr>\n",
              "    <tr>\n",
              "      <th>11</th>\n",
              "      <td>80</td>\n",
              "      <td>Sugar beet</td>\n",
              "    </tr>\n",
              "  </tbody>\n",
              "</table>\n",
              "</div>\n",
              "    <div class=\"colab-df-buttons\">\n",
              "\n",
              "  <div class=\"colab-df-container\">\n",
              "    <button class=\"colab-df-convert\" onclick=\"convertToInteractive('df-ff4c361c-92cd-4071-a395-1d5ad51ed101')\"\n",
              "            title=\"Convert this dataframe to an interactive table.\"\n",
              "            style=\"display:none;\">\n",
              "\n",
              "  <svg xmlns=\"http://www.w3.org/2000/svg\" height=\"24px\" viewBox=\"0 -960 960 960\">\n",
              "    <path d=\"M120-120v-720h720v720H120Zm60-500h600v-160H180v160Zm220 220h160v-160H400v160Zm0 220h160v-160H400v160ZM180-400h160v-160H180v160Zm440 0h160v-160H620v160ZM180-180h160v-160H180v160Zm440 0h160v-160H620v160Z\"/>\n",
              "  </svg>\n",
              "    </button>\n",
              "\n",
              "  <style>\n",
              "    .colab-df-container {\n",
              "      display:flex;\n",
              "      gap: 12px;\n",
              "    }\n",
              "\n",
              "    .colab-df-convert {\n",
              "      background-color: #E8F0FE;\n",
              "      border: none;\n",
              "      border-radius: 50%;\n",
              "      cursor: pointer;\n",
              "      display: none;\n",
              "      fill: #1967D2;\n",
              "      height: 32px;\n",
              "      padding: 0 0 0 0;\n",
              "      width: 32px;\n",
              "    }\n",
              "\n",
              "    .colab-df-convert:hover {\n",
              "      background-color: #E2EBFA;\n",
              "      box-shadow: 0px 1px 2px rgba(60, 64, 67, 0.3), 0px 1px 3px 1px rgba(60, 64, 67, 0.15);\n",
              "      fill: #174EA6;\n",
              "    }\n",
              "\n",
              "    .colab-df-buttons div {\n",
              "      margin-bottom: 4px;\n",
              "    }\n",
              "\n",
              "    [theme=dark] .colab-df-convert {\n",
              "      background-color: #3B4455;\n",
              "      fill: #D2E3FC;\n",
              "    }\n",
              "\n",
              "    [theme=dark] .colab-df-convert:hover {\n",
              "      background-color: #434B5C;\n",
              "      box-shadow: 0px 1px 3px 1px rgba(0, 0, 0, 0.15);\n",
              "      filter: drop-shadow(0px 1px 2px rgba(0, 0, 0, 0.3));\n",
              "      fill: #FFFFFF;\n",
              "    }\n",
              "  </style>\n",
              "\n",
              "    <script>\n",
              "      const buttonEl =\n",
              "        document.querySelector('#df-ff4c361c-92cd-4071-a395-1d5ad51ed101 button.colab-df-convert');\n",
              "      buttonEl.style.display =\n",
              "        google.colab.kernel.accessAllowed ? 'block' : 'none';\n",
              "\n",
              "      async function convertToInteractive(key) {\n",
              "        const element = document.querySelector('#df-ff4c361c-92cd-4071-a395-1d5ad51ed101');\n",
              "        const dataTable =\n",
              "          await google.colab.kernel.invokeFunction('convertToInteractive',\n",
              "                                                    [key], {});\n",
              "        if (!dataTable) return;\n",
              "\n",
              "        const docLinkHtml = 'Like what you see? Visit the ' +\n",
              "          '<a target=\"_blank\" href=https://colab.research.google.com/notebooks/data_table.ipynb>data table notebook</a>'\n",
              "          + ' to learn more about interactive tables.';\n",
              "        element.innerHTML = '';\n",
              "        dataTable['output_type'] = 'display_data';\n",
              "        await google.colab.output.renderOutput(dataTable, element);\n",
              "        const docLink = document.createElement('div');\n",
              "        docLink.innerHTML = docLinkHtml;\n",
              "        element.appendChild(docLink);\n",
              "      }\n",
              "    </script>\n",
              "  </div>\n",
              "\n",
              "\n",
              "<div id=\"df-7e379fa3-69c7-4150-897f-0264082c2dfa\">\n",
              "  <button class=\"colab-df-quickchart\" onclick=\"quickchart('df-7e379fa3-69c7-4150-897f-0264082c2dfa')\"\n",
              "            title=\"Suggest charts\"\n",
              "            style=\"display:none;\">\n",
              "\n",
              "<svg xmlns=\"http://www.w3.org/2000/svg\" height=\"24px\"viewBox=\"0 0 24 24\"\n",
              "     width=\"24px\">\n",
              "    <g>\n",
              "        <path d=\"M19 3H5c-1.1 0-2 .9-2 2v14c0 1.1.9 2 2 2h14c1.1 0 2-.9 2-2V5c0-1.1-.9-2-2-2zM9 17H7v-7h2v7zm4 0h-2V7h2v10zm4 0h-2v-4h2v4z\"/>\n",
              "    </g>\n",
              "</svg>\n",
              "  </button>\n",
              "\n",
              "<style>\n",
              "  .colab-df-quickchart {\n",
              "      --bg-color: #E8F0FE;\n",
              "      --fill-color: #1967D2;\n",
              "      --hover-bg-color: #E2EBFA;\n",
              "      --hover-fill-color: #174EA6;\n",
              "      --disabled-fill-color: #AAA;\n",
              "      --disabled-bg-color: #DDD;\n",
              "  }\n",
              "\n",
              "  [theme=dark] .colab-df-quickchart {\n",
              "      --bg-color: #3B4455;\n",
              "      --fill-color: #D2E3FC;\n",
              "      --hover-bg-color: #434B5C;\n",
              "      --hover-fill-color: #FFFFFF;\n",
              "      --disabled-bg-color: #3B4455;\n",
              "      --disabled-fill-color: #666;\n",
              "  }\n",
              "\n",
              "  .colab-df-quickchart {\n",
              "    background-color: var(--bg-color);\n",
              "    border: none;\n",
              "    border-radius: 50%;\n",
              "    cursor: pointer;\n",
              "    display: none;\n",
              "    fill: var(--fill-color);\n",
              "    height: 32px;\n",
              "    padding: 0;\n",
              "    width: 32px;\n",
              "  }\n",
              "\n",
              "  .colab-df-quickchart:hover {\n",
              "    background-color: var(--hover-bg-color);\n",
              "    box-shadow: 0 1px 2px rgba(60, 64, 67, 0.3), 0 1px 3px 1px rgba(60, 64, 67, 0.15);\n",
              "    fill: var(--button-hover-fill-color);\n",
              "  }\n",
              "\n",
              "  .colab-df-quickchart-complete:disabled,\n",
              "  .colab-df-quickchart-complete:disabled:hover {\n",
              "    background-color: var(--disabled-bg-color);\n",
              "    fill: var(--disabled-fill-color);\n",
              "    box-shadow: none;\n",
              "  }\n",
              "\n",
              "  .colab-df-spinner {\n",
              "    border: 2px solid var(--fill-color);\n",
              "    border-color: transparent;\n",
              "    border-bottom-color: var(--fill-color);\n",
              "    animation:\n",
              "      spin 1s steps(1) infinite;\n",
              "  }\n",
              "\n",
              "  @keyframes spin {\n",
              "    0% {\n",
              "      border-color: transparent;\n",
              "      border-bottom-color: var(--fill-color);\n",
              "      border-left-color: var(--fill-color);\n",
              "    }\n",
              "    20% {\n",
              "      border-color: transparent;\n",
              "      border-left-color: var(--fill-color);\n",
              "      border-top-color: var(--fill-color);\n",
              "    }\n",
              "    30% {\n",
              "      border-color: transparent;\n",
              "      border-left-color: var(--fill-color);\n",
              "      border-top-color: var(--fill-color);\n",
              "      border-right-color: var(--fill-color);\n",
              "    }\n",
              "    40% {\n",
              "      border-color: transparent;\n",
              "      border-right-color: var(--fill-color);\n",
              "      border-top-color: var(--fill-color);\n",
              "    }\n",
              "    60% {\n",
              "      border-color: transparent;\n",
              "      border-right-color: var(--fill-color);\n",
              "    }\n",
              "    80% {\n",
              "      border-color: transparent;\n",
              "      border-right-color: var(--fill-color);\n",
              "      border-bottom-color: var(--fill-color);\n",
              "    }\n",
              "    90% {\n",
              "      border-color: transparent;\n",
              "      border-bottom-color: var(--fill-color);\n",
              "    }\n",
              "  }\n",
              "</style>\n",
              "\n",
              "  <script>\n",
              "    async function quickchart(key) {\n",
              "      const quickchartButtonEl =\n",
              "        document.querySelector('#' + key + ' button');\n",
              "      quickchartButtonEl.disabled = true;  // To prevent multiple clicks.\n",
              "      quickchartButtonEl.classList.add('colab-df-spinner');\n",
              "      try {\n",
              "        const charts = await google.colab.kernel.invokeFunction(\n",
              "            'suggestCharts', [key], {});\n",
              "      } catch (error) {\n",
              "        console.error('Error during call to suggestCharts:', error);\n",
              "      }\n",
              "      quickchartButtonEl.classList.remove('colab-df-spinner');\n",
              "      quickchartButtonEl.classList.add('colab-df-quickchart-complete');\n",
              "    }\n",
              "    (() => {\n",
              "      let quickchartButtonEl =\n",
              "        document.querySelector('#df-7e379fa3-69c7-4150-897f-0264082c2dfa button');\n",
              "      quickchartButtonEl.style.display =\n",
              "        google.colab.kernel.accessAllowed ? 'block' : 'none';\n",
              "    })();\n",
              "  </script>\n",
              "</div>\n",
              "\n",
              "  <div id=\"id_1f288cad-0303-417e-9216-7720b0d43046\">\n",
              "    <style>\n",
              "      .colab-df-generate {\n",
              "        background-color: #E8F0FE;\n",
              "        border: none;\n",
              "        border-radius: 50%;\n",
              "        cursor: pointer;\n",
              "        display: none;\n",
              "        fill: #1967D2;\n",
              "        height: 32px;\n",
              "        padding: 0 0 0 0;\n",
              "        width: 32px;\n",
              "      }\n",
              "\n",
              "      .colab-df-generate:hover {\n",
              "        background-color: #E2EBFA;\n",
              "        box-shadow: 0px 1px 2px rgba(60, 64, 67, 0.3), 0px 1px 3px 1px rgba(60, 64, 67, 0.15);\n",
              "        fill: #174EA6;\n",
              "      }\n",
              "\n",
              "      [theme=dark] .colab-df-generate {\n",
              "        background-color: #3B4455;\n",
              "        fill: #D2E3FC;\n",
              "      }\n",
              "\n",
              "      [theme=dark] .colab-df-generate:hover {\n",
              "        background-color: #434B5C;\n",
              "        box-shadow: 0px 1px 3px 1px rgba(0, 0, 0, 0.15);\n",
              "        filter: drop-shadow(0px 1px 2px rgba(0, 0, 0, 0.3));\n",
              "        fill: #FFFFFF;\n",
              "      }\n",
              "    </style>\n",
              "    <button class=\"colab-df-generate\" onclick=\"generateWithVariable('valid_df')\"\n",
              "            title=\"Generate code using this dataframe.\"\n",
              "            style=\"display:none;\">\n",
              "\n",
              "  <svg xmlns=\"http://www.w3.org/2000/svg\" height=\"24px\"viewBox=\"0 0 24 24\"\n",
              "       width=\"24px\">\n",
              "    <path d=\"M7,19H8.4L18.45,9,17,7.55,7,17.6ZM5,21V16.75L18.45,3.32a2,2,0,0,1,2.83,0l1.4,1.43a1.91,1.91,0,0,1,.58,1.4,1.91,1.91,0,0,1-.58,1.4L9.25,21ZM18.45,9,17,7.55Zm-12,3A5.31,5.31,0,0,0,4.9,8.1,5.31,5.31,0,0,0,1,6.5,5.31,5.31,0,0,0,4.9,4.9,5.31,5.31,0,0,0,6.5,1,5.31,5.31,0,0,0,8.1,4.9,5.31,5.31,0,0,0,12,6.5,5.46,5.46,0,0,0,6.5,12Z\"/>\n",
              "  </svg>\n",
              "    </button>\n",
              "    <script>\n",
              "      (() => {\n",
              "      const buttonEl =\n",
              "        document.querySelector('#id_1f288cad-0303-417e-9216-7720b0d43046 button.colab-df-generate');\n",
              "      buttonEl.style.display =\n",
              "        google.colab.kernel.accessAllowed ? 'block' : 'none';\n",
              "\n",
              "      buttonEl.onclick = () => {\n",
              "        google.colab.notebook.generateWithVariable('valid_df');\n",
              "      }\n",
              "      })();\n",
              "    </script>\n",
              "  </div>\n",
              "\n",
              "    </div>\n",
              "  </div>\n"
            ]
          },
          "metadata": {},
          "execution_count": 19
        }
      ],
      "source": [
        "valid_Y.rename(columns={0:'species'},inplace=True)\n",
        "_, valid_count = np.unique(valid_Y,return_counts=True)\n",
        "valid_df = pd.DataFrame(data = valid_count)\n",
        "a = valid_Y['species'].unique()\n",
        "a = a.tolist()\n",
        "a.sort()\n",
        "valid_df['Index'] = a\n",
        "valid_df.columns = ['Valid','Name']\n",
        "valid_df"
      ]
    },
    {
      "cell_type": "code",
      "execution_count": null,
      "metadata": {
        "colab": {
          "base_uri": "https://localhost:8080/"
        },
        "id": "le-CvRDDzGfJ",
        "outputId": "bba50df0-e444-471b-cd59-f07787a7d293"
      },
      "outputs": [
        {
          "output_type": "execute_result",
          "data": {
            "text/plain": [
              "array([[0., 0., 0., ..., 0., 1., 0.],\n",
              "       [0., 0., 0., ..., 0., 1., 0.],\n",
              "       [0., 0., 0., ..., 0., 1., 0.],\n",
              "       ...,\n",
              "       [0., 0., 0., ..., 0., 0., 0.],\n",
              "       [0., 0., 0., ..., 0., 0., 0.],\n",
              "       [0., 0., 0., ..., 0., 0., 0.]], dtype=float32)"
            ]
          },
          "metadata": {},
          "execution_count": 20
        }
      ],
      "source": [
        "y_valid = LabelBinarizer().fit_transform(valid_Y.species)\n",
        "valid_label = np.array(y_valid,dtype=np.float32)\n",
        "valid_label"
      ]
    },
    {
      "cell_type": "code",
      "execution_count": null,
      "metadata": {
        "colab": {
          "base_uri": "https://localhost:8080/",
          "height": 426
        },
        "id": "PZ82CO3dzJQs",
        "outputId": "995b0f11-49f9-452e-b82f-37c2d9b94f6a"
      },
      "outputs": [
        {
          "output_type": "execute_result",
          "data": {
            "text/plain": [
              "    Test                       Name\n",
              "0     41                Black-grass\n",
              "1     50                   Charlock\n",
              "2     31                   Cleavers\n",
              "3     66           Common Chickweed\n",
              "4     23               Common wheat\n",
              "5     51                    Fat Hen\n",
              "6     78           Loose Silky-bent\n",
              "7     18                      Maize\n",
              "8     62          Scentless Mayweed\n",
              "9     29           Shepherd’s Purse\n",
              "10    51  Small-flowered Cranesbill\n",
              "11    54                 Sugar beet"
            ],
            "text/html": [
              "\n",
              "  <div id=\"df-7b5c9eaf-ec1a-41ab-b02a-88b0b48fc3a7\" class=\"colab-df-container\">\n",
              "    <div>\n",
              "<style scoped>\n",
              "    .dataframe tbody tr th:only-of-type {\n",
              "        vertical-align: middle;\n",
              "    }\n",
              "\n",
              "    .dataframe tbody tr th {\n",
              "        vertical-align: top;\n",
              "    }\n",
              "\n",
              "    .dataframe thead th {\n",
              "        text-align: right;\n",
              "    }\n",
              "</style>\n",
              "<table border=\"1\" class=\"dataframe\">\n",
              "  <thead>\n",
              "    <tr style=\"text-align: right;\">\n",
              "      <th></th>\n",
              "      <th>Test</th>\n",
              "      <th>Name</th>\n",
              "    </tr>\n",
              "  </thead>\n",
              "  <tbody>\n",
              "    <tr>\n",
              "      <th>0</th>\n",
              "      <td>41</td>\n",
              "      <td>Black-grass</td>\n",
              "    </tr>\n",
              "    <tr>\n",
              "      <th>1</th>\n",
              "      <td>50</td>\n",
              "      <td>Charlock</td>\n",
              "    </tr>\n",
              "    <tr>\n",
              "      <th>2</th>\n",
              "      <td>31</td>\n",
              "      <td>Cleavers</td>\n",
              "    </tr>\n",
              "    <tr>\n",
              "      <th>3</th>\n",
              "      <td>66</td>\n",
              "      <td>Common Chickweed</td>\n",
              "    </tr>\n",
              "    <tr>\n",
              "      <th>4</th>\n",
              "      <td>23</td>\n",
              "      <td>Common wheat</td>\n",
              "    </tr>\n",
              "    <tr>\n",
              "      <th>5</th>\n",
              "      <td>51</td>\n",
              "      <td>Fat Hen</td>\n",
              "    </tr>\n",
              "    <tr>\n",
              "      <th>6</th>\n",
              "      <td>78</td>\n",
              "      <td>Loose Silky-bent</td>\n",
              "    </tr>\n",
              "    <tr>\n",
              "      <th>7</th>\n",
              "      <td>18</td>\n",
              "      <td>Maize</td>\n",
              "    </tr>\n",
              "    <tr>\n",
              "      <th>8</th>\n",
              "      <td>62</td>\n",
              "      <td>Scentless Mayweed</td>\n",
              "    </tr>\n",
              "    <tr>\n",
              "      <th>9</th>\n",
              "      <td>29</td>\n",
              "      <td>Shepherd’s Purse</td>\n",
              "    </tr>\n",
              "    <tr>\n",
              "      <th>10</th>\n",
              "      <td>51</td>\n",
              "      <td>Small-flowered Cranesbill</td>\n",
              "    </tr>\n",
              "    <tr>\n",
              "      <th>11</th>\n",
              "      <td>54</td>\n",
              "      <td>Sugar beet</td>\n",
              "    </tr>\n",
              "  </tbody>\n",
              "</table>\n",
              "</div>\n",
              "    <div class=\"colab-df-buttons\">\n",
              "\n",
              "  <div class=\"colab-df-container\">\n",
              "    <button class=\"colab-df-convert\" onclick=\"convertToInteractive('df-7b5c9eaf-ec1a-41ab-b02a-88b0b48fc3a7')\"\n",
              "            title=\"Convert this dataframe to an interactive table.\"\n",
              "            style=\"display:none;\">\n",
              "\n",
              "  <svg xmlns=\"http://www.w3.org/2000/svg\" height=\"24px\" viewBox=\"0 -960 960 960\">\n",
              "    <path d=\"M120-120v-720h720v720H120Zm60-500h600v-160H180v160Zm220 220h160v-160H400v160Zm0 220h160v-160H400v160ZM180-400h160v-160H180v160Zm440 0h160v-160H620v160ZM180-180h160v-160H180v160Zm440 0h160v-160H620v160Z\"/>\n",
              "  </svg>\n",
              "    </button>\n",
              "\n",
              "  <style>\n",
              "    .colab-df-container {\n",
              "      display:flex;\n",
              "      gap: 12px;\n",
              "    }\n",
              "\n",
              "    .colab-df-convert {\n",
              "      background-color: #E8F0FE;\n",
              "      border: none;\n",
              "      border-radius: 50%;\n",
              "      cursor: pointer;\n",
              "      display: none;\n",
              "      fill: #1967D2;\n",
              "      height: 32px;\n",
              "      padding: 0 0 0 0;\n",
              "      width: 32px;\n",
              "    }\n",
              "\n",
              "    .colab-df-convert:hover {\n",
              "      background-color: #E2EBFA;\n",
              "      box-shadow: 0px 1px 2px rgba(60, 64, 67, 0.3), 0px 1px 3px 1px rgba(60, 64, 67, 0.15);\n",
              "      fill: #174EA6;\n",
              "    }\n",
              "\n",
              "    .colab-df-buttons div {\n",
              "      margin-bottom: 4px;\n",
              "    }\n",
              "\n",
              "    [theme=dark] .colab-df-convert {\n",
              "      background-color: #3B4455;\n",
              "      fill: #D2E3FC;\n",
              "    }\n",
              "\n",
              "    [theme=dark] .colab-df-convert:hover {\n",
              "      background-color: #434B5C;\n",
              "      box-shadow: 0px 1px 3px 1px rgba(0, 0, 0, 0.15);\n",
              "      filter: drop-shadow(0px 1px 2px rgba(0, 0, 0, 0.3));\n",
              "      fill: #FFFFFF;\n",
              "    }\n",
              "  </style>\n",
              "\n",
              "    <script>\n",
              "      const buttonEl =\n",
              "        document.querySelector('#df-7b5c9eaf-ec1a-41ab-b02a-88b0b48fc3a7 button.colab-df-convert');\n",
              "      buttonEl.style.display =\n",
              "        google.colab.kernel.accessAllowed ? 'block' : 'none';\n",
              "\n",
              "      async function convertToInteractive(key) {\n",
              "        const element = document.querySelector('#df-7b5c9eaf-ec1a-41ab-b02a-88b0b48fc3a7');\n",
              "        const dataTable =\n",
              "          await google.colab.kernel.invokeFunction('convertToInteractive',\n",
              "                                                    [key], {});\n",
              "        if (!dataTable) return;\n",
              "\n",
              "        const docLinkHtml = 'Like what you see? Visit the ' +\n",
              "          '<a target=\"_blank\" href=https://colab.research.google.com/notebooks/data_table.ipynb>data table notebook</a>'\n",
              "          + ' to learn more about interactive tables.';\n",
              "        element.innerHTML = '';\n",
              "        dataTable['output_type'] = 'display_data';\n",
              "        await google.colab.output.renderOutput(dataTable, element);\n",
              "        const docLink = document.createElement('div');\n",
              "        docLink.innerHTML = docLinkHtml;\n",
              "        element.appendChild(docLink);\n",
              "      }\n",
              "    </script>\n",
              "  </div>\n",
              "\n",
              "\n",
              "<div id=\"df-4a765d3f-a5d9-4991-aab7-dacc807d454f\">\n",
              "  <button class=\"colab-df-quickchart\" onclick=\"quickchart('df-4a765d3f-a5d9-4991-aab7-dacc807d454f')\"\n",
              "            title=\"Suggest charts\"\n",
              "            style=\"display:none;\">\n",
              "\n",
              "<svg xmlns=\"http://www.w3.org/2000/svg\" height=\"24px\"viewBox=\"0 0 24 24\"\n",
              "     width=\"24px\">\n",
              "    <g>\n",
              "        <path d=\"M19 3H5c-1.1 0-2 .9-2 2v14c0 1.1.9 2 2 2h14c1.1 0 2-.9 2-2V5c0-1.1-.9-2-2-2zM9 17H7v-7h2v7zm4 0h-2V7h2v10zm4 0h-2v-4h2v4z\"/>\n",
              "    </g>\n",
              "</svg>\n",
              "  </button>\n",
              "\n",
              "<style>\n",
              "  .colab-df-quickchart {\n",
              "      --bg-color: #E8F0FE;\n",
              "      --fill-color: #1967D2;\n",
              "      --hover-bg-color: #E2EBFA;\n",
              "      --hover-fill-color: #174EA6;\n",
              "      --disabled-fill-color: #AAA;\n",
              "      --disabled-bg-color: #DDD;\n",
              "  }\n",
              "\n",
              "  [theme=dark] .colab-df-quickchart {\n",
              "      --bg-color: #3B4455;\n",
              "      --fill-color: #D2E3FC;\n",
              "      --hover-bg-color: #434B5C;\n",
              "      --hover-fill-color: #FFFFFF;\n",
              "      --disabled-bg-color: #3B4455;\n",
              "      --disabled-fill-color: #666;\n",
              "  }\n",
              "\n",
              "  .colab-df-quickchart {\n",
              "    background-color: var(--bg-color);\n",
              "    border: none;\n",
              "    border-radius: 50%;\n",
              "    cursor: pointer;\n",
              "    display: none;\n",
              "    fill: var(--fill-color);\n",
              "    height: 32px;\n",
              "    padding: 0;\n",
              "    width: 32px;\n",
              "  }\n",
              "\n",
              "  .colab-df-quickchart:hover {\n",
              "    background-color: var(--hover-bg-color);\n",
              "    box-shadow: 0 1px 2px rgba(60, 64, 67, 0.3), 0 1px 3px 1px rgba(60, 64, 67, 0.15);\n",
              "    fill: var(--button-hover-fill-color);\n",
              "  }\n",
              "\n",
              "  .colab-df-quickchart-complete:disabled,\n",
              "  .colab-df-quickchart-complete:disabled:hover {\n",
              "    background-color: var(--disabled-bg-color);\n",
              "    fill: var(--disabled-fill-color);\n",
              "    box-shadow: none;\n",
              "  }\n",
              "\n",
              "  .colab-df-spinner {\n",
              "    border: 2px solid var(--fill-color);\n",
              "    border-color: transparent;\n",
              "    border-bottom-color: var(--fill-color);\n",
              "    animation:\n",
              "      spin 1s steps(1) infinite;\n",
              "  }\n",
              "\n",
              "  @keyframes spin {\n",
              "    0% {\n",
              "      border-color: transparent;\n",
              "      border-bottom-color: var(--fill-color);\n",
              "      border-left-color: var(--fill-color);\n",
              "    }\n",
              "    20% {\n",
              "      border-color: transparent;\n",
              "      border-left-color: var(--fill-color);\n",
              "      border-top-color: var(--fill-color);\n",
              "    }\n",
              "    30% {\n",
              "      border-color: transparent;\n",
              "      border-left-color: var(--fill-color);\n",
              "      border-top-color: var(--fill-color);\n",
              "      border-right-color: var(--fill-color);\n",
              "    }\n",
              "    40% {\n",
              "      border-color: transparent;\n",
              "      border-right-color: var(--fill-color);\n",
              "      border-top-color: var(--fill-color);\n",
              "    }\n",
              "    60% {\n",
              "      border-color: transparent;\n",
              "      border-right-color: var(--fill-color);\n",
              "    }\n",
              "    80% {\n",
              "      border-color: transparent;\n",
              "      border-right-color: var(--fill-color);\n",
              "      border-bottom-color: var(--fill-color);\n",
              "    }\n",
              "    90% {\n",
              "      border-color: transparent;\n",
              "      border-bottom-color: var(--fill-color);\n",
              "    }\n",
              "  }\n",
              "</style>\n",
              "\n",
              "  <script>\n",
              "    async function quickchart(key) {\n",
              "      const quickchartButtonEl =\n",
              "        document.querySelector('#' + key + ' button');\n",
              "      quickchartButtonEl.disabled = true;  // To prevent multiple clicks.\n",
              "      quickchartButtonEl.classList.add('colab-df-spinner');\n",
              "      try {\n",
              "        const charts = await google.colab.kernel.invokeFunction(\n",
              "            'suggestCharts', [key], {});\n",
              "      } catch (error) {\n",
              "        console.error('Error during call to suggestCharts:', error);\n",
              "      }\n",
              "      quickchartButtonEl.classList.remove('colab-df-spinner');\n",
              "      quickchartButtonEl.classList.add('colab-df-quickchart-complete');\n",
              "    }\n",
              "    (() => {\n",
              "      let quickchartButtonEl =\n",
              "        document.querySelector('#df-4a765d3f-a5d9-4991-aab7-dacc807d454f button');\n",
              "      quickchartButtonEl.style.display =\n",
              "        google.colab.kernel.accessAllowed ? 'block' : 'none';\n",
              "    })();\n",
              "  </script>\n",
              "</div>\n",
              "\n",
              "  <div id=\"id_3896dc59-6356-4c9c-a7b1-c5808010a515\">\n",
              "    <style>\n",
              "      .colab-df-generate {\n",
              "        background-color: #E8F0FE;\n",
              "        border: none;\n",
              "        border-radius: 50%;\n",
              "        cursor: pointer;\n",
              "        display: none;\n",
              "        fill: #1967D2;\n",
              "        height: 32px;\n",
              "        padding: 0 0 0 0;\n",
              "        width: 32px;\n",
              "      }\n",
              "\n",
              "      .colab-df-generate:hover {\n",
              "        background-color: #E2EBFA;\n",
              "        box-shadow: 0px 1px 2px rgba(60, 64, 67, 0.3), 0px 1px 3px 1px rgba(60, 64, 67, 0.15);\n",
              "        fill: #174EA6;\n",
              "      }\n",
              "\n",
              "      [theme=dark] .colab-df-generate {\n",
              "        background-color: #3B4455;\n",
              "        fill: #D2E3FC;\n",
              "      }\n",
              "\n",
              "      [theme=dark] .colab-df-generate:hover {\n",
              "        background-color: #434B5C;\n",
              "        box-shadow: 0px 1px 3px 1px rgba(0, 0, 0, 0.15);\n",
              "        filter: drop-shadow(0px 1px 2px rgba(0, 0, 0, 0.3));\n",
              "        fill: #FFFFFF;\n",
              "      }\n",
              "    </style>\n",
              "    <button class=\"colab-df-generate\" onclick=\"generateWithVariable('test_df')\"\n",
              "            title=\"Generate code using this dataframe.\"\n",
              "            style=\"display:none;\">\n",
              "\n",
              "  <svg xmlns=\"http://www.w3.org/2000/svg\" height=\"24px\"viewBox=\"0 0 24 24\"\n",
              "       width=\"24px\">\n",
              "    <path d=\"M7,19H8.4L18.45,9,17,7.55,7,17.6ZM5,21V16.75L18.45,3.32a2,2,0,0,1,2.83,0l1.4,1.43a1.91,1.91,0,0,1,.58,1.4,1.91,1.91,0,0,1-.58,1.4L9.25,21ZM18.45,9,17,7.55Zm-12,3A5.31,5.31,0,0,0,4.9,8.1,5.31,5.31,0,0,0,1,6.5,5.31,5.31,0,0,0,4.9,4.9,5.31,5.31,0,0,0,6.5,1,5.31,5.31,0,0,0,8.1,4.9,5.31,5.31,0,0,0,12,6.5,5.46,5.46,0,0,0,6.5,12Z\"/>\n",
              "  </svg>\n",
              "    </button>\n",
              "    <script>\n",
              "      (() => {\n",
              "      const buttonEl =\n",
              "        document.querySelector('#id_3896dc59-6356-4c9c-a7b1-c5808010a515 button.colab-df-generate');\n",
              "      buttonEl.style.display =\n",
              "        google.colab.kernel.accessAllowed ? 'block' : 'none';\n",
              "\n",
              "      buttonEl.onclick = () => {\n",
              "        google.colab.notebook.generateWithVariable('test_df');\n",
              "      }\n",
              "      })();\n",
              "    </script>\n",
              "  </div>\n",
              "\n",
              "    </div>\n",
              "  </div>\n"
            ]
          },
          "metadata": {},
          "execution_count": 21
        }
      ],
      "source": [
        "test_Y.rename(columns={0:'species'},inplace=True)\n",
        "_, test_count = np.unique(test_Y,return_counts=True)\n",
        "test_df = pd.DataFrame(data = test_count)\n",
        "a = test_Y['species'].unique()\n",
        "a = a.tolist()\n",
        "a.sort()\n",
        "test_df['Index'] = a\n",
        "test_df.columns = ['Test','Name']\n",
        "test_df"
      ]
    },
    {
      "cell_type": "code",
      "execution_count": null,
      "metadata": {
        "colab": {
          "base_uri": "https://localhost:8080/"
        },
        "id": "QoVHnsH-zJZi",
        "outputId": "117fdb48-7fb3-4537-8202-e37a9622dfba"
      },
      "outputs": [
        {
          "output_type": "execute_result",
          "data": {
            "text/plain": [
              "array([[0., 0., 0., ..., 0., 1., 0.],\n",
              "       [0., 0., 0., ..., 0., 1., 0.],\n",
              "       [0., 0., 0., ..., 0., 1., 0.],\n",
              "       ...,\n",
              "       [0., 0., 0., ..., 0., 0., 0.],\n",
              "       [0., 0., 0., ..., 0., 0., 0.],\n",
              "       [0., 0., 0., ..., 0., 0., 0.]], dtype=float32)"
            ]
          },
          "metadata": {},
          "execution_count": 22
        }
      ],
      "source": [
        "y_test = LabelBinarizer().fit_transform(test_Y.species)\n",
        "test_label = np.array(y_test,dtype=np.float32)\n",
        "test_label"
      ]
    },
    {
      "cell_type": "code",
      "source": [
        "X_train = train_X\n",
        "X_test = test_X\n",
        "X_valid = valid_X"
      ],
      "metadata": {
        "id": "29egPBUrnn-2"
      },
      "execution_count": null,
      "outputs": []
    },
    {
      "cell_type": "markdown",
      "metadata": {
        "id": "BlPxvgayfhj7"
      },
      "source": [
        "### EfficientNetV2B0"
      ]
    },
    {
      "cell_type": "markdown",
      "metadata": {
        "id": "I1eXk7jin3r_"
      },
      "source": [
        "# **TEST HYPER PARAMETER OPTIMIZATION**"
      ]
    },
    {
      "cell_type": "code",
      "execution_count": null,
      "metadata": {
        "colab": {
          "base_uri": "https://localhost:8080/"
        },
        "id": "KvXXXnzgfd3x",
        "outputId": "a0721686-372c-4e70-b8a8-8efcc579f031"
      },
      "outputs": [
        {
          "output_type": "stream",
          "name": "stderr",
          "text": [
            "[I 2024-01-08 00:07:01,061] A new study created in RDB with name: no-name-abe52257-e14e-4691-8232-2787002accfd\n"
          ]
        },
        {
          "output_type": "stream",
          "name": "stdout",
          "text": [
            "Downloading data from https://storage.googleapis.com/tensorflow/keras-applications/efficientnet_v2/efficientnetv2-b0_notop.h5\n",
            "24274472/24274472 [==============================] - 2s 0us/step\n"
          ]
        },
        {
          "output_type": "stream",
          "name": "stderr",
          "text": [
            "/usr/local/lib/python3.10/dist-packages/keras/src/engine/training.py:3103: UserWarning: You are saving your model as an HDF5 file via `model.save()`. This file format is considered legacy. We recommend using instead the native Keras format, e.g. `model.save('my_model.keras')`.\n",
            "  saving_api.save_model(\n"
          ]
        },
        {
          "output_type": "stream",
          "name": "stdout",
          "text": [
            "32/32 [==============================] - 2s 14ms/step - loss: 2.5465 - accuracy: 0.3159\n",
            "18/18 [==============================] - 0s 25ms/step - loss: 2.7240 - accuracy: 0.2906\n"
          ]
        },
        {
          "output_type": "stream",
          "name": "stderr",
          "text": [
            "[I 2024-01-08 00:09:57,743] Trial 0 finished with value: 0.31594783067703247 and parameters: {'dropout_rate': 0.3568786837272921, 'optimizer': 'rmsprop', 'learning_rate_rmsprop': 0.08964888481179067, 'epochs': 65, 'batch_size': 128}. Best is trial 0 with value: 0.31594783067703247.\n"
          ]
        },
        {
          "output_type": "stream",
          "name": "stdout",
          "text": [
            "32/32 [==============================] - 2s 14ms/step - loss: 2.0525 - accuracy: 0.3300\n",
            "18/18 [==============================] - 0s 13ms/step - loss: 2.0833 - accuracy: 0.3538\n"
          ]
        },
        {
          "output_type": "stream",
          "name": "stderr",
          "text": [
            "[I 2024-01-08 00:14:28,276] Trial 1 finished with value: 0.3299899697303772 and parameters: {'dropout_rate': 0.37715564662125356, 'optimizer': 'adam', 'learning_rate_adam': 0.06428271412790436, 'epochs': 41, 'batch_size': 128}. Best is trial 1 with value: 0.3299899697303772.\n"
          ]
        },
        {
          "output_type": "stream",
          "name": "stdout",
          "text": [
            "32/32 [==============================] - 2s 14ms/step - loss: 0.5418 - accuracy: 0.8104\n",
            "18/18 [==============================] - 0s 14ms/step - loss: 0.5446 - accuracy: 0.8123\n"
          ]
        },
        {
          "output_type": "stream",
          "name": "stderr",
          "text": [
            "[I 2024-01-08 00:24:51,545] Trial 2 finished with value: 0.8104313015937805 and parameters: {'dropout_rate': 0.44048073411556865, 'optimizer': 'sgd', 'learning_rate_sgd': 0.06474014431307697, 'epochs': 76, 'batch_size': 128}. Best is trial 2 with value: 0.8104313015937805.\n"
          ]
        },
        {
          "output_type": "stream",
          "name": "stdout",
          "text": [
            "32/32 [==============================] - 2s 14ms/step - loss: 0.4105 - accuracy: 0.8485\n",
            "18/18 [==============================] - 0s 13ms/step - loss: 0.4086 - accuracy: 0.8466\n"
          ]
        },
        {
          "output_type": "stream",
          "name": "stderr",
          "text": [
            "[I 2024-01-08 00:34:20,561] Trial 3 finished with value: 0.8485456109046936 and parameters: {'dropout_rate': 0.42565125145570576, 'optimizer': 'sgd', 'learning_rate_sgd': 0.09246386114864602, 'epochs': 31, 'batch_size': 64}. Best is trial 3 with value: 0.8485456109046936.\n"
          ]
        },
        {
          "output_type": "stream",
          "name": "stdout",
          "text": [
            "32/32 [==============================] - 2s 14ms/step - loss: 2.5093 - accuracy: 0.1625\n",
            "18/18 [==============================] - 0s 13ms/step - loss: 2.5724 - accuracy: 0.1588\n"
          ]
        },
        {
          "output_type": "stream",
          "name": "stderr",
          "text": [
            "[I 2024-01-08 00:41:22,256] Trial 4 finished with value: 0.1624874621629715 and parameters: {'dropout_rate': 0.2562076496246386, 'optimizer': 'rmsprop', 'learning_rate_rmsprop': 0.0973456676794398, 'epochs': 94, 'batch_size': 128}. Best is trial 3 with value: 0.8485456109046936.\n"
          ]
        },
        {
          "output_type": "stream",
          "name": "stdout",
          "text": [
            "32/32 [==============================] - 2s 14ms/step - loss: 0.4420 - accuracy: 0.8475\n",
            "18/18 [==============================] - 0s 13ms/step - loss: 0.4501 - accuracy: 0.8321\n"
          ]
        },
        {
          "output_type": "stream",
          "name": "stderr",
          "text": [
            "[I 2024-01-08 01:01:00,106] Trial 5 finished with value: 0.8475426435470581 and parameters: {'dropout_rate': 0.21769498901785297, 'optimizer': 'sgd', 'learning_rate_sgd': 0.04531450100143717, 'epochs': 28, 'batch_size': 128}. Best is trial 3 with value: 0.8485456109046936.\n"
          ]
        },
        {
          "output_type": "stream",
          "name": "stdout",
          "text": [
            "32/32 [==============================] - 2s 14ms/step - loss: 2.4398 - accuracy: 0.1284\n",
            "18/18 [==============================] - 0s 13ms/step - loss: 2.4214 - accuracy: 0.1408\n"
          ]
        },
        {
          "output_type": "stream",
          "name": "stderr",
          "text": [
            "[I 2024-01-08 01:05:23,806] Trial 6 finished with value: 0.12838515639305115 and parameters: {'dropout_rate': 0.2754041123491316, 'optimizer': 'adam', 'learning_rate_adam': 0.07558865042406443, 'epochs': 45, 'batch_size': 32}. Best is trial 3 with value: 0.8485456109046936.\n"
          ]
        },
        {
          "output_type": "stream",
          "name": "stdout",
          "text": [
            "32/32 [==============================] - 2s 14ms/step - loss: 1.3600 - accuracy: 0.5486\n",
            "18/18 [==============================] - 0s 13ms/step - loss: 1.2994 - accuracy: 0.5722\n"
          ]
        },
        {
          "output_type": "stream",
          "name": "stderr",
          "text": [
            "[I 2024-01-08 01:09:01,474] Trial 7 finished with value: 0.5486459136009216 and parameters: {'dropout_rate': 0.4598679209564908, 'optimizer': 'rmsprop', 'learning_rate_rmsprop': 0.02385847898861848, 'epochs': 77, 'batch_size': 64}. Best is trial 3 with value: 0.8485456109046936.\n"
          ]
        },
        {
          "output_type": "stream",
          "name": "stdout",
          "text": [
            "32/32 [==============================] - 2s 14ms/step - loss: 1.7737 - accuracy: 0.3330\n",
            "18/18 [==============================] - 0s 14ms/step - loss: 1.7484 - accuracy: 0.3646\n"
          ]
        },
        {
          "output_type": "stream",
          "name": "stderr",
          "text": [
            "[I 2024-01-08 01:13:30,268] Trial 8 finished with value: 0.33299899101257324 and parameters: {'dropout_rate': 0.4873027024980497, 'optimizer': 'rmsprop', 'learning_rate_rmsprop': 0.052856313273896074, 'epochs': 87, 'batch_size': 64}. Best is trial 3 with value: 0.8485456109046936.\n"
          ]
        },
        {
          "output_type": "stream",
          "name": "stdout",
          "text": [
            "32/32 [==============================] - 2s 14ms/step - loss: 1.9431 - accuracy: 0.3039\n",
            "18/18 [==============================] - 0s 13ms/step - loss: 1.8699 - accuracy: 0.3466\n"
          ]
        },
        {
          "output_type": "stream",
          "name": "stderr",
          "text": [
            "[I 2024-01-08 01:17:57,403] Trial 9 finished with value: 0.3039117455482483 and parameters: {'dropout_rate': 0.43966823165243996, 'optimizer': 'adam', 'learning_rate_adam': 0.06934781894228761, 'epochs': 37, 'batch_size': 64}. Best is trial 3 with value: 0.8485456109046936.\n"
          ]
        },
        {
          "output_type": "stream",
          "name": "stdout",
          "text": [
            "32/32 [==============================] - 2s 14ms/step - loss: 0.3537 - accuracy: 0.8776\n",
            "18/18 [==============================] - 0s 13ms/step - loss: 0.3458 - accuracy: 0.8628\n"
          ]
        },
        {
          "output_type": "stream",
          "name": "stderr",
          "text": [
            "[I 2024-01-08 01:29:42,217] Trial 10 finished with value: 0.8776329159736633 and parameters: {'dropout_rate': 0.3892263644877882, 'optimizer': 'sgd', 'learning_rate_sgd': 0.09956522756789522, 'epochs': 51, 'batch_size': 32}. Best is trial 10 with value: 0.8776329159736633.\n"
          ]
        },
        {
          "output_type": "stream",
          "name": "stdout",
          "text": [
            "32/32 [==============================] - 2s 14ms/step - loss: 0.4934 - accuracy: 0.8215\n",
            "18/18 [==============================] - 0s 13ms/step - loss: 0.4886 - accuracy: 0.8141\n"
          ]
        },
        {
          "output_type": "stream",
          "name": "stderr",
          "text": [
            "[I 2024-01-08 01:38:11,169] Trial 11 finished with value: 0.8214644193649292 and parameters: {'dropout_rate': 0.39518942324725165, 'optimizer': 'sgd', 'learning_rate_sgd': 0.09933454589901237, 'epochs': 54, 'batch_size': 32}. Best is trial 10 with value: 0.8776329159736633.\n"
          ]
        },
        {
          "output_type": "stream",
          "name": "stdout",
          "text": [
            "Best hyperparameters: {'dropout_rate': 0.3892263644877882, 'optimizer': 'sgd', 'learning_rate_sgd': 0.09956522756789522, 'epochs': 51, 'batch_size': 32}\n"
          ]
        }
      ],
      "source": [
        "\n",
        "# Define the search space\n",
        "def objective(trial):\n",
        "\n",
        "\n",
        "    base_model = EfficientNetV2B0(include_top=False, weights='imagenet',  input_shape=(224, 224, 3), pooling='avg')\n",
        "    base_model.trainable = False\n",
        "\n",
        "\n",
        "\n",
        "    # Create a new model and set EfficientNetB2 as its input\n",
        "    model = Sequential()\n",
        "    model.add(base_model)\n",
        "    model.add(Dense(256, activation='relu'))\n",
        "    model.add(Dense(128, activation='relu'))\n",
        "\n",
        "    # Dropout rate\n",
        "    dropout_rate = trial.suggest_float('dropout_rate', 0.2, 0.5)\n",
        "    model.add(Dropout(rate=dropout_rate))\n",
        "\n",
        "    model.add(Dense(12, activation='softmax'))\n",
        "\n",
        "    # Choose the optimizer based on the hyperparameter\n",
        "    optimizer_name = trial.suggest_categorical('optimizer', ['sgd', 'adam', 'rmsprop'])\n",
        "    if optimizer_name == 'sgd':\n",
        "        optimizer = SGD(learning_rate=trial.suggest_float('learning_rate_sgd', 1e-2, 1e-1))\n",
        "    elif optimizer_name == 'adam':\n",
        "        optimizer = Adam(learning_rate=trial.suggest_float('learning_rate_adam', 1e-2, 1e-1))\n",
        "    elif optimizer_name == 'rmsprop':\n",
        "        optimizer = RMSprop(learning_rate=trial.suggest_float('learning_rate_rmsprop', 1e-2, 1e-1))\n",
        "\n",
        "    # Compile the model\n",
        "    model.compile(optimizer=optimizer, loss='categorical_crossentropy', metrics=['accuracy'])\n",
        "\n",
        "    # Number of epochs\n",
        "    epochs = trial.suggest_int('epochs', 25, 100)\n",
        "\n",
        "    # Batch size\n",
        "    batch_size = trial.suggest_categorical('batch_size', [32, 64, 128])\n",
        "\n",
        "\n",
        "\n",
        "    early_stopping = EarlyStopping(monitor='val_loss', patience=2, restore_best_weights=True)\n",
        "\n",
        "     # Create a ModelCheckpoint callback to save the best model\n",
        "    checkpoint_path = '/content/best_model1.h5'\n",
        "    checkpoint = ModelCheckpoint(checkpoint_path, monitor='val_accuracy', mode='max')\n",
        "\n",
        "    datagen = ImageDataGenerator(\n",
        "        rotation_range=180,\n",
        "        zoom_range = 0.1,\n",
        "        width_shift_range=0.1,\n",
        "        height_shift_range=0.1,\n",
        "        horizontal_flip=True,\n",
        "        vertical_flip=True,\n",
        "        )\n",
        "\n",
        "    datagen.fit(X_train)\n",
        "    datagen.fit(X_valid)\n",
        "\n",
        "    # Train the model\n",
        "    model.fit(datagen.flow(X_train, train_label, batch_size=batch_size), epochs=epochs,\n",
        "          validation_data=datagen.flow(X_valid, valid_label), callbacks=[early_stopping, checkpoint], verbose=0)\n",
        "\n",
        "\n",
        "    # Evaluate on the Validation set\n",
        "    val_loss, val_accuracy = model.evaluate(X_valid, valid_label)\n",
        "\n",
        "    # Evaluate on the Test set\n",
        "    test_loss, test_accuracy = model.evaluate(X_test, test_label)\n",
        "\n",
        "    # Garbage collection\n",
        "    gc.collect()\n",
        "\n",
        "    # Return the validation loss as the objective to minimize\n",
        "    return val_accuracy\n",
        "\n",
        "# Perform hyperparameter optimization with Optuna\n",
        "study_save_path = 'sqlite:////content/optuna_study.db'\n",
        "study = optuna.create_study(direction='maximize', storage=study_save_path)\n",
        "study.optimize(objective, n_trials=12)\n",
        "\n",
        "# Get the best hyperparameters\n",
        "best_params = study.best_params\n",
        "print(\"Best hyperparameters:\", best_params)\n"
      ]
    },
    {
      "cell_type": "code",
      "execution_count": null,
      "metadata": {
        "id": "qqcDQI_FwW3p",
        "colab": {
          "base_uri": "https://localhost:8080/",
          "height": 542
        },
        "outputId": "9c033f8f-5e96-4272-a725-3570d56bc8f1"
      },
      "outputs": [
        {
          "output_type": "display_data",
          "data": {
            "text/html": [
              "<html>\n",
              "<head><meta charset=\"utf-8\" /></head>\n",
              "<body>\n",
              "    <div>            <script src=\"https://cdnjs.cloudflare.com/ajax/libs/mathjax/2.7.5/MathJax.js?config=TeX-AMS-MML_SVG\"></script><script type=\"text/javascript\">if (window.MathJax && window.MathJax.Hub && window.MathJax.Hub.Config) {window.MathJax.Hub.Config({SVG: {font: \"STIX-Web\"}});}</script>                <script type=\"text/javascript\">window.PlotlyConfig = {MathJaxConfig: 'local'};</script>\n",
              "        <script charset=\"utf-8\" src=\"https://cdn.plot.ly/plotly-2.24.1.min.js\"></script>                <div id=\"13187c7b-3dbf-4362-b076-f29f4208b208\" class=\"plotly-graph-div\" style=\"height:525px; width:100%;\"></div>            <script type=\"text/javascript\">                                    window.PLOTLYENV=window.PLOTLYENV || {};                                    if (document.getElementById(\"13187c7b-3dbf-4362-b076-f29f4208b208\")) {                    Plotly.newPlot(                        \"13187c7b-3dbf-4362-b076-f29f4208b208\",                        [{\"mode\":\"markers\",\"name\":\"Objective Value\",\"x\":[0,1,2,3,4,5,6,7,8,9,10,11],\"y\":[0.31594783067703247,0.3299899697303772,0.8104313015937805,0.8485456109046936,0.1624874621629715,0.8475426435470581,0.12838515639305115,0.5486459136009216,0.33299899101257324,0.3039117455482483,0.8776329159736633,0.8214644193649292],\"type\":\"scatter\"},{\"mode\":\"lines\",\"name\":\"Best Value\",\"x\":[0,1,2,3,4,5,6,7,8,9,10,11],\"y\":[0.31594783067703247,0.3299899697303772,0.8104313015937805,0.8485456109046936,0.8485456109046936,0.8485456109046936,0.8485456109046936,0.8485456109046936,0.8485456109046936,0.8485456109046936,0.8776329159736633,0.8776329159736633],\"type\":\"scatter\"},{\"marker\":{\"color\":\"#cccccc\"},\"mode\":\"markers\",\"name\":\"Infeasible Trial\",\"showlegend\":false,\"x\":[],\"y\":[],\"type\":\"scatter\"}],                        {\"title\":{\"text\":\"Optimization History Plot\"},\"xaxis\":{\"title\":{\"text\":\"Trial\"}},\"yaxis\":{\"title\":{\"text\":\"Objective Value\"}},\"template\":{\"data\":{\"histogram2dcontour\":[{\"type\":\"histogram2dcontour\",\"colorbar\":{\"outlinewidth\":0,\"ticks\":\"\"},\"colorscale\":[[0.0,\"#0d0887\"],[0.1111111111111111,\"#46039f\"],[0.2222222222222222,\"#7201a8\"],[0.3333333333333333,\"#9c179e\"],[0.4444444444444444,\"#bd3786\"],[0.5555555555555556,\"#d8576b\"],[0.6666666666666666,\"#ed7953\"],[0.7777777777777778,\"#fb9f3a\"],[0.8888888888888888,\"#fdca26\"],[1.0,\"#f0f921\"]]}],\"choropleth\":[{\"type\":\"choropleth\",\"colorbar\":{\"outlinewidth\":0,\"ticks\":\"\"}}],\"histogram2d\":[{\"type\":\"histogram2d\",\"colorbar\":{\"outlinewidth\":0,\"ticks\":\"\"},\"colorscale\":[[0.0,\"#0d0887\"],[0.1111111111111111,\"#46039f\"],[0.2222222222222222,\"#7201a8\"],[0.3333333333333333,\"#9c179e\"],[0.4444444444444444,\"#bd3786\"],[0.5555555555555556,\"#d8576b\"],[0.6666666666666666,\"#ed7953\"],[0.7777777777777778,\"#fb9f3a\"],[0.8888888888888888,\"#fdca26\"],[1.0,\"#f0f921\"]]}],\"heatmap\":[{\"type\":\"heatmap\",\"colorbar\":{\"outlinewidth\":0,\"ticks\":\"\"},\"colorscale\":[[0.0,\"#0d0887\"],[0.1111111111111111,\"#46039f\"],[0.2222222222222222,\"#7201a8\"],[0.3333333333333333,\"#9c179e\"],[0.4444444444444444,\"#bd3786\"],[0.5555555555555556,\"#d8576b\"],[0.6666666666666666,\"#ed7953\"],[0.7777777777777778,\"#fb9f3a\"],[0.8888888888888888,\"#fdca26\"],[1.0,\"#f0f921\"]]}],\"heatmapgl\":[{\"type\":\"heatmapgl\",\"colorbar\":{\"outlinewidth\":0,\"ticks\":\"\"},\"colorscale\":[[0.0,\"#0d0887\"],[0.1111111111111111,\"#46039f\"],[0.2222222222222222,\"#7201a8\"],[0.3333333333333333,\"#9c179e\"],[0.4444444444444444,\"#bd3786\"],[0.5555555555555556,\"#d8576b\"],[0.6666666666666666,\"#ed7953\"],[0.7777777777777778,\"#fb9f3a\"],[0.8888888888888888,\"#fdca26\"],[1.0,\"#f0f921\"]]}],\"contourcarpet\":[{\"type\":\"contourcarpet\",\"colorbar\":{\"outlinewidth\":0,\"ticks\":\"\"}}],\"contour\":[{\"type\":\"contour\",\"colorbar\":{\"outlinewidth\":0,\"ticks\":\"\"},\"colorscale\":[[0.0,\"#0d0887\"],[0.1111111111111111,\"#46039f\"],[0.2222222222222222,\"#7201a8\"],[0.3333333333333333,\"#9c179e\"],[0.4444444444444444,\"#bd3786\"],[0.5555555555555556,\"#d8576b\"],[0.6666666666666666,\"#ed7953\"],[0.7777777777777778,\"#fb9f3a\"],[0.8888888888888888,\"#fdca26\"],[1.0,\"#f0f921\"]]}],\"surface\":[{\"type\":\"surface\",\"colorbar\":{\"outlinewidth\":0,\"ticks\":\"\"},\"colorscale\":[[0.0,\"#0d0887\"],[0.1111111111111111,\"#46039f\"],[0.2222222222222222,\"#7201a8\"],[0.3333333333333333,\"#9c179e\"],[0.4444444444444444,\"#bd3786\"],[0.5555555555555556,\"#d8576b\"],[0.6666666666666666,\"#ed7953\"],[0.7777777777777778,\"#fb9f3a\"],[0.8888888888888888,\"#fdca26\"],[1.0,\"#f0f921\"]]}],\"mesh3d\":[{\"type\":\"mesh3d\",\"colorbar\":{\"outlinewidth\":0,\"ticks\":\"\"}}],\"scatter\":[{\"fillpattern\":{\"fillmode\":\"overlay\",\"size\":10,\"solidity\":0.2},\"type\":\"scatter\"}],\"parcoords\":[{\"type\":\"parcoords\",\"line\":{\"colorbar\":{\"outlinewidth\":0,\"ticks\":\"\"}}}],\"scatterpolargl\":[{\"type\":\"scatterpolargl\",\"marker\":{\"colorbar\":{\"outlinewidth\":0,\"ticks\":\"\"}}}],\"bar\":[{\"error_x\":{\"color\":\"#2a3f5f\"},\"error_y\":{\"color\":\"#2a3f5f\"},\"marker\":{\"line\":{\"color\":\"#E5ECF6\",\"width\":0.5},\"pattern\":{\"fillmode\":\"overlay\",\"size\":10,\"solidity\":0.2}},\"type\":\"bar\"}],\"scattergeo\":[{\"type\":\"scattergeo\",\"marker\":{\"colorbar\":{\"outlinewidth\":0,\"ticks\":\"\"}}}],\"scatterpolar\":[{\"type\":\"scatterpolar\",\"marker\":{\"colorbar\":{\"outlinewidth\":0,\"ticks\":\"\"}}}],\"histogram\":[{\"marker\":{\"pattern\":{\"fillmode\":\"overlay\",\"size\":10,\"solidity\":0.2}},\"type\":\"histogram\"}],\"scattergl\":[{\"type\":\"scattergl\",\"marker\":{\"colorbar\":{\"outlinewidth\":0,\"ticks\":\"\"}}}],\"scatter3d\":[{\"type\":\"scatter3d\",\"line\":{\"colorbar\":{\"outlinewidth\":0,\"ticks\":\"\"}},\"marker\":{\"colorbar\":{\"outlinewidth\":0,\"ticks\":\"\"}}}],\"scattermapbox\":[{\"type\":\"scattermapbox\",\"marker\":{\"colorbar\":{\"outlinewidth\":0,\"ticks\":\"\"}}}],\"scatterternary\":[{\"type\":\"scatterternary\",\"marker\":{\"colorbar\":{\"outlinewidth\":0,\"ticks\":\"\"}}}],\"scattercarpet\":[{\"type\":\"scattercarpet\",\"marker\":{\"colorbar\":{\"outlinewidth\":0,\"ticks\":\"\"}}}],\"carpet\":[{\"aaxis\":{\"endlinecolor\":\"#2a3f5f\",\"gridcolor\":\"white\",\"linecolor\":\"white\",\"minorgridcolor\":\"white\",\"startlinecolor\":\"#2a3f5f\"},\"baxis\":{\"endlinecolor\":\"#2a3f5f\",\"gridcolor\":\"white\",\"linecolor\":\"white\",\"minorgridcolor\":\"white\",\"startlinecolor\":\"#2a3f5f\"},\"type\":\"carpet\"}],\"table\":[{\"cells\":{\"fill\":{\"color\":\"#EBF0F8\"},\"line\":{\"color\":\"white\"}},\"header\":{\"fill\":{\"color\":\"#C8D4E3\"},\"line\":{\"color\":\"white\"}},\"type\":\"table\"}],\"barpolar\":[{\"marker\":{\"line\":{\"color\":\"#E5ECF6\",\"width\":0.5},\"pattern\":{\"fillmode\":\"overlay\",\"size\":10,\"solidity\":0.2}},\"type\":\"barpolar\"}],\"pie\":[{\"automargin\":true,\"type\":\"pie\"}]},\"layout\":{\"autotypenumbers\":\"strict\",\"colorway\":[\"#636efa\",\"#EF553B\",\"#00cc96\",\"#ab63fa\",\"#FFA15A\",\"#19d3f3\",\"#FF6692\",\"#B6E880\",\"#FF97FF\",\"#FECB52\"],\"font\":{\"color\":\"#2a3f5f\"},\"hovermode\":\"closest\",\"hoverlabel\":{\"align\":\"left\"},\"paper_bgcolor\":\"white\",\"plot_bgcolor\":\"#E5ECF6\",\"polar\":{\"bgcolor\":\"#E5ECF6\",\"angularaxis\":{\"gridcolor\":\"white\",\"linecolor\":\"white\",\"ticks\":\"\"},\"radialaxis\":{\"gridcolor\":\"white\",\"linecolor\":\"white\",\"ticks\":\"\"}},\"ternary\":{\"bgcolor\":\"#E5ECF6\",\"aaxis\":{\"gridcolor\":\"white\",\"linecolor\":\"white\",\"ticks\":\"\"},\"baxis\":{\"gridcolor\":\"white\",\"linecolor\":\"white\",\"ticks\":\"\"},\"caxis\":{\"gridcolor\":\"white\",\"linecolor\":\"white\",\"ticks\":\"\"}},\"coloraxis\":{\"colorbar\":{\"outlinewidth\":0,\"ticks\":\"\"}},\"colorscale\":{\"sequential\":[[0.0,\"#0d0887\"],[0.1111111111111111,\"#46039f\"],[0.2222222222222222,\"#7201a8\"],[0.3333333333333333,\"#9c179e\"],[0.4444444444444444,\"#bd3786\"],[0.5555555555555556,\"#d8576b\"],[0.6666666666666666,\"#ed7953\"],[0.7777777777777778,\"#fb9f3a\"],[0.8888888888888888,\"#fdca26\"],[1.0,\"#f0f921\"]],\"sequentialminus\":[[0.0,\"#0d0887\"],[0.1111111111111111,\"#46039f\"],[0.2222222222222222,\"#7201a8\"],[0.3333333333333333,\"#9c179e\"],[0.4444444444444444,\"#bd3786\"],[0.5555555555555556,\"#d8576b\"],[0.6666666666666666,\"#ed7953\"],[0.7777777777777778,\"#fb9f3a\"],[0.8888888888888888,\"#fdca26\"],[1.0,\"#f0f921\"]],\"diverging\":[[0,\"#8e0152\"],[0.1,\"#c51b7d\"],[0.2,\"#de77ae\"],[0.3,\"#f1b6da\"],[0.4,\"#fde0ef\"],[0.5,\"#f7f7f7\"],[0.6,\"#e6f5d0\"],[0.7,\"#b8e186\"],[0.8,\"#7fbc41\"],[0.9,\"#4d9221\"],[1,\"#276419\"]]},\"xaxis\":{\"gridcolor\":\"white\",\"linecolor\":\"white\",\"ticks\":\"\",\"title\":{\"standoff\":15},\"zerolinecolor\":\"white\",\"automargin\":true,\"zerolinewidth\":2},\"yaxis\":{\"gridcolor\":\"white\",\"linecolor\":\"white\",\"ticks\":\"\",\"title\":{\"standoff\":15},\"zerolinecolor\":\"white\",\"automargin\":true,\"zerolinewidth\":2},\"scene\":{\"xaxis\":{\"backgroundcolor\":\"#E5ECF6\",\"gridcolor\":\"white\",\"linecolor\":\"white\",\"showbackground\":true,\"ticks\":\"\",\"zerolinecolor\":\"white\",\"gridwidth\":2},\"yaxis\":{\"backgroundcolor\":\"#E5ECF6\",\"gridcolor\":\"white\",\"linecolor\":\"white\",\"showbackground\":true,\"ticks\":\"\",\"zerolinecolor\":\"white\",\"gridwidth\":2},\"zaxis\":{\"backgroundcolor\":\"#E5ECF6\",\"gridcolor\":\"white\",\"linecolor\":\"white\",\"showbackground\":true,\"ticks\":\"\",\"zerolinecolor\":\"white\",\"gridwidth\":2}},\"shapedefaults\":{\"line\":{\"color\":\"#2a3f5f\"}},\"annotationdefaults\":{\"arrowcolor\":\"#2a3f5f\",\"arrowhead\":0,\"arrowwidth\":1},\"geo\":{\"bgcolor\":\"white\",\"landcolor\":\"#E5ECF6\",\"subunitcolor\":\"white\",\"showland\":true,\"showlakes\":true,\"lakecolor\":\"white\"},\"title\":{\"x\":0.05},\"mapbox\":{\"style\":\"light\"}}}},                        {\"responsive\": true}                    ).then(function(){\n",
              "                            \n",
              "var gd = document.getElementById('13187c7b-3dbf-4362-b076-f29f4208b208');\n",
              "var x = new MutationObserver(function (mutations, observer) {{\n",
              "        var display = window.getComputedStyle(gd).display;\n",
              "        if (!display || display === 'none') {{\n",
              "            console.log([gd, 'removed!']);\n",
              "            Plotly.purge(gd);\n",
              "            observer.disconnect();\n",
              "        }}\n",
              "}});\n",
              "\n",
              "// Listen for the removal of the full notebook cells\n",
              "var notebookContainer = gd.closest('#notebook-container');\n",
              "if (notebookContainer) {{\n",
              "    x.observe(notebookContainer, {childList: true});\n",
              "}}\n",
              "\n",
              "// Listen for the clearing of the current output cell\n",
              "var outputEl = gd.closest('.output');\n",
              "if (outputEl) {{\n",
              "    x.observe(outputEl, {childList: true});\n",
              "}}\n",
              "\n",
              "                        })                };                            </script>        </div>\n",
              "</body>\n",
              "</html>"
            ]
          },
          "metadata": {}
        }
      ],
      "source": [
        "\n",
        "# Assuming 'study' is your Optuna study object\n",
        "# Plot optimization history\n",
        "optuna_viz.plot_optimization_history(study)\n",
        "\n",
        "\n"
      ]
    },
    {
      "cell_type": "code",
      "execution_count": null,
      "metadata": {
        "id": "rLAKun1z3-ni",
        "colab": {
          "base_uri": "https://localhost:8080/",
          "height": 562
        },
        "outputId": "16a1243d-47d0-460a-d101-9bd20cf2235b"
      },
      "outputs": [
        {
          "output_type": "display_data",
          "data": {
            "text/html": [
              "<html>\n",
              "<head><meta charset=\"utf-8\" /></head>\n",
              "<body>\n",
              "    <div>            <script src=\"https://cdnjs.cloudflare.com/ajax/libs/mathjax/2.7.5/MathJax.js?config=TeX-AMS-MML_SVG\"></script><script type=\"text/javascript\">if (window.MathJax && window.MathJax.Hub && window.MathJax.Hub.Config) {window.MathJax.Hub.Config({SVG: {font: \"STIX-Web\"}});}</script>                <script type=\"text/javascript\">window.PlotlyConfig = {MathJaxConfig: 'local'};</script>\n",
              "        <script charset=\"utf-8\" src=\"https://cdn.plot.ly/plotly-2.24.1.min.js\"></script>                <div id=\"7538dac4-7b56-4659-a91e-bf07246487d7\" class=\"plotly-graph-div\" style=\"height:525px; width:2100px;\"></div>            <script type=\"text/javascript\">                                    window.PLOTLYENV=window.PLOTLYENV || {};                                    if (document.getElementById(\"7538dac4-7b56-4659-a91e-bf07246487d7\")) {                    Plotly.newPlot(                        \"7538dac4-7b56-4659-a91e-bf07246487d7\",                        [{\"marker\":{\"color\":[0,1,2,3,4,5,6,7,8,9,10,11],\"colorbar\":{\"title\":{\"text\":\"Trial\"},\"x\":1.0,\"xpad\":40},\"colorscale\":[[0.0,\"rgb(247,251,255)\"],[0.125,\"rgb(222,235,247)\"],[0.25,\"rgb(198,219,239)\"],[0.375,\"rgb(158,202,225)\"],[0.5,\"rgb(107,174,214)\"],[0.625,\"rgb(66,146,198)\"],[0.75,\"rgb(33,113,181)\"],[0.875,\"rgb(8,81,156)\"],[1.0,\"rgb(8,48,107)\"]],\"line\":{\"color\":\"Grey\",\"width\":0.5},\"showscale\":true},\"mode\":\"markers\",\"name\":\"Feasible Trial\",\"showlegend\":false,\"x\":[128,128,128,64,128,128,32,64,64,64,32,32],\"y\":[0.31594783067703247,0.3299899697303772,0.8104313015937805,0.8485456109046936,0.1624874621629715,0.8475426435470581,0.12838515639305115,0.5486459136009216,0.33299899101257324,0.3039117455482483,0.8776329159736633,0.8214644193649292],\"type\":\"scatter\",\"xaxis\":\"x\",\"yaxis\":\"y\"},{\"marker\":{\"color\":[0,1,2,3,4,5,6,7,8,9,10,11],\"colorbar\":{\"title\":{\"text\":\"Trial\"},\"x\":1.0,\"xpad\":40},\"colorscale\":[[0.0,\"rgb(247,251,255)\"],[0.125,\"rgb(222,235,247)\"],[0.25,\"rgb(198,219,239)\"],[0.375,\"rgb(158,202,225)\"],[0.5,\"rgb(107,174,214)\"],[0.625,\"rgb(66,146,198)\"],[0.75,\"rgb(33,113,181)\"],[0.875,\"rgb(8,81,156)\"],[1.0,\"rgb(8,48,107)\"]],\"line\":{\"color\":\"Grey\",\"width\":0.5},\"showscale\":false},\"mode\":\"markers\",\"name\":\"Feasible Trial\",\"showlegend\":false,\"x\":[0.3568786837272921,0.37715564662125356,0.44048073411556865,0.42565125145570576,0.2562076496246386,0.21769498901785297,0.2754041123491316,0.4598679209564908,0.4873027024980497,0.43966823165243996,0.3892263644877882,0.39518942324725165],\"y\":[0.31594783067703247,0.3299899697303772,0.8104313015937805,0.8485456109046936,0.1624874621629715,0.8475426435470581,0.12838515639305115,0.5486459136009216,0.33299899101257324,0.3039117455482483,0.8776329159736633,0.8214644193649292],\"type\":\"scatter\",\"xaxis\":\"x2\",\"yaxis\":\"y2\"},{\"marker\":{\"color\":[0,1,2,3,4,5,6,7,8,9,10,11],\"colorbar\":{\"title\":{\"text\":\"Trial\"},\"x\":1.0,\"xpad\":40},\"colorscale\":[[0.0,\"rgb(247,251,255)\"],[0.125,\"rgb(222,235,247)\"],[0.25,\"rgb(198,219,239)\"],[0.375,\"rgb(158,202,225)\"],[0.5,\"rgb(107,174,214)\"],[0.625,\"rgb(66,146,198)\"],[0.75,\"rgb(33,113,181)\"],[0.875,\"rgb(8,81,156)\"],[1.0,\"rgb(8,48,107)\"]],\"line\":{\"color\":\"Grey\",\"width\":0.5},\"showscale\":false},\"mode\":\"markers\",\"name\":\"Feasible Trial\",\"showlegend\":false,\"x\":[65,41,76,31,94,28,45,77,87,37,51,54],\"y\":[0.31594783067703247,0.3299899697303772,0.8104313015937805,0.8485456109046936,0.1624874621629715,0.8475426435470581,0.12838515639305115,0.5486459136009216,0.33299899101257324,0.3039117455482483,0.8776329159736633,0.8214644193649292],\"type\":\"scatter\",\"xaxis\":\"x3\",\"yaxis\":\"y3\"},{\"marker\":{\"color\":[1,6,9],\"colorbar\":{\"title\":{\"text\":\"Trial\"},\"x\":1.0,\"xpad\":40},\"colorscale\":[[0.0,\"rgb(247,251,255)\"],[0.125,\"rgb(222,235,247)\"],[0.25,\"rgb(198,219,239)\"],[0.375,\"rgb(158,202,225)\"],[0.5,\"rgb(107,174,214)\"],[0.625,\"rgb(66,146,198)\"],[0.75,\"rgb(33,113,181)\"],[0.875,\"rgb(8,81,156)\"],[1.0,\"rgb(8,48,107)\"]],\"line\":{\"color\":\"Grey\",\"width\":0.5},\"showscale\":false},\"mode\":\"markers\",\"name\":\"Feasible Trial\",\"showlegend\":false,\"x\":[0.06428271412790436,0.07558865042406443,0.06934781894228761],\"y\":[0.3299899697303772,0.12838515639305115,0.3039117455482483],\"type\":\"scatter\",\"xaxis\":\"x4\",\"yaxis\":\"y4\"},{\"marker\":{\"color\":[0,4,7,8],\"colorbar\":{\"title\":{\"text\":\"Trial\"},\"x\":1.0,\"xpad\":40},\"colorscale\":[[0.0,\"rgb(247,251,255)\"],[0.125,\"rgb(222,235,247)\"],[0.25,\"rgb(198,219,239)\"],[0.375,\"rgb(158,202,225)\"],[0.5,\"rgb(107,174,214)\"],[0.625,\"rgb(66,146,198)\"],[0.75,\"rgb(33,113,181)\"],[0.875,\"rgb(8,81,156)\"],[1.0,\"rgb(8,48,107)\"]],\"line\":{\"color\":\"Grey\",\"width\":0.5},\"showscale\":false},\"mode\":\"markers\",\"name\":\"Feasible Trial\",\"showlegend\":false,\"x\":[0.08964888481179067,0.0973456676794398,0.02385847898861848,0.052856313273896074],\"y\":[0.31594783067703247,0.1624874621629715,0.5486459136009216,0.33299899101257324],\"type\":\"scatter\",\"xaxis\":\"x5\",\"yaxis\":\"y5\"},{\"marker\":{\"color\":[2,3,5,10,11],\"colorbar\":{\"title\":{\"text\":\"Trial\"},\"x\":1.0,\"xpad\":40},\"colorscale\":[[0.0,\"rgb(247,251,255)\"],[0.125,\"rgb(222,235,247)\"],[0.25,\"rgb(198,219,239)\"],[0.375,\"rgb(158,202,225)\"],[0.5,\"rgb(107,174,214)\"],[0.625,\"rgb(66,146,198)\"],[0.75,\"rgb(33,113,181)\"],[0.875,\"rgb(8,81,156)\"],[1.0,\"rgb(8,48,107)\"]],\"line\":{\"color\":\"Grey\",\"width\":0.5},\"showscale\":false},\"mode\":\"markers\",\"name\":\"Feasible Trial\",\"showlegend\":false,\"x\":[0.06474014431307697,0.09246386114864602,0.04531450100143717,0.09956522756789522,0.09933454589901237],\"y\":[0.8104313015937805,0.8485456109046936,0.8475426435470581,0.8776329159736633,0.8214644193649292],\"type\":\"scatter\",\"xaxis\":\"x6\",\"yaxis\":\"y6\"},{\"marker\":{\"color\":[0,1,2,3,4,5,6,7,8,9,10,11],\"colorbar\":{\"title\":{\"text\":\"Trial\"},\"x\":1.0,\"xpad\":40},\"colorscale\":[[0.0,\"rgb(247,251,255)\"],[0.125,\"rgb(222,235,247)\"],[0.25,\"rgb(198,219,239)\"],[0.375,\"rgb(158,202,225)\"],[0.5,\"rgb(107,174,214)\"],[0.625,\"rgb(66,146,198)\"],[0.75,\"rgb(33,113,181)\"],[0.875,\"rgb(8,81,156)\"],[1.0,\"rgb(8,48,107)\"]],\"line\":{\"color\":\"Grey\",\"width\":0.5},\"showscale\":false},\"mode\":\"markers\",\"name\":\"Feasible Trial\",\"showlegend\":false,\"x\":[\"rmsprop\",\"adam\",\"sgd\",\"sgd\",\"rmsprop\",\"sgd\",\"adam\",\"rmsprop\",\"rmsprop\",\"adam\",\"sgd\",\"sgd\"],\"y\":[0.31594783067703247,0.3299899697303772,0.8104313015937805,0.8485456109046936,0.1624874621629715,0.8475426435470581,0.12838515639305115,0.5486459136009216,0.33299899101257324,0.3039117455482483,0.8776329159736633,0.8214644193649292],\"type\":\"scatter\",\"xaxis\":\"x7\",\"yaxis\":\"y7\"}],                        {\"template\":{\"data\":{\"histogram2dcontour\":[{\"type\":\"histogram2dcontour\",\"colorbar\":{\"outlinewidth\":0,\"ticks\":\"\"},\"colorscale\":[[0.0,\"#0d0887\"],[0.1111111111111111,\"#46039f\"],[0.2222222222222222,\"#7201a8\"],[0.3333333333333333,\"#9c179e\"],[0.4444444444444444,\"#bd3786\"],[0.5555555555555556,\"#d8576b\"],[0.6666666666666666,\"#ed7953\"],[0.7777777777777778,\"#fb9f3a\"],[0.8888888888888888,\"#fdca26\"],[1.0,\"#f0f921\"]]}],\"choropleth\":[{\"type\":\"choropleth\",\"colorbar\":{\"outlinewidth\":0,\"ticks\":\"\"}}],\"histogram2d\":[{\"type\":\"histogram2d\",\"colorbar\":{\"outlinewidth\":0,\"ticks\":\"\"},\"colorscale\":[[0.0,\"#0d0887\"],[0.1111111111111111,\"#46039f\"],[0.2222222222222222,\"#7201a8\"],[0.3333333333333333,\"#9c179e\"],[0.4444444444444444,\"#bd3786\"],[0.5555555555555556,\"#d8576b\"],[0.6666666666666666,\"#ed7953\"],[0.7777777777777778,\"#fb9f3a\"],[0.8888888888888888,\"#fdca26\"],[1.0,\"#f0f921\"]]}],\"heatmap\":[{\"type\":\"heatmap\",\"colorbar\":{\"outlinewidth\":0,\"ticks\":\"\"},\"colorscale\":[[0.0,\"#0d0887\"],[0.1111111111111111,\"#46039f\"],[0.2222222222222222,\"#7201a8\"],[0.3333333333333333,\"#9c179e\"],[0.4444444444444444,\"#bd3786\"],[0.5555555555555556,\"#d8576b\"],[0.6666666666666666,\"#ed7953\"],[0.7777777777777778,\"#fb9f3a\"],[0.8888888888888888,\"#fdca26\"],[1.0,\"#f0f921\"]]}],\"heatmapgl\":[{\"type\":\"heatmapgl\",\"colorbar\":{\"outlinewidth\":0,\"ticks\":\"\"},\"colorscale\":[[0.0,\"#0d0887\"],[0.1111111111111111,\"#46039f\"],[0.2222222222222222,\"#7201a8\"],[0.3333333333333333,\"#9c179e\"],[0.4444444444444444,\"#bd3786\"],[0.5555555555555556,\"#d8576b\"],[0.6666666666666666,\"#ed7953\"],[0.7777777777777778,\"#fb9f3a\"],[0.8888888888888888,\"#fdca26\"],[1.0,\"#f0f921\"]]}],\"contourcarpet\":[{\"type\":\"contourcarpet\",\"colorbar\":{\"outlinewidth\":0,\"ticks\":\"\"}}],\"contour\":[{\"type\":\"contour\",\"colorbar\":{\"outlinewidth\":0,\"ticks\":\"\"},\"colorscale\":[[0.0,\"#0d0887\"],[0.1111111111111111,\"#46039f\"],[0.2222222222222222,\"#7201a8\"],[0.3333333333333333,\"#9c179e\"],[0.4444444444444444,\"#bd3786\"],[0.5555555555555556,\"#d8576b\"],[0.6666666666666666,\"#ed7953\"],[0.7777777777777778,\"#fb9f3a\"],[0.8888888888888888,\"#fdca26\"],[1.0,\"#f0f921\"]]}],\"surface\":[{\"type\":\"surface\",\"colorbar\":{\"outlinewidth\":0,\"ticks\":\"\"},\"colorscale\":[[0.0,\"#0d0887\"],[0.1111111111111111,\"#46039f\"],[0.2222222222222222,\"#7201a8\"],[0.3333333333333333,\"#9c179e\"],[0.4444444444444444,\"#bd3786\"],[0.5555555555555556,\"#d8576b\"],[0.6666666666666666,\"#ed7953\"],[0.7777777777777778,\"#fb9f3a\"],[0.8888888888888888,\"#fdca26\"],[1.0,\"#f0f921\"]]}],\"mesh3d\":[{\"type\":\"mesh3d\",\"colorbar\":{\"outlinewidth\":0,\"ticks\":\"\"}}],\"scatter\":[{\"fillpattern\":{\"fillmode\":\"overlay\",\"size\":10,\"solidity\":0.2},\"type\":\"scatter\"}],\"parcoords\":[{\"type\":\"parcoords\",\"line\":{\"colorbar\":{\"outlinewidth\":0,\"ticks\":\"\"}}}],\"scatterpolargl\":[{\"type\":\"scatterpolargl\",\"marker\":{\"colorbar\":{\"outlinewidth\":0,\"ticks\":\"\"}}}],\"bar\":[{\"error_x\":{\"color\":\"#2a3f5f\"},\"error_y\":{\"color\":\"#2a3f5f\"},\"marker\":{\"line\":{\"color\":\"#E5ECF6\",\"width\":0.5},\"pattern\":{\"fillmode\":\"overlay\",\"size\":10,\"solidity\":0.2}},\"type\":\"bar\"}],\"scattergeo\":[{\"type\":\"scattergeo\",\"marker\":{\"colorbar\":{\"outlinewidth\":0,\"ticks\":\"\"}}}],\"scatterpolar\":[{\"type\":\"scatterpolar\",\"marker\":{\"colorbar\":{\"outlinewidth\":0,\"ticks\":\"\"}}}],\"histogram\":[{\"marker\":{\"pattern\":{\"fillmode\":\"overlay\",\"size\":10,\"solidity\":0.2}},\"type\":\"histogram\"}],\"scattergl\":[{\"type\":\"scattergl\",\"marker\":{\"colorbar\":{\"outlinewidth\":0,\"ticks\":\"\"}}}],\"scatter3d\":[{\"type\":\"scatter3d\",\"line\":{\"colorbar\":{\"outlinewidth\":0,\"ticks\":\"\"}},\"marker\":{\"colorbar\":{\"outlinewidth\":0,\"ticks\":\"\"}}}],\"scattermapbox\":[{\"type\":\"scattermapbox\",\"marker\":{\"colorbar\":{\"outlinewidth\":0,\"ticks\":\"\"}}}],\"scatterternary\":[{\"type\":\"scatterternary\",\"marker\":{\"colorbar\":{\"outlinewidth\":0,\"ticks\":\"\"}}}],\"scattercarpet\":[{\"type\":\"scattercarpet\",\"marker\":{\"colorbar\":{\"outlinewidth\":0,\"ticks\":\"\"}}}],\"carpet\":[{\"aaxis\":{\"endlinecolor\":\"#2a3f5f\",\"gridcolor\":\"white\",\"linecolor\":\"white\",\"minorgridcolor\":\"white\",\"startlinecolor\":\"#2a3f5f\"},\"baxis\":{\"endlinecolor\":\"#2a3f5f\",\"gridcolor\":\"white\",\"linecolor\":\"white\",\"minorgridcolor\":\"white\",\"startlinecolor\":\"#2a3f5f\"},\"type\":\"carpet\"}],\"table\":[{\"cells\":{\"fill\":{\"color\":\"#EBF0F8\"},\"line\":{\"color\":\"white\"}},\"header\":{\"fill\":{\"color\":\"#C8D4E3\"},\"line\":{\"color\":\"white\"}},\"type\":\"table\"}],\"barpolar\":[{\"marker\":{\"line\":{\"color\":\"#E5ECF6\",\"width\":0.5},\"pattern\":{\"fillmode\":\"overlay\",\"size\":10,\"solidity\":0.2}},\"type\":\"barpolar\"}],\"pie\":[{\"automargin\":true,\"type\":\"pie\"}]},\"layout\":{\"autotypenumbers\":\"strict\",\"colorway\":[\"#636efa\",\"#EF553B\",\"#00cc96\",\"#ab63fa\",\"#FFA15A\",\"#19d3f3\",\"#FF6692\",\"#B6E880\",\"#FF97FF\",\"#FECB52\"],\"font\":{\"color\":\"#2a3f5f\"},\"hovermode\":\"closest\",\"hoverlabel\":{\"align\":\"left\"},\"paper_bgcolor\":\"white\",\"plot_bgcolor\":\"#E5ECF6\",\"polar\":{\"bgcolor\":\"#E5ECF6\",\"angularaxis\":{\"gridcolor\":\"white\",\"linecolor\":\"white\",\"ticks\":\"\"},\"radialaxis\":{\"gridcolor\":\"white\",\"linecolor\":\"white\",\"ticks\":\"\"}},\"ternary\":{\"bgcolor\":\"#E5ECF6\",\"aaxis\":{\"gridcolor\":\"white\",\"linecolor\":\"white\",\"ticks\":\"\"},\"baxis\":{\"gridcolor\":\"white\",\"linecolor\":\"white\",\"ticks\":\"\"},\"caxis\":{\"gridcolor\":\"white\",\"linecolor\":\"white\",\"ticks\":\"\"}},\"coloraxis\":{\"colorbar\":{\"outlinewidth\":0,\"ticks\":\"\"}},\"colorscale\":{\"sequential\":[[0.0,\"#0d0887\"],[0.1111111111111111,\"#46039f\"],[0.2222222222222222,\"#7201a8\"],[0.3333333333333333,\"#9c179e\"],[0.4444444444444444,\"#bd3786\"],[0.5555555555555556,\"#d8576b\"],[0.6666666666666666,\"#ed7953\"],[0.7777777777777778,\"#fb9f3a\"],[0.8888888888888888,\"#fdca26\"],[1.0,\"#f0f921\"]],\"sequentialminus\":[[0.0,\"#0d0887\"],[0.1111111111111111,\"#46039f\"],[0.2222222222222222,\"#7201a8\"],[0.3333333333333333,\"#9c179e\"],[0.4444444444444444,\"#bd3786\"],[0.5555555555555556,\"#d8576b\"],[0.6666666666666666,\"#ed7953\"],[0.7777777777777778,\"#fb9f3a\"],[0.8888888888888888,\"#fdca26\"],[1.0,\"#f0f921\"]],\"diverging\":[[0,\"#8e0152\"],[0.1,\"#c51b7d\"],[0.2,\"#de77ae\"],[0.3,\"#f1b6da\"],[0.4,\"#fde0ef\"],[0.5,\"#f7f7f7\"],[0.6,\"#e6f5d0\"],[0.7,\"#b8e186\"],[0.8,\"#7fbc41\"],[0.9,\"#4d9221\"],[1,\"#276419\"]]},\"xaxis\":{\"gridcolor\":\"white\",\"linecolor\":\"white\",\"ticks\":\"\",\"title\":{\"standoff\":15},\"zerolinecolor\":\"white\",\"automargin\":true,\"zerolinewidth\":2},\"yaxis\":{\"gridcolor\":\"white\",\"linecolor\":\"white\",\"ticks\":\"\",\"title\":{\"standoff\":15},\"zerolinecolor\":\"white\",\"automargin\":true,\"zerolinewidth\":2},\"scene\":{\"xaxis\":{\"backgroundcolor\":\"#E5ECF6\",\"gridcolor\":\"white\",\"linecolor\":\"white\",\"showbackground\":true,\"ticks\":\"\",\"zerolinecolor\":\"white\",\"gridwidth\":2},\"yaxis\":{\"backgroundcolor\":\"#E5ECF6\",\"gridcolor\":\"white\",\"linecolor\":\"white\",\"showbackground\":true,\"ticks\":\"\",\"zerolinecolor\":\"white\",\"gridwidth\":2},\"zaxis\":{\"backgroundcolor\":\"#E5ECF6\",\"gridcolor\":\"white\",\"linecolor\":\"white\",\"showbackground\":true,\"ticks\":\"\",\"zerolinecolor\":\"white\",\"gridwidth\":2}},\"shapedefaults\":{\"line\":{\"color\":\"#2a3f5f\"}},\"annotationdefaults\":{\"arrowcolor\":\"#2a3f5f\",\"arrowhead\":0,\"arrowwidth\":1},\"geo\":{\"bgcolor\":\"white\",\"landcolor\":\"#E5ECF6\",\"subunitcolor\":\"white\",\"showland\":true,\"showlakes\":true,\"lakecolor\":\"white\"},\"title\":{\"x\":0.05},\"mapbox\":{\"style\":\"light\"}}},\"xaxis\":{\"anchor\":\"y\",\"domain\":[0.0,0.1183673469387755],\"title\":{\"text\":\"batch_size\"},\"type\":\"category\",\"categoryorder\":\"array\",\"categoryarray\":[32,64,128]},\"yaxis\":{\"anchor\":\"x\",\"domain\":[0.0,1.0],\"title\":{\"text\":\"Objective Value\"}},\"xaxis2\":{\"anchor\":\"y2\",\"domain\":[0.14693877551020407,0.26530612244897955],\"title\":{\"text\":\"dropout_rate\"}},\"yaxis2\":{\"anchor\":\"x2\",\"domain\":[0.0,1.0],\"matches\":\"y\",\"showticklabels\":false},\"xaxis3\":{\"anchor\":\"y3\",\"domain\":[0.29387755102040813,0.4122448979591836],\"title\":{\"text\":\"epochs\"}},\"yaxis3\":{\"anchor\":\"x3\",\"domain\":[0.0,1.0],\"matches\":\"y\",\"showticklabels\":false},\"xaxis4\":{\"anchor\":\"y4\",\"domain\":[0.4408163265306122,0.5591836734693877],\"title\":{\"text\":\"learning_rate_adam\"}},\"yaxis4\":{\"anchor\":\"x4\",\"domain\":[0.0,1.0],\"matches\":\"y\",\"showticklabels\":false},\"xaxis5\":{\"anchor\":\"y5\",\"domain\":[0.5877551020408163,0.7061224489795918],\"title\":{\"text\":\"learning_rate_rmsprop\"}},\"yaxis5\":{\"anchor\":\"x5\",\"domain\":[0.0,1.0],\"matches\":\"y\",\"showticklabels\":false},\"xaxis6\":{\"anchor\":\"y6\",\"domain\":[0.7346938775510204,0.8530612244897959],\"title\":{\"text\":\"learning_rate_sgd\"}},\"yaxis6\":{\"anchor\":\"x6\",\"domain\":[0.0,1.0],\"matches\":\"y\",\"showticklabels\":false},\"xaxis7\":{\"anchor\":\"y7\",\"domain\":[0.8816326530612244,0.9999999999999999],\"title\":{\"text\":\"optimizer\"},\"type\":\"category\",\"categoryorder\":\"array\",\"categoryarray\":[\"sgd\",\"adam\",\"rmsprop\"]},\"yaxis7\":{\"anchor\":\"x7\",\"domain\":[0.0,1.0],\"matches\":\"y\",\"showticklabels\":false},\"title\":{\"text\":\"Slice Plot\"},\"width\":2100},                        {\"responsive\": true}                    ).then(function(){\n",
              "                            \n",
              "var gd = document.getElementById('7538dac4-7b56-4659-a91e-bf07246487d7');\n",
              "var x = new MutationObserver(function (mutations, observer) {{\n",
              "        var display = window.getComputedStyle(gd).display;\n",
              "        if (!display || display === 'none') {{\n",
              "            console.log([gd, 'removed!']);\n",
              "            Plotly.purge(gd);\n",
              "            observer.disconnect();\n",
              "        }}\n",
              "}});\n",
              "\n",
              "// Listen for the removal of the full notebook cells\n",
              "var notebookContainer = gd.closest('#notebook-container');\n",
              "if (notebookContainer) {{\n",
              "    x.observe(notebookContainer, {childList: true});\n",
              "}}\n",
              "\n",
              "// Listen for the clearing of the current output cell\n",
              "var outputEl = gd.closest('.output');\n",
              "if (outputEl) {{\n",
              "    x.observe(outputEl, {childList: true});\n",
              "}}\n",
              "\n",
              "                        })                };                            </script>        </div>\n",
              "</body>\n",
              "</html>"
            ]
          },
          "metadata": {}
        }
      ],
      "source": [
        "\n",
        "# Plot slice plot\n",
        "optuna_viz.plot_slice(study)\n",
        "\n"
      ]
    },
    {
      "cell_type": "code",
      "execution_count": null,
      "metadata": {
        "id": "BjIZdFTz3-vC",
        "colab": {
          "base_uri": "https://localhost:8080/",
          "height": 542
        },
        "outputId": "42f7d627-d5d4-4528-d64b-6cb032d01d6a"
      },
      "outputs": [
        {
          "output_type": "display_data",
          "data": {
            "text/html": [
              "<html>\n",
              "<head><meta charset=\"utf-8\" /></head>\n",
              "<body>\n",
              "    <div>            <script src=\"https://cdnjs.cloudflare.com/ajax/libs/mathjax/2.7.5/MathJax.js?config=TeX-AMS-MML_SVG\"></script><script type=\"text/javascript\">if (window.MathJax && window.MathJax.Hub && window.MathJax.Hub.Config) {window.MathJax.Hub.Config({SVG: {font: \"STIX-Web\"}});}</script>                <script type=\"text/javascript\">window.PlotlyConfig = {MathJaxConfig: 'local'};</script>\n",
              "        <script charset=\"utf-8\" src=\"https://cdn.plot.ly/plotly-2.24.1.min.js\"></script>                <div id=\"a930a8fe-c794-4b8c-a4d6-fa9dfcc9caed\" class=\"plotly-graph-div\" style=\"height:525px; width:100%;\"></div>            <script type=\"text/javascript\">                                    window.PLOTLYENV=window.PLOTLYENV || {};                                    if (document.getElementById(\"a930a8fe-c794-4b8c-a4d6-fa9dfcc9caed\")) {                    Plotly.newPlot(                        \"a930a8fe-c794-4b8c-a4d6-fa9dfcc9caed\",                        [{\"type\":\"scatter\",\"xaxis\":\"x\",\"yaxis\":\"y\"},{\"colorbar\":{\"title\":{\"text\":\"Objective Value\"}},\"colorscale\":[[0.0,\"rgb(247,251,255)\"],[0.125,\"rgb(222,235,247)\"],[0.25,\"rgb(198,219,239)\"],[0.375,\"rgb(158,202,225)\"],[0.5,\"rgb(107,174,214)\"],[0.625,\"rgb(66,146,198)\"],[0.75,\"rgb(33,113,181)\"],[0.875,\"rgb(8,81,156)\"],[1.0,\"rgb(8,48,107)\"]],\"connectgaps\":true,\"contours\":{\"coloring\":\"heatmap\"},\"hoverinfo\":\"none\",\"line\":{\"smoothing\":1.3},\"reversescale\":false,\"showscale\":true,\"x\":[27.2,32,64,128,132.8],\"y\":[0.20421460334384314,0.21769498901785297,0.2562076496246386,0.2754041123491316,0.3568786837272921,0.37715564662125356,0.3892263644877882,0.39518942324725165,0.42565125145570576,0.43966823165243996,0.44048073411556865,0.4598679209564908,0.4873027024980497,0.5007830881720595],\"z\":[[null,null,null,null,null],[null,null,null,0.8475426435470581,null],[null,null,null,0.1624874621629715,null],[null,0.12838515639305115,null,null,null],[null,null,null,0.31594783067703247,null],[null,null,null,0.3299899697303772,null],[null,0.8776329159736633,null,null,null],[null,0.8214644193649292,null,null,null],[null,null,0.8485456109046936,null,null],[null,null,0.3039117455482483,null,null],[null,null,null,0.8104313015937805,null],[null,null,0.5486459136009216,null,null],[null,null,0.33299899101257324,null,null],[null,null,null,null,null]],\"type\":\"contour\",\"xaxis\":\"x8\",\"yaxis\":\"y8\"},{\"marker\":{\"color\":\"black\",\"line\":{\"color\":\"Gray\",\"width\":2.0}},\"mode\":\"markers\",\"name\":\"Feasible Trial\",\"showlegend\":false,\"x\":[128,128,128,64,128,128,32,64,64,64,32,32],\"y\":[0.3568786837272921,0.37715564662125356,0.44048073411556865,0.42565125145570576,0.2562076496246386,0.21769498901785297,0.2754041123491316,0.4598679209564908,0.4873027024980497,0.43966823165243996,0.3892263644877882,0.39518942324725165],\"type\":\"scatter\",\"xaxis\":\"x8\",\"yaxis\":\"y8\"},{\"colorbar\":{\"title\":{\"text\":\"Objective Value\"}},\"colorscale\":[[0.0,\"rgb(247,251,255)\"],[0.125,\"rgb(222,235,247)\"],[0.25,\"rgb(198,219,239)\"],[0.375,\"rgb(158,202,225)\"],[0.5,\"rgb(107,174,214)\"],[0.625,\"rgb(66,146,198)\"],[0.75,\"rgb(33,113,181)\"],[0.875,\"rgb(8,81,156)\"],[1.0,\"rgb(8,48,107)\"]],\"connectgaps\":true,\"contours\":{\"coloring\":\"heatmap\"},\"hoverinfo\":\"none\",\"line\":{\"smoothing\":1.3},\"reversescale\":false,\"showscale\":false,\"x\":[27.2,32,64,128,132.8],\"y\":[24.7,28,31,37,41,45,51,54,65,76,77,87,94,97.3],\"z\":[[null,null,null,null,null],[null,null,null,0.8475426435470581,null],[null,null,0.8485456109046936,null,null],[null,null,0.3039117455482483,null,null],[null,null,null,0.3299899697303772,null],[null,0.12838515639305115,null,null,null],[null,0.8776329159736633,null,null,null],[null,0.8214644193649292,null,null,null],[null,null,null,0.31594783067703247,null],[null,null,null,0.8104313015937805,null],[null,null,0.5486459136009216,null,null],[null,null,0.33299899101257324,null,null],[null,null,null,0.1624874621629715,null],[null,null,null,null,null]],\"type\":\"contour\",\"xaxis\":\"x15\",\"yaxis\":\"y15\"},{\"marker\":{\"color\":\"black\",\"line\":{\"color\":\"Gray\",\"width\":2.0}},\"mode\":\"markers\",\"name\":\"Feasible Trial\",\"showlegend\":false,\"x\":[128,128,128,64,128,128,32,64,64,64,32,32],\"y\":[65,41,76,31,94,28,45,77,87,37,51,54],\"type\":\"scatter\",\"xaxis\":\"x15\",\"yaxis\":\"y15\"},{\"colorbar\":{\"title\":{\"text\":\"Objective Value\"}},\"colorscale\":[[0.0,\"rgb(247,251,255)\"],[0.125,\"rgb(222,235,247)\"],[0.25,\"rgb(198,219,239)\"],[0.375,\"rgb(158,202,225)\"],[0.5,\"rgb(107,174,214)\"],[0.625,\"rgb(66,146,198)\"],[0.75,\"rgb(33,113,181)\"],[0.875,\"rgb(8,81,156)\"],[1.0,\"rgb(8,48,107)\"]],\"connectgaps\":true,\"contours\":{\"coloring\":\"heatmap\"},\"hoverinfo\":\"none\",\"line\":{\"smoothing\":1.3},\"reversescale\":false,\"showscale\":false,\"x\":[27.2,32,64,128,132.8],\"y\":[0.06371741731309635,0.06428271412790436,0.06934781894228761,0.07558865042406443,0.07615394723887244],\"z\":[[null,null,null,null,null],[null,null,null,0.3299899697303772,null],[null,null,0.3039117455482483,null,null],[null,0.12838515639305115,null,null,null],[null,null,null,null,null]],\"type\":\"contour\",\"xaxis\":\"x22\",\"yaxis\":\"y22\"},{\"marker\":{\"color\":\"black\",\"line\":{\"color\":\"Gray\",\"width\":2.0}},\"mode\":\"markers\",\"name\":\"Feasible Trial\",\"showlegend\":false,\"x\":[128,32,64],\"y\":[0.06428271412790436,0.07558865042406443,0.06934781894228761],\"type\":\"scatter\",\"xaxis\":\"x22\",\"yaxis\":\"y22\"},{\"colorbar\":{\"title\":{\"text\":\"Objective Value\"}},\"colorscale\":[[0.0,\"rgb(247,251,255)\"],[0.125,\"rgb(222,235,247)\"],[0.25,\"rgb(198,219,239)\"],[0.375,\"rgb(158,202,225)\"],[0.5,\"rgb(107,174,214)\"],[0.625,\"rgb(66,146,198)\"],[0.75,\"rgb(33,113,181)\"],[0.875,\"rgb(8,81,156)\"],[1.0,\"rgb(8,48,107)\"]],\"connectgaps\":true,\"contours\":{\"coloring\":\"heatmap\"},\"hoverinfo\":\"none\",\"line\":{\"smoothing\":1.3},\"reversescale\":false,\"showscale\":false,\"x\":[27.2,32,64,128,132.8],\"y\":[0.020184119554077416,0.02385847898861848,0.052856313273896074,0.08964888481179067,0.0973456676794398,0.10102002711398088],\"z\":[[null,null,null,null,null],[null,null,0.5486459136009216,null,null],[null,null,0.33299899101257324,null,null],[null,null,null,0.31594783067703247,null],[null,null,null,0.1624874621629715,null],[null,null,null,null,null]],\"type\":\"contour\",\"xaxis\":\"x29\",\"yaxis\":\"y29\"},{\"marker\":{\"color\":\"black\",\"line\":{\"color\":\"Gray\",\"width\":2.0}},\"mode\":\"markers\",\"name\":\"Feasible Trial\",\"showlegend\":false,\"x\":[128,128,64,64],\"y\":[0.08964888481179067,0.0973456676794398,0.02385847898861848,0.052856313273896074],\"type\":\"scatter\",\"xaxis\":\"x29\",\"yaxis\":\"y29\"},{\"colorbar\":{\"title\":{\"text\":\"Objective Value\"}},\"colorscale\":[[0.0,\"rgb(247,251,255)\"],[0.125,\"rgb(222,235,247)\"],[0.25,\"rgb(198,219,239)\"],[0.375,\"rgb(158,202,225)\"],[0.5,\"rgb(107,174,214)\"],[0.625,\"rgb(66,146,198)\"],[0.75,\"rgb(33,113,181)\"],[0.875,\"rgb(8,81,156)\"],[1.0,\"rgb(8,48,107)\"]],\"connectgaps\":true,\"contours\":{\"coloring\":\"heatmap\"},\"hoverinfo\":\"none\",\"line\":{\"smoothing\":1.3},\"reversescale\":false,\"showscale\":false,\"x\":[27.2,32,64,128,132.8],\"y\":[0.042601964673114265,0.04531450100143717,0.06474014431307697,0.09246386114864602,0.09933454589901237,0.09956522756789522,0.10227776389621812],\"z\":[[null,null,null,null,null],[null,null,null,0.8475426435470581,null],[null,null,null,0.8104313015937805,null],[null,null,0.8485456109046936,null,null],[null,0.8214644193649292,null,null,null],[null,0.8776329159736633,null,null,null],[null,null,null,null,null]],\"type\":\"contour\",\"xaxis\":\"x36\",\"yaxis\":\"y36\"},{\"marker\":{\"color\":\"black\",\"line\":{\"color\":\"Gray\",\"width\":2.0}},\"mode\":\"markers\",\"name\":\"Feasible Trial\",\"showlegend\":false,\"x\":[128,64,128,32,32],\"y\":[0.06474014431307697,0.09246386114864602,0.04531450100143717,0.09956522756789522,0.09933454589901237],\"type\":\"scatter\",\"xaxis\":\"x36\",\"yaxis\":\"y36\"},{\"colorbar\":{\"title\":{\"text\":\"Objective Value\"}},\"colorscale\":[[0.0,\"rgb(247,251,255)\"],[0.125,\"rgb(222,235,247)\"],[0.25,\"rgb(198,219,239)\"],[0.375,\"rgb(158,202,225)\"],[0.5,\"rgb(107,174,214)\"],[0.625,\"rgb(66,146,198)\"],[0.75,\"rgb(33,113,181)\"],[0.875,\"rgb(8,81,156)\"],[1.0,\"rgb(8,48,107)\"]],\"connectgaps\":true,\"contours\":{\"coloring\":\"heatmap\"},\"hoverinfo\":\"none\",\"line\":{\"smoothing\":1.3},\"reversescale\":false,\"showscale\":false,\"x\":[27.2,32,64,128,132.8],\"y\":[\"adam\",\"rmsprop\",\"sgd\"],\"z\":[[null,0.12838515639305115,0.3039117455482483,0.3299899697303772,null],[null,null,0.5486459136009216,0.31594783067703247,null],[null,0.8776329159736633,0.8485456109046936,0.8475426435470581,null]],\"type\":\"contour\",\"xaxis\":\"x43\",\"yaxis\":\"y43\"},{\"marker\":{\"color\":\"black\",\"line\":{\"color\":\"Gray\",\"width\":2.0}},\"mode\":\"markers\",\"name\":\"Feasible Trial\",\"showlegend\":false,\"x\":[128,128,128,64,128,128,32,64,64,64,32,32],\"y\":[\"rmsprop\",\"adam\",\"sgd\",\"sgd\",\"rmsprop\",\"sgd\",\"adam\",\"rmsprop\",\"rmsprop\",\"adam\",\"sgd\",\"sgd\"],\"type\":\"scatter\",\"xaxis\":\"x43\",\"yaxis\":\"y43\"},{\"colorbar\":{\"title\":{\"text\":\"Objective Value\"}},\"colorscale\":[[0.0,\"rgb(247,251,255)\"],[0.125,\"rgb(222,235,247)\"],[0.25,\"rgb(198,219,239)\"],[0.375,\"rgb(158,202,225)\"],[0.5,\"rgb(107,174,214)\"],[0.625,\"rgb(66,146,198)\"],[0.75,\"rgb(33,113,181)\"],[0.875,\"rgb(8,81,156)\"],[1.0,\"rgb(8,48,107)\"]],\"connectgaps\":true,\"contours\":{\"coloring\":\"heatmap\"},\"hoverinfo\":\"none\",\"line\":{\"smoothing\":1.3},\"reversescale\":false,\"showscale\":false,\"x\":[0.20421460334384314,0.21769498901785297,0.2562076496246386,0.2754041123491316,0.3568786837272921,0.37715564662125356,0.3892263644877882,0.39518942324725165,0.42565125145570576,0.43966823165243996,0.44048073411556865,0.4598679209564908,0.4873027024980497,0.5007830881720595],\"y\":[27.2,32,64,128,132.8],\"z\":[[null,null,null,null,null,null,null,null,null,null,null,null,null,null],[null,null,null,0.12838515639305115,null,null,0.8776329159736633,0.8214644193649292,null,null,null,null,null,null],[null,null,null,null,null,null,null,null,0.8485456109046936,0.3039117455482483,null,0.5486459136009216,0.33299899101257324,null],[null,0.8475426435470581,0.1624874621629715,null,0.31594783067703247,0.3299899697303772,null,null,null,null,0.8104313015937805,null,null,null],[null,null,null,null,null,null,null,null,null,null,null,null,null,null]],\"type\":\"contour\",\"xaxis\":\"x2\",\"yaxis\":\"y2\"},{\"marker\":{\"color\":\"black\",\"line\":{\"color\":\"Gray\",\"width\":2.0}},\"mode\":\"markers\",\"name\":\"Feasible Trial\",\"showlegend\":false,\"x\":[0.3568786837272921,0.37715564662125356,0.44048073411556865,0.42565125145570576,0.2562076496246386,0.21769498901785297,0.2754041123491316,0.4598679209564908,0.4873027024980497,0.43966823165243996,0.3892263644877882,0.39518942324725165],\"y\":[128,128,128,64,128,128,32,64,64,64,32,32],\"type\":\"scatter\",\"xaxis\":\"x2\",\"yaxis\":\"y2\"},{\"type\":\"scatter\",\"xaxis\":\"x9\",\"yaxis\":\"y9\"},{\"colorbar\":{\"title\":{\"text\":\"Objective Value\"}},\"colorscale\":[[0.0,\"rgb(247,251,255)\"],[0.125,\"rgb(222,235,247)\"],[0.25,\"rgb(198,219,239)\"],[0.375,\"rgb(158,202,225)\"],[0.5,\"rgb(107,174,214)\"],[0.625,\"rgb(66,146,198)\"],[0.75,\"rgb(33,113,181)\"],[0.875,\"rgb(8,81,156)\"],[1.0,\"rgb(8,48,107)\"]],\"connectgaps\":true,\"contours\":{\"coloring\":\"heatmap\"},\"hoverinfo\":\"none\",\"line\":{\"smoothing\":1.3},\"reversescale\":false,\"showscale\":false,\"x\":[0.20421460334384314,0.21769498901785297,0.2562076496246386,0.2754041123491316,0.3568786837272921,0.37715564662125356,0.3892263644877882,0.39518942324725165,0.42565125145570576,0.43966823165243996,0.44048073411556865,0.4598679209564908,0.4873027024980497,0.5007830881720595],\"y\":[24.7,28,31,37,41,45,51,54,65,76,77,87,94,97.3],\"z\":[[null,null,null,null,null,null,null,null,null,null,null,null,null,null],[null,0.8475426435470581,null,null,null,null,null,null,null,null,null,null,null,null],[null,null,null,null,null,null,null,null,0.8485456109046936,null,null,null,null,null],[null,null,null,null,null,null,null,null,null,0.3039117455482483,null,null,null,null],[null,null,null,null,null,0.3299899697303772,null,null,null,null,null,null,null,null],[null,null,null,0.12838515639305115,null,null,null,null,null,null,null,null,null,null],[null,null,null,null,null,null,0.8776329159736633,null,null,null,null,null,null,null],[null,null,null,null,null,null,null,0.8214644193649292,null,null,null,null,null,null],[null,null,null,null,0.31594783067703247,null,null,null,null,null,null,null,null,null],[null,null,null,null,null,null,null,null,null,null,0.8104313015937805,null,null,null],[null,null,null,null,null,null,null,null,null,null,null,0.5486459136009216,null,null],[null,null,null,null,null,null,null,null,null,null,null,null,0.33299899101257324,null],[null,null,0.1624874621629715,null,null,null,null,null,null,null,null,null,null,null],[null,null,null,null,null,null,null,null,null,null,null,null,null,null]],\"type\":\"contour\",\"xaxis\":\"x16\",\"yaxis\":\"y16\"},{\"marker\":{\"color\":\"black\",\"line\":{\"color\":\"Gray\",\"width\":2.0}},\"mode\":\"markers\",\"name\":\"Feasible Trial\",\"showlegend\":false,\"x\":[0.3568786837272921,0.37715564662125356,0.44048073411556865,0.42565125145570576,0.2562076496246386,0.21769498901785297,0.2754041123491316,0.4598679209564908,0.4873027024980497,0.43966823165243996,0.3892263644877882,0.39518942324725165],\"y\":[65,41,76,31,94,28,45,77,87,37,51,54],\"type\":\"scatter\",\"xaxis\":\"x16\",\"yaxis\":\"y16\"},{\"colorbar\":{\"title\":{\"text\":\"Objective Value\"}},\"colorscale\":[[0.0,\"rgb(247,251,255)\"],[0.125,\"rgb(222,235,247)\"],[0.25,\"rgb(198,219,239)\"],[0.375,\"rgb(158,202,225)\"],[0.5,\"rgb(107,174,214)\"],[0.625,\"rgb(66,146,198)\"],[0.75,\"rgb(33,113,181)\"],[0.875,\"rgb(8,81,156)\"],[1.0,\"rgb(8,48,107)\"]],\"connectgaps\":true,\"contours\":{\"coloring\":\"heatmap\"},\"hoverinfo\":\"none\",\"line\":{\"smoothing\":1.3},\"reversescale\":false,\"showscale\":false,\"x\":[0.20421460334384314,0.21769498901785297,0.2562076496246386,0.2754041123491316,0.3568786837272921,0.37715564662125356,0.3892263644877882,0.39518942324725165,0.42565125145570576,0.43966823165243996,0.44048073411556865,0.4598679209564908,0.4873027024980497,0.5007830881720595],\"y\":[0.06371741731309635,0.06428271412790436,0.06934781894228761,0.07558865042406443,0.07615394723887244],\"z\":[[null,null,null,null,null,null,null,null,null,null,null,null,null,null],[null,null,null,null,null,0.3299899697303772,null,null,null,null,null,null,null,null],[null,null,null,null,null,null,null,null,null,0.3039117455482483,null,null,null,null],[null,null,null,0.12838515639305115,null,null,null,null,null,null,null,null,null,null],[null,null,null,null,null,null,null,null,null,null,null,null,null,null]],\"type\":\"contour\",\"xaxis\":\"x23\",\"yaxis\":\"y23\"},{\"marker\":{\"color\":\"black\",\"line\":{\"color\":\"Gray\",\"width\":2.0}},\"mode\":\"markers\",\"name\":\"Feasible Trial\",\"showlegend\":false,\"x\":[0.37715564662125356,0.2754041123491316,0.43966823165243996],\"y\":[0.06428271412790436,0.07558865042406443,0.06934781894228761],\"type\":\"scatter\",\"xaxis\":\"x23\",\"yaxis\":\"y23\"},{\"colorbar\":{\"title\":{\"text\":\"Objective Value\"}},\"colorscale\":[[0.0,\"rgb(247,251,255)\"],[0.125,\"rgb(222,235,247)\"],[0.25,\"rgb(198,219,239)\"],[0.375,\"rgb(158,202,225)\"],[0.5,\"rgb(107,174,214)\"],[0.625,\"rgb(66,146,198)\"],[0.75,\"rgb(33,113,181)\"],[0.875,\"rgb(8,81,156)\"],[1.0,\"rgb(8,48,107)\"]],\"connectgaps\":true,\"contours\":{\"coloring\":\"heatmap\"},\"hoverinfo\":\"none\",\"line\":{\"smoothing\":1.3},\"reversescale\":false,\"showscale\":false,\"x\":[0.20421460334384314,0.21769498901785297,0.2562076496246386,0.2754041123491316,0.3568786837272921,0.37715564662125356,0.3892263644877882,0.39518942324725165,0.42565125145570576,0.43966823165243996,0.44048073411556865,0.4598679209564908,0.4873027024980497,0.5007830881720595],\"y\":[0.020184119554077416,0.02385847898861848,0.052856313273896074,0.08964888481179067,0.0973456676794398,0.10102002711398088],\"z\":[[null,null,null,null,null,null,null,null,null,null,null,null,null,null],[null,null,null,null,null,null,null,null,null,null,null,0.5486459136009216,null,null],[null,null,null,null,null,null,null,null,null,null,null,null,0.33299899101257324,null],[null,null,null,null,0.31594783067703247,null,null,null,null,null,null,null,null,null],[null,null,0.1624874621629715,null,null,null,null,null,null,null,null,null,null,null],[null,null,null,null,null,null,null,null,null,null,null,null,null,null]],\"type\":\"contour\",\"xaxis\":\"x30\",\"yaxis\":\"y30\"},{\"marker\":{\"color\":\"black\",\"line\":{\"color\":\"Gray\",\"width\":2.0}},\"mode\":\"markers\",\"name\":\"Feasible Trial\",\"showlegend\":false,\"x\":[0.3568786837272921,0.2562076496246386,0.4598679209564908,0.4873027024980497],\"y\":[0.08964888481179067,0.0973456676794398,0.02385847898861848,0.052856313273896074],\"type\":\"scatter\",\"xaxis\":\"x30\",\"yaxis\":\"y30\"},{\"colorbar\":{\"title\":{\"text\":\"Objective Value\"}},\"colorscale\":[[0.0,\"rgb(247,251,255)\"],[0.125,\"rgb(222,235,247)\"],[0.25,\"rgb(198,219,239)\"],[0.375,\"rgb(158,202,225)\"],[0.5,\"rgb(107,174,214)\"],[0.625,\"rgb(66,146,198)\"],[0.75,\"rgb(33,113,181)\"],[0.875,\"rgb(8,81,156)\"],[1.0,\"rgb(8,48,107)\"]],\"connectgaps\":true,\"contours\":{\"coloring\":\"heatmap\"},\"hoverinfo\":\"none\",\"line\":{\"smoothing\":1.3},\"reversescale\":false,\"showscale\":false,\"x\":[0.20421460334384314,0.21769498901785297,0.2562076496246386,0.2754041123491316,0.3568786837272921,0.37715564662125356,0.3892263644877882,0.39518942324725165,0.42565125145570576,0.43966823165243996,0.44048073411556865,0.4598679209564908,0.4873027024980497,0.5007830881720595],\"y\":[0.042601964673114265,0.04531450100143717,0.06474014431307697,0.09246386114864602,0.09933454589901237,0.09956522756789522,0.10227776389621812],\"z\":[[null,null,null,null,null,null,null,null,null,null,null,null,null,null],[null,0.8475426435470581,null,null,null,null,null,null,null,null,null,null,null,null],[null,null,null,null,null,null,null,null,null,null,0.8104313015937805,null,null,null],[null,null,null,null,null,null,null,null,0.8485456109046936,null,null,null,null,null],[null,null,null,null,null,null,null,0.8214644193649292,null,null,null,null,null,null],[null,null,null,null,null,null,0.8776329159736633,null,null,null,null,null,null,null],[null,null,null,null,null,null,null,null,null,null,null,null,null,null]],\"type\":\"contour\",\"xaxis\":\"x37\",\"yaxis\":\"y37\"},{\"marker\":{\"color\":\"black\",\"line\":{\"color\":\"Gray\",\"width\":2.0}},\"mode\":\"markers\",\"name\":\"Feasible Trial\",\"showlegend\":false,\"x\":[0.44048073411556865,0.42565125145570576,0.21769498901785297,0.3892263644877882,0.39518942324725165],\"y\":[0.06474014431307697,0.09246386114864602,0.04531450100143717,0.09956522756789522,0.09933454589901237],\"type\":\"scatter\",\"xaxis\":\"x37\",\"yaxis\":\"y37\"},{\"colorbar\":{\"title\":{\"text\":\"Objective Value\"}},\"colorscale\":[[0.0,\"rgb(247,251,255)\"],[0.125,\"rgb(222,235,247)\"],[0.25,\"rgb(198,219,239)\"],[0.375,\"rgb(158,202,225)\"],[0.5,\"rgb(107,174,214)\"],[0.625,\"rgb(66,146,198)\"],[0.75,\"rgb(33,113,181)\"],[0.875,\"rgb(8,81,156)\"],[1.0,\"rgb(8,48,107)\"]],\"connectgaps\":true,\"contours\":{\"coloring\":\"heatmap\"},\"hoverinfo\":\"none\",\"line\":{\"smoothing\":1.3},\"reversescale\":false,\"showscale\":false,\"x\":[0.20421460334384314,0.21769498901785297,0.2562076496246386,0.2754041123491316,0.3568786837272921,0.37715564662125356,0.3892263644877882,0.39518942324725165,0.42565125145570576,0.43966823165243996,0.44048073411556865,0.4598679209564908,0.4873027024980497,0.5007830881720595],\"y\":[\"adam\",\"rmsprop\",\"sgd\"],\"z\":[[null,null,null,0.12838515639305115,null,0.3299899697303772,null,null,null,0.3039117455482483,null,null,null,null],[null,null,0.1624874621629715,null,0.31594783067703247,null,null,null,null,null,null,0.5486459136009216,0.33299899101257324,null],[null,0.8475426435470581,null,null,null,null,0.8776329159736633,0.8214644193649292,0.8485456109046936,null,0.8104313015937805,null,null,null]],\"type\":\"contour\",\"xaxis\":\"x44\",\"yaxis\":\"y44\"},{\"marker\":{\"color\":\"black\",\"line\":{\"color\":\"Gray\",\"width\":2.0}},\"mode\":\"markers\",\"name\":\"Feasible Trial\",\"showlegend\":false,\"x\":[0.3568786837272921,0.37715564662125356,0.44048073411556865,0.42565125145570576,0.2562076496246386,0.21769498901785297,0.2754041123491316,0.4598679209564908,0.4873027024980497,0.43966823165243996,0.3892263644877882,0.39518942324725165],\"y\":[\"rmsprop\",\"adam\",\"sgd\",\"sgd\",\"rmsprop\",\"sgd\",\"adam\",\"rmsprop\",\"rmsprop\",\"adam\",\"sgd\",\"sgd\"],\"type\":\"scatter\",\"xaxis\":\"x44\",\"yaxis\":\"y44\"},{\"colorbar\":{\"title\":{\"text\":\"Objective Value\"}},\"colorscale\":[[0.0,\"rgb(247,251,255)\"],[0.125,\"rgb(222,235,247)\"],[0.25,\"rgb(198,219,239)\"],[0.375,\"rgb(158,202,225)\"],[0.5,\"rgb(107,174,214)\"],[0.625,\"rgb(66,146,198)\"],[0.75,\"rgb(33,113,181)\"],[0.875,\"rgb(8,81,156)\"],[1.0,\"rgb(8,48,107)\"]],\"connectgaps\":true,\"contours\":{\"coloring\":\"heatmap\"},\"hoverinfo\":\"none\",\"line\":{\"smoothing\":1.3},\"reversescale\":false,\"showscale\":false,\"x\":[24.7,28,31,37,41,45,51,54,65,76,77,87,94,97.3],\"y\":[27.2,32,64,128,132.8],\"z\":[[null,null,null,null,null,null,null,null,null,null,null,null,null,null],[null,null,null,null,null,0.12838515639305115,0.8776329159736633,0.8214644193649292,null,null,null,null,null,null],[null,null,0.8485456109046936,0.3039117455482483,null,null,null,null,null,null,0.5486459136009216,0.33299899101257324,null,null],[null,0.8475426435470581,null,null,0.3299899697303772,null,null,null,0.31594783067703247,0.8104313015937805,null,null,0.1624874621629715,null],[null,null,null,null,null,null,null,null,null,null,null,null,null,null]],\"type\":\"contour\",\"xaxis\":\"x3\",\"yaxis\":\"y3\"},{\"marker\":{\"color\":\"black\",\"line\":{\"color\":\"Gray\",\"width\":2.0}},\"mode\":\"markers\",\"name\":\"Feasible Trial\",\"showlegend\":false,\"x\":[65,41,76,31,94,28,45,77,87,37,51,54],\"y\":[128,128,128,64,128,128,32,64,64,64,32,32],\"type\":\"scatter\",\"xaxis\":\"x3\",\"yaxis\":\"y3\"},{\"colorbar\":{\"title\":{\"text\":\"Objective Value\"}},\"colorscale\":[[0.0,\"rgb(247,251,255)\"],[0.125,\"rgb(222,235,247)\"],[0.25,\"rgb(198,219,239)\"],[0.375,\"rgb(158,202,225)\"],[0.5,\"rgb(107,174,214)\"],[0.625,\"rgb(66,146,198)\"],[0.75,\"rgb(33,113,181)\"],[0.875,\"rgb(8,81,156)\"],[1.0,\"rgb(8,48,107)\"]],\"connectgaps\":true,\"contours\":{\"coloring\":\"heatmap\"},\"hoverinfo\":\"none\",\"line\":{\"smoothing\":1.3},\"reversescale\":false,\"showscale\":false,\"x\":[24.7,28,31,37,41,45,51,54,65,76,77,87,94,97.3],\"y\":[0.20421460334384314,0.21769498901785297,0.2562076496246386,0.2754041123491316,0.3568786837272921,0.37715564662125356,0.3892263644877882,0.39518942324725165,0.42565125145570576,0.43966823165243996,0.44048073411556865,0.4598679209564908,0.4873027024980497,0.5007830881720595],\"z\":[[null,null,null,null,null,null,null,null,null,null,null,null,null,null],[null,0.8475426435470581,null,null,null,null,null,null,null,null,null,null,null,null],[null,null,null,null,null,null,null,null,null,null,null,null,0.1624874621629715,null],[null,null,null,null,null,0.12838515639305115,null,null,null,null,null,null,null,null],[null,null,null,null,null,null,null,null,0.31594783067703247,null,null,null,null,null],[null,null,null,null,0.3299899697303772,null,null,null,null,null,null,null,null,null],[null,null,null,null,null,null,0.8776329159736633,null,null,null,null,null,null,null],[null,null,null,null,null,null,null,0.8214644193649292,null,null,null,null,null,null],[null,null,0.8485456109046936,null,null,null,null,null,null,null,null,null,null,null],[null,null,null,0.3039117455482483,null,null,null,null,null,null,null,null,null,null],[null,null,null,null,null,null,null,null,null,0.8104313015937805,null,null,null,null],[null,null,null,null,null,null,null,null,null,null,0.5486459136009216,null,null,null],[null,null,null,null,null,null,null,null,null,null,null,0.33299899101257324,null,null],[null,null,null,null,null,null,null,null,null,null,null,null,null,null]],\"type\":\"contour\",\"xaxis\":\"x10\",\"yaxis\":\"y10\"},{\"marker\":{\"color\":\"black\",\"line\":{\"color\":\"Gray\",\"width\":2.0}},\"mode\":\"markers\",\"name\":\"Feasible Trial\",\"showlegend\":false,\"x\":[65,41,76,31,94,28,45,77,87,37,51,54],\"y\":[0.3568786837272921,0.37715564662125356,0.44048073411556865,0.42565125145570576,0.2562076496246386,0.21769498901785297,0.2754041123491316,0.4598679209564908,0.4873027024980497,0.43966823165243996,0.3892263644877882,0.39518942324725165],\"type\":\"scatter\",\"xaxis\":\"x10\",\"yaxis\":\"y10\"},{\"type\":\"scatter\",\"xaxis\":\"x17\",\"yaxis\":\"y17\"},{\"colorbar\":{\"title\":{\"text\":\"Objective Value\"}},\"colorscale\":[[0.0,\"rgb(247,251,255)\"],[0.125,\"rgb(222,235,247)\"],[0.25,\"rgb(198,219,239)\"],[0.375,\"rgb(158,202,225)\"],[0.5,\"rgb(107,174,214)\"],[0.625,\"rgb(66,146,198)\"],[0.75,\"rgb(33,113,181)\"],[0.875,\"rgb(8,81,156)\"],[1.0,\"rgb(8,48,107)\"]],\"connectgaps\":true,\"contours\":{\"coloring\":\"heatmap\"},\"hoverinfo\":\"none\",\"line\":{\"smoothing\":1.3},\"reversescale\":false,\"showscale\":false,\"x\":[24.7,28,31,37,41,45,51,54,65,76,77,87,94,97.3],\"y\":[0.06371741731309635,0.06428271412790436,0.06934781894228761,0.07558865042406443,0.07615394723887244],\"z\":[[null,null,null,null,null,null,null,null,null,null,null,null,null,null],[null,null,null,null,0.3299899697303772,null,null,null,null,null,null,null,null,null],[null,null,null,0.3039117455482483,null,null,null,null,null,null,null,null,null,null],[null,null,null,null,null,0.12838515639305115,null,null,null,null,null,null,null,null],[null,null,null,null,null,null,null,null,null,null,null,null,null,null]],\"type\":\"contour\",\"xaxis\":\"x24\",\"yaxis\":\"y24\"},{\"marker\":{\"color\":\"black\",\"line\":{\"color\":\"Gray\",\"width\":2.0}},\"mode\":\"markers\",\"name\":\"Feasible Trial\",\"showlegend\":false,\"x\":[41,45,37],\"y\":[0.06428271412790436,0.07558865042406443,0.06934781894228761],\"type\":\"scatter\",\"xaxis\":\"x24\",\"yaxis\":\"y24\"},{\"colorbar\":{\"title\":{\"text\":\"Objective Value\"}},\"colorscale\":[[0.0,\"rgb(247,251,255)\"],[0.125,\"rgb(222,235,247)\"],[0.25,\"rgb(198,219,239)\"],[0.375,\"rgb(158,202,225)\"],[0.5,\"rgb(107,174,214)\"],[0.625,\"rgb(66,146,198)\"],[0.75,\"rgb(33,113,181)\"],[0.875,\"rgb(8,81,156)\"],[1.0,\"rgb(8,48,107)\"]],\"connectgaps\":true,\"contours\":{\"coloring\":\"heatmap\"},\"hoverinfo\":\"none\",\"line\":{\"smoothing\":1.3},\"reversescale\":false,\"showscale\":false,\"x\":[24.7,28,31,37,41,45,51,54,65,76,77,87,94,97.3],\"y\":[0.020184119554077416,0.02385847898861848,0.052856313273896074,0.08964888481179067,0.0973456676794398,0.10102002711398088],\"z\":[[null,null,null,null,null,null,null,null,null,null,null,null,null,null],[null,null,null,null,null,null,null,null,null,null,0.5486459136009216,null,null,null],[null,null,null,null,null,null,null,null,null,null,null,0.33299899101257324,null,null],[null,null,null,null,null,null,null,null,0.31594783067703247,null,null,null,null,null],[null,null,null,null,null,null,null,null,null,null,null,null,0.1624874621629715,null],[null,null,null,null,null,null,null,null,null,null,null,null,null,null]],\"type\":\"contour\",\"xaxis\":\"x31\",\"yaxis\":\"y31\"},{\"marker\":{\"color\":\"black\",\"line\":{\"color\":\"Gray\",\"width\":2.0}},\"mode\":\"markers\",\"name\":\"Feasible Trial\",\"showlegend\":false,\"x\":[65,94,77,87],\"y\":[0.08964888481179067,0.0973456676794398,0.02385847898861848,0.052856313273896074],\"type\":\"scatter\",\"xaxis\":\"x31\",\"yaxis\":\"y31\"},{\"colorbar\":{\"title\":{\"text\":\"Objective Value\"}},\"colorscale\":[[0.0,\"rgb(247,251,255)\"],[0.125,\"rgb(222,235,247)\"],[0.25,\"rgb(198,219,239)\"],[0.375,\"rgb(158,202,225)\"],[0.5,\"rgb(107,174,214)\"],[0.625,\"rgb(66,146,198)\"],[0.75,\"rgb(33,113,181)\"],[0.875,\"rgb(8,81,156)\"],[1.0,\"rgb(8,48,107)\"]],\"connectgaps\":true,\"contours\":{\"coloring\":\"heatmap\"},\"hoverinfo\":\"none\",\"line\":{\"smoothing\":1.3},\"reversescale\":false,\"showscale\":false,\"x\":[24.7,28,31,37,41,45,51,54,65,76,77,87,94,97.3],\"y\":[0.042601964673114265,0.04531450100143717,0.06474014431307697,0.09246386114864602,0.09933454589901237,0.09956522756789522,0.10227776389621812],\"z\":[[null,null,null,null,null,null,null,null,null,null,null,null,null,null],[null,0.8475426435470581,null,null,null,null,null,null,null,null,null,null,null,null],[null,null,null,null,null,null,null,null,null,0.8104313015937805,null,null,null,null],[null,null,0.8485456109046936,null,null,null,null,null,null,null,null,null,null,null],[null,null,null,null,null,null,null,0.8214644193649292,null,null,null,null,null,null],[null,null,null,null,null,null,0.8776329159736633,null,null,null,null,null,null,null],[null,null,null,null,null,null,null,null,null,null,null,null,null,null]],\"type\":\"contour\",\"xaxis\":\"x38\",\"yaxis\":\"y38\"},{\"marker\":{\"color\":\"black\",\"line\":{\"color\":\"Gray\",\"width\":2.0}},\"mode\":\"markers\",\"name\":\"Feasible Trial\",\"showlegend\":false,\"x\":[76,31,28,51,54],\"y\":[0.06474014431307697,0.09246386114864602,0.04531450100143717,0.09956522756789522,0.09933454589901237],\"type\":\"scatter\",\"xaxis\":\"x38\",\"yaxis\":\"y38\"},{\"colorbar\":{\"title\":{\"text\":\"Objective Value\"}},\"colorscale\":[[0.0,\"rgb(247,251,255)\"],[0.125,\"rgb(222,235,247)\"],[0.25,\"rgb(198,219,239)\"],[0.375,\"rgb(158,202,225)\"],[0.5,\"rgb(107,174,214)\"],[0.625,\"rgb(66,146,198)\"],[0.75,\"rgb(33,113,181)\"],[0.875,\"rgb(8,81,156)\"],[1.0,\"rgb(8,48,107)\"]],\"connectgaps\":true,\"contours\":{\"coloring\":\"heatmap\"},\"hoverinfo\":\"none\",\"line\":{\"smoothing\":1.3},\"reversescale\":false,\"showscale\":false,\"x\":[24.7,28,31,37,41,45,51,54,65,76,77,87,94,97.3],\"y\":[\"adam\",\"rmsprop\",\"sgd\"],\"z\":[[null,null,null,0.3039117455482483,0.3299899697303772,0.12838515639305115,null,null,null,null,null,null,null,null],[null,null,null,null,null,null,null,null,0.31594783067703247,null,0.5486459136009216,0.33299899101257324,0.1624874621629715,null],[null,0.8475426435470581,0.8485456109046936,null,null,null,0.8776329159736633,0.8214644193649292,null,0.8104313015937805,null,null,null,null]],\"type\":\"contour\",\"xaxis\":\"x45\",\"yaxis\":\"y45\"},{\"marker\":{\"color\":\"black\",\"line\":{\"color\":\"Gray\",\"width\":2.0}},\"mode\":\"markers\",\"name\":\"Feasible Trial\",\"showlegend\":false,\"x\":[65,41,76,31,94,28,45,77,87,37,51,54],\"y\":[\"rmsprop\",\"adam\",\"sgd\",\"sgd\",\"rmsprop\",\"sgd\",\"adam\",\"rmsprop\",\"rmsprop\",\"adam\",\"sgd\",\"sgd\"],\"type\":\"scatter\",\"xaxis\":\"x45\",\"yaxis\":\"y45\"},{\"colorbar\":{\"title\":{\"text\":\"Objective Value\"}},\"colorscale\":[[0.0,\"rgb(247,251,255)\"],[0.125,\"rgb(222,235,247)\"],[0.25,\"rgb(198,219,239)\"],[0.375,\"rgb(158,202,225)\"],[0.5,\"rgb(107,174,214)\"],[0.625,\"rgb(66,146,198)\"],[0.75,\"rgb(33,113,181)\"],[0.875,\"rgb(8,81,156)\"],[1.0,\"rgb(8,48,107)\"]],\"connectgaps\":true,\"contours\":{\"coloring\":\"heatmap\"},\"hoverinfo\":\"none\",\"line\":{\"smoothing\":1.3},\"reversescale\":false,\"showscale\":false,\"x\":[0.06371741731309635,0.06428271412790436,0.06934781894228761,0.07558865042406443,0.07615394723887244],\"y\":[27.2,32,64,128,132.8],\"z\":[[null,null,null,null,null],[null,null,null,0.12838515639305115,null],[null,null,0.3039117455482483,null,null],[null,0.3299899697303772,null,null,null],[null,null,null,null,null]],\"type\":\"contour\",\"xaxis\":\"x4\",\"yaxis\":\"y4\"},{\"marker\":{\"color\":\"black\",\"line\":{\"color\":\"Gray\",\"width\":2.0}},\"mode\":\"markers\",\"name\":\"Feasible Trial\",\"showlegend\":false,\"x\":[0.06428271412790436,0.07558865042406443,0.06934781894228761],\"y\":[128,32,64],\"type\":\"scatter\",\"xaxis\":\"x4\",\"yaxis\":\"y4\"},{\"colorbar\":{\"title\":{\"text\":\"Objective Value\"}},\"colorscale\":[[0.0,\"rgb(247,251,255)\"],[0.125,\"rgb(222,235,247)\"],[0.25,\"rgb(198,219,239)\"],[0.375,\"rgb(158,202,225)\"],[0.5,\"rgb(107,174,214)\"],[0.625,\"rgb(66,146,198)\"],[0.75,\"rgb(33,113,181)\"],[0.875,\"rgb(8,81,156)\"],[1.0,\"rgb(8,48,107)\"]],\"connectgaps\":true,\"contours\":{\"coloring\":\"heatmap\"},\"hoverinfo\":\"none\",\"line\":{\"smoothing\":1.3},\"reversescale\":false,\"showscale\":false,\"x\":[0.06371741731309635,0.06428271412790436,0.06934781894228761,0.07558865042406443,0.07615394723887244],\"y\":[0.20421460334384314,0.21769498901785297,0.2562076496246386,0.2754041123491316,0.3568786837272921,0.37715564662125356,0.3892263644877882,0.39518942324725165,0.42565125145570576,0.43966823165243996,0.44048073411556865,0.4598679209564908,0.4873027024980497,0.5007830881720595],\"z\":[[null,null,null,null,null],[null,null,null,null,null],[null,null,null,null,null],[null,null,null,0.12838515639305115,null],[null,null,null,null,null],[null,0.3299899697303772,null,null,null],[null,null,null,null,null],[null,null,null,null,null],[null,null,null,null,null],[null,null,0.3039117455482483,null,null],[null,null,null,null,null],[null,null,null,null,null],[null,null,null,null,null],[null,null,null,null,null]],\"type\":\"contour\",\"xaxis\":\"x11\",\"yaxis\":\"y11\"},{\"marker\":{\"color\":\"black\",\"line\":{\"color\":\"Gray\",\"width\":2.0}},\"mode\":\"markers\",\"name\":\"Feasible Trial\",\"showlegend\":false,\"x\":[0.06428271412790436,0.07558865042406443,0.06934781894228761],\"y\":[0.37715564662125356,0.2754041123491316,0.43966823165243996],\"type\":\"scatter\",\"xaxis\":\"x11\",\"yaxis\":\"y11\"},{\"colorbar\":{\"title\":{\"text\":\"Objective Value\"}},\"colorscale\":[[0.0,\"rgb(247,251,255)\"],[0.125,\"rgb(222,235,247)\"],[0.25,\"rgb(198,219,239)\"],[0.375,\"rgb(158,202,225)\"],[0.5,\"rgb(107,174,214)\"],[0.625,\"rgb(66,146,198)\"],[0.75,\"rgb(33,113,181)\"],[0.875,\"rgb(8,81,156)\"],[1.0,\"rgb(8,48,107)\"]],\"connectgaps\":true,\"contours\":{\"coloring\":\"heatmap\"},\"hoverinfo\":\"none\",\"line\":{\"smoothing\":1.3},\"reversescale\":false,\"showscale\":false,\"x\":[0.06371741731309635,0.06428271412790436,0.06934781894228761,0.07558865042406443,0.07615394723887244],\"y\":[24.7,28,31,37,41,45,51,54,65,76,77,87,94,97.3],\"z\":[[null,null,null,null,null],[null,null,null,null,null],[null,null,null,null,null],[null,null,0.3039117455482483,null,null],[null,0.3299899697303772,null,null,null],[null,null,null,0.12838515639305115,null],[null,null,null,null,null],[null,null,null,null,null],[null,null,null,null,null],[null,null,null,null,null],[null,null,null,null,null],[null,null,null,null,null],[null,null,null,null,null],[null,null,null,null,null]],\"type\":\"contour\",\"xaxis\":\"x18\",\"yaxis\":\"y18\"},{\"marker\":{\"color\":\"black\",\"line\":{\"color\":\"Gray\",\"width\":2.0}},\"mode\":\"markers\",\"name\":\"Feasible Trial\",\"showlegend\":false,\"x\":[0.06428271412790436,0.07558865042406443,0.06934781894228761],\"y\":[41,45,37],\"type\":\"scatter\",\"xaxis\":\"x18\",\"yaxis\":\"y18\"},{\"type\":\"scatter\",\"xaxis\":\"x25\",\"yaxis\":\"y25\"},{\"colorbar\":{\"title\":{\"text\":\"Objective Value\"}},\"colorscale\":[[0.0,\"rgb(247,251,255)\"],[0.125,\"rgb(222,235,247)\"],[0.25,\"rgb(198,219,239)\"],[0.375,\"rgb(158,202,225)\"],[0.5,\"rgb(107,174,214)\"],[0.625,\"rgb(66,146,198)\"],[0.75,\"rgb(33,113,181)\"],[0.875,\"rgb(8,81,156)\"],[1.0,\"rgb(8,48,107)\"]],\"connectgaps\":true,\"contours\":{\"coloring\":\"heatmap\"},\"hoverinfo\":\"none\",\"line\":{\"smoothing\":1.3},\"reversescale\":false,\"showscale\":false,\"x\":[0.06371741731309635,0.06428271412790436,0.06934781894228761,0.07558865042406443,0.07615394723887244],\"y\":[0.020184119554077416,0.02385847898861848,0.052856313273896074,0.08964888481179067,0.0973456676794398,0.10102002711398088],\"z\":[[null,null,null,null,null],[null,null,null,null,null],[null,null,null,null,null],[null,null,null,null,null],[null,null,null,null,null],[null,null,null,null,null]],\"type\":\"contour\",\"xaxis\":\"x32\",\"yaxis\":\"y32\"},{\"marker\":{\"color\":\"black\",\"line\":{\"color\":\"Gray\",\"width\":2.0}},\"mode\":\"markers\",\"name\":\"Feasible Trial\",\"showlegend\":false,\"x\":[],\"y\":[],\"type\":\"scatter\",\"xaxis\":\"x32\",\"yaxis\":\"y32\"},{\"colorbar\":{\"title\":{\"text\":\"Objective Value\"}},\"colorscale\":[[0.0,\"rgb(247,251,255)\"],[0.125,\"rgb(222,235,247)\"],[0.25,\"rgb(198,219,239)\"],[0.375,\"rgb(158,202,225)\"],[0.5,\"rgb(107,174,214)\"],[0.625,\"rgb(66,146,198)\"],[0.75,\"rgb(33,113,181)\"],[0.875,\"rgb(8,81,156)\"],[1.0,\"rgb(8,48,107)\"]],\"connectgaps\":true,\"contours\":{\"coloring\":\"heatmap\"},\"hoverinfo\":\"none\",\"line\":{\"smoothing\":1.3},\"reversescale\":false,\"showscale\":false,\"x\":[0.06371741731309635,0.06428271412790436,0.06934781894228761,0.07558865042406443,0.07615394723887244],\"y\":[0.042601964673114265,0.04531450100143717,0.06474014431307697,0.09246386114864602,0.09933454589901237,0.09956522756789522,0.10227776389621812],\"z\":[[null,null,null,null,null],[null,null,null,null,null],[null,null,null,null,null],[null,null,null,null,null],[null,null,null,null,null],[null,null,null,null,null],[null,null,null,null,null]],\"type\":\"contour\",\"xaxis\":\"x39\",\"yaxis\":\"y39\"},{\"marker\":{\"color\":\"black\",\"line\":{\"color\":\"Gray\",\"width\":2.0}},\"mode\":\"markers\",\"name\":\"Feasible Trial\",\"showlegend\":false,\"x\":[],\"y\":[],\"type\":\"scatter\",\"xaxis\":\"x39\",\"yaxis\":\"y39\"},{\"colorbar\":{\"title\":{\"text\":\"Objective Value\"}},\"colorscale\":[[0.0,\"rgb(247,251,255)\"],[0.125,\"rgb(222,235,247)\"],[0.25,\"rgb(198,219,239)\"],[0.375,\"rgb(158,202,225)\"],[0.5,\"rgb(107,174,214)\"],[0.625,\"rgb(66,146,198)\"],[0.75,\"rgb(33,113,181)\"],[0.875,\"rgb(8,81,156)\"],[1.0,\"rgb(8,48,107)\"]],\"connectgaps\":true,\"contours\":{\"coloring\":\"heatmap\"},\"hoverinfo\":\"none\",\"line\":{\"smoothing\":1.3},\"reversescale\":false,\"showscale\":false,\"x\":[0.06371741731309635,0.06428271412790436,0.06934781894228761,0.07558865042406443,0.07615394723887244],\"y\":[\"adam\",\"rmsprop\",\"sgd\"],\"z\":[[null,0.3299899697303772,0.3039117455482483,0.12838515639305115,null],[null,null,null,null,null],[null,null,null,null,null]],\"type\":\"contour\",\"xaxis\":\"x46\",\"yaxis\":\"y46\"},{\"marker\":{\"color\":\"black\",\"line\":{\"color\":\"Gray\",\"width\":2.0}},\"mode\":\"markers\",\"name\":\"Feasible Trial\",\"showlegend\":false,\"x\":[0.06428271412790436,0.07558865042406443,0.06934781894228761],\"y\":[\"adam\",\"adam\",\"adam\"],\"type\":\"scatter\",\"xaxis\":\"x46\",\"yaxis\":\"y46\"},{\"colorbar\":{\"title\":{\"text\":\"Objective Value\"}},\"colorscale\":[[0.0,\"rgb(247,251,255)\"],[0.125,\"rgb(222,235,247)\"],[0.25,\"rgb(198,219,239)\"],[0.375,\"rgb(158,202,225)\"],[0.5,\"rgb(107,174,214)\"],[0.625,\"rgb(66,146,198)\"],[0.75,\"rgb(33,113,181)\"],[0.875,\"rgb(8,81,156)\"],[1.0,\"rgb(8,48,107)\"]],\"connectgaps\":true,\"contours\":{\"coloring\":\"heatmap\"},\"hoverinfo\":\"none\",\"line\":{\"smoothing\":1.3},\"reversescale\":false,\"showscale\":false,\"x\":[0.020184119554077416,0.02385847898861848,0.052856313273896074,0.08964888481179067,0.0973456676794398,0.10102002711398088],\"y\":[27.2,32,64,128,132.8],\"z\":[[null,null,null,null,null,null],[null,null,null,null,null,null],[null,0.5486459136009216,0.33299899101257324,null,null,null],[null,null,null,0.31594783067703247,0.1624874621629715,null],[null,null,null,null,null,null]],\"type\":\"contour\",\"xaxis\":\"x5\",\"yaxis\":\"y5\"},{\"marker\":{\"color\":\"black\",\"line\":{\"color\":\"Gray\",\"width\":2.0}},\"mode\":\"markers\",\"name\":\"Feasible Trial\",\"showlegend\":false,\"x\":[0.08964888481179067,0.0973456676794398,0.02385847898861848,0.052856313273896074],\"y\":[128,128,64,64],\"type\":\"scatter\",\"xaxis\":\"x5\",\"yaxis\":\"y5\"},{\"colorbar\":{\"title\":{\"text\":\"Objective Value\"}},\"colorscale\":[[0.0,\"rgb(247,251,255)\"],[0.125,\"rgb(222,235,247)\"],[0.25,\"rgb(198,219,239)\"],[0.375,\"rgb(158,202,225)\"],[0.5,\"rgb(107,174,214)\"],[0.625,\"rgb(66,146,198)\"],[0.75,\"rgb(33,113,181)\"],[0.875,\"rgb(8,81,156)\"],[1.0,\"rgb(8,48,107)\"]],\"connectgaps\":true,\"contours\":{\"coloring\":\"heatmap\"},\"hoverinfo\":\"none\",\"line\":{\"smoothing\":1.3},\"reversescale\":false,\"showscale\":false,\"x\":[0.020184119554077416,0.02385847898861848,0.052856313273896074,0.08964888481179067,0.0973456676794398,0.10102002711398088],\"y\":[0.20421460334384314,0.21769498901785297,0.2562076496246386,0.2754041123491316,0.3568786837272921,0.37715564662125356,0.3892263644877882,0.39518942324725165,0.42565125145570576,0.43966823165243996,0.44048073411556865,0.4598679209564908,0.4873027024980497,0.5007830881720595],\"z\":[[null,null,null,null,null,null],[null,null,null,null,null,null],[null,null,null,null,0.1624874621629715,null],[null,null,null,null,null,null],[null,null,null,0.31594783067703247,null,null],[null,null,null,null,null,null],[null,null,null,null,null,null],[null,null,null,null,null,null],[null,null,null,null,null,null],[null,null,null,null,null,null],[null,null,null,null,null,null],[null,0.5486459136009216,null,null,null,null],[null,null,0.33299899101257324,null,null,null],[null,null,null,null,null,null]],\"type\":\"contour\",\"xaxis\":\"x12\",\"yaxis\":\"y12\"},{\"marker\":{\"color\":\"black\",\"line\":{\"color\":\"Gray\",\"width\":2.0}},\"mode\":\"markers\",\"name\":\"Feasible Trial\",\"showlegend\":false,\"x\":[0.08964888481179067,0.0973456676794398,0.02385847898861848,0.052856313273896074],\"y\":[0.3568786837272921,0.2562076496246386,0.4598679209564908,0.4873027024980497],\"type\":\"scatter\",\"xaxis\":\"x12\",\"yaxis\":\"y12\"},{\"colorbar\":{\"title\":{\"text\":\"Objective Value\"}},\"colorscale\":[[0.0,\"rgb(247,251,255)\"],[0.125,\"rgb(222,235,247)\"],[0.25,\"rgb(198,219,239)\"],[0.375,\"rgb(158,202,225)\"],[0.5,\"rgb(107,174,214)\"],[0.625,\"rgb(66,146,198)\"],[0.75,\"rgb(33,113,181)\"],[0.875,\"rgb(8,81,156)\"],[1.0,\"rgb(8,48,107)\"]],\"connectgaps\":true,\"contours\":{\"coloring\":\"heatmap\"},\"hoverinfo\":\"none\",\"line\":{\"smoothing\":1.3},\"reversescale\":false,\"showscale\":false,\"x\":[0.020184119554077416,0.02385847898861848,0.052856313273896074,0.08964888481179067,0.0973456676794398,0.10102002711398088],\"y\":[24.7,28,31,37,41,45,51,54,65,76,77,87,94,97.3],\"z\":[[null,null,null,null,null,null],[null,null,null,null,null,null],[null,null,null,null,null,null],[null,null,null,null,null,null],[null,null,null,null,null,null],[null,null,null,null,null,null],[null,null,null,null,null,null],[null,null,null,null,null,null],[null,null,null,0.31594783067703247,null,null],[null,null,null,null,null,null],[null,0.5486459136009216,null,null,null,null],[null,null,0.33299899101257324,null,null,null],[null,null,null,null,0.1624874621629715,null],[null,null,null,null,null,null]],\"type\":\"contour\",\"xaxis\":\"x19\",\"yaxis\":\"y19\"},{\"marker\":{\"color\":\"black\",\"line\":{\"color\":\"Gray\",\"width\":2.0}},\"mode\":\"markers\",\"name\":\"Feasible Trial\",\"showlegend\":false,\"x\":[0.08964888481179067,0.0973456676794398,0.02385847898861848,0.052856313273896074],\"y\":[65,94,77,87],\"type\":\"scatter\",\"xaxis\":\"x19\",\"yaxis\":\"y19\"},{\"colorbar\":{\"title\":{\"text\":\"Objective Value\"}},\"colorscale\":[[0.0,\"rgb(247,251,255)\"],[0.125,\"rgb(222,235,247)\"],[0.25,\"rgb(198,219,239)\"],[0.375,\"rgb(158,202,225)\"],[0.5,\"rgb(107,174,214)\"],[0.625,\"rgb(66,146,198)\"],[0.75,\"rgb(33,113,181)\"],[0.875,\"rgb(8,81,156)\"],[1.0,\"rgb(8,48,107)\"]],\"connectgaps\":true,\"contours\":{\"coloring\":\"heatmap\"},\"hoverinfo\":\"none\",\"line\":{\"smoothing\":1.3},\"reversescale\":false,\"showscale\":false,\"x\":[0.020184119554077416,0.02385847898861848,0.052856313273896074,0.08964888481179067,0.0973456676794398,0.10102002711398088],\"y\":[0.06371741731309635,0.06428271412790436,0.06934781894228761,0.07558865042406443,0.07615394723887244],\"z\":[[null,null,null,null,null,null],[null,null,null,null,null,null],[null,null,null,null,null,null],[null,null,null,null,null,null],[null,null,null,null,null,null]],\"type\":\"contour\",\"xaxis\":\"x26\",\"yaxis\":\"y26\"},{\"marker\":{\"color\":\"black\",\"line\":{\"color\":\"Gray\",\"width\":2.0}},\"mode\":\"markers\",\"name\":\"Feasible Trial\",\"showlegend\":false,\"x\":[],\"y\":[],\"type\":\"scatter\",\"xaxis\":\"x26\",\"yaxis\":\"y26\"},{\"type\":\"scatter\",\"xaxis\":\"x33\",\"yaxis\":\"y33\"},{\"colorbar\":{\"title\":{\"text\":\"Objective Value\"}},\"colorscale\":[[0.0,\"rgb(247,251,255)\"],[0.125,\"rgb(222,235,247)\"],[0.25,\"rgb(198,219,239)\"],[0.375,\"rgb(158,202,225)\"],[0.5,\"rgb(107,174,214)\"],[0.625,\"rgb(66,146,198)\"],[0.75,\"rgb(33,113,181)\"],[0.875,\"rgb(8,81,156)\"],[1.0,\"rgb(8,48,107)\"]],\"connectgaps\":true,\"contours\":{\"coloring\":\"heatmap\"},\"hoverinfo\":\"none\",\"line\":{\"smoothing\":1.3},\"reversescale\":false,\"showscale\":false,\"x\":[0.020184119554077416,0.02385847898861848,0.052856313273896074,0.08964888481179067,0.0973456676794398,0.10102002711398088],\"y\":[0.042601964673114265,0.04531450100143717,0.06474014431307697,0.09246386114864602,0.09933454589901237,0.09956522756789522,0.10227776389621812],\"z\":[[null,null,null,null,null,null],[null,null,null,null,null,null],[null,null,null,null,null,null],[null,null,null,null,null,null],[null,null,null,null,null,null],[null,null,null,null,null,null],[null,null,null,null,null,null]],\"type\":\"contour\",\"xaxis\":\"x40\",\"yaxis\":\"y40\"},{\"marker\":{\"color\":\"black\",\"line\":{\"color\":\"Gray\",\"width\":2.0}},\"mode\":\"markers\",\"name\":\"Feasible Trial\",\"showlegend\":false,\"x\":[],\"y\":[],\"type\":\"scatter\",\"xaxis\":\"x40\",\"yaxis\":\"y40\"},{\"colorbar\":{\"title\":{\"text\":\"Objective Value\"}},\"colorscale\":[[0.0,\"rgb(247,251,255)\"],[0.125,\"rgb(222,235,247)\"],[0.25,\"rgb(198,219,239)\"],[0.375,\"rgb(158,202,225)\"],[0.5,\"rgb(107,174,214)\"],[0.625,\"rgb(66,146,198)\"],[0.75,\"rgb(33,113,181)\"],[0.875,\"rgb(8,81,156)\"],[1.0,\"rgb(8,48,107)\"]],\"connectgaps\":true,\"contours\":{\"coloring\":\"heatmap\"},\"hoverinfo\":\"none\",\"line\":{\"smoothing\":1.3},\"reversescale\":false,\"showscale\":false,\"x\":[0.020184119554077416,0.02385847898861848,0.052856313273896074,0.08964888481179067,0.0973456676794398,0.10102002711398088],\"y\":[\"adam\",\"rmsprop\",\"sgd\"],\"z\":[[null,null,null,null,null,null],[null,0.5486459136009216,0.33299899101257324,0.31594783067703247,0.1624874621629715,null],[null,null,null,null,null,null]],\"type\":\"contour\",\"xaxis\":\"x47\",\"yaxis\":\"y47\"},{\"marker\":{\"color\":\"black\",\"line\":{\"color\":\"Gray\",\"width\":2.0}},\"mode\":\"markers\",\"name\":\"Feasible Trial\",\"showlegend\":false,\"x\":[0.08964888481179067,0.0973456676794398,0.02385847898861848,0.052856313273896074],\"y\":[\"rmsprop\",\"rmsprop\",\"rmsprop\",\"rmsprop\"],\"type\":\"scatter\",\"xaxis\":\"x47\",\"yaxis\":\"y47\"},{\"colorbar\":{\"title\":{\"text\":\"Objective Value\"}},\"colorscale\":[[0.0,\"rgb(247,251,255)\"],[0.125,\"rgb(222,235,247)\"],[0.25,\"rgb(198,219,239)\"],[0.375,\"rgb(158,202,225)\"],[0.5,\"rgb(107,174,214)\"],[0.625,\"rgb(66,146,198)\"],[0.75,\"rgb(33,113,181)\"],[0.875,\"rgb(8,81,156)\"],[1.0,\"rgb(8,48,107)\"]],\"connectgaps\":true,\"contours\":{\"coloring\":\"heatmap\"},\"hoverinfo\":\"none\",\"line\":{\"smoothing\":1.3},\"reversescale\":false,\"showscale\":false,\"x\":[0.042601964673114265,0.04531450100143717,0.06474014431307697,0.09246386114864602,0.09933454589901237,0.09956522756789522,0.10227776389621812],\"y\":[27.2,32,64,128,132.8],\"z\":[[null,null,null,null,null,null,null],[null,null,null,null,0.8214644193649292,0.8776329159736633,null],[null,null,null,0.8485456109046936,null,null,null],[null,0.8475426435470581,0.8104313015937805,null,null,null,null],[null,null,null,null,null,null,null]],\"type\":\"contour\",\"xaxis\":\"x6\",\"yaxis\":\"y6\"},{\"marker\":{\"color\":\"black\",\"line\":{\"color\":\"Gray\",\"width\":2.0}},\"mode\":\"markers\",\"name\":\"Feasible Trial\",\"showlegend\":false,\"x\":[0.06474014431307697,0.09246386114864602,0.04531450100143717,0.09956522756789522,0.09933454589901237],\"y\":[128,64,128,32,32],\"type\":\"scatter\",\"xaxis\":\"x6\",\"yaxis\":\"y6\"},{\"colorbar\":{\"title\":{\"text\":\"Objective Value\"}},\"colorscale\":[[0.0,\"rgb(247,251,255)\"],[0.125,\"rgb(222,235,247)\"],[0.25,\"rgb(198,219,239)\"],[0.375,\"rgb(158,202,225)\"],[0.5,\"rgb(107,174,214)\"],[0.625,\"rgb(66,146,198)\"],[0.75,\"rgb(33,113,181)\"],[0.875,\"rgb(8,81,156)\"],[1.0,\"rgb(8,48,107)\"]],\"connectgaps\":true,\"contours\":{\"coloring\":\"heatmap\"},\"hoverinfo\":\"none\",\"line\":{\"smoothing\":1.3},\"reversescale\":false,\"showscale\":false,\"x\":[0.042601964673114265,0.04531450100143717,0.06474014431307697,0.09246386114864602,0.09933454589901237,0.09956522756789522,0.10227776389621812],\"y\":[0.20421460334384314,0.21769498901785297,0.2562076496246386,0.2754041123491316,0.3568786837272921,0.37715564662125356,0.3892263644877882,0.39518942324725165,0.42565125145570576,0.43966823165243996,0.44048073411556865,0.4598679209564908,0.4873027024980497,0.5007830881720595],\"z\":[[null,null,null,null,null,null,null],[null,0.8475426435470581,null,null,null,null,null],[null,null,null,null,null,null,null],[null,null,null,null,null,null,null],[null,null,null,null,null,null,null],[null,null,null,null,null,null,null],[null,null,null,null,null,0.8776329159736633,null],[null,null,null,null,0.8214644193649292,null,null],[null,null,null,0.8485456109046936,null,null,null],[null,null,null,null,null,null,null],[null,null,0.8104313015937805,null,null,null,null],[null,null,null,null,null,null,null],[null,null,null,null,null,null,null],[null,null,null,null,null,null,null]],\"type\":\"contour\",\"xaxis\":\"x13\",\"yaxis\":\"y13\"},{\"marker\":{\"color\":\"black\",\"line\":{\"color\":\"Gray\",\"width\":2.0}},\"mode\":\"markers\",\"name\":\"Feasible Trial\",\"showlegend\":false,\"x\":[0.06474014431307697,0.09246386114864602,0.04531450100143717,0.09956522756789522,0.09933454589901237],\"y\":[0.44048073411556865,0.42565125145570576,0.21769498901785297,0.3892263644877882,0.39518942324725165],\"type\":\"scatter\",\"xaxis\":\"x13\",\"yaxis\":\"y13\"},{\"colorbar\":{\"title\":{\"text\":\"Objective Value\"}},\"colorscale\":[[0.0,\"rgb(247,251,255)\"],[0.125,\"rgb(222,235,247)\"],[0.25,\"rgb(198,219,239)\"],[0.375,\"rgb(158,202,225)\"],[0.5,\"rgb(107,174,214)\"],[0.625,\"rgb(66,146,198)\"],[0.75,\"rgb(33,113,181)\"],[0.875,\"rgb(8,81,156)\"],[1.0,\"rgb(8,48,107)\"]],\"connectgaps\":true,\"contours\":{\"coloring\":\"heatmap\"},\"hoverinfo\":\"none\",\"line\":{\"smoothing\":1.3},\"reversescale\":false,\"showscale\":false,\"x\":[0.042601964673114265,0.04531450100143717,0.06474014431307697,0.09246386114864602,0.09933454589901237,0.09956522756789522,0.10227776389621812],\"y\":[24.7,28,31,37,41,45,51,54,65,76,77,87,94,97.3],\"z\":[[null,null,null,null,null,null,null],[null,0.8475426435470581,null,null,null,null,null],[null,null,null,0.8485456109046936,null,null,null],[null,null,null,null,null,null,null],[null,null,null,null,null,null,null],[null,null,null,null,null,null,null],[null,null,null,null,null,0.8776329159736633,null],[null,null,null,null,0.8214644193649292,null,null],[null,null,null,null,null,null,null],[null,null,0.8104313015937805,null,null,null,null],[null,null,null,null,null,null,null],[null,null,null,null,null,null,null],[null,null,null,null,null,null,null],[null,null,null,null,null,null,null]],\"type\":\"contour\",\"xaxis\":\"x20\",\"yaxis\":\"y20\"},{\"marker\":{\"color\":\"black\",\"line\":{\"color\":\"Gray\",\"width\":2.0}},\"mode\":\"markers\",\"name\":\"Feasible Trial\",\"showlegend\":false,\"x\":[0.06474014431307697,0.09246386114864602,0.04531450100143717,0.09956522756789522,0.09933454589901237],\"y\":[76,31,28,51,54],\"type\":\"scatter\",\"xaxis\":\"x20\",\"yaxis\":\"y20\"},{\"colorbar\":{\"title\":{\"text\":\"Objective Value\"}},\"colorscale\":[[0.0,\"rgb(247,251,255)\"],[0.125,\"rgb(222,235,247)\"],[0.25,\"rgb(198,219,239)\"],[0.375,\"rgb(158,202,225)\"],[0.5,\"rgb(107,174,214)\"],[0.625,\"rgb(66,146,198)\"],[0.75,\"rgb(33,113,181)\"],[0.875,\"rgb(8,81,156)\"],[1.0,\"rgb(8,48,107)\"]],\"connectgaps\":true,\"contours\":{\"coloring\":\"heatmap\"},\"hoverinfo\":\"none\",\"line\":{\"smoothing\":1.3},\"reversescale\":false,\"showscale\":false,\"x\":[0.042601964673114265,0.04531450100143717,0.06474014431307697,0.09246386114864602,0.09933454589901237,0.09956522756789522,0.10227776389621812],\"y\":[0.06371741731309635,0.06428271412790436,0.06934781894228761,0.07558865042406443,0.07615394723887244],\"z\":[[null,null,null,null,null,null,null],[null,null,null,null,null,null,null],[null,null,null,null,null,null,null],[null,null,null,null,null,null,null],[null,null,null,null,null,null,null]],\"type\":\"contour\",\"xaxis\":\"x27\",\"yaxis\":\"y27\"},{\"marker\":{\"color\":\"black\",\"line\":{\"color\":\"Gray\",\"width\":2.0}},\"mode\":\"markers\",\"name\":\"Feasible Trial\",\"showlegend\":false,\"x\":[],\"y\":[],\"type\":\"scatter\",\"xaxis\":\"x27\",\"yaxis\":\"y27\"},{\"colorbar\":{\"title\":{\"text\":\"Objective Value\"}},\"colorscale\":[[0.0,\"rgb(247,251,255)\"],[0.125,\"rgb(222,235,247)\"],[0.25,\"rgb(198,219,239)\"],[0.375,\"rgb(158,202,225)\"],[0.5,\"rgb(107,174,214)\"],[0.625,\"rgb(66,146,198)\"],[0.75,\"rgb(33,113,181)\"],[0.875,\"rgb(8,81,156)\"],[1.0,\"rgb(8,48,107)\"]],\"connectgaps\":true,\"contours\":{\"coloring\":\"heatmap\"},\"hoverinfo\":\"none\",\"line\":{\"smoothing\":1.3},\"reversescale\":false,\"showscale\":false,\"x\":[0.042601964673114265,0.04531450100143717,0.06474014431307697,0.09246386114864602,0.09933454589901237,0.09956522756789522,0.10227776389621812],\"y\":[0.020184119554077416,0.02385847898861848,0.052856313273896074,0.08964888481179067,0.0973456676794398,0.10102002711398088],\"z\":[[null,null,null,null,null,null,null],[null,null,null,null,null,null,null],[null,null,null,null,null,null,null],[null,null,null,null,null,null,null],[null,null,null,null,null,null,null],[null,null,null,null,null,null,null]],\"type\":\"contour\",\"xaxis\":\"x34\",\"yaxis\":\"y34\"},{\"marker\":{\"color\":\"black\",\"line\":{\"color\":\"Gray\",\"width\":2.0}},\"mode\":\"markers\",\"name\":\"Feasible Trial\",\"showlegend\":false,\"x\":[],\"y\":[],\"type\":\"scatter\",\"xaxis\":\"x34\",\"yaxis\":\"y34\"},{\"type\":\"scatter\",\"xaxis\":\"x41\",\"yaxis\":\"y41\"},{\"colorbar\":{\"title\":{\"text\":\"Objective Value\"}},\"colorscale\":[[0.0,\"rgb(247,251,255)\"],[0.125,\"rgb(222,235,247)\"],[0.25,\"rgb(198,219,239)\"],[0.375,\"rgb(158,202,225)\"],[0.5,\"rgb(107,174,214)\"],[0.625,\"rgb(66,146,198)\"],[0.75,\"rgb(33,113,181)\"],[0.875,\"rgb(8,81,156)\"],[1.0,\"rgb(8,48,107)\"]],\"connectgaps\":true,\"contours\":{\"coloring\":\"heatmap\"},\"hoverinfo\":\"none\",\"line\":{\"smoothing\":1.3},\"reversescale\":false,\"showscale\":false,\"x\":[0.042601964673114265,0.04531450100143717,0.06474014431307697,0.09246386114864602,0.09933454589901237,0.09956522756789522,0.10227776389621812],\"y\":[\"adam\",\"rmsprop\",\"sgd\"],\"z\":[[null,null,null,null,null,null,null],[null,null,null,null,null,null,null],[null,0.8475426435470581,0.8104313015937805,0.8485456109046936,0.8214644193649292,0.8776329159736633,null]],\"type\":\"contour\",\"xaxis\":\"x48\",\"yaxis\":\"y48\"},{\"marker\":{\"color\":\"black\",\"line\":{\"color\":\"Gray\",\"width\":2.0}},\"mode\":\"markers\",\"name\":\"Feasible Trial\",\"showlegend\":false,\"x\":[0.06474014431307697,0.09246386114864602,0.04531450100143717,0.09956522756789522,0.09933454589901237],\"y\":[\"sgd\",\"sgd\",\"sgd\",\"sgd\",\"sgd\"],\"type\":\"scatter\",\"xaxis\":\"x48\",\"yaxis\":\"y48\"},{\"colorbar\":{\"title\":{\"text\":\"Objective Value\"}},\"colorscale\":[[0.0,\"rgb(247,251,255)\"],[0.125,\"rgb(222,235,247)\"],[0.25,\"rgb(198,219,239)\"],[0.375,\"rgb(158,202,225)\"],[0.5,\"rgb(107,174,214)\"],[0.625,\"rgb(66,146,198)\"],[0.75,\"rgb(33,113,181)\"],[0.875,\"rgb(8,81,156)\"],[1.0,\"rgb(8,48,107)\"]],\"connectgaps\":true,\"contours\":{\"coloring\":\"heatmap\"},\"hoverinfo\":\"none\",\"line\":{\"smoothing\":1.3},\"reversescale\":false,\"showscale\":false,\"x\":[\"adam\",\"rmsprop\",\"sgd\"],\"y\":[27.2,32,64,128,132.8],\"z\":[[null,null,null],[0.12838515639305115,null,0.8776329159736633],[0.3039117455482483,0.5486459136009216,0.8485456109046936],[0.3299899697303772,0.31594783067703247,0.8475426435470581],[null,null,null]],\"type\":\"contour\",\"xaxis\":\"x7\",\"yaxis\":\"y7\"},{\"marker\":{\"color\":\"black\",\"line\":{\"color\":\"Gray\",\"width\":2.0}},\"mode\":\"markers\",\"name\":\"Feasible Trial\",\"showlegend\":false,\"x\":[\"rmsprop\",\"adam\",\"sgd\",\"sgd\",\"rmsprop\",\"sgd\",\"adam\",\"rmsprop\",\"rmsprop\",\"adam\",\"sgd\",\"sgd\"],\"y\":[128,128,128,64,128,128,32,64,64,64,32,32],\"type\":\"scatter\",\"xaxis\":\"x7\",\"yaxis\":\"y7\"},{\"colorbar\":{\"title\":{\"text\":\"Objective Value\"}},\"colorscale\":[[0.0,\"rgb(247,251,255)\"],[0.125,\"rgb(222,235,247)\"],[0.25,\"rgb(198,219,239)\"],[0.375,\"rgb(158,202,225)\"],[0.5,\"rgb(107,174,214)\"],[0.625,\"rgb(66,146,198)\"],[0.75,\"rgb(33,113,181)\"],[0.875,\"rgb(8,81,156)\"],[1.0,\"rgb(8,48,107)\"]],\"connectgaps\":true,\"contours\":{\"coloring\":\"heatmap\"},\"hoverinfo\":\"none\",\"line\":{\"smoothing\":1.3},\"reversescale\":false,\"showscale\":false,\"x\":[\"adam\",\"rmsprop\",\"sgd\"],\"y\":[0.20421460334384314,0.21769498901785297,0.2562076496246386,0.2754041123491316,0.3568786837272921,0.37715564662125356,0.3892263644877882,0.39518942324725165,0.42565125145570576,0.43966823165243996,0.44048073411556865,0.4598679209564908,0.4873027024980497,0.5007830881720595],\"z\":[[null,null,null],[null,null,0.8475426435470581],[null,0.1624874621629715,null],[0.12838515639305115,null,null],[null,0.31594783067703247,null],[0.3299899697303772,null,null],[null,null,0.8776329159736633],[null,null,0.8214644193649292],[null,null,0.8485456109046936],[0.3039117455482483,null,null],[null,null,0.8104313015937805],[null,0.5486459136009216,null],[null,0.33299899101257324,null],[null,null,null]],\"type\":\"contour\",\"xaxis\":\"x14\",\"yaxis\":\"y14\"},{\"marker\":{\"color\":\"black\",\"line\":{\"color\":\"Gray\",\"width\":2.0}},\"mode\":\"markers\",\"name\":\"Feasible Trial\",\"showlegend\":false,\"x\":[\"rmsprop\",\"adam\",\"sgd\",\"sgd\",\"rmsprop\",\"sgd\",\"adam\",\"rmsprop\",\"rmsprop\",\"adam\",\"sgd\",\"sgd\"],\"y\":[0.3568786837272921,0.37715564662125356,0.44048073411556865,0.42565125145570576,0.2562076496246386,0.21769498901785297,0.2754041123491316,0.4598679209564908,0.4873027024980497,0.43966823165243996,0.3892263644877882,0.39518942324725165],\"type\":\"scatter\",\"xaxis\":\"x14\",\"yaxis\":\"y14\"},{\"colorbar\":{\"title\":{\"text\":\"Objective Value\"}},\"colorscale\":[[0.0,\"rgb(247,251,255)\"],[0.125,\"rgb(222,235,247)\"],[0.25,\"rgb(198,219,239)\"],[0.375,\"rgb(158,202,225)\"],[0.5,\"rgb(107,174,214)\"],[0.625,\"rgb(66,146,198)\"],[0.75,\"rgb(33,113,181)\"],[0.875,\"rgb(8,81,156)\"],[1.0,\"rgb(8,48,107)\"]],\"connectgaps\":true,\"contours\":{\"coloring\":\"heatmap\"},\"hoverinfo\":\"none\",\"line\":{\"smoothing\":1.3},\"reversescale\":false,\"showscale\":false,\"x\":[\"adam\",\"rmsprop\",\"sgd\"],\"y\":[24.7,28,31,37,41,45,51,54,65,76,77,87,94,97.3],\"z\":[[null,null,null],[null,null,0.8475426435470581],[null,null,0.8485456109046936],[0.3039117455482483,null,null],[0.3299899697303772,null,null],[0.12838515639305115,null,null],[null,null,0.8776329159736633],[null,null,0.8214644193649292],[null,0.31594783067703247,null],[null,null,0.8104313015937805],[null,0.5486459136009216,null],[null,0.33299899101257324,null],[null,0.1624874621629715,null],[null,null,null]],\"type\":\"contour\",\"xaxis\":\"x21\",\"yaxis\":\"y21\"},{\"marker\":{\"color\":\"black\",\"line\":{\"color\":\"Gray\",\"width\":2.0}},\"mode\":\"markers\",\"name\":\"Feasible Trial\",\"showlegend\":false,\"x\":[\"rmsprop\",\"adam\",\"sgd\",\"sgd\",\"rmsprop\",\"sgd\",\"adam\",\"rmsprop\",\"rmsprop\",\"adam\",\"sgd\",\"sgd\"],\"y\":[65,41,76,31,94,28,45,77,87,37,51,54],\"type\":\"scatter\",\"xaxis\":\"x21\",\"yaxis\":\"y21\"},{\"colorbar\":{\"title\":{\"text\":\"Objective Value\"}},\"colorscale\":[[0.0,\"rgb(247,251,255)\"],[0.125,\"rgb(222,235,247)\"],[0.25,\"rgb(198,219,239)\"],[0.375,\"rgb(158,202,225)\"],[0.5,\"rgb(107,174,214)\"],[0.625,\"rgb(66,146,198)\"],[0.75,\"rgb(33,113,181)\"],[0.875,\"rgb(8,81,156)\"],[1.0,\"rgb(8,48,107)\"]],\"connectgaps\":true,\"contours\":{\"coloring\":\"heatmap\"},\"hoverinfo\":\"none\",\"line\":{\"smoothing\":1.3},\"reversescale\":false,\"showscale\":false,\"x\":[\"adam\",\"rmsprop\",\"sgd\"],\"y\":[0.06371741731309635,0.06428271412790436,0.06934781894228761,0.07558865042406443,0.07615394723887244],\"z\":[[null,null,null],[0.3299899697303772,null,null],[0.3039117455482483,null,null],[0.12838515639305115,null,null],[null,null,null]],\"type\":\"contour\",\"xaxis\":\"x28\",\"yaxis\":\"y28\"},{\"marker\":{\"color\":\"black\",\"line\":{\"color\":\"Gray\",\"width\":2.0}},\"mode\":\"markers\",\"name\":\"Feasible Trial\",\"showlegend\":false,\"x\":[\"adam\",\"adam\",\"adam\"],\"y\":[0.06428271412790436,0.07558865042406443,0.06934781894228761],\"type\":\"scatter\",\"xaxis\":\"x28\",\"yaxis\":\"y28\"},{\"colorbar\":{\"title\":{\"text\":\"Objective Value\"}},\"colorscale\":[[0.0,\"rgb(247,251,255)\"],[0.125,\"rgb(222,235,247)\"],[0.25,\"rgb(198,219,239)\"],[0.375,\"rgb(158,202,225)\"],[0.5,\"rgb(107,174,214)\"],[0.625,\"rgb(66,146,198)\"],[0.75,\"rgb(33,113,181)\"],[0.875,\"rgb(8,81,156)\"],[1.0,\"rgb(8,48,107)\"]],\"connectgaps\":true,\"contours\":{\"coloring\":\"heatmap\"},\"hoverinfo\":\"none\",\"line\":{\"smoothing\":1.3},\"reversescale\":false,\"showscale\":false,\"x\":[\"adam\",\"rmsprop\",\"sgd\"],\"y\":[0.020184119554077416,0.02385847898861848,0.052856313273896074,0.08964888481179067,0.0973456676794398,0.10102002711398088],\"z\":[[null,null,null],[null,0.5486459136009216,null],[null,0.33299899101257324,null],[null,0.31594783067703247,null],[null,0.1624874621629715,null],[null,null,null]],\"type\":\"contour\",\"xaxis\":\"x35\",\"yaxis\":\"y35\"},{\"marker\":{\"color\":\"black\",\"line\":{\"color\":\"Gray\",\"width\":2.0}},\"mode\":\"markers\",\"name\":\"Feasible Trial\",\"showlegend\":false,\"x\":[\"rmsprop\",\"rmsprop\",\"rmsprop\",\"rmsprop\"],\"y\":[0.08964888481179067,0.0973456676794398,0.02385847898861848,0.052856313273896074],\"type\":\"scatter\",\"xaxis\":\"x35\",\"yaxis\":\"y35\"},{\"colorbar\":{\"title\":{\"text\":\"Objective Value\"}},\"colorscale\":[[0.0,\"rgb(247,251,255)\"],[0.125,\"rgb(222,235,247)\"],[0.25,\"rgb(198,219,239)\"],[0.375,\"rgb(158,202,225)\"],[0.5,\"rgb(107,174,214)\"],[0.625,\"rgb(66,146,198)\"],[0.75,\"rgb(33,113,181)\"],[0.875,\"rgb(8,81,156)\"],[1.0,\"rgb(8,48,107)\"]],\"connectgaps\":true,\"contours\":{\"coloring\":\"heatmap\"},\"hoverinfo\":\"none\",\"line\":{\"smoothing\":1.3},\"reversescale\":false,\"showscale\":false,\"x\":[\"adam\",\"rmsprop\",\"sgd\"],\"y\":[0.042601964673114265,0.04531450100143717,0.06474014431307697,0.09246386114864602,0.09933454589901237,0.09956522756789522,0.10227776389621812],\"z\":[[null,null,null],[null,null,0.8475426435470581],[null,null,0.8104313015937805],[null,null,0.8485456109046936],[null,null,0.8214644193649292],[null,null,0.8776329159736633],[null,null,null]],\"type\":\"contour\",\"xaxis\":\"x42\",\"yaxis\":\"y42\"},{\"marker\":{\"color\":\"black\",\"line\":{\"color\":\"Gray\",\"width\":2.0}},\"mode\":\"markers\",\"name\":\"Feasible Trial\",\"showlegend\":false,\"x\":[\"sgd\",\"sgd\",\"sgd\",\"sgd\",\"sgd\"],\"y\":[0.06474014431307697,0.09246386114864602,0.04531450100143717,0.09956522756789522,0.09933454589901237],\"type\":\"scatter\",\"xaxis\":\"x42\",\"yaxis\":\"y42\"},{\"type\":\"scatter\",\"xaxis\":\"x49\",\"yaxis\":\"y49\"}],                        {\"template\":{\"data\":{\"histogram2dcontour\":[{\"type\":\"histogram2dcontour\",\"colorbar\":{\"outlinewidth\":0,\"ticks\":\"\"},\"colorscale\":[[0.0,\"#0d0887\"],[0.1111111111111111,\"#46039f\"],[0.2222222222222222,\"#7201a8\"],[0.3333333333333333,\"#9c179e\"],[0.4444444444444444,\"#bd3786\"],[0.5555555555555556,\"#d8576b\"],[0.6666666666666666,\"#ed7953\"],[0.7777777777777778,\"#fb9f3a\"],[0.8888888888888888,\"#fdca26\"],[1.0,\"#f0f921\"]]}],\"choropleth\":[{\"type\":\"choropleth\",\"colorbar\":{\"outlinewidth\":0,\"ticks\":\"\"}}],\"histogram2d\":[{\"type\":\"histogram2d\",\"colorbar\":{\"outlinewidth\":0,\"ticks\":\"\"},\"colorscale\":[[0.0,\"#0d0887\"],[0.1111111111111111,\"#46039f\"],[0.2222222222222222,\"#7201a8\"],[0.3333333333333333,\"#9c179e\"],[0.4444444444444444,\"#bd3786\"],[0.5555555555555556,\"#d8576b\"],[0.6666666666666666,\"#ed7953\"],[0.7777777777777778,\"#fb9f3a\"],[0.8888888888888888,\"#fdca26\"],[1.0,\"#f0f921\"]]}],\"heatmap\":[{\"type\":\"heatmap\",\"colorbar\":{\"outlinewidth\":0,\"ticks\":\"\"},\"colorscale\":[[0.0,\"#0d0887\"],[0.1111111111111111,\"#46039f\"],[0.2222222222222222,\"#7201a8\"],[0.3333333333333333,\"#9c179e\"],[0.4444444444444444,\"#bd3786\"],[0.5555555555555556,\"#d8576b\"],[0.6666666666666666,\"#ed7953\"],[0.7777777777777778,\"#fb9f3a\"],[0.8888888888888888,\"#fdca26\"],[1.0,\"#f0f921\"]]}],\"heatmapgl\":[{\"type\":\"heatmapgl\",\"colorbar\":{\"outlinewidth\":0,\"ticks\":\"\"},\"colorscale\":[[0.0,\"#0d0887\"],[0.1111111111111111,\"#46039f\"],[0.2222222222222222,\"#7201a8\"],[0.3333333333333333,\"#9c179e\"],[0.4444444444444444,\"#bd3786\"],[0.5555555555555556,\"#d8576b\"],[0.6666666666666666,\"#ed7953\"],[0.7777777777777778,\"#fb9f3a\"],[0.8888888888888888,\"#fdca26\"],[1.0,\"#f0f921\"]]}],\"contourcarpet\":[{\"type\":\"contourcarpet\",\"colorbar\":{\"outlinewidth\":0,\"ticks\":\"\"}}],\"contour\":[{\"type\":\"contour\",\"colorbar\":{\"outlinewidth\":0,\"ticks\":\"\"},\"colorscale\":[[0.0,\"#0d0887\"],[0.1111111111111111,\"#46039f\"],[0.2222222222222222,\"#7201a8\"],[0.3333333333333333,\"#9c179e\"],[0.4444444444444444,\"#bd3786\"],[0.5555555555555556,\"#d8576b\"],[0.6666666666666666,\"#ed7953\"],[0.7777777777777778,\"#fb9f3a\"],[0.8888888888888888,\"#fdca26\"],[1.0,\"#f0f921\"]]}],\"surface\":[{\"type\":\"surface\",\"colorbar\":{\"outlinewidth\":0,\"ticks\":\"\"},\"colorscale\":[[0.0,\"#0d0887\"],[0.1111111111111111,\"#46039f\"],[0.2222222222222222,\"#7201a8\"],[0.3333333333333333,\"#9c179e\"],[0.4444444444444444,\"#bd3786\"],[0.5555555555555556,\"#d8576b\"],[0.6666666666666666,\"#ed7953\"],[0.7777777777777778,\"#fb9f3a\"],[0.8888888888888888,\"#fdca26\"],[1.0,\"#f0f921\"]]}],\"mesh3d\":[{\"type\":\"mesh3d\",\"colorbar\":{\"outlinewidth\":0,\"ticks\":\"\"}}],\"scatter\":[{\"fillpattern\":{\"fillmode\":\"overlay\",\"size\":10,\"solidity\":0.2},\"type\":\"scatter\"}],\"parcoords\":[{\"type\":\"parcoords\",\"line\":{\"colorbar\":{\"outlinewidth\":0,\"ticks\":\"\"}}}],\"scatterpolargl\":[{\"type\":\"scatterpolargl\",\"marker\":{\"colorbar\":{\"outlinewidth\":0,\"ticks\":\"\"}}}],\"bar\":[{\"error_x\":{\"color\":\"#2a3f5f\"},\"error_y\":{\"color\":\"#2a3f5f\"},\"marker\":{\"line\":{\"color\":\"#E5ECF6\",\"width\":0.5},\"pattern\":{\"fillmode\":\"overlay\",\"size\":10,\"solidity\":0.2}},\"type\":\"bar\"}],\"scattergeo\":[{\"type\":\"scattergeo\",\"marker\":{\"colorbar\":{\"outlinewidth\":0,\"ticks\":\"\"}}}],\"scatterpolar\":[{\"type\":\"scatterpolar\",\"marker\":{\"colorbar\":{\"outlinewidth\":0,\"ticks\":\"\"}}}],\"histogram\":[{\"marker\":{\"pattern\":{\"fillmode\":\"overlay\",\"size\":10,\"solidity\":0.2}},\"type\":\"histogram\"}],\"scattergl\":[{\"type\":\"scattergl\",\"marker\":{\"colorbar\":{\"outlinewidth\":0,\"ticks\":\"\"}}}],\"scatter3d\":[{\"type\":\"scatter3d\",\"line\":{\"colorbar\":{\"outlinewidth\":0,\"ticks\":\"\"}},\"marker\":{\"colorbar\":{\"outlinewidth\":0,\"ticks\":\"\"}}}],\"scattermapbox\":[{\"type\":\"scattermapbox\",\"marker\":{\"colorbar\":{\"outlinewidth\":0,\"ticks\":\"\"}}}],\"scatterternary\":[{\"type\":\"scatterternary\",\"marker\":{\"colorbar\":{\"outlinewidth\":0,\"ticks\":\"\"}}}],\"scattercarpet\":[{\"type\":\"scattercarpet\",\"marker\":{\"colorbar\":{\"outlinewidth\":0,\"ticks\":\"\"}}}],\"carpet\":[{\"aaxis\":{\"endlinecolor\":\"#2a3f5f\",\"gridcolor\":\"white\",\"linecolor\":\"white\",\"minorgridcolor\":\"white\",\"startlinecolor\":\"#2a3f5f\"},\"baxis\":{\"endlinecolor\":\"#2a3f5f\",\"gridcolor\":\"white\",\"linecolor\":\"white\",\"minorgridcolor\":\"white\",\"startlinecolor\":\"#2a3f5f\"},\"type\":\"carpet\"}],\"table\":[{\"cells\":{\"fill\":{\"color\":\"#EBF0F8\"},\"line\":{\"color\":\"white\"}},\"header\":{\"fill\":{\"color\":\"#C8D4E3\"},\"line\":{\"color\":\"white\"}},\"type\":\"table\"}],\"barpolar\":[{\"marker\":{\"line\":{\"color\":\"#E5ECF6\",\"width\":0.5},\"pattern\":{\"fillmode\":\"overlay\",\"size\":10,\"solidity\":0.2}},\"type\":\"barpolar\"}],\"pie\":[{\"automargin\":true,\"type\":\"pie\"}]},\"layout\":{\"autotypenumbers\":\"strict\",\"colorway\":[\"#636efa\",\"#EF553B\",\"#00cc96\",\"#ab63fa\",\"#FFA15A\",\"#19d3f3\",\"#FF6692\",\"#B6E880\",\"#FF97FF\",\"#FECB52\"],\"font\":{\"color\":\"#2a3f5f\"},\"hovermode\":\"closest\",\"hoverlabel\":{\"align\":\"left\"},\"paper_bgcolor\":\"white\",\"plot_bgcolor\":\"#E5ECF6\",\"polar\":{\"bgcolor\":\"#E5ECF6\",\"angularaxis\":{\"gridcolor\":\"white\",\"linecolor\":\"white\",\"ticks\":\"\"},\"radialaxis\":{\"gridcolor\":\"white\",\"linecolor\":\"white\",\"ticks\":\"\"}},\"ternary\":{\"bgcolor\":\"#E5ECF6\",\"aaxis\":{\"gridcolor\":\"white\",\"linecolor\":\"white\",\"ticks\":\"\"},\"baxis\":{\"gridcolor\":\"white\",\"linecolor\":\"white\",\"ticks\":\"\"},\"caxis\":{\"gridcolor\":\"white\",\"linecolor\":\"white\",\"ticks\":\"\"}},\"coloraxis\":{\"colorbar\":{\"outlinewidth\":0,\"ticks\":\"\"}},\"colorscale\":{\"sequential\":[[0.0,\"#0d0887\"],[0.1111111111111111,\"#46039f\"],[0.2222222222222222,\"#7201a8\"],[0.3333333333333333,\"#9c179e\"],[0.4444444444444444,\"#bd3786\"],[0.5555555555555556,\"#d8576b\"],[0.6666666666666666,\"#ed7953\"],[0.7777777777777778,\"#fb9f3a\"],[0.8888888888888888,\"#fdca26\"],[1.0,\"#f0f921\"]],\"sequentialminus\":[[0.0,\"#0d0887\"],[0.1111111111111111,\"#46039f\"],[0.2222222222222222,\"#7201a8\"],[0.3333333333333333,\"#9c179e\"],[0.4444444444444444,\"#bd3786\"],[0.5555555555555556,\"#d8576b\"],[0.6666666666666666,\"#ed7953\"],[0.7777777777777778,\"#fb9f3a\"],[0.8888888888888888,\"#fdca26\"],[1.0,\"#f0f921\"]],\"diverging\":[[0,\"#8e0152\"],[0.1,\"#c51b7d\"],[0.2,\"#de77ae\"],[0.3,\"#f1b6da\"],[0.4,\"#fde0ef\"],[0.5,\"#f7f7f7\"],[0.6,\"#e6f5d0\"],[0.7,\"#b8e186\"],[0.8,\"#7fbc41\"],[0.9,\"#4d9221\"],[1,\"#276419\"]]},\"xaxis\":{\"gridcolor\":\"white\",\"linecolor\":\"white\",\"ticks\":\"\",\"title\":{\"standoff\":15},\"zerolinecolor\":\"white\",\"automargin\":true,\"zerolinewidth\":2},\"yaxis\":{\"gridcolor\":\"white\",\"linecolor\":\"white\",\"ticks\":\"\",\"title\":{\"standoff\":15},\"zerolinecolor\":\"white\",\"automargin\":true,\"zerolinewidth\":2},\"scene\":{\"xaxis\":{\"backgroundcolor\":\"#E5ECF6\",\"gridcolor\":\"white\",\"linecolor\":\"white\",\"showbackground\":true,\"ticks\":\"\",\"zerolinecolor\":\"white\",\"gridwidth\":2},\"yaxis\":{\"backgroundcolor\":\"#E5ECF6\",\"gridcolor\":\"white\",\"linecolor\":\"white\",\"showbackground\":true,\"ticks\":\"\",\"zerolinecolor\":\"white\",\"gridwidth\":2},\"zaxis\":{\"backgroundcolor\":\"#E5ECF6\",\"gridcolor\":\"white\",\"linecolor\":\"white\",\"showbackground\":true,\"ticks\":\"\",\"zerolinecolor\":\"white\",\"gridwidth\":2}},\"shapedefaults\":{\"line\":{\"color\":\"#2a3f5f\"}},\"annotationdefaults\":{\"arrowcolor\":\"#2a3f5f\",\"arrowhead\":0,\"arrowwidth\":1},\"geo\":{\"bgcolor\":\"white\",\"landcolor\":\"#E5ECF6\",\"subunitcolor\":\"white\",\"showland\":true,\"showlakes\":true,\"lakecolor\":\"white\"},\"title\":{\"x\":0.05},\"mapbox\":{\"style\":\"light\"}}},\"xaxis\":{\"anchor\":\"y\",\"domain\":[0.0,0.1183673469387755],\"matches\":\"x43\",\"showticklabels\":false,\"range\":[27.2,132.8]},\"yaxis\":{\"anchor\":\"x\",\"domain\":[0.8938775510204082,1.0],\"range\":[27.2,132.8],\"title\":{\"text\":\"batch_size\"}},\"xaxis2\":{\"anchor\":\"y2\",\"domain\":[0.14693877551020407,0.26530612244897955],\"matches\":\"x44\",\"showticklabels\":false,\"range\":[0.20421460334384314,0.5007830881720595]},\"yaxis2\":{\"anchor\":\"x2\",\"domain\":[0.8938775510204082,1.0],\"matches\":\"y\",\"showticklabels\":false,\"range\":[27.2,132.8]},\"xaxis3\":{\"anchor\":\"y3\",\"domain\":[0.29387755102040813,0.4122448979591836],\"matches\":\"x45\",\"showticklabels\":false,\"range\":[24.7,97.3]},\"yaxis3\":{\"anchor\":\"x3\",\"domain\":[0.8938775510204082,1.0],\"matches\":\"y\",\"showticklabels\":false,\"range\":[27.2,132.8]},\"xaxis4\":{\"anchor\":\"y4\",\"domain\":[0.4408163265306122,0.5591836734693877],\"matches\":\"x46\",\"showticklabels\":false,\"range\":[0.06371741731309635,0.07615394723887244]},\"yaxis4\":{\"anchor\":\"x4\",\"domain\":[0.8938775510204082,1.0],\"matches\":\"y\",\"showticklabels\":false,\"range\":[27.2,132.8]},\"xaxis5\":{\"anchor\":\"y5\",\"domain\":[0.5877551020408163,0.7061224489795918],\"matches\":\"x47\",\"showticklabels\":false,\"range\":[0.020184119554077416,0.10102002711398088]},\"yaxis5\":{\"anchor\":\"x5\",\"domain\":[0.8938775510204082,1.0],\"matches\":\"y\",\"showticklabels\":false,\"range\":[27.2,132.8]},\"xaxis6\":{\"anchor\":\"y6\",\"domain\":[0.7346938775510204,0.8530612244897959],\"matches\":\"x48\",\"showticklabels\":false,\"range\":[0.042601964673114265,0.10227776389621812]},\"yaxis6\":{\"anchor\":\"x6\",\"domain\":[0.8938775510204082,1.0],\"matches\":\"y\",\"showticklabels\":false,\"range\":[27.2,132.8]},\"xaxis7\":{\"anchor\":\"y7\",\"domain\":[0.8816326530612244,0.9999999999999999],\"matches\":\"x49\",\"showticklabels\":false,\"range\":[-0.1,2.1],\"type\":\"category\"},\"yaxis7\":{\"anchor\":\"x7\",\"domain\":[0.8938775510204082,1.0],\"matches\":\"y\",\"showticklabels\":false,\"range\":[27.2,132.8]},\"xaxis8\":{\"anchor\":\"y8\",\"domain\":[0.0,0.1183673469387755],\"matches\":\"x43\",\"showticklabels\":false,\"range\":[27.2,132.8]},\"yaxis8\":{\"anchor\":\"x8\",\"domain\":[0.7448979591836735,0.8510204081632654],\"range\":[0.20421460334384314,0.5007830881720595],\"title\":{\"text\":\"dropout_rate\"}},\"xaxis9\":{\"anchor\":\"y9\",\"domain\":[0.14693877551020407,0.26530612244897955],\"matches\":\"x44\",\"showticklabels\":false,\"range\":[0.20421460334384314,0.5007830881720595]},\"yaxis9\":{\"anchor\":\"x9\",\"domain\":[0.7448979591836735,0.8510204081632654],\"matches\":\"y8\",\"showticklabels\":false,\"range\":[0.20421460334384314,0.5007830881720595]},\"xaxis10\":{\"anchor\":\"y10\",\"domain\":[0.29387755102040813,0.4122448979591836],\"matches\":\"x45\",\"showticklabels\":false,\"range\":[24.7,97.3]},\"yaxis10\":{\"anchor\":\"x10\",\"domain\":[0.7448979591836735,0.8510204081632654],\"matches\":\"y8\",\"showticklabels\":false,\"range\":[0.20421460334384314,0.5007830881720595]},\"xaxis11\":{\"anchor\":\"y11\",\"domain\":[0.4408163265306122,0.5591836734693877],\"matches\":\"x46\",\"showticklabels\":false,\"range\":[0.06371741731309635,0.07615394723887244]},\"yaxis11\":{\"anchor\":\"x11\",\"domain\":[0.7448979591836735,0.8510204081632654],\"matches\":\"y8\",\"showticklabels\":false,\"range\":[0.20421460334384314,0.5007830881720595]},\"xaxis12\":{\"anchor\":\"y12\",\"domain\":[0.5877551020408163,0.7061224489795918],\"matches\":\"x47\",\"showticklabels\":false,\"range\":[0.020184119554077416,0.10102002711398088]},\"yaxis12\":{\"anchor\":\"x12\",\"domain\":[0.7448979591836735,0.8510204081632654],\"matches\":\"y8\",\"showticklabels\":false,\"range\":[0.20421460334384314,0.5007830881720595]},\"xaxis13\":{\"anchor\":\"y13\",\"domain\":[0.7346938775510204,0.8530612244897959],\"matches\":\"x48\",\"showticklabels\":false,\"range\":[0.042601964673114265,0.10227776389621812]},\"yaxis13\":{\"anchor\":\"x13\",\"domain\":[0.7448979591836735,0.8510204081632654],\"matches\":\"y8\",\"showticklabels\":false,\"range\":[0.20421460334384314,0.5007830881720595]},\"xaxis14\":{\"anchor\":\"y14\",\"domain\":[0.8816326530612244,0.9999999999999999],\"matches\":\"x49\",\"showticklabels\":false,\"range\":[-0.1,2.1],\"type\":\"category\"},\"yaxis14\":{\"anchor\":\"x14\",\"domain\":[0.7448979591836735,0.8510204081632654],\"matches\":\"y8\",\"showticklabels\":false,\"range\":[0.20421460334384314,0.5007830881720595]},\"xaxis15\":{\"anchor\":\"y15\",\"domain\":[0.0,0.1183673469387755],\"matches\":\"x43\",\"showticklabels\":false,\"range\":[27.2,132.8]},\"yaxis15\":{\"anchor\":\"x15\",\"domain\":[0.5959183673469388,0.7020408163265307],\"range\":[24.7,97.3],\"title\":{\"text\":\"epochs\"}},\"xaxis16\":{\"anchor\":\"y16\",\"domain\":[0.14693877551020407,0.26530612244897955],\"matches\":\"x44\",\"showticklabels\":false,\"range\":[0.20421460334384314,0.5007830881720595]},\"yaxis16\":{\"anchor\":\"x16\",\"domain\":[0.5959183673469388,0.7020408163265307],\"matches\":\"y15\",\"showticklabels\":false,\"range\":[24.7,97.3]},\"xaxis17\":{\"anchor\":\"y17\",\"domain\":[0.29387755102040813,0.4122448979591836],\"matches\":\"x45\",\"showticklabels\":false,\"range\":[24.7,97.3]},\"yaxis17\":{\"anchor\":\"x17\",\"domain\":[0.5959183673469388,0.7020408163265307],\"matches\":\"y15\",\"showticklabels\":false,\"range\":[24.7,97.3]},\"xaxis18\":{\"anchor\":\"y18\",\"domain\":[0.4408163265306122,0.5591836734693877],\"matches\":\"x46\",\"showticklabels\":false,\"range\":[0.06371741731309635,0.07615394723887244]},\"yaxis18\":{\"anchor\":\"x18\",\"domain\":[0.5959183673469388,0.7020408163265307],\"matches\":\"y15\",\"showticklabels\":false,\"range\":[24.7,97.3]},\"xaxis19\":{\"anchor\":\"y19\",\"domain\":[0.5877551020408163,0.7061224489795918],\"matches\":\"x47\",\"showticklabels\":false,\"range\":[0.020184119554077416,0.10102002711398088]},\"yaxis19\":{\"anchor\":\"x19\",\"domain\":[0.5959183673469388,0.7020408163265307],\"matches\":\"y15\",\"showticklabels\":false,\"range\":[24.7,97.3]},\"xaxis20\":{\"anchor\":\"y20\",\"domain\":[0.7346938775510204,0.8530612244897959],\"matches\":\"x48\",\"showticklabels\":false,\"range\":[0.042601964673114265,0.10227776389621812]},\"yaxis20\":{\"anchor\":\"x20\",\"domain\":[0.5959183673469388,0.7020408163265307],\"matches\":\"y15\",\"showticklabels\":false,\"range\":[24.7,97.3]},\"xaxis21\":{\"anchor\":\"y21\",\"domain\":[0.8816326530612244,0.9999999999999999],\"matches\":\"x49\",\"showticklabels\":false,\"range\":[-0.1,2.1],\"type\":\"category\"},\"yaxis21\":{\"anchor\":\"x21\",\"domain\":[0.5959183673469388,0.7020408163265307],\"matches\":\"y15\",\"showticklabels\":false,\"range\":[24.7,97.3]},\"xaxis22\":{\"anchor\":\"y22\",\"domain\":[0.0,0.1183673469387755],\"matches\":\"x43\",\"showticklabels\":false,\"range\":[27.2,132.8]},\"yaxis22\":{\"anchor\":\"x22\",\"domain\":[0.4469387755102041,0.553061224489796],\"range\":[0.06371741731309635,0.07615394723887244],\"title\":{\"text\":\"learning_rate_adam\"}},\"xaxis23\":{\"anchor\":\"y23\",\"domain\":[0.14693877551020407,0.26530612244897955],\"matches\":\"x44\",\"showticklabels\":false,\"range\":[0.20421460334384314,0.5007830881720595]},\"yaxis23\":{\"anchor\":\"x23\",\"domain\":[0.4469387755102041,0.553061224489796],\"matches\":\"y22\",\"showticklabels\":false,\"range\":[0.06371741731309635,0.07615394723887244]},\"xaxis24\":{\"anchor\":\"y24\",\"domain\":[0.29387755102040813,0.4122448979591836],\"matches\":\"x45\",\"showticklabels\":false,\"range\":[24.7,97.3]},\"yaxis24\":{\"anchor\":\"x24\",\"domain\":[0.4469387755102041,0.553061224489796],\"matches\":\"y22\",\"showticklabels\":false,\"range\":[0.06371741731309635,0.07615394723887244]},\"xaxis25\":{\"anchor\":\"y25\",\"domain\":[0.4408163265306122,0.5591836734693877],\"matches\":\"x46\",\"showticklabels\":false,\"range\":[0.06371741731309635,0.07615394723887244]},\"yaxis25\":{\"anchor\":\"x25\",\"domain\":[0.4469387755102041,0.553061224489796],\"matches\":\"y22\",\"showticklabels\":false,\"range\":[0.06371741731309635,0.07615394723887244]},\"xaxis26\":{\"anchor\":\"y26\",\"domain\":[0.5877551020408163,0.7061224489795918],\"matches\":\"x47\",\"showticklabels\":false,\"range\":[0.020184119554077416,0.10102002711398088]},\"yaxis26\":{\"anchor\":\"x26\",\"domain\":[0.4469387755102041,0.553061224489796],\"matches\":\"y22\",\"showticklabels\":false,\"range\":[0.06371741731309635,0.07615394723887244]},\"xaxis27\":{\"anchor\":\"y27\",\"domain\":[0.7346938775510204,0.8530612244897959],\"matches\":\"x48\",\"showticklabels\":false,\"range\":[0.042601964673114265,0.10227776389621812]},\"yaxis27\":{\"anchor\":\"x27\",\"domain\":[0.4469387755102041,0.553061224489796],\"matches\":\"y22\",\"showticklabels\":false,\"range\":[0.06371741731309635,0.07615394723887244]},\"xaxis28\":{\"anchor\":\"y28\",\"domain\":[0.8816326530612244,0.9999999999999999],\"matches\":\"x49\",\"showticklabels\":false,\"range\":[-0.1,2.1],\"type\":\"category\"},\"yaxis28\":{\"anchor\":\"x28\",\"domain\":[0.4469387755102041,0.553061224489796],\"matches\":\"y22\",\"showticklabels\":false,\"range\":[0.06371741731309635,0.07615394723887244]},\"xaxis29\":{\"anchor\":\"y29\",\"domain\":[0.0,0.1183673469387755],\"matches\":\"x43\",\"showticklabels\":false,\"range\":[27.2,132.8]},\"yaxis29\":{\"anchor\":\"x29\",\"domain\":[0.2979591836734694,0.40408163265306124],\"range\":[0.020184119554077416,0.10102002711398088],\"title\":{\"text\":\"learning_rate_rmsprop\"}},\"xaxis30\":{\"anchor\":\"y30\",\"domain\":[0.14693877551020407,0.26530612244897955],\"matches\":\"x44\",\"showticklabels\":false,\"range\":[0.20421460334384314,0.5007830881720595]},\"yaxis30\":{\"anchor\":\"x30\",\"domain\":[0.2979591836734694,0.40408163265306124],\"matches\":\"y29\",\"showticklabels\":false,\"range\":[0.020184119554077416,0.10102002711398088]},\"xaxis31\":{\"anchor\":\"y31\",\"domain\":[0.29387755102040813,0.4122448979591836],\"matches\":\"x45\",\"showticklabels\":false,\"range\":[24.7,97.3]},\"yaxis31\":{\"anchor\":\"x31\",\"domain\":[0.2979591836734694,0.40408163265306124],\"matches\":\"y29\",\"showticklabels\":false,\"range\":[0.020184119554077416,0.10102002711398088]},\"xaxis32\":{\"anchor\":\"y32\",\"domain\":[0.4408163265306122,0.5591836734693877],\"matches\":\"x46\",\"showticklabels\":false,\"range\":[0.06371741731309635,0.07615394723887244]},\"yaxis32\":{\"anchor\":\"x32\",\"domain\":[0.2979591836734694,0.40408163265306124],\"matches\":\"y29\",\"showticklabels\":false,\"range\":[0.020184119554077416,0.10102002711398088]},\"xaxis33\":{\"anchor\":\"y33\",\"domain\":[0.5877551020408163,0.7061224489795918],\"matches\":\"x47\",\"showticklabels\":false,\"range\":[0.020184119554077416,0.10102002711398088]},\"yaxis33\":{\"anchor\":\"x33\",\"domain\":[0.2979591836734694,0.40408163265306124],\"matches\":\"y29\",\"showticklabels\":false,\"range\":[0.020184119554077416,0.10102002711398088]},\"xaxis34\":{\"anchor\":\"y34\",\"domain\":[0.7346938775510204,0.8530612244897959],\"matches\":\"x48\",\"showticklabels\":false,\"range\":[0.042601964673114265,0.10227776389621812]},\"yaxis34\":{\"anchor\":\"x34\",\"domain\":[0.2979591836734694,0.40408163265306124],\"matches\":\"y29\",\"showticklabels\":false,\"range\":[0.020184119554077416,0.10102002711398088]},\"xaxis35\":{\"anchor\":\"y35\",\"domain\":[0.8816326530612244,0.9999999999999999],\"matches\":\"x49\",\"showticklabels\":false,\"range\":[-0.1,2.1],\"type\":\"category\"},\"yaxis35\":{\"anchor\":\"x35\",\"domain\":[0.2979591836734694,0.40408163265306124],\"matches\":\"y29\",\"showticklabels\":false,\"range\":[0.020184119554077416,0.10102002711398088]},\"xaxis36\":{\"anchor\":\"y36\",\"domain\":[0.0,0.1183673469387755],\"matches\":\"x43\",\"showticklabels\":false,\"range\":[27.2,132.8]},\"yaxis36\":{\"anchor\":\"x36\",\"domain\":[0.1489795918367347,0.25510204081632654],\"range\":[0.042601964673114265,0.10227776389621812],\"title\":{\"text\":\"learning_rate_sgd\"}},\"xaxis37\":{\"anchor\":\"y37\",\"domain\":[0.14693877551020407,0.26530612244897955],\"matches\":\"x44\",\"showticklabels\":false,\"range\":[0.20421460334384314,0.5007830881720595]},\"yaxis37\":{\"anchor\":\"x37\",\"domain\":[0.1489795918367347,0.25510204081632654],\"matches\":\"y36\",\"showticklabels\":false,\"range\":[0.042601964673114265,0.10227776389621812]},\"xaxis38\":{\"anchor\":\"y38\",\"domain\":[0.29387755102040813,0.4122448979591836],\"matches\":\"x45\",\"showticklabels\":false,\"range\":[24.7,97.3]},\"yaxis38\":{\"anchor\":\"x38\",\"domain\":[0.1489795918367347,0.25510204081632654],\"matches\":\"y36\",\"showticklabels\":false,\"range\":[0.042601964673114265,0.10227776389621812]},\"xaxis39\":{\"anchor\":\"y39\",\"domain\":[0.4408163265306122,0.5591836734693877],\"matches\":\"x46\",\"showticklabels\":false,\"range\":[0.06371741731309635,0.07615394723887244]},\"yaxis39\":{\"anchor\":\"x39\",\"domain\":[0.1489795918367347,0.25510204081632654],\"matches\":\"y36\",\"showticklabels\":false,\"range\":[0.042601964673114265,0.10227776389621812]},\"xaxis40\":{\"anchor\":\"y40\",\"domain\":[0.5877551020408163,0.7061224489795918],\"matches\":\"x47\",\"showticklabels\":false,\"range\":[0.020184119554077416,0.10102002711398088]},\"yaxis40\":{\"anchor\":\"x40\",\"domain\":[0.1489795918367347,0.25510204081632654],\"matches\":\"y36\",\"showticklabels\":false,\"range\":[0.042601964673114265,0.10227776389621812]},\"xaxis41\":{\"anchor\":\"y41\",\"domain\":[0.7346938775510204,0.8530612244897959],\"matches\":\"x48\",\"showticklabels\":false,\"range\":[0.042601964673114265,0.10227776389621812]},\"yaxis41\":{\"anchor\":\"x41\",\"domain\":[0.1489795918367347,0.25510204081632654],\"matches\":\"y36\",\"showticklabels\":false,\"range\":[0.042601964673114265,0.10227776389621812]},\"xaxis42\":{\"anchor\":\"y42\",\"domain\":[0.8816326530612244,0.9999999999999999],\"matches\":\"x49\",\"showticklabels\":false,\"range\":[-0.1,2.1],\"type\":\"category\"},\"yaxis42\":{\"anchor\":\"x42\",\"domain\":[0.1489795918367347,0.25510204081632654],\"matches\":\"y36\",\"showticklabels\":false,\"range\":[0.042601964673114265,0.10227776389621812]},\"xaxis43\":{\"anchor\":\"y43\",\"domain\":[0.0,0.1183673469387755],\"range\":[27.2,132.8],\"title\":{\"text\":\"batch_size\"}},\"yaxis43\":{\"anchor\":\"x43\",\"domain\":[0.0,0.10612244897959185],\"range\":[-0.1,2.1],\"type\":\"category\",\"title\":{\"text\":\"optimizer\"}},\"xaxis44\":{\"anchor\":\"y44\",\"domain\":[0.14693877551020407,0.26530612244897955],\"range\":[0.20421460334384314,0.5007830881720595],\"title\":{\"text\":\"dropout_rate\"}},\"yaxis44\":{\"anchor\":\"x44\",\"domain\":[0.0,0.10612244897959185],\"matches\":\"y43\",\"showticklabels\":false,\"range\":[-0.1,2.1],\"type\":\"category\"},\"xaxis45\":{\"anchor\":\"y45\",\"domain\":[0.29387755102040813,0.4122448979591836],\"range\":[24.7,97.3],\"title\":{\"text\":\"epochs\"}},\"yaxis45\":{\"anchor\":\"x45\",\"domain\":[0.0,0.10612244897959185],\"matches\":\"y43\",\"showticklabels\":false,\"range\":[-0.1,2.1],\"type\":\"category\"},\"xaxis46\":{\"anchor\":\"y46\",\"domain\":[0.4408163265306122,0.5591836734693877],\"range\":[0.06371741731309635,0.07615394723887244],\"title\":{\"text\":\"learning_rate_adam\"}},\"yaxis46\":{\"anchor\":\"x46\",\"domain\":[0.0,0.10612244897959185],\"matches\":\"y43\",\"showticklabels\":false,\"range\":[-0.1,2.1],\"type\":\"category\"},\"xaxis47\":{\"anchor\":\"y47\",\"domain\":[0.5877551020408163,0.7061224489795918],\"range\":[0.020184119554077416,0.10102002711398088],\"title\":{\"text\":\"learning_rate_rmsprop\"}},\"yaxis47\":{\"anchor\":\"x47\",\"domain\":[0.0,0.10612244897959185],\"matches\":\"y43\",\"showticklabels\":false,\"range\":[-0.1,2.1],\"type\":\"category\"},\"xaxis48\":{\"anchor\":\"y48\",\"domain\":[0.7346938775510204,0.8530612244897959],\"range\":[0.042601964673114265,0.10227776389621812],\"title\":{\"text\":\"learning_rate_sgd\"}},\"yaxis48\":{\"anchor\":\"x48\",\"domain\":[0.0,0.10612244897959185],\"matches\":\"y43\",\"showticklabels\":false,\"range\":[-0.1,2.1],\"type\":\"category\"},\"xaxis49\":{\"anchor\":\"y49\",\"domain\":[0.8816326530612244,0.9999999999999999],\"range\":[-0.1,2.1],\"type\":\"category\",\"title\":{\"text\":\"optimizer\"}},\"yaxis49\":{\"anchor\":\"x49\",\"domain\":[0.0,0.10612244897959185],\"matches\":\"y43\",\"showticklabels\":false,\"range\":[-0.1,2.1],\"type\":\"category\"},\"title\":{\"text\":\"Contour Plot\"}},                        {\"responsive\": true}                    ).then(function(){\n",
              "                            \n",
              "var gd = document.getElementById('a930a8fe-c794-4b8c-a4d6-fa9dfcc9caed');\n",
              "var x = new MutationObserver(function (mutations, observer) {{\n",
              "        var display = window.getComputedStyle(gd).display;\n",
              "        if (!display || display === 'none') {{\n",
              "            console.log([gd, 'removed!']);\n",
              "            Plotly.purge(gd);\n",
              "            observer.disconnect();\n",
              "        }}\n",
              "}});\n",
              "\n",
              "// Listen for the removal of the full notebook cells\n",
              "var notebookContainer = gd.closest('#notebook-container');\n",
              "if (notebookContainer) {{\n",
              "    x.observe(notebookContainer, {childList: true});\n",
              "}}\n",
              "\n",
              "// Listen for the clearing of the current output cell\n",
              "var outputEl = gd.closest('.output');\n",
              "if (outputEl) {{\n",
              "    x.observe(outputEl, {childList: true});\n",
              "}}\n",
              "\n",
              "                        })                };                            </script>        </div>\n",
              "</body>\n",
              "</html>"
            ]
          },
          "metadata": {}
        }
      ],
      "source": [
        "# Plot contour plot\n",
        "optuna_viz.plot_contour(study)\n",
        "\n"
      ]
    },
    {
      "cell_type": "code",
      "execution_count": null,
      "metadata": {
        "id": "AtRx64cA3-yX",
        "colab": {
          "base_uri": "https://localhost:8080/",
          "height": 542
        },
        "outputId": "ddadb689-15cb-4371-91da-4f1be0e317cf"
      },
      "outputs": [
        {
          "output_type": "display_data",
          "data": {
            "text/html": [
              "<html>\n",
              "<head><meta charset=\"utf-8\" /></head>\n",
              "<body>\n",
              "    <div>            <script src=\"https://cdnjs.cloudflare.com/ajax/libs/mathjax/2.7.5/MathJax.js?config=TeX-AMS-MML_SVG\"></script><script type=\"text/javascript\">if (window.MathJax && window.MathJax.Hub && window.MathJax.Hub.Config) {window.MathJax.Hub.Config({SVG: {font: \"STIX-Web\"}});}</script>                <script type=\"text/javascript\">window.PlotlyConfig = {MathJaxConfig: 'local'};</script>\n",
              "        <script charset=\"utf-8\" src=\"https://cdn.plot.ly/plotly-2.24.1.min.js\"></script>                <div id=\"b07c099d-2e95-4768-adb2-30a1d8cba224\" class=\"plotly-graph-div\" style=\"height:525px; width:100%;\"></div>            <script type=\"text/javascript\">                                    window.PLOTLYENV=window.PLOTLYENV || {};                                    if (document.getElementById(\"b07c099d-2e95-4768-adb2-30a1d8cba224\")) {                    Plotly.newPlot(                        \"b07c099d-2e95-4768-adb2-30a1d8cba224\",                        [{\"cliponaxis\":false,\"hovertemplate\":[\"batch_size (CategoricalDistribution): 0.008791096471468918\\u003cextra\\u003e\\u003c\\u002fextra\\u003e\",\"epochs (IntDistribution): 0.0176577350291934\\u003cextra\\u003e\\u003c\\u002fextra\\u003e\",\"dropout_rate (FloatDistribution): 0.05904160417977907\\u003cextra\\u003e\\u003c\\u002fextra\\u003e\",\"optimizer (CategoricalDistribution): 0.9145095643195587\\u003cextra\\u003e\\u003c\\u002fextra\\u003e\"],\"name\":\"Objective Value\",\"orientation\":\"h\",\"text\":[\"\\u003c0.01\",\"0.02\",\"0.06\",\"0.91\"],\"textposition\":\"outside\",\"x\":[0.008791096471468918,0.0176577350291934,0.05904160417977907,0.9145095643195587],\"y\":[\"batch_size\",\"epochs\",\"dropout_rate\",\"optimizer\"],\"type\":\"bar\"}],                        {\"title\":{\"text\":\"Hyperparameter Importances\"},\"xaxis\":{\"title\":{\"text\":\"Hyperparameter Importance\"}},\"yaxis\":{\"title\":{\"text\":\"Hyperparameter\"}},\"template\":{\"data\":{\"histogram2dcontour\":[{\"type\":\"histogram2dcontour\",\"colorbar\":{\"outlinewidth\":0,\"ticks\":\"\"},\"colorscale\":[[0.0,\"#0d0887\"],[0.1111111111111111,\"#46039f\"],[0.2222222222222222,\"#7201a8\"],[0.3333333333333333,\"#9c179e\"],[0.4444444444444444,\"#bd3786\"],[0.5555555555555556,\"#d8576b\"],[0.6666666666666666,\"#ed7953\"],[0.7777777777777778,\"#fb9f3a\"],[0.8888888888888888,\"#fdca26\"],[1.0,\"#f0f921\"]]}],\"choropleth\":[{\"type\":\"choropleth\",\"colorbar\":{\"outlinewidth\":0,\"ticks\":\"\"}}],\"histogram2d\":[{\"type\":\"histogram2d\",\"colorbar\":{\"outlinewidth\":0,\"ticks\":\"\"},\"colorscale\":[[0.0,\"#0d0887\"],[0.1111111111111111,\"#46039f\"],[0.2222222222222222,\"#7201a8\"],[0.3333333333333333,\"#9c179e\"],[0.4444444444444444,\"#bd3786\"],[0.5555555555555556,\"#d8576b\"],[0.6666666666666666,\"#ed7953\"],[0.7777777777777778,\"#fb9f3a\"],[0.8888888888888888,\"#fdca26\"],[1.0,\"#f0f921\"]]}],\"heatmap\":[{\"type\":\"heatmap\",\"colorbar\":{\"outlinewidth\":0,\"ticks\":\"\"},\"colorscale\":[[0.0,\"#0d0887\"],[0.1111111111111111,\"#46039f\"],[0.2222222222222222,\"#7201a8\"],[0.3333333333333333,\"#9c179e\"],[0.4444444444444444,\"#bd3786\"],[0.5555555555555556,\"#d8576b\"],[0.6666666666666666,\"#ed7953\"],[0.7777777777777778,\"#fb9f3a\"],[0.8888888888888888,\"#fdca26\"],[1.0,\"#f0f921\"]]}],\"heatmapgl\":[{\"type\":\"heatmapgl\",\"colorbar\":{\"outlinewidth\":0,\"ticks\":\"\"},\"colorscale\":[[0.0,\"#0d0887\"],[0.1111111111111111,\"#46039f\"],[0.2222222222222222,\"#7201a8\"],[0.3333333333333333,\"#9c179e\"],[0.4444444444444444,\"#bd3786\"],[0.5555555555555556,\"#d8576b\"],[0.6666666666666666,\"#ed7953\"],[0.7777777777777778,\"#fb9f3a\"],[0.8888888888888888,\"#fdca26\"],[1.0,\"#f0f921\"]]}],\"contourcarpet\":[{\"type\":\"contourcarpet\",\"colorbar\":{\"outlinewidth\":0,\"ticks\":\"\"}}],\"contour\":[{\"type\":\"contour\",\"colorbar\":{\"outlinewidth\":0,\"ticks\":\"\"},\"colorscale\":[[0.0,\"#0d0887\"],[0.1111111111111111,\"#46039f\"],[0.2222222222222222,\"#7201a8\"],[0.3333333333333333,\"#9c179e\"],[0.4444444444444444,\"#bd3786\"],[0.5555555555555556,\"#d8576b\"],[0.6666666666666666,\"#ed7953\"],[0.7777777777777778,\"#fb9f3a\"],[0.8888888888888888,\"#fdca26\"],[1.0,\"#f0f921\"]]}],\"surface\":[{\"type\":\"surface\",\"colorbar\":{\"outlinewidth\":0,\"ticks\":\"\"},\"colorscale\":[[0.0,\"#0d0887\"],[0.1111111111111111,\"#46039f\"],[0.2222222222222222,\"#7201a8\"],[0.3333333333333333,\"#9c179e\"],[0.4444444444444444,\"#bd3786\"],[0.5555555555555556,\"#d8576b\"],[0.6666666666666666,\"#ed7953\"],[0.7777777777777778,\"#fb9f3a\"],[0.8888888888888888,\"#fdca26\"],[1.0,\"#f0f921\"]]}],\"mesh3d\":[{\"type\":\"mesh3d\",\"colorbar\":{\"outlinewidth\":0,\"ticks\":\"\"}}],\"scatter\":[{\"fillpattern\":{\"fillmode\":\"overlay\",\"size\":10,\"solidity\":0.2},\"type\":\"scatter\"}],\"parcoords\":[{\"type\":\"parcoords\",\"line\":{\"colorbar\":{\"outlinewidth\":0,\"ticks\":\"\"}}}],\"scatterpolargl\":[{\"type\":\"scatterpolargl\",\"marker\":{\"colorbar\":{\"outlinewidth\":0,\"ticks\":\"\"}}}],\"bar\":[{\"error_x\":{\"color\":\"#2a3f5f\"},\"error_y\":{\"color\":\"#2a3f5f\"},\"marker\":{\"line\":{\"color\":\"#E5ECF6\",\"width\":0.5},\"pattern\":{\"fillmode\":\"overlay\",\"size\":10,\"solidity\":0.2}},\"type\":\"bar\"}],\"scattergeo\":[{\"type\":\"scattergeo\",\"marker\":{\"colorbar\":{\"outlinewidth\":0,\"ticks\":\"\"}}}],\"scatterpolar\":[{\"type\":\"scatterpolar\",\"marker\":{\"colorbar\":{\"outlinewidth\":0,\"ticks\":\"\"}}}],\"histogram\":[{\"marker\":{\"pattern\":{\"fillmode\":\"overlay\",\"size\":10,\"solidity\":0.2}},\"type\":\"histogram\"}],\"scattergl\":[{\"type\":\"scattergl\",\"marker\":{\"colorbar\":{\"outlinewidth\":0,\"ticks\":\"\"}}}],\"scatter3d\":[{\"type\":\"scatter3d\",\"line\":{\"colorbar\":{\"outlinewidth\":0,\"ticks\":\"\"}},\"marker\":{\"colorbar\":{\"outlinewidth\":0,\"ticks\":\"\"}}}],\"scattermapbox\":[{\"type\":\"scattermapbox\",\"marker\":{\"colorbar\":{\"outlinewidth\":0,\"ticks\":\"\"}}}],\"scatterternary\":[{\"type\":\"scatterternary\",\"marker\":{\"colorbar\":{\"outlinewidth\":0,\"ticks\":\"\"}}}],\"scattercarpet\":[{\"type\":\"scattercarpet\",\"marker\":{\"colorbar\":{\"outlinewidth\":0,\"ticks\":\"\"}}}],\"carpet\":[{\"aaxis\":{\"endlinecolor\":\"#2a3f5f\",\"gridcolor\":\"white\",\"linecolor\":\"white\",\"minorgridcolor\":\"white\",\"startlinecolor\":\"#2a3f5f\"},\"baxis\":{\"endlinecolor\":\"#2a3f5f\",\"gridcolor\":\"white\",\"linecolor\":\"white\",\"minorgridcolor\":\"white\",\"startlinecolor\":\"#2a3f5f\"},\"type\":\"carpet\"}],\"table\":[{\"cells\":{\"fill\":{\"color\":\"#EBF0F8\"},\"line\":{\"color\":\"white\"}},\"header\":{\"fill\":{\"color\":\"#C8D4E3\"},\"line\":{\"color\":\"white\"}},\"type\":\"table\"}],\"barpolar\":[{\"marker\":{\"line\":{\"color\":\"#E5ECF6\",\"width\":0.5},\"pattern\":{\"fillmode\":\"overlay\",\"size\":10,\"solidity\":0.2}},\"type\":\"barpolar\"}],\"pie\":[{\"automargin\":true,\"type\":\"pie\"}]},\"layout\":{\"autotypenumbers\":\"strict\",\"colorway\":[\"#636efa\",\"#EF553B\",\"#00cc96\",\"#ab63fa\",\"#FFA15A\",\"#19d3f3\",\"#FF6692\",\"#B6E880\",\"#FF97FF\",\"#FECB52\"],\"font\":{\"color\":\"#2a3f5f\"},\"hovermode\":\"closest\",\"hoverlabel\":{\"align\":\"left\"},\"paper_bgcolor\":\"white\",\"plot_bgcolor\":\"#E5ECF6\",\"polar\":{\"bgcolor\":\"#E5ECF6\",\"angularaxis\":{\"gridcolor\":\"white\",\"linecolor\":\"white\",\"ticks\":\"\"},\"radialaxis\":{\"gridcolor\":\"white\",\"linecolor\":\"white\",\"ticks\":\"\"}},\"ternary\":{\"bgcolor\":\"#E5ECF6\",\"aaxis\":{\"gridcolor\":\"white\",\"linecolor\":\"white\",\"ticks\":\"\"},\"baxis\":{\"gridcolor\":\"white\",\"linecolor\":\"white\",\"ticks\":\"\"},\"caxis\":{\"gridcolor\":\"white\",\"linecolor\":\"white\",\"ticks\":\"\"}},\"coloraxis\":{\"colorbar\":{\"outlinewidth\":0,\"ticks\":\"\"}},\"colorscale\":{\"sequential\":[[0.0,\"#0d0887\"],[0.1111111111111111,\"#46039f\"],[0.2222222222222222,\"#7201a8\"],[0.3333333333333333,\"#9c179e\"],[0.4444444444444444,\"#bd3786\"],[0.5555555555555556,\"#d8576b\"],[0.6666666666666666,\"#ed7953\"],[0.7777777777777778,\"#fb9f3a\"],[0.8888888888888888,\"#fdca26\"],[1.0,\"#f0f921\"]],\"sequentialminus\":[[0.0,\"#0d0887\"],[0.1111111111111111,\"#46039f\"],[0.2222222222222222,\"#7201a8\"],[0.3333333333333333,\"#9c179e\"],[0.4444444444444444,\"#bd3786\"],[0.5555555555555556,\"#d8576b\"],[0.6666666666666666,\"#ed7953\"],[0.7777777777777778,\"#fb9f3a\"],[0.8888888888888888,\"#fdca26\"],[1.0,\"#f0f921\"]],\"diverging\":[[0,\"#8e0152\"],[0.1,\"#c51b7d\"],[0.2,\"#de77ae\"],[0.3,\"#f1b6da\"],[0.4,\"#fde0ef\"],[0.5,\"#f7f7f7\"],[0.6,\"#e6f5d0\"],[0.7,\"#b8e186\"],[0.8,\"#7fbc41\"],[0.9,\"#4d9221\"],[1,\"#276419\"]]},\"xaxis\":{\"gridcolor\":\"white\",\"linecolor\":\"white\",\"ticks\":\"\",\"title\":{\"standoff\":15},\"zerolinecolor\":\"white\",\"automargin\":true,\"zerolinewidth\":2},\"yaxis\":{\"gridcolor\":\"white\",\"linecolor\":\"white\",\"ticks\":\"\",\"title\":{\"standoff\":15},\"zerolinecolor\":\"white\",\"automargin\":true,\"zerolinewidth\":2},\"scene\":{\"xaxis\":{\"backgroundcolor\":\"#E5ECF6\",\"gridcolor\":\"white\",\"linecolor\":\"white\",\"showbackground\":true,\"ticks\":\"\",\"zerolinecolor\":\"white\",\"gridwidth\":2},\"yaxis\":{\"backgroundcolor\":\"#E5ECF6\",\"gridcolor\":\"white\",\"linecolor\":\"white\",\"showbackground\":true,\"ticks\":\"\",\"zerolinecolor\":\"white\",\"gridwidth\":2},\"zaxis\":{\"backgroundcolor\":\"#E5ECF6\",\"gridcolor\":\"white\",\"linecolor\":\"white\",\"showbackground\":true,\"ticks\":\"\",\"zerolinecolor\":\"white\",\"gridwidth\":2}},\"shapedefaults\":{\"line\":{\"color\":\"#2a3f5f\"}},\"annotationdefaults\":{\"arrowcolor\":\"#2a3f5f\",\"arrowhead\":0,\"arrowwidth\":1},\"geo\":{\"bgcolor\":\"white\",\"landcolor\":\"#E5ECF6\",\"subunitcolor\":\"white\",\"showland\":true,\"showlakes\":true,\"lakecolor\":\"white\"},\"title\":{\"x\":0.05},\"mapbox\":{\"style\":\"light\"}}}},                        {\"responsive\": true}                    ).then(function(){\n",
              "                            \n",
              "var gd = document.getElementById('b07c099d-2e95-4768-adb2-30a1d8cba224');\n",
              "var x = new MutationObserver(function (mutations, observer) {{\n",
              "        var display = window.getComputedStyle(gd).display;\n",
              "        if (!display || display === 'none') {{\n",
              "            console.log([gd, 'removed!']);\n",
              "            Plotly.purge(gd);\n",
              "            observer.disconnect();\n",
              "        }}\n",
              "}});\n",
              "\n",
              "// Listen for the removal of the full notebook cells\n",
              "var notebookContainer = gd.closest('#notebook-container');\n",
              "if (notebookContainer) {{\n",
              "    x.observe(notebookContainer, {childList: true});\n",
              "}}\n",
              "\n",
              "// Listen for the clearing of the current output cell\n",
              "var outputEl = gd.closest('.output');\n",
              "if (outputEl) {{\n",
              "    x.observe(outputEl, {childList: true});\n",
              "}}\n",
              "\n",
              "                        })                };                            </script>        </div>\n",
              "</body>\n",
              "</html>"
            ]
          },
          "metadata": {}
        }
      ],
      "source": [
        "# Plot parameter importances\n",
        "optuna_viz.plot_param_importances(study)"
      ]
    },
    {
      "cell_type": "code",
      "execution_count": null,
      "metadata": {
        "id": "pvf1rCxK5Rk5",
        "colab": {
          "base_uri": "https://localhost:8080/",
          "height": 472
        },
        "outputId": "3697eac9-c7f9-421d-e29a-0ae437a8f23c"
      },
      "outputs": [
        {
          "output_type": "display_data",
          "data": {
            "text/plain": [
              "<Figure size 640x480 with 1 Axes>"
            ],
            "image/png": "[encoded data removed]"
          },
          "metadata": {}
        }
      ],
      "source": [
        "\n",
        "\n",
        "# Assuming 'study' is your Optuna study object\n",
        "# Get hyperparameter values for each trial\n",
        "param1_values = [trial.params['epochs'] for trial in study.trials]\n",
        "param2_values = [trial.params['batch_size'] for trial in study.trials]\n",
        "\n",
        "# Scatter plot between two hyperparameters\n",
        "plt.scatter(param1_values, param2_values)\n",
        "plt.xlabel('Learning Rate')\n",
        "plt.ylabel('Batch Size')\n",
        "plt.title('Relationship between Learning Rate and Batch Size')\n",
        "plt.show()"
      ]
    },
    {
      "cell_type": "code",
      "execution_count": null,
      "metadata": {
        "id": "OTcZhPxK-679",
        "colab": {
          "base_uri": "https://localhost:8080/",
          "height": 542
        },
        "outputId": "2cce6775-611f-452e-b309-ff7642b6c02f"
      },
      "outputs": [
        {
          "output_type": "display_data",
          "data": {
            "text/html": [
              "<html>\n",
              "<head><meta charset=\"utf-8\" /></head>\n",
              "<body>\n",
              "    <div>            <script src=\"https://cdnjs.cloudflare.com/ajax/libs/mathjax/2.7.5/MathJax.js?config=TeX-AMS-MML_SVG\"></script><script type=\"text/javascript\">if (window.MathJax && window.MathJax.Hub && window.MathJax.Hub.Config) {window.MathJax.Hub.Config({SVG: {font: \"STIX-Web\"}});}</script>                <script type=\"text/javascript\">window.PlotlyConfig = {MathJaxConfig: 'local'};</script>\n",
              "        <script charset=\"utf-8\" src=\"https://cdn.plot.ly/plotly-2.24.1.min.js\"></script>                <div id=\"c1173c05-3a5a-497f-9e9d-d74c46fd5a09\" class=\"plotly-graph-div\" style=\"height:525px; width:100%;\"></div>            <script type=\"text/javascript\">                                    window.PLOTLYENV=window.PLOTLYENV || {};                                    if (document.getElementById(\"c1173c05-3a5a-497f-9e9d-d74c46fd5a09\")) {                    Plotly.newPlot(                        \"c1173c05-3a5a-497f-9e9d-d74c46fd5a09\",                        [{\"type\":\"scatter\",\"xaxis\":\"x\",\"yaxis\":\"y\"},{\"colorbar\":{\"title\":{\"text\":\"Objective Value\"}},\"colorscale\":[[0.0,\"rgb(247,251,255)\"],[0.125,\"rgb(222,235,247)\"],[0.25,\"rgb(198,219,239)\"],[0.375,\"rgb(158,202,225)\"],[0.5,\"rgb(107,174,214)\"],[0.625,\"rgb(66,146,198)\"],[0.75,\"rgb(33,113,181)\"],[0.875,\"rgb(8,81,156)\"],[1.0,\"rgb(8,48,107)\"]],\"connectgaps\":true,\"contours\":{\"coloring\":\"heatmap\"},\"hoverinfo\":\"none\",\"line\":{\"smoothing\":1.3},\"reversescale\":false,\"showscale\":true,\"x\":[27.2,32,64,128,132.8],\"y\":[0.20421460334384314,0.21769498901785297,0.2562076496246386,0.2754041123491316,0.3568786837272921,0.37715564662125356,0.3892263644877882,0.39518942324725165,0.42565125145570576,0.43966823165243996,0.44048073411556865,0.4598679209564908,0.4873027024980497,0.5007830881720595],\"z\":[[null,null,null,null,null],[null,null,null,0.8475426435470581,null],[null,null,null,0.1624874621629715,null],[null,0.12838515639305115,null,null,null],[null,null,null,0.31594783067703247,null],[null,null,null,0.3299899697303772,null],[null,0.8776329159736633,null,null,null],[null,0.8214644193649292,null,null,null],[null,null,0.8485456109046936,null,null],[null,null,0.3039117455482483,null,null],[null,null,null,0.8104313015937805,null],[null,null,0.5486459136009216,null,null],[null,null,0.33299899101257324,null,null],[null,null,null,null,null]],\"type\":\"contour\",\"xaxis\":\"x8\",\"yaxis\":\"y8\"},{\"marker\":{\"color\":\"black\",\"line\":{\"color\":\"Gray\",\"width\":2.0}},\"mode\":\"markers\",\"name\":\"Feasible Trial\",\"showlegend\":false,\"x\":[128,128,128,64,128,128,32,64,64,64,32,32],\"y\":[0.3568786837272921,0.37715564662125356,0.44048073411556865,0.42565125145570576,0.2562076496246386,0.21769498901785297,0.2754041123491316,0.4598679209564908,0.4873027024980497,0.43966823165243996,0.3892263644877882,0.39518942324725165],\"type\":\"scatter\",\"xaxis\":\"x8\",\"yaxis\":\"y8\"},{\"colorbar\":{\"title\":{\"text\":\"Objective Value\"}},\"colorscale\":[[0.0,\"rgb(247,251,255)\"],[0.125,\"rgb(222,235,247)\"],[0.25,\"rgb(198,219,239)\"],[0.375,\"rgb(158,202,225)\"],[0.5,\"rgb(107,174,214)\"],[0.625,\"rgb(66,146,198)\"],[0.75,\"rgb(33,113,181)\"],[0.875,\"rgb(8,81,156)\"],[1.0,\"rgb(8,48,107)\"]],\"connectgaps\":true,\"contours\":{\"coloring\":\"heatmap\"},\"hoverinfo\":\"none\",\"line\":{\"smoothing\":1.3},\"reversescale\":false,\"showscale\":false,\"x\":[27.2,32,64,128,132.8],\"y\":[24.7,28,31,37,41,45,51,54,65,76,77,87,94,97.3],\"z\":[[null,null,null,null,null],[null,null,null,0.8475426435470581,null],[null,null,0.8485456109046936,null,null],[null,null,0.3039117455482483,null,null],[null,null,null,0.3299899697303772,null],[null,0.12838515639305115,null,null,null],[null,0.8776329159736633,null,null,null],[null,0.8214644193649292,null,null,null],[null,null,null,0.31594783067703247,null],[null,null,null,0.8104313015937805,null],[null,null,0.5486459136009216,null,null],[null,null,0.33299899101257324,null,null],[null,null,null,0.1624874621629715,null],[null,null,null,null,null]],\"type\":\"contour\",\"xaxis\":\"x15\",\"yaxis\":\"y15\"},{\"marker\":{\"color\":\"black\",\"line\":{\"color\":\"Gray\",\"width\":2.0}},\"mode\":\"markers\",\"name\":\"Feasible Trial\",\"showlegend\":false,\"x\":[128,128,128,64,128,128,32,64,64,64,32,32],\"y\":[65,41,76,31,94,28,45,77,87,37,51,54],\"type\":\"scatter\",\"xaxis\":\"x15\",\"yaxis\":\"y15\"},{\"colorbar\":{\"title\":{\"text\":\"Objective Value\"}},\"colorscale\":[[0.0,\"rgb(247,251,255)\"],[0.125,\"rgb(222,235,247)\"],[0.25,\"rgb(198,219,239)\"],[0.375,\"rgb(158,202,225)\"],[0.5,\"rgb(107,174,214)\"],[0.625,\"rgb(66,146,198)\"],[0.75,\"rgb(33,113,181)\"],[0.875,\"rgb(8,81,156)\"],[1.0,\"rgb(8,48,107)\"]],\"connectgaps\":true,\"contours\":{\"coloring\":\"heatmap\"},\"hoverinfo\":\"none\",\"line\":{\"smoothing\":1.3},\"reversescale\":false,\"showscale\":false,\"x\":[27.2,32,64,128,132.8],\"y\":[0.06371741731309635,0.06428271412790436,0.06934781894228761,0.07558865042406443,0.07615394723887244],\"z\":[[null,null,null,null,null],[null,null,null,0.3299899697303772,null],[null,null,0.3039117455482483,null,null],[null,0.12838515639305115,null,null,null],[null,null,null,null,null]],\"type\":\"contour\",\"xaxis\":\"x22\",\"yaxis\":\"y22\"},{\"marker\":{\"color\":\"black\",\"line\":{\"color\":\"Gray\",\"width\":2.0}},\"mode\":\"markers\",\"name\":\"Feasible Trial\",\"showlegend\":false,\"x\":[128,32,64],\"y\":[0.06428271412790436,0.07558865042406443,0.06934781894228761],\"type\":\"scatter\",\"xaxis\":\"x22\",\"yaxis\":\"y22\"},{\"colorbar\":{\"title\":{\"text\":\"Objective Value\"}},\"colorscale\":[[0.0,\"rgb(247,251,255)\"],[0.125,\"rgb(222,235,247)\"],[0.25,\"rgb(198,219,239)\"],[0.375,\"rgb(158,202,225)\"],[0.5,\"rgb(107,174,214)\"],[0.625,\"rgb(66,146,198)\"],[0.75,\"rgb(33,113,181)\"],[0.875,\"rgb(8,81,156)\"],[1.0,\"rgb(8,48,107)\"]],\"connectgaps\":true,\"contours\":{\"coloring\":\"heatmap\"},\"hoverinfo\":\"none\",\"line\":{\"smoothing\":1.3},\"reversescale\":false,\"showscale\":false,\"x\":[27.2,32,64,128,132.8],\"y\":[0.020184119554077416,0.02385847898861848,0.052856313273896074,0.08964888481179067,0.0973456676794398,0.10102002711398088],\"z\":[[null,null,null,null,null],[null,null,0.5486459136009216,null,null],[null,null,0.33299899101257324,null,null],[null,null,null,0.31594783067703247,null],[null,null,null,0.1624874621629715,null],[null,null,null,null,null]],\"type\":\"contour\",\"xaxis\":\"x29\",\"yaxis\":\"y29\"},{\"marker\":{\"color\":\"black\",\"line\":{\"color\":\"Gray\",\"width\":2.0}},\"mode\":\"markers\",\"name\":\"Feasible Trial\",\"showlegend\":false,\"x\":[128,128,64,64],\"y\":[0.08964888481179067,0.0973456676794398,0.02385847898861848,0.052856313273896074],\"type\":\"scatter\",\"xaxis\":\"x29\",\"yaxis\":\"y29\"},{\"colorbar\":{\"title\":{\"text\":\"Objective Value\"}},\"colorscale\":[[0.0,\"rgb(247,251,255)\"],[0.125,\"rgb(222,235,247)\"],[0.25,\"rgb(198,219,239)\"],[0.375,\"rgb(158,202,225)\"],[0.5,\"rgb(107,174,214)\"],[0.625,\"rgb(66,146,198)\"],[0.75,\"rgb(33,113,181)\"],[0.875,\"rgb(8,81,156)\"],[1.0,\"rgb(8,48,107)\"]],\"connectgaps\":true,\"contours\":{\"coloring\":\"heatmap\"},\"hoverinfo\":\"none\",\"line\":{\"smoothing\":1.3},\"reversescale\":false,\"showscale\":false,\"x\":[27.2,32,64,128,132.8],\"y\":[0.042601964673114265,0.04531450100143717,0.06474014431307697,0.09246386114864602,0.09933454589901237,0.09956522756789522,0.10227776389621812],\"z\":[[null,null,null,null,null],[null,null,null,0.8475426435470581,null],[null,null,null,0.8104313015937805,null],[null,null,0.8485456109046936,null,null],[null,0.8214644193649292,null,null,null],[null,0.8776329159736633,null,null,null],[null,null,null,null,null]],\"type\":\"contour\",\"xaxis\":\"x36\",\"yaxis\":\"y36\"},{\"marker\":{\"color\":\"black\",\"line\":{\"color\":\"Gray\",\"width\":2.0}},\"mode\":\"markers\",\"name\":\"Feasible Trial\",\"showlegend\":false,\"x\":[128,64,128,32,32],\"y\":[0.06474014431307697,0.09246386114864602,0.04531450100143717,0.09956522756789522,0.09933454589901237],\"type\":\"scatter\",\"xaxis\":\"x36\",\"yaxis\":\"y36\"},{\"colorbar\":{\"title\":{\"text\":\"Objective Value\"}},\"colorscale\":[[0.0,\"rgb(247,251,255)\"],[0.125,\"rgb(222,235,247)\"],[0.25,\"rgb(198,219,239)\"],[0.375,\"rgb(158,202,225)\"],[0.5,\"rgb(107,174,214)\"],[0.625,\"rgb(66,146,198)\"],[0.75,\"rgb(33,113,181)\"],[0.875,\"rgb(8,81,156)\"],[1.0,\"rgb(8,48,107)\"]],\"connectgaps\":true,\"contours\":{\"coloring\":\"heatmap\"},\"hoverinfo\":\"none\",\"line\":{\"smoothing\":1.3},\"reversescale\":false,\"showscale\":false,\"x\":[27.2,32,64,128,132.8],\"y\":[\"adam\",\"rmsprop\",\"sgd\"],\"z\":[[null,0.12838515639305115,0.3039117455482483,0.3299899697303772,null],[null,null,0.5486459136009216,0.31594783067703247,null],[null,0.8776329159736633,0.8485456109046936,0.8475426435470581,null]],\"type\":\"contour\",\"xaxis\":\"x43\",\"yaxis\":\"y43\"},{\"marker\":{\"color\":\"black\",\"line\":{\"color\":\"Gray\",\"width\":2.0}},\"mode\":\"markers\",\"name\":\"Feasible Trial\",\"showlegend\":false,\"x\":[128,128,128,64,128,128,32,64,64,64,32,32],\"y\":[\"rmsprop\",\"adam\",\"sgd\",\"sgd\",\"rmsprop\",\"sgd\",\"adam\",\"rmsprop\",\"rmsprop\",\"adam\",\"sgd\",\"sgd\"],\"type\":\"scatter\",\"xaxis\":\"x43\",\"yaxis\":\"y43\"},{\"colorbar\":{\"title\":{\"text\":\"Objective Value\"}},\"colorscale\":[[0.0,\"rgb(247,251,255)\"],[0.125,\"rgb(222,235,247)\"],[0.25,\"rgb(198,219,239)\"],[0.375,\"rgb(158,202,225)\"],[0.5,\"rgb(107,174,214)\"],[0.625,\"rgb(66,146,198)\"],[0.75,\"rgb(33,113,181)\"],[0.875,\"rgb(8,81,156)\"],[1.0,\"rgb(8,48,107)\"]],\"connectgaps\":true,\"contours\":{\"coloring\":\"heatmap\"},\"hoverinfo\":\"none\",\"line\":{\"smoothing\":1.3},\"reversescale\":false,\"showscale\":false,\"x\":[0.20421460334384314,0.21769498901785297,0.2562076496246386,0.2754041123491316,0.3568786837272921,0.37715564662125356,0.3892263644877882,0.39518942324725165,0.42565125145570576,0.43966823165243996,0.44048073411556865,0.4598679209564908,0.4873027024980497,0.5007830881720595],\"y\":[27.2,32,64,128,132.8],\"z\":[[null,null,null,null,null,null,null,null,null,null,null,null,null,null],[null,null,null,0.12838515639305115,null,null,0.8776329159736633,0.8214644193649292,null,null,null,null,null,null],[null,null,null,null,null,null,null,null,0.8485456109046936,0.3039117455482483,null,0.5486459136009216,0.33299899101257324,null],[null,0.8475426435470581,0.1624874621629715,null,0.31594783067703247,0.3299899697303772,null,null,null,null,0.8104313015937805,null,null,null],[null,null,null,null,null,null,null,null,null,null,null,null,null,null]],\"type\":\"contour\",\"xaxis\":\"x2\",\"yaxis\":\"y2\"},{\"marker\":{\"color\":\"black\",\"line\":{\"color\":\"Gray\",\"width\":2.0}},\"mode\":\"markers\",\"name\":\"Feasible Trial\",\"showlegend\":false,\"x\":[0.3568786837272921,0.37715564662125356,0.44048073411556865,0.42565125145570576,0.2562076496246386,0.21769498901785297,0.2754041123491316,0.4598679209564908,0.4873027024980497,0.43966823165243996,0.3892263644877882,0.39518942324725165],\"y\":[128,128,128,64,128,128,32,64,64,64,32,32],\"type\":\"scatter\",\"xaxis\":\"x2\",\"yaxis\":\"y2\"},{\"type\":\"scatter\",\"xaxis\":\"x9\",\"yaxis\":\"y9\"},{\"colorbar\":{\"title\":{\"text\":\"Objective Value\"}},\"colorscale\":[[0.0,\"rgb(247,251,255)\"],[0.125,\"rgb(222,235,247)\"],[0.25,\"rgb(198,219,239)\"],[0.375,\"rgb(158,202,225)\"],[0.5,\"rgb(107,174,214)\"],[0.625,\"rgb(66,146,198)\"],[0.75,\"rgb(33,113,181)\"],[0.875,\"rgb(8,81,156)\"],[1.0,\"rgb(8,48,107)\"]],\"connectgaps\":true,\"contours\":{\"coloring\":\"heatmap\"},\"hoverinfo\":\"none\",\"line\":{\"smoothing\":1.3},\"reversescale\":false,\"showscale\":false,\"x\":[0.20421460334384314,0.21769498901785297,0.2562076496246386,0.2754041123491316,0.3568786837272921,0.37715564662125356,0.3892263644877882,0.39518942324725165,0.42565125145570576,0.43966823165243996,0.44048073411556865,0.4598679209564908,0.4873027024980497,0.5007830881720595],\"y\":[24.7,28,31,37,41,45,51,54,65,76,77,87,94,97.3],\"z\":[[null,null,null,null,null,null,null,null,null,null,null,null,null,null],[null,0.8475426435470581,null,null,null,null,null,null,null,null,null,null,null,null],[null,null,null,null,null,null,null,null,0.8485456109046936,null,null,null,null,null],[null,null,null,null,null,null,null,null,null,0.3039117455482483,null,null,null,null],[null,null,null,null,null,0.3299899697303772,null,null,null,null,null,null,null,null],[null,null,null,0.12838515639305115,null,null,null,null,null,null,null,null,null,null],[null,null,null,null,null,null,0.8776329159736633,null,null,null,null,null,null,null],[null,null,null,null,null,null,null,0.8214644193649292,null,null,null,null,null,null],[null,null,null,null,0.31594783067703247,null,null,null,null,null,null,null,null,null],[null,null,null,null,null,null,null,null,null,null,0.8104313015937805,null,null,null],[null,null,null,null,null,null,null,null,null,null,null,0.5486459136009216,null,null],[null,null,null,null,null,null,null,null,null,null,null,null,0.33299899101257324,null],[null,null,0.1624874621629715,null,null,null,null,null,null,null,null,null,null,null],[null,null,null,null,null,null,null,null,null,null,null,null,null,null]],\"type\":\"contour\",\"xaxis\":\"x16\",\"yaxis\":\"y16\"},{\"marker\":{\"color\":\"black\",\"line\":{\"color\":\"Gray\",\"width\":2.0}},\"mode\":\"markers\",\"name\":\"Feasible Trial\",\"showlegend\":false,\"x\":[0.3568786837272921,0.37715564662125356,0.44048073411556865,0.42565125145570576,0.2562076496246386,0.21769498901785297,0.2754041123491316,0.4598679209564908,0.4873027024980497,0.43966823165243996,0.3892263644877882,0.39518942324725165],\"y\":[65,41,76,31,94,28,45,77,87,37,51,54],\"type\":\"scatter\",\"xaxis\":\"x16\",\"yaxis\":\"y16\"},{\"colorbar\":{\"title\":{\"text\":\"Objective Value\"}},\"colorscale\":[[0.0,\"rgb(247,251,255)\"],[0.125,\"rgb(222,235,247)\"],[0.25,\"rgb(198,219,239)\"],[0.375,\"rgb(158,202,225)\"],[0.5,\"rgb(107,174,214)\"],[0.625,\"rgb(66,146,198)\"],[0.75,\"rgb(33,113,181)\"],[0.875,\"rgb(8,81,156)\"],[1.0,\"rgb(8,48,107)\"]],\"connectgaps\":true,\"contours\":{\"coloring\":\"heatmap\"},\"hoverinfo\":\"none\",\"line\":{\"smoothing\":1.3},\"reversescale\":false,\"showscale\":false,\"x\":[0.20421460334384314,0.21769498901785297,0.2562076496246386,0.2754041123491316,0.3568786837272921,0.37715564662125356,0.3892263644877882,0.39518942324725165,0.42565125145570576,0.43966823165243996,0.44048073411556865,0.4598679209564908,0.4873027024980497,0.5007830881720595],\"y\":[0.06371741731309635,0.06428271412790436,0.06934781894228761,0.07558865042406443,0.07615394723887244],\"z\":[[null,null,null,null,null,null,null,null,null,null,null,null,null,null],[null,null,null,null,null,0.3299899697303772,null,null,null,null,null,null,null,null],[null,null,null,null,null,null,null,null,null,0.3039117455482483,null,null,null,null],[null,null,null,0.12838515639305115,null,null,null,null,null,null,null,null,null,null],[null,null,null,null,null,null,null,null,null,null,null,null,null,null]],\"type\":\"contour\",\"xaxis\":\"x23\",\"yaxis\":\"y23\"},{\"marker\":{\"color\":\"black\",\"line\":{\"color\":\"Gray\",\"width\":2.0}},\"mode\":\"markers\",\"name\":\"Feasible Trial\",\"showlegend\":false,\"x\":[0.37715564662125356,0.2754041123491316,0.43966823165243996],\"y\":[0.06428271412790436,0.07558865042406443,0.06934781894228761],\"type\":\"scatter\",\"xaxis\":\"x23\",\"yaxis\":\"y23\"},{\"colorbar\":{\"title\":{\"text\":\"Objective Value\"}},\"colorscale\":[[0.0,\"rgb(247,251,255)\"],[0.125,\"rgb(222,235,247)\"],[0.25,\"rgb(198,219,239)\"],[0.375,\"rgb(158,202,225)\"],[0.5,\"rgb(107,174,214)\"],[0.625,\"rgb(66,146,198)\"],[0.75,\"rgb(33,113,181)\"],[0.875,\"rgb(8,81,156)\"],[1.0,\"rgb(8,48,107)\"]],\"connectgaps\":true,\"contours\":{\"coloring\":\"heatmap\"},\"hoverinfo\":\"none\",\"line\":{\"smoothing\":1.3},\"reversescale\":false,\"showscale\":false,\"x\":[0.20421460334384314,0.21769498901785297,0.2562076496246386,0.2754041123491316,0.3568786837272921,0.37715564662125356,0.3892263644877882,0.39518942324725165,0.42565125145570576,0.43966823165243996,0.44048073411556865,0.4598679209564908,0.4873027024980497,0.5007830881720595],\"y\":[0.020184119554077416,0.02385847898861848,0.052856313273896074,0.08964888481179067,0.0973456676794398,0.10102002711398088],\"z\":[[null,null,null,null,null,null,null,null,null,null,null,null,null,null],[null,null,null,null,null,null,null,null,null,null,null,0.5486459136009216,null,null],[null,null,null,null,null,null,null,null,null,null,null,null,0.33299899101257324,null],[null,null,null,null,0.31594783067703247,null,null,null,null,null,null,null,null,null],[null,null,0.1624874621629715,null,null,null,null,null,null,null,null,null,null,null],[null,null,null,null,null,null,null,null,null,null,null,null,null,null]],\"type\":\"contour\",\"xaxis\":\"x30\",\"yaxis\":\"y30\"},{\"marker\":{\"color\":\"black\",\"line\":{\"color\":\"Gray\",\"width\":2.0}},\"mode\":\"markers\",\"name\":\"Feasible Trial\",\"showlegend\":false,\"x\":[0.3568786837272921,0.2562076496246386,0.4598679209564908,0.4873027024980497],\"y\":[0.08964888481179067,0.0973456676794398,0.02385847898861848,0.052856313273896074],\"type\":\"scatter\",\"xaxis\":\"x30\",\"yaxis\":\"y30\"},{\"colorbar\":{\"title\":{\"text\":\"Objective Value\"}},\"colorscale\":[[0.0,\"rgb(247,251,255)\"],[0.125,\"rgb(222,235,247)\"],[0.25,\"rgb(198,219,239)\"],[0.375,\"rgb(158,202,225)\"],[0.5,\"rgb(107,174,214)\"],[0.625,\"rgb(66,146,198)\"],[0.75,\"rgb(33,113,181)\"],[0.875,\"rgb(8,81,156)\"],[1.0,\"rgb(8,48,107)\"]],\"connectgaps\":true,\"contours\":{\"coloring\":\"heatmap\"},\"hoverinfo\":\"none\",\"line\":{\"smoothing\":1.3},\"reversescale\":false,\"showscale\":false,\"x\":[0.20421460334384314,0.21769498901785297,0.2562076496246386,0.2754041123491316,0.3568786837272921,0.37715564662125356,0.3892263644877882,0.39518942324725165,0.42565125145570576,0.43966823165243996,0.44048073411556865,0.4598679209564908,0.4873027024980497,0.5007830881720595],\"y\":[0.042601964673114265,0.04531450100143717,0.06474014431307697,0.09246386114864602,0.09933454589901237,0.09956522756789522,0.10227776389621812],\"z\":[[null,null,null,null,null,null,null,null,null,null,null,null,null,null],[null,0.8475426435470581,null,null,null,null,null,null,null,null,null,null,null,null],[null,null,null,null,null,null,null,null,null,null,0.8104313015937805,null,null,null],[null,null,null,null,null,null,null,null,0.8485456109046936,null,null,null,null,null],[null,null,null,null,null,null,null,0.8214644193649292,null,null,null,null,null,null],[null,null,null,null,null,null,0.8776329159736633,null,null,null,null,null,null,null],[null,null,null,null,null,null,null,null,null,null,null,null,null,null]],\"type\":\"contour\",\"xaxis\":\"x37\",\"yaxis\":\"y37\"},{\"marker\":{\"color\":\"black\",\"line\":{\"color\":\"Gray\",\"width\":2.0}},\"mode\":\"markers\",\"name\":\"Feasible Trial\",\"showlegend\":false,\"x\":[0.44048073411556865,0.42565125145570576,0.21769498901785297,0.3892263644877882,0.39518942324725165],\"y\":[0.06474014431307697,0.09246386114864602,0.04531450100143717,0.09956522756789522,0.09933454589901237],\"type\":\"scatter\",\"xaxis\":\"x37\",\"yaxis\":\"y37\"},{\"colorbar\":{\"title\":{\"text\":\"Objective Value\"}},\"colorscale\":[[0.0,\"rgb(247,251,255)\"],[0.125,\"rgb(222,235,247)\"],[0.25,\"rgb(198,219,239)\"],[0.375,\"rgb(158,202,225)\"],[0.5,\"rgb(107,174,214)\"],[0.625,\"rgb(66,146,198)\"],[0.75,\"rgb(33,113,181)\"],[0.875,\"rgb(8,81,156)\"],[1.0,\"rgb(8,48,107)\"]],\"connectgaps\":true,\"contours\":{\"coloring\":\"heatmap\"},\"hoverinfo\":\"none\",\"line\":{\"smoothing\":1.3},\"reversescale\":false,\"showscale\":false,\"x\":[0.20421460334384314,0.21769498901785297,0.2562076496246386,0.2754041123491316,0.3568786837272921,0.37715564662125356,0.3892263644877882,0.39518942324725165,0.42565125145570576,0.43966823165243996,0.44048073411556865,0.4598679209564908,0.4873027024980497,0.5007830881720595],\"y\":[\"adam\",\"rmsprop\",\"sgd\"],\"z\":[[null,null,null,0.12838515639305115,null,0.3299899697303772,null,null,null,0.3039117455482483,null,null,null,null],[null,null,0.1624874621629715,null,0.31594783067703247,null,null,null,null,null,null,0.5486459136009216,0.33299899101257324,null],[null,0.8475426435470581,null,null,null,null,0.8776329159736633,0.8214644193649292,0.8485456109046936,null,0.8104313015937805,null,null,null]],\"type\":\"contour\",\"xaxis\":\"x44\",\"yaxis\":\"y44\"},{\"marker\":{\"color\":\"black\",\"line\":{\"color\":\"Gray\",\"width\":2.0}},\"mode\":\"markers\",\"name\":\"Feasible Trial\",\"showlegend\":false,\"x\":[0.3568786837272921,0.37715564662125356,0.44048073411556865,0.42565125145570576,0.2562076496246386,0.21769498901785297,0.2754041123491316,0.4598679209564908,0.4873027024980497,0.43966823165243996,0.3892263644877882,0.39518942324725165],\"y\":[\"rmsprop\",\"adam\",\"sgd\",\"sgd\",\"rmsprop\",\"sgd\",\"adam\",\"rmsprop\",\"rmsprop\",\"adam\",\"sgd\",\"sgd\"],\"type\":\"scatter\",\"xaxis\":\"x44\",\"yaxis\":\"y44\"},{\"colorbar\":{\"title\":{\"text\":\"Objective Value\"}},\"colorscale\":[[0.0,\"rgb(247,251,255)\"],[0.125,\"rgb(222,235,247)\"],[0.25,\"rgb(198,219,239)\"],[0.375,\"rgb(158,202,225)\"],[0.5,\"rgb(107,174,214)\"],[0.625,\"rgb(66,146,198)\"],[0.75,\"rgb(33,113,181)\"],[0.875,\"rgb(8,81,156)\"],[1.0,\"rgb(8,48,107)\"]],\"connectgaps\":true,\"contours\":{\"coloring\":\"heatmap\"},\"hoverinfo\":\"none\",\"line\":{\"smoothing\":1.3},\"reversescale\":false,\"showscale\":false,\"x\":[24.7,28,31,37,41,45,51,54,65,76,77,87,94,97.3],\"y\":[27.2,32,64,128,132.8],\"z\":[[null,null,null,null,null,null,null,null,null,null,null,null,null,null],[null,null,null,null,null,0.12838515639305115,0.8776329159736633,0.8214644193649292,null,null,null,null,null,null],[null,null,0.8485456109046936,0.3039117455482483,null,null,null,null,null,null,0.5486459136009216,0.33299899101257324,null,null],[null,0.8475426435470581,null,null,0.3299899697303772,null,null,null,0.31594783067703247,0.8104313015937805,null,null,0.1624874621629715,null],[null,null,null,null,null,null,null,null,null,null,null,null,null,null]],\"type\":\"contour\",\"xaxis\":\"x3\",\"yaxis\":\"y3\"},{\"marker\":{\"color\":\"black\",\"line\":{\"color\":\"Gray\",\"width\":2.0}},\"mode\":\"markers\",\"name\":\"Feasible Trial\",\"showlegend\":false,\"x\":[65,41,76,31,94,28,45,77,87,37,51,54],\"y\":[128,128,128,64,128,128,32,64,64,64,32,32],\"type\":\"scatter\",\"xaxis\":\"x3\",\"yaxis\":\"y3\"},{\"colorbar\":{\"title\":{\"text\":\"Objective Value\"}},\"colorscale\":[[0.0,\"rgb(247,251,255)\"],[0.125,\"rgb(222,235,247)\"],[0.25,\"rgb(198,219,239)\"],[0.375,\"rgb(158,202,225)\"],[0.5,\"rgb(107,174,214)\"],[0.625,\"rgb(66,146,198)\"],[0.75,\"rgb(33,113,181)\"],[0.875,\"rgb(8,81,156)\"],[1.0,\"rgb(8,48,107)\"]],\"connectgaps\":true,\"contours\":{\"coloring\":\"heatmap\"},\"hoverinfo\":\"none\",\"line\":{\"smoothing\":1.3},\"reversescale\":false,\"showscale\":false,\"x\":[24.7,28,31,37,41,45,51,54,65,76,77,87,94,97.3],\"y\":[0.20421460334384314,0.21769498901785297,0.2562076496246386,0.2754041123491316,0.3568786837272921,0.37715564662125356,0.3892263644877882,0.39518942324725165,0.42565125145570576,0.43966823165243996,0.44048073411556865,0.4598679209564908,0.4873027024980497,0.5007830881720595],\"z\":[[null,null,null,null,null,null,null,null,null,null,null,null,null,null],[null,0.8475426435470581,null,null,null,null,null,null,null,null,null,null,null,null],[null,null,null,null,null,null,null,null,null,null,null,null,0.1624874621629715,null],[null,null,null,null,null,0.12838515639305115,null,null,null,null,null,null,null,null],[null,null,null,null,null,null,null,null,0.31594783067703247,null,null,null,null,null],[null,null,null,null,0.3299899697303772,null,null,null,null,null,null,null,null,null],[null,null,null,null,null,null,0.8776329159736633,null,null,null,null,null,null,null],[null,null,null,null,null,null,null,0.8214644193649292,null,null,null,null,null,null],[null,null,0.8485456109046936,null,null,null,null,null,null,null,null,null,null,null],[null,null,null,0.3039117455482483,null,null,null,null,null,null,null,null,null,null],[null,null,null,null,null,null,null,null,null,0.8104313015937805,null,null,null,null],[null,null,null,null,null,null,null,null,null,null,0.5486459136009216,null,null,null],[null,null,null,null,null,null,null,null,null,null,null,0.33299899101257324,null,null],[null,null,null,null,null,null,null,null,null,null,null,null,null,null]],\"type\":\"contour\",\"xaxis\":\"x10\",\"yaxis\":\"y10\"},{\"marker\":{\"color\":\"black\",\"line\":{\"color\":\"Gray\",\"width\":2.0}},\"mode\":\"markers\",\"name\":\"Feasible Trial\",\"showlegend\":false,\"x\":[65,41,76,31,94,28,45,77,87,37,51,54],\"y\":[0.3568786837272921,0.37715564662125356,0.44048073411556865,0.42565125145570576,0.2562076496246386,0.21769498901785297,0.2754041123491316,0.4598679209564908,0.4873027024980497,0.43966823165243996,0.3892263644877882,0.39518942324725165],\"type\":\"scatter\",\"xaxis\":\"x10\",\"yaxis\":\"y10\"},{\"type\":\"scatter\",\"xaxis\":\"x17\",\"yaxis\":\"y17\"},{\"colorbar\":{\"title\":{\"text\":\"Objective Value\"}},\"colorscale\":[[0.0,\"rgb(247,251,255)\"],[0.125,\"rgb(222,235,247)\"],[0.25,\"rgb(198,219,239)\"],[0.375,\"rgb(158,202,225)\"],[0.5,\"rgb(107,174,214)\"],[0.625,\"rgb(66,146,198)\"],[0.75,\"rgb(33,113,181)\"],[0.875,\"rgb(8,81,156)\"],[1.0,\"rgb(8,48,107)\"]],\"connectgaps\":true,\"contours\":{\"coloring\":\"heatmap\"},\"hoverinfo\":\"none\",\"line\":{\"smoothing\":1.3},\"reversescale\":false,\"showscale\":false,\"x\":[24.7,28,31,37,41,45,51,54,65,76,77,87,94,97.3],\"y\":[0.06371741731309635,0.06428271412790436,0.06934781894228761,0.07558865042406443,0.07615394723887244],\"z\":[[null,null,null,null,null,null,null,null,null,null,null,null,null,null],[null,null,null,null,0.3299899697303772,null,null,null,null,null,null,null,null,null],[null,null,null,0.3039117455482483,null,null,null,null,null,null,null,null,null,null],[null,null,null,null,null,0.12838515639305115,null,null,null,null,null,null,null,null],[null,null,null,null,null,null,null,null,null,null,null,null,null,null]],\"type\":\"contour\",\"xaxis\":\"x24\",\"yaxis\":\"y24\"},{\"marker\":{\"color\":\"black\",\"line\":{\"color\":\"Gray\",\"width\":2.0}},\"mode\":\"markers\",\"name\":\"Feasible Trial\",\"showlegend\":false,\"x\":[41,45,37],\"y\":[0.06428271412790436,0.07558865042406443,0.06934781894228761],\"type\":\"scatter\",\"xaxis\":\"x24\",\"yaxis\":\"y24\"},{\"colorbar\":{\"title\":{\"text\":\"Objective Value\"}},\"colorscale\":[[0.0,\"rgb(247,251,255)\"],[0.125,\"rgb(222,235,247)\"],[0.25,\"rgb(198,219,239)\"],[0.375,\"rgb(158,202,225)\"],[0.5,\"rgb(107,174,214)\"],[0.625,\"rgb(66,146,198)\"],[0.75,\"rgb(33,113,181)\"],[0.875,\"rgb(8,81,156)\"],[1.0,\"rgb(8,48,107)\"]],\"connectgaps\":true,\"contours\":{\"coloring\":\"heatmap\"},\"hoverinfo\":\"none\",\"line\":{\"smoothing\":1.3},\"reversescale\":false,\"showscale\":false,\"x\":[24.7,28,31,37,41,45,51,54,65,76,77,87,94,97.3],\"y\":[0.020184119554077416,0.02385847898861848,0.052856313273896074,0.08964888481179067,0.0973456676794398,0.10102002711398088],\"z\":[[null,null,null,null,null,null,null,null,null,null,null,null,null,null],[null,null,null,null,null,null,null,null,null,null,0.5486459136009216,null,null,null],[null,null,null,null,null,null,null,null,null,null,null,0.33299899101257324,null,null],[null,null,null,null,null,null,null,null,0.31594783067703247,null,null,null,null,null],[null,null,null,null,null,null,null,null,null,null,null,null,0.1624874621629715,null],[null,null,null,null,null,null,null,null,null,null,null,null,null,null]],\"type\":\"contour\",\"xaxis\":\"x31\",\"yaxis\":\"y31\"},{\"marker\":{\"color\":\"black\",\"line\":{\"color\":\"Gray\",\"width\":2.0}},\"mode\":\"markers\",\"name\":\"Feasible Trial\",\"showlegend\":false,\"x\":[65,94,77,87],\"y\":[0.08964888481179067,0.0973456676794398,0.02385847898861848,0.052856313273896074],\"type\":\"scatter\",\"xaxis\":\"x31\",\"yaxis\":\"y31\"},{\"colorbar\":{\"title\":{\"text\":\"Objective Value\"}},\"colorscale\":[[0.0,\"rgb(247,251,255)\"],[0.125,\"rgb(222,235,247)\"],[0.25,\"rgb(198,219,239)\"],[0.375,\"rgb(158,202,225)\"],[0.5,\"rgb(107,174,214)\"],[0.625,\"rgb(66,146,198)\"],[0.75,\"rgb(33,113,181)\"],[0.875,\"rgb(8,81,156)\"],[1.0,\"rgb(8,48,107)\"]],\"connectgaps\":true,\"contours\":{\"coloring\":\"heatmap\"},\"hoverinfo\":\"none\",\"line\":{\"smoothing\":1.3},\"reversescale\":false,\"showscale\":false,\"x\":[24.7,28,31,37,41,45,51,54,65,76,77,87,94,97.3],\"y\":[0.042601964673114265,0.04531450100143717,0.06474014431307697,0.09246386114864602,0.09933454589901237,0.09956522756789522,0.10227776389621812],\"z\":[[null,null,null,null,null,null,null,null,null,null,null,null,null,null],[null,0.8475426435470581,null,null,null,null,null,null,null,null,null,null,null,null],[null,null,null,null,null,null,null,null,null,0.8104313015937805,null,null,null,null],[null,null,0.8485456109046936,null,null,null,null,null,null,null,null,null,null,null],[null,null,null,null,null,null,null,0.8214644193649292,null,null,null,null,null,null],[null,null,null,null,null,null,0.8776329159736633,null,null,null,null,null,null,null],[null,null,null,null,null,null,null,null,null,null,null,null,null,null]],\"type\":\"contour\",\"xaxis\":\"x38\",\"yaxis\":\"y38\"},{\"marker\":{\"color\":\"black\",\"line\":{\"color\":\"Gray\",\"width\":2.0}},\"mode\":\"markers\",\"name\":\"Feasible Trial\",\"showlegend\":false,\"x\":[76,31,28,51,54],\"y\":[0.06474014431307697,0.09246386114864602,0.04531450100143717,0.09956522756789522,0.09933454589901237],\"type\":\"scatter\",\"xaxis\":\"x38\",\"yaxis\":\"y38\"},{\"colorbar\":{\"title\":{\"text\":\"Objective Value\"}},\"colorscale\":[[0.0,\"rgb(247,251,255)\"],[0.125,\"rgb(222,235,247)\"],[0.25,\"rgb(198,219,239)\"],[0.375,\"rgb(158,202,225)\"],[0.5,\"rgb(107,174,214)\"],[0.625,\"rgb(66,146,198)\"],[0.75,\"rgb(33,113,181)\"],[0.875,\"rgb(8,81,156)\"],[1.0,\"rgb(8,48,107)\"]],\"connectgaps\":true,\"contours\":{\"coloring\":\"heatmap\"},\"hoverinfo\":\"none\",\"line\":{\"smoothing\":1.3},\"reversescale\":false,\"showscale\":false,\"x\":[24.7,28,31,37,41,45,51,54,65,76,77,87,94,97.3],\"y\":[\"adam\",\"rmsprop\",\"sgd\"],\"z\":[[null,null,null,0.3039117455482483,0.3299899697303772,0.12838515639305115,null,null,null,null,null,null,null,null],[null,null,null,null,null,null,null,null,0.31594783067703247,null,0.5486459136009216,0.33299899101257324,0.1624874621629715,null],[null,0.8475426435470581,0.8485456109046936,null,null,null,0.8776329159736633,0.8214644193649292,null,0.8104313015937805,null,null,null,null]],\"type\":\"contour\",\"xaxis\":\"x45\",\"yaxis\":\"y45\"},{\"marker\":{\"color\":\"black\",\"line\":{\"color\":\"Gray\",\"width\":2.0}},\"mode\":\"markers\",\"name\":\"Feasible Trial\",\"showlegend\":false,\"x\":[65,41,76,31,94,28,45,77,87,37,51,54],\"y\":[\"rmsprop\",\"adam\",\"sgd\",\"sgd\",\"rmsprop\",\"sgd\",\"adam\",\"rmsprop\",\"rmsprop\",\"adam\",\"sgd\",\"sgd\"],\"type\":\"scatter\",\"xaxis\":\"x45\",\"yaxis\":\"y45\"},{\"colorbar\":{\"title\":{\"text\":\"Objective Value\"}},\"colorscale\":[[0.0,\"rgb(247,251,255)\"],[0.125,\"rgb(222,235,247)\"],[0.25,\"rgb(198,219,239)\"],[0.375,\"rgb(158,202,225)\"],[0.5,\"rgb(107,174,214)\"],[0.625,\"rgb(66,146,198)\"],[0.75,\"rgb(33,113,181)\"],[0.875,\"rgb(8,81,156)\"],[1.0,\"rgb(8,48,107)\"]],\"connectgaps\":true,\"contours\":{\"coloring\":\"heatmap\"},\"hoverinfo\":\"none\",\"line\":{\"smoothing\":1.3},\"reversescale\":false,\"showscale\":false,\"x\":[0.06371741731309635,0.06428271412790436,0.06934781894228761,0.07558865042406443,0.07615394723887244],\"y\":[27.2,32,64,128,132.8],\"z\":[[null,null,null,null,null],[null,null,null,0.12838515639305115,null],[null,null,0.3039117455482483,null,null],[null,0.3299899697303772,null,null,null],[null,null,null,null,null]],\"type\":\"contour\",\"xaxis\":\"x4\",\"yaxis\":\"y4\"},{\"marker\":{\"color\":\"black\",\"line\":{\"color\":\"Gray\",\"width\":2.0}},\"mode\":\"markers\",\"name\":\"Feasible Trial\",\"showlegend\":false,\"x\":[0.06428271412790436,0.07558865042406443,0.06934781894228761],\"y\":[128,32,64],\"type\":\"scatter\",\"xaxis\":\"x4\",\"yaxis\":\"y4\"},{\"colorbar\":{\"title\":{\"text\":\"Objective Value\"}},\"colorscale\":[[0.0,\"rgb(247,251,255)\"],[0.125,\"rgb(222,235,247)\"],[0.25,\"rgb(198,219,239)\"],[0.375,\"rgb(158,202,225)\"],[0.5,\"rgb(107,174,214)\"],[0.625,\"rgb(66,146,198)\"],[0.75,\"rgb(33,113,181)\"],[0.875,\"rgb(8,81,156)\"],[1.0,\"rgb(8,48,107)\"]],\"connectgaps\":true,\"contours\":{\"coloring\":\"heatmap\"},\"hoverinfo\":\"none\",\"line\":{\"smoothing\":1.3},\"reversescale\":false,\"showscale\":false,\"x\":[0.06371741731309635,0.06428271412790436,0.06934781894228761,0.07558865042406443,0.07615394723887244],\"y\":[0.20421460334384314,0.21769498901785297,0.2562076496246386,0.2754041123491316,0.3568786837272921,0.37715564662125356,0.3892263644877882,0.39518942324725165,0.42565125145570576,0.43966823165243996,0.44048073411556865,0.4598679209564908,0.4873027024980497,0.5007830881720595],\"z\":[[null,null,null,null,null],[null,null,null,null,null],[null,null,null,null,null],[null,null,null,0.12838515639305115,null],[null,null,null,null,null],[null,0.3299899697303772,null,null,null],[null,null,null,null,null],[null,null,null,null,null],[null,null,null,null,null],[null,null,0.3039117455482483,null,null],[null,null,null,null,null],[null,null,null,null,null],[null,null,null,null,null],[null,null,null,null,null]],\"type\":\"contour\",\"xaxis\":\"x11\",\"yaxis\":\"y11\"},{\"marker\":{\"color\":\"black\",\"line\":{\"color\":\"Gray\",\"width\":2.0}},\"mode\":\"markers\",\"name\":\"Feasible Trial\",\"showlegend\":false,\"x\":[0.06428271412790436,0.07558865042406443,0.06934781894228761],\"y\":[0.37715564662125356,0.2754041123491316,0.43966823165243996],\"type\":\"scatter\",\"xaxis\":\"x11\",\"yaxis\":\"y11\"},{\"colorbar\":{\"title\":{\"text\":\"Objective Value\"}},\"colorscale\":[[0.0,\"rgb(247,251,255)\"],[0.125,\"rgb(222,235,247)\"],[0.25,\"rgb(198,219,239)\"],[0.375,\"rgb(158,202,225)\"],[0.5,\"rgb(107,174,214)\"],[0.625,\"rgb(66,146,198)\"],[0.75,\"rgb(33,113,181)\"],[0.875,\"rgb(8,81,156)\"],[1.0,\"rgb(8,48,107)\"]],\"connectgaps\":true,\"contours\":{\"coloring\":\"heatmap\"},\"hoverinfo\":\"none\",\"line\":{\"smoothing\":1.3},\"reversescale\":false,\"showscale\":false,\"x\":[0.06371741731309635,0.06428271412790436,0.06934781894228761,0.07558865042406443,0.07615394723887244],\"y\":[24.7,28,31,37,41,45,51,54,65,76,77,87,94,97.3],\"z\":[[null,null,null,null,null],[null,null,null,null,null],[null,null,null,null,null],[null,null,0.3039117455482483,null,null],[null,0.3299899697303772,null,null,null],[null,null,null,0.12838515639305115,null],[null,null,null,null,null],[null,null,null,null,null],[null,null,null,null,null],[null,null,null,null,null],[null,null,null,null,null],[null,null,null,null,null],[null,null,null,null,null],[null,null,null,null,null]],\"type\":\"contour\",\"xaxis\":\"x18\",\"yaxis\":\"y18\"},{\"marker\":{\"color\":\"black\",\"line\":{\"color\":\"Gray\",\"width\":2.0}},\"mode\":\"markers\",\"name\":\"Feasible Trial\",\"showlegend\":false,\"x\":[0.06428271412790436,0.07558865042406443,0.06934781894228761],\"y\":[41,45,37],\"type\":\"scatter\",\"xaxis\":\"x18\",\"yaxis\":\"y18\"},{\"type\":\"scatter\",\"xaxis\":\"x25\",\"yaxis\":\"y25\"},{\"colorbar\":{\"title\":{\"text\":\"Objective Value\"}},\"colorscale\":[[0.0,\"rgb(247,251,255)\"],[0.125,\"rgb(222,235,247)\"],[0.25,\"rgb(198,219,239)\"],[0.375,\"rgb(158,202,225)\"],[0.5,\"rgb(107,174,214)\"],[0.625,\"rgb(66,146,198)\"],[0.75,\"rgb(33,113,181)\"],[0.875,\"rgb(8,81,156)\"],[1.0,\"rgb(8,48,107)\"]],\"connectgaps\":true,\"contours\":{\"coloring\":\"heatmap\"},\"hoverinfo\":\"none\",\"line\":{\"smoothing\":1.3},\"reversescale\":false,\"showscale\":false,\"x\":[0.06371741731309635,0.06428271412790436,0.06934781894228761,0.07558865042406443,0.07615394723887244],\"y\":[0.020184119554077416,0.02385847898861848,0.052856313273896074,0.08964888481179067,0.0973456676794398,0.10102002711398088],\"z\":[[null,null,null,null,null],[null,null,null,null,null],[null,null,null,null,null],[null,null,null,null,null],[null,null,null,null,null],[null,null,null,null,null]],\"type\":\"contour\",\"xaxis\":\"x32\",\"yaxis\":\"y32\"},{\"marker\":{\"color\":\"black\",\"line\":{\"color\":\"Gray\",\"width\":2.0}},\"mode\":\"markers\",\"name\":\"Feasible Trial\",\"showlegend\":false,\"x\":[],\"y\":[],\"type\":\"scatter\",\"xaxis\":\"x32\",\"yaxis\":\"y32\"},{\"colorbar\":{\"title\":{\"text\":\"Objective Value\"}},\"colorscale\":[[0.0,\"rgb(247,251,255)\"],[0.125,\"rgb(222,235,247)\"],[0.25,\"rgb(198,219,239)\"],[0.375,\"rgb(158,202,225)\"],[0.5,\"rgb(107,174,214)\"],[0.625,\"rgb(66,146,198)\"],[0.75,\"rgb(33,113,181)\"],[0.875,\"rgb(8,81,156)\"],[1.0,\"rgb(8,48,107)\"]],\"connectgaps\":true,\"contours\":{\"coloring\":\"heatmap\"},\"hoverinfo\":\"none\",\"line\":{\"smoothing\":1.3},\"reversescale\":false,\"showscale\":false,\"x\":[0.06371741731309635,0.06428271412790436,0.06934781894228761,0.07558865042406443,0.07615394723887244],\"y\":[0.042601964673114265,0.04531450100143717,0.06474014431307697,0.09246386114864602,0.09933454589901237,0.09956522756789522,0.10227776389621812],\"z\":[[null,null,null,null,null],[null,null,null,null,null],[null,null,null,null,null],[null,null,null,null,null],[null,null,null,null,null],[null,null,null,null,null],[null,null,null,null,null]],\"type\":\"contour\",\"xaxis\":\"x39\",\"yaxis\":\"y39\"},{\"marker\":{\"color\":\"black\",\"line\":{\"color\":\"Gray\",\"width\":2.0}},\"mode\":\"markers\",\"name\":\"Feasible Trial\",\"showlegend\":false,\"x\":[],\"y\":[],\"type\":\"scatter\",\"xaxis\":\"x39\",\"yaxis\":\"y39\"},{\"colorbar\":{\"title\":{\"text\":\"Objective Value\"}},\"colorscale\":[[0.0,\"rgb(247,251,255)\"],[0.125,\"rgb(222,235,247)\"],[0.25,\"rgb(198,219,239)\"],[0.375,\"rgb(158,202,225)\"],[0.5,\"rgb(107,174,214)\"],[0.625,\"rgb(66,146,198)\"],[0.75,\"rgb(33,113,181)\"],[0.875,\"rgb(8,81,156)\"],[1.0,\"rgb(8,48,107)\"]],\"connectgaps\":true,\"contours\":{\"coloring\":\"heatmap\"},\"hoverinfo\":\"none\",\"line\":{\"smoothing\":1.3},\"reversescale\":false,\"showscale\":false,\"x\":[0.06371741731309635,0.06428271412790436,0.06934781894228761,0.07558865042406443,0.07615394723887244],\"y\":[\"adam\",\"rmsprop\",\"sgd\"],\"z\":[[null,0.3299899697303772,0.3039117455482483,0.12838515639305115,null],[null,null,null,null,null],[null,null,null,null,null]],\"type\":\"contour\",\"xaxis\":\"x46\",\"yaxis\":\"y46\"},{\"marker\":{\"color\":\"black\",\"line\":{\"color\":\"Gray\",\"width\":2.0}},\"mode\":\"markers\",\"name\":\"Feasible Trial\",\"showlegend\":false,\"x\":[0.06428271412790436,0.07558865042406443,0.06934781894228761],\"y\":[\"adam\",\"adam\",\"adam\"],\"type\":\"scatter\",\"xaxis\":\"x46\",\"yaxis\":\"y46\"},{\"colorbar\":{\"title\":{\"text\":\"Objective Value\"}},\"colorscale\":[[0.0,\"rgb(247,251,255)\"],[0.125,\"rgb(222,235,247)\"],[0.25,\"rgb(198,219,239)\"],[0.375,\"rgb(158,202,225)\"],[0.5,\"rgb(107,174,214)\"],[0.625,\"rgb(66,146,198)\"],[0.75,\"rgb(33,113,181)\"],[0.875,\"rgb(8,81,156)\"],[1.0,\"rgb(8,48,107)\"]],\"connectgaps\":true,\"contours\":{\"coloring\":\"heatmap\"},\"hoverinfo\":\"none\",\"line\":{\"smoothing\":1.3},\"reversescale\":false,\"showscale\":false,\"x\":[0.020184119554077416,0.02385847898861848,0.052856313273896074,0.08964888481179067,0.0973456676794398,0.10102002711398088],\"y\":[27.2,32,64,128,132.8],\"z\":[[null,null,null,null,null,null],[null,null,null,null,null,null],[null,0.5486459136009216,0.33299899101257324,null,null,null],[null,null,null,0.31594783067703247,0.1624874621629715,null],[null,null,null,null,null,null]],\"type\":\"contour\",\"xaxis\":\"x5\",\"yaxis\":\"y5\"},{\"marker\":{\"color\":\"black\",\"line\":{\"color\":\"Gray\",\"width\":2.0}},\"mode\":\"markers\",\"name\":\"Feasible Trial\",\"showlegend\":false,\"x\":[0.08964888481179067,0.0973456676794398,0.02385847898861848,0.052856313273896074],\"y\":[128,128,64,64],\"type\":\"scatter\",\"xaxis\":\"x5\",\"yaxis\":\"y5\"},{\"colorbar\":{\"title\":{\"text\":\"Objective Value\"}},\"colorscale\":[[0.0,\"rgb(247,251,255)\"],[0.125,\"rgb(222,235,247)\"],[0.25,\"rgb(198,219,239)\"],[0.375,\"rgb(158,202,225)\"],[0.5,\"rgb(107,174,214)\"],[0.625,\"rgb(66,146,198)\"],[0.75,\"rgb(33,113,181)\"],[0.875,\"rgb(8,81,156)\"],[1.0,\"rgb(8,48,107)\"]],\"connectgaps\":true,\"contours\":{\"coloring\":\"heatmap\"},\"hoverinfo\":\"none\",\"line\":{\"smoothing\":1.3},\"reversescale\":false,\"showscale\":false,\"x\":[0.020184119554077416,0.02385847898861848,0.052856313273896074,0.08964888481179067,0.0973456676794398,0.10102002711398088],\"y\":[0.20421460334384314,0.21769498901785297,0.2562076496246386,0.2754041123491316,0.3568786837272921,0.37715564662125356,0.3892263644877882,0.39518942324725165,0.42565125145570576,0.43966823165243996,0.44048073411556865,0.4598679209564908,0.4873027024980497,0.5007830881720595],\"z\":[[null,null,null,null,null,null],[null,null,null,null,null,null],[null,null,null,null,0.1624874621629715,null],[null,null,null,null,null,null],[null,null,null,0.31594783067703247,null,null],[null,null,null,null,null,null],[null,null,null,null,null,null],[null,null,null,null,null,null],[null,null,null,null,null,null],[null,null,null,null,null,null],[null,null,null,null,null,null],[null,0.5486459136009216,null,null,null,null],[null,null,0.33299899101257324,null,null,null],[null,null,null,null,null,null]],\"type\":\"contour\",\"xaxis\":\"x12\",\"yaxis\":\"y12\"},{\"marker\":{\"color\":\"black\",\"line\":{\"color\":\"Gray\",\"width\":2.0}},\"mode\":\"markers\",\"name\":\"Feasible Trial\",\"showlegend\":false,\"x\":[0.08964888481179067,0.0973456676794398,0.02385847898861848,0.052856313273896074],\"y\":[0.3568786837272921,0.2562076496246386,0.4598679209564908,0.4873027024980497],\"type\":\"scatter\",\"xaxis\":\"x12\",\"yaxis\":\"y12\"},{\"colorbar\":{\"title\":{\"text\":\"Objective Value\"}},\"colorscale\":[[0.0,\"rgb(247,251,255)\"],[0.125,\"rgb(222,235,247)\"],[0.25,\"rgb(198,219,239)\"],[0.375,\"rgb(158,202,225)\"],[0.5,\"rgb(107,174,214)\"],[0.625,\"rgb(66,146,198)\"],[0.75,\"rgb(33,113,181)\"],[0.875,\"rgb(8,81,156)\"],[1.0,\"rgb(8,48,107)\"]],\"connectgaps\":true,\"contours\":{\"coloring\":\"heatmap\"},\"hoverinfo\":\"none\",\"line\":{\"smoothing\":1.3},\"reversescale\":false,\"showscale\":false,\"x\":[0.020184119554077416,0.02385847898861848,0.052856313273896074,0.08964888481179067,0.0973456676794398,0.10102002711398088],\"y\":[24.7,28,31,37,41,45,51,54,65,76,77,87,94,97.3],\"z\":[[null,null,null,null,null,null],[null,null,null,null,null,null],[null,null,null,null,null,null],[null,null,null,null,null,null],[null,null,null,null,null,null],[null,null,null,null,null,null],[null,null,null,null,null,null],[null,null,null,null,null,null],[null,null,null,0.31594783067703247,null,null],[null,null,null,null,null,null],[null,0.5486459136009216,null,null,null,null],[null,null,0.33299899101257324,null,null,null],[null,null,null,null,0.1624874621629715,null],[null,null,null,null,null,null]],\"type\":\"contour\",\"xaxis\":\"x19\",\"yaxis\":\"y19\"},{\"marker\":{\"color\":\"black\",\"line\":{\"color\":\"Gray\",\"width\":2.0}},\"mode\":\"markers\",\"name\":\"Feasible Trial\",\"showlegend\":false,\"x\":[0.08964888481179067,0.0973456676794398,0.02385847898861848,0.052856313273896074],\"y\":[65,94,77,87],\"type\":\"scatter\",\"xaxis\":\"x19\",\"yaxis\":\"y19\"},{\"colorbar\":{\"title\":{\"text\":\"Objective Value\"}},\"colorscale\":[[0.0,\"rgb(247,251,255)\"],[0.125,\"rgb(222,235,247)\"],[0.25,\"rgb(198,219,239)\"],[0.375,\"rgb(158,202,225)\"],[0.5,\"rgb(107,174,214)\"],[0.625,\"rgb(66,146,198)\"],[0.75,\"rgb(33,113,181)\"],[0.875,\"rgb(8,81,156)\"],[1.0,\"rgb(8,48,107)\"]],\"connectgaps\":true,\"contours\":{\"coloring\":\"heatmap\"},\"hoverinfo\":\"none\",\"line\":{\"smoothing\":1.3},\"reversescale\":false,\"showscale\":false,\"x\":[0.020184119554077416,0.02385847898861848,0.052856313273896074,0.08964888481179067,0.0973456676794398,0.10102002711398088],\"y\":[0.06371741731309635,0.06428271412790436,0.06934781894228761,0.07558865042406443,0.07615394723887244],\"z\":[[null,null,null,null,null,null],[null,null,null,null,null,null],[null,null,null,null,null,null],[null,null,null,null,null,null],[null,null,null,null,null,null]],\"type\":\"contour\",\"xaxis\":\"x26\",\"yaxis\":\"y26\"},{\"marker\":{\"color\":\"black\",\"line\":{\"color\":\"Gray\",\"width\":2.0}},\"mode\":\"markers\",\"name\":\"Feasible Trial\",\"showlegend\":false,\"x\":[],\"y\":[],\"type\":\"scatter\",\"xaxis\":\"x26\",\"yaxis\":\"y26\"},{\"type\":\"scatter\",\"xaxis\":\"x33\",\"yaxis\":\"y33\"},{\"colorbar\":{\"title\":{\"text\":\"Objective Value\"}},\"colorscale\":[[0.0,\"rgb(247,251,255)\"],[0.125,\"rgb(222,235,247)\"],[0.25,\"rgb(198,219,239)\"],[0.375,\"rgb(158,202,225)\"],[0.5,\"rgb(107,174,214)\"],[0.625,\"rgb(66,146,198)\"],[0.75,\"rgb(33,113,181)\"],[0.875,\"rgb(8,81,156)\"],[1.0,\"rgb(8,48,107)\"]],\"connectgaps\":true,\"contours\":{\"coloring\":\"heatmap\"},\"hoverinfo\":\"none\",\"line\":{\"smoothing\":1.3},\"reversescale\":false,\"showscale\":false,\"x\":[0.020184119554077416,0.02385847898861848,0.052856313273896074,0.08964888481179067,0.0973456676794398,0.10102002711398088],\"y\":[0.042601964673114265,0.04531450100143717,0.06474014431307697,0.09246386114864602,0.09933454589901237,0.09956522756789522,0.10227776389621812],\"z\":[[null,null,null,null,null,null],[null,null,null,null,null,null],[null,null,null,null,null,null],[null,null,null,null,null,null],[null,null,null,null,null,null],[null,null,null,null,null,null],[null,null,null,null,null,null]],\"type\":\"contour\",\"xaxis\":\"x40\",\"yaxis\":\"y40\"},{\"marker\":{\"color\":\"black\",\"line\":{\"color\":\"Gray\",\"width\":2.0}},\"mode\":\"markers\",\"name\":\"Feasible Trial\",\"showlegend\":false,\"x\":[],\"y\":[],\"type\":\"scatter\",\"xaxis\":\"x40\",\"yaxis\":\"y40\"},{\"colorbar\":{\"title\":{\"text\":\"Objective Value\"}},\"colorscale\":[[0.0,\"rgb(247,251,255)\"],[0.125,\"rgb(222,235,247)\"],[0.25,\"rgb(198,219,239)\"],[0.375,\"rgb(158,202,225)\"],[0.5,\"rgb(107,174,214)\"],[0.625,\"rgb(66,146,198)\"],[0.75,\"rgb(33,113,181)\"],[0.875,\"rgb(8,81,156)\"],[1.0,\"rgb(8,48,107)\"]],\"connectgaps\":true,\"contours\":{\"coloring\":\"heatmap\"},\"hoverinfo\":\"none\",\"line\":{\"smoothing\":1.3},\"reversescale\":false,\"showscale\":false,\"x\":[0.020184119554077416,0.02385847898861848,0.052856313273896074,0.08964888481179067,0.0973456676794398,0.10102002711398088],\"y\":[\"adam\",\"rmsprop\",\"sgd\"],\"z\":[[null,null,null,null,null,null],[null,0.5486459136009216,0.33299899101257324,0.31594783067703247,0.1624874621629715,null],[null,null,null,null,null,null]],\"type\":\"contour\",\"xaxis\":\"x47\",\"yaxis\":\"y47\"},{\"marker\":{\"color\":\"black\",\"line\":{\"color\":\"Gray\",\"width\":2.0}},\"mode\":\"markers\",\"name\":\"Feasible Trial\",\"showlegend\":false,\"x\":[0.08964888481179067,0.0973456676794398,0.02385847898861848,0.052856313273896074],\"y\":[\"rmsprop\",\"rmsprop\",\"rmsprop\",\"rmsprop\"],\"type\":\"scatter\",\"xaxis\":\"x47\",\"yaxis\":\"y47\"},{\"colorbar\":{\"title\":{\"text\":\"Objective Value\"}},\"colorscale\":[[0.0,\"rgb(247,251,255)\"],[0.125,\"rgb(222,235,247)\"],[0.25,\"rgb(198,219,239)\"],[0.375,\"rgb(158,202,225)\"],[0.5,\"rgb(107,174,214)\"],[0.625,\"rgb(66,146,198)\"],[0.75,\"rgb(33,113,181)\"],[0.875,\"rgb(8,81,156)\"],[1.0,\"rgb(8,48,107)\"]],\"connectgaps\":true,\"contours\":{\"coloring\":\"heatmap\"},\"hoverinfo\":\"none\",\"line\":{\"smoothing\":1.3},\"reversescale\":false,\"showscale\":false,\"x\":[0.042601964673114265,0.04531450100143717,0.06474014431307697,0.09246386114864602,0.09933454589901237,0.09956522756789522,0.10227776389621812],\"y\":[27.2,32,64,128,132.8],\"z\":[[null,null,null,null,null,null,null],[null,null,null,null,0.8214644193649292,0.8776329159736633,null],[null,null,null,0.8485456109046936,null,null,null],[null,0.8475426435470581,0.8104313015937805,null,null,null,null],[null,null,null,null,null,null,null]],\"type\":\"contour\",\"xaxis\":\"x6\",\"yaxis\":\"y6\"},{\"marker\":{\"color\":\"black\",\"line\":{\"color\":\"Gray\",\"width\":2.0}},\"mode\":\"markers\",\"name\":\"Feasible Trial\",\"showlegend\":false,\"x\":[0.06474014431307697,0.09246386114864602,0.04531450100143717,0.09956522756789522,0.09933454589901237],\"y\":[128,64,128,32,32],\"type\":\"scatter\",\"xaxis\":\"x6\",\"yaxis\":\"y6\"},{\"colorbar\":{\"title\":{\"text\":\"Objective Value\"}},\"colorscale\":[[0.0,\"rgb(247,251,255)\"],[0.125,\"rgb(222,235,247)\"],[0.25,\"rgb(198,219,239)\"],[0.375,\"rgb(158,202,225)\"],[0.5,\"rgb(107,174,214)\"],[0.625,\"rgb(66,146,198)\"],[0.75,\"rgb(33,113,181)\"],[0.875,\"rgb(8,81,156)\"],[1.0,\"rgb(8,48,107)\"]],\"connectgaps\":true,\"contours\":{\"coloring\":\"heatmap\"},\"hoverinfo\":\"none\",\"line\":{\"smoothing\":1.3},\"reversescale\":false,\"showscale\":false,\"x\":[0.042601964673114265,0.04531450100143717,0.06474014431307697,0.09246386114864602,0.09933454589901237,0.09956522756789522,0.10227776389621812],\"y\":[0.20421460334384314,0.21769498901785297,0.2562076496246386,0.2754041123491316,0.3568786837272921,0.37715564662125356,0.3892263644877882,0.39518942324725165,0.42565125145570576,0.43966823165243996,0.44048073411556865,0.4598679209564908,0.4873027024980497,0.5007830881720595],\"z\":[[null,null,null,null,null,null,null],[null,0.8475426435470581,null,null,null,null,null],[null,null,null,null,null,null,null],[null,null,null,null,null,null,null],[null,null,null,null,null,null,null],[null,null,null,null,null,null,null],[null,null,null,null,null,0.8776329159736633,null],[null,null,null,null,0.8214644193649292,null,null],[null,null,null,0.8485456109046936,null,null,null],[null,null,null,null,null,null,null],[null,null,0.8104313015937805,null,null,null,null],[null,null,null,null,null,null,null],[null,null,null,null,null,null,null],[null,null,null,null,null,null,null]],\"type\":\"contour\",\"xaxis\":\"x13\",\"yaxis\":\"y13\"},{\"marker\":{\"color\":\"black\",\"line\":{\"color\":\"Gray\",\"width\":2.0}},\"mode\":\"markers\",\"name\":\"Feasible Trial\",\"showlegend\":false,\"x\":[0.06474014431307697,0.09246386114864602,0.04531450100143717,0.09956522756789522,0.09933454589901237],\"y\":[0.44048073411556865,0.42565125145570576,0.21769498901785297,0.3892263644877882,0.39518942324725165],\"type\":\"scatter\",\"xaxis\":\"x13\",\"yaxis\":\"y13\"},{\"colorbar\":{\"title\":{\"text\":\"Objective Value\"}},\"colorscale\":[[0.0,\"rgb(247,251,255)\"],[0.125,\"rgb(222,235,247)\"],[0.25,\"rgb(198,219,239)\"],[0.375,\"rgb(158,202,225)\"],[0.5,\"rgb(107,174,214)\"],[0.625,\"rgb(66,146,198)\"],[0.75,\"rgb(33,113,181)\"],[0.875,\"rgb(8,81,156)\"],[1.0,\"rgb(8,48,107)\"]],\"connectgaps\":true,\"contours\":{\"coloring\":\"heatmap\"},\"hoverinfo\":\"none\",\"line\":{\"smoothing\":1.3},\"reversescale\":false,\"showscale\":false,\"x\":[0.042601964673114265,0.04531450100143717,0.06474014431307697,0.09246386114864602,0.09933454589901237,0.09956522756789522,0.10227776389621812],\"y\":[24.7,28,31,37,41,45,51,54,65,76,77,87,94,97.3],\"z\":[[null,null,null,null,null,null,null],[null,0.8475426435470581,null,null,null,null,null],[null,null,null,0.8485456109046936,null,null,null],[null,null,null,null,null,null,null],[null,null,null,null,null,null,null],[null,null,null,null,null,null,null],[null,null,null,null,null,0.8776329159736633,null],[null,null,null,null,0.8214644193649292,null,null],[null,null,null,null,null,null,null],[null,null,0.8104313015937805,null,null,null,null],[null,null,null,null,null,null,null],[null,null,null,null,null,null,null],[null,null,null,null,null,null,null],[null,null,null,null,null,null,null]],\"type\":\"contour\",\"xaxis\":\"x20\",\"yaxis\":\"y20\"},{\"marker\":{\"color\":\"black\",\"line\":{\"color\":\"Gray\",\"width\":2.0}},\"mode\":\"markers\",\"name\":\"Feasible Trial\",\"showlegend\":false,\"x\":[0.06474014431307697,0.09246386114864602,0.04531450100143717,0.09956522756789522,0.09933454589901237],\"y\":[76,31,28,51,54],\"type\":\"scatter\",\"xaxis\":\"x20\",\"yaxis\":\"y20\"},{\"colorbar\":{\"title\":{\"text\":\"Objective Value\"}},\"colorscale\":[[0.0,\"rgb(247,251,255)\"],[0.125,\"rgb(222,235,247)\"],[0.25,\"rgb(198,219,239)\"],[0.375,\"rgb(158,202,225)\"],[0.5,\"rgb(107,174,214)\"],[0.625,\"rgb(66,146,198)\"],[0.75,\"rgb(33,113,181)\"],[0.875,\"rgb(8,81,156)\"],[1.0,\"rgb(8,48,107)\"]],\"connectgaps\":true,\"contours\":{\"coloring\":\"heatmap\"},\"hoverinfo\":\"none\",\"line\":{\"smoothing\":1.3},\"reversescale\":false,\"showscale\":false,\"x\":[0.042601964673114265,0.04531450100143717,0.06474014431307697,0.09246386114864602,0.09933454589901237,0.09956522756789522,0.10227776389621812],\"y\":[0.06371741731309635,0.06428271412790436,0.06934781894228761,0.07558865042406443,0.07615394723887244],\"z\":[[null,null,null,null,null,null,null],[null,null,null,null,null,null,null],[null,null,null,null,null,null,null],[null,null,null,null,null,null,null],[null,null,null,null,null,null,null]],\"type\":\"contour\",\"xaxis\":\"x27\",\"yaxis\":\"y27\"},{\"marker\":{\"color\":\"black\",\"line\":{\"color\":\"Gray\",\"width\":2.0}},\"mode\":\"markers\",\"name\":\"Feasible Trial\",\"showlegend\":false,\"x\":[],\"y\":[],\"type\":\"scatter\",\"xaxis\":\"x27\",\"yaxis\":\"y27\"},{\"colorbar\":{\"title\":{\"text\":\"Objective Value\"}},\"colorscale\":[[0.0,\"rgb(247,251,255)\"],[0.125,\"rgb(222,235,247)\"],[0.25,\"rgb(198,219,239)\"],[0.375,\"rgb(158,202,225)\"],[0.5,\"rgb(107,174,214)\"],[0.625,\"rgb(66,146,198)\"],[0.75,\"rgb(33,113,181)\"],[0.875,\"rgb(8,81,156)\"],[1.0,\"rgb(8,48,107)\"]],\"connectgaps\":true,\"contours\":{\"coloring\":\"heatmap\"},\"hoverinfo\":\"none\",\"line\":{\"smoothing\":1.3},\"reversescale\":false,\"showscale\":false,\"x\":[0.042601964673114265,0.04531450100143717,0.06474014431307697,0.09246386114864602,0.09933454589901237,0.09956522756789522,0.10227776389621812],\"y\":[0.020184119554077416,0.02385847898861848,0.052856313273896074,0.08964888481179067,0.0973456676794398,0.10102002711398088],\"z\":[[null,null,null,null,null,null,null],[null,null,null,null,null,null,null],[null,null,null,null,null,null,null],[null,null,null,null,null,null,null],[null,null,null,null,null,null,null],[null,null,null,null,null,null,null]],\"type\":\"contour\",\"xaxis\":\"x34\",\"yaxis\":\"y34\"},{\"marker\":{\"color\":\"black\",\"line\":{\"color\":\"Gray\",\"width\":2.0}},\"mode\":\"markers\",\"name\":\"Feasible Trial\",\"showlegend\":false,\"x\":[],\"y\":[],\"type\":\"scatter\",\"xaxis\":\"x34\",\"yaxis\":\"y34\"},{\"type\":\"scatter\",\"xaxis\":\"x41\",\"yaxis\":\"y41\"},{\"colorbar\":{\"title\":{\"text\":\"Objective Value\"}},\"colorscale\":[[0.0,\"rgb(247,251,255)\"],[0.125,\"rgb(222,235,247)\"],[0.25,\"rgb(198,219,239)\"],[0.375,\"rgb(158,202,225)\"],[0.5,\"rgb(107,174,214)\"],[0.625,\"rgb(66,146,198)\"],[0.75,\"rgb(33,113,181)\"],[0.875,\"rgb(8,81,156)\"],[1.0,\"rgb(8,48,107)\"]],\"connectgaps\":true,\"contours\":{\"coloring\":\"heatmap\"},\"hoverinfo\":\"none\",\"line\":{\"smoothing\":1.3},\"reversescale\":false,\"showscale\":false,\"x\":[0.042601964673114265,0.04531450100143717,0.06474014431307697,0.09246386114864602,0.09933454589901237,0.09956522756789522,0.10227776389621812],\"y\":[\"adam\",\"rmsprop\",\"sgd\"],\"z\":[[null,null,null,null,null,null,null],[null,null,null,null,null,null,null],[null,0.8475426435470581,0.8104313015937805,0.8485456109046936,0.8214644193649292,0.8776329159736633,null]],\"type\":\"contour\",\"xaxis\":\"x48\",\"yaxis\":\"y48\"},{\"marker\":{\"color\":\"black\",\"line\":{\"color\":\"Gray\",\"width\":2.0}},\"mode\":\"markers\",\"name\":\"Feasible Trial\",\"showlegend\":false,\"x\":[0.06474014431307697,0.09246386114864602,0.04531450100143717,0.09956522756789522,0.09933454589901237],\"y\":[\"sgd\",\"sgd\",\"sgd\",\"sgd\",\"sgd\"],\"type\":\"scatter\",\"xaxis\":\"x48\",\"yaxis\":\"y48\"},{\"colorbar\":{\"title\":{\"text\":\"Objective Value\"}},\"colorscale\":[[0.0,\"rgb(247,251,255)\"],[0.125,\"rgb(222,235,247)\"],[0.25,\"rgb(198,219,239)\"],[0.375,\"rgb(158,202,225)\"],[0.5,\"rgb(107,174,214)\"],[0.625,\"rgb(66,146,198)\"],[0.75,\"rgb(33,113,181)\"],[0.875,\"rgb(8,81,156)\"],[1.0,\"rgb(8,48,107)\"]],\"connectgaps\":true,\"contours\":{\"coloring\":\"heatmap\"},\"hoverinfo\":\"none\",\"line\":{\"smoothing\":1.3},\"reversescale\":false,\"showscale\":false,\"x\":[\"adam\",\"rmsprop\",\"sgd\"],\"y\":[27.2,32,64,128,132.8],\"z\":[[null,null,null],[0.12838515639305115,null,0.8776329159736633],[0.3039117455482483,0.5486459136009216,0.8485456109046936],[0.3299899697303772,0.31594783067703247,0.8475426435470581],[null,null,null]],\"type\":\"contour\",\"xaxis\":\"x7\",\"yaxis\":\"y7\"},{\"marker\":{\"color\":\"black\",\"line\":{\"color\":\"Gray\",\"width\":2.0}},\"mode\":\"markers\",\"name\":\"Feasible Trial\",\"showlegend\":false,\"x\":[\"rmsprop\",\"adam\",\"sgd\",\"sgd\",\"rmsprop\",\"sgd\",\"adam\",\"rmsprop\",\"rmsprop\",\"adam\",\"sgd\",\"sgd\"],\"y\":[128,128,128,64,128,128,32,64,64,64,32,32],\"type\":\"scatter\",\"xaxis\":\"x7\",\"yaxis\":\"y7\"},{\"colorbar\":{\"title\":{\"text\":\"Objective Value\"}},\"colorscale\":[[0.0,\"rgb(247,251,255)\"],[0.125,\"rgb(222,235,247)\"],[0.25,\"rgb(198,219,239)\"],[0.375,\"rgb(158,202,225)\"],[0.5,\"rgb(107,174,214)\"],[0.625,\"rgb(66,146,198)\"],[0.75,\"rgb(33,113,181)\"],[0.875,\"rgb(8,81,156)\"],[1.0,\"rgb(8,48,107)\"]],\"connectgaps\":true,\"contours\":{\"coloring\":\"heatmap\"},\"hoverinfo\":\"none\",\"line\":{\"smoothing\":1.3},\"reversescale\":false,\"showscale\":false,\"x\":[\"adam\",\"rmsprop\",\"sgd\"],\"y\":[0.20421460334384314,0.21769498901785297,0.2562076496246386,0.2754041123491316,0.3568786837272921,0.37715564662125356,0.3892263644877882,0.39518942324725165,0.42565125145570576,0.43966823165243996,0.44048073411556865,0.4598679209564908,0.4873027024980497,0.5007830881720595],\"z\":[[null,null,null],[null,null,0.8475426435470581],[null,0.1624874621629715,null],[0.12838515639305115,null,null],[null,0.31594783067703247,null],[0.3299899697303772,null,null],[null,null,0.8776329159736633],[null,null,0.8214644193649292],[null,null,0.8485456109046936],[0.3039117455482483,null,null],[null,null,0.8104313015937805],[null,0.5486459136009216,null],[null,0.33299899101257324,null],[null,null,null]],\"type\":\"contour\",\"xaxis\":\"x14\",\"yaxis\":\"y14\"},{\"marker\":{\"color\":\"black\",\"line\":{\"color\":\"Gray\",\"width\":2.0}},\"mode\":\"markers\",\"name\":\"Feasible Trial\",\"showlegend\":false,\"x\":[\"rmsprop\",\"adam\",\"sgd\",\"sgd\",\"rmsprop\",\"sgd\",\"adam\",\"rmsprop\",\"rmsprop\",\"adam\",\"sgd\",\"sgd\"],\"y\":[0.3568786837272921,0.37715564662125356,0.44048073411556865,0.42565125145570576,0.2562076496246386,0.21769498901785297,0.2754041123491316,0.4598679209564908,0.4873027024980497,0.43966823165243996,0.3892263644877882,0.39518942324725165],\"type\":\"scatter\",\"xaxis\":\"x14\",\"yaxis\":\"y14\"},{\"colorbar\":{\"title\":{\"text\":\"Objective Value\"}},\"colorscale\":[[0.0,\"rgb(247,251,255)\"],[0.125,\"rgb(222,235,247)\"],[0.25,\"rgb(198,219,239)\"],[0.375,\"rgb(158,202,225)\"],[0.5,\"rgb(107,174,214)\"],[0.625,\"rgb(66,146,198)\"],[0.75,\"rgb(33,113,181)\"],[0.875,\"rgb(8,81,156)\"],[1.0,\"rgb(8,48,107)\"]],\"connectgaps\":true,\"contours\":{\"coloring\":\"heatmap\"},\"hoverinfo\":\"none\",\"line\":{\"smoothing\":1.3},\"reversescale\":false,\"showscale\":false,\"x\":[\"adam\",\"rmsprop\",\"sgd\"],\"y\":[24.7,28,31,37,41,45,51,54,65,76,77,87,94,97.3],\"z\":[[null,null,null],[null,null,0.8475426435470581],[null,null,0.8485456109046936],[0.3039117455482483,null,null],[0.3299899697303772,null,null],[0.12838515639305115,null,null],[null,null,0.8776329159736633],[null,null,0.8214644193649292],[null,0.31594783067703247,null],[null,null,0.8104313015937805],[null,0.5486459136009216,null],[null,0.33299899101257324,null],[null,0.1624874621629715,null],[null,null,null]],\"type\":\"contour\",\"xaxis\":\"x21\",\"yaxis\":\"y21\"},{\"marker\":{\"color\":\"black\",\"line\":{\"color\":\"Gray\",\"width\":2.0}},\"mode\":\"markers\",\"name\":\"Feasible Trial\",\"showlegend\":false,\"x\":[\"rmsprop\",\"adam\",\"sgd\",\"sgd\",\"rmsprop\",\"sgd\",\"adam\",\"rmsprop\",\"rmsprop\",\"adam\",\"sgd\",\"sgd\"],\"y\":[65,41,76,31,94,28,45,77,87,37,51,54],\"type\":\"scatter\",\"xaxis\":\"x21\",\"yaxis\":\"y21\"},{\"colorbar\":{\"title\":{\"text\":\"Objective Value\"}},\"colorscale\":[[0.0,\"rgb(247,251,255)\"],[0.125,\"rgb(222,235,247)\"],[0.25,\"rgb(198,219,239)\"],[0.375,\"rgb(158,202,225)\"],[0.5,\"rgb(107,174,214)\"],[0.625,\"rgb(66,146,198)\"],[0.75,\"rgb(33,113,181)\"],[0.875,\"rgb(8,81,156)\"],[1.0,\"rgb(8,48,107)\"]],\"connectgaps\":true,\"contours\":{\"coloring\":\"heatmap\"},\"hoverinfo\":\"none\",\"line\":{\"smoothing\":1.3},\"reversescale\":false,\"showscale\":false,\"x\":[\"adam\",\"rmsprop\",\"sgd\"],\"y\":[0.06371741731309635,0.06428271412790436,0.06934781894228761,0.07558865042406443,0.07615394723887244],\"z\":[[null,null,null],[0.3299899697303772,null,null],[0.3039117455482483,null,null],[0.12838515639305115,null,null],[null,null,null]],\"type\":\"contour\",\"xaxis\":\"x28\",\"yaxis\":\"y28\"},{\"marker\":{\"color\":\"black\",\"line\":{\"color\":\"Gray\",\"width\":2.0}},\"mode\":\"markers\",\"name\":\"Feasible Trial\",\"showlegend\":false,\"x\":[\"adam\",\"adam\",\"adam\"],\"y\":[0.06428271412790436,0.07558865042406443,0.06934781894228761],\"type\":\"scatter\",\"xaxis\":\"x28\",\"yaxis\":\"y28\"},{\"colorbar\":{\"title\":{\"text\":\"Objective Value\"}},\"colorscale\":[[0.0,\"rgb(247,251,255)\"],[0.125,\"rgb(222,235,247)\"],[0.25,\"rgb(198,219,239)\"],[0.375,\"rgb(158,202,225)\"],[0.5,\"rgb(107,174,214)\"],[0.625,\"rgb(66,146,198)\"],[0.75,\"rgb(33,113,181)\"],[0.875,\"rgb(8,81,156)\"],[1.0,\"rgb(8,48,107)\"]],\"connectgaps\":true,\"contours\":{\"coloring\":\"heatmap\"},\"hoverinfo\":\"none\",\"line\":{\"smoothing\":1.3},\"reversescale\":false,\"showscale\":false,\"x\":[\"adam\",\"rmsprop\",\"sgd\"],\"y\":[0.020184119554077416,0.02385847898861848,0.052856313273896074,0.08964888481179067,0.0973456676794398,0.10102002711398088],\"z\":[[null,null,null],[null,0.5486459136009216,null],[null,0.33299899101257324,null],[null,0.31594783067703247,null],[null,0.1624874621629715,null],[null,null,null]],\"type\":\"contour\",\"xaxis\":\"x35\",\"yaxis\":\"y35\"},{\"marker\":{\"color\":\"black\",\"line\":{\"color\":\"Gray\",\"width\":2.0}},\"mode\":\"markers\",\"name\":\"Feasible Trial\",\"showlegend\":false,\"x\":[\"rmsprop\",\"rmsprop\",\"rmsprop\",\"rmsprop\"],\"y\":[0.08964888481179067,0.0973456676794398,0.02385847898861848,0.052856313273896074],\"type\":\"scatter\",\"xaxis\":\"x35\",\"yaxis\":\"y35\"},{\"colorbar\":{\"title\":{\"text\":\"Objective Value\"}},\"colorscale\":[[0.0,\"rgb(247,251,255)\"],[0.125,\"rgb(222,235,247)\"],[0.25,\"rgb(198,219,239)\"],[0.375,\"rgb(158,202,225)\"],[0.5,\"rgb(107,174,214)\"],[0.625,\"rgb(66,146,198)\"],[0.75,\"rgb(33,113,181)\"],[0.875,\"rgb(8,81,156)\"],[1.0,\"rgb(8,48,107)\"]],\"connectgaps\":true,\"contours\":{\"coloring\":\"heatmap\"},\"hoverinfo\":\"none\",\"line\":{\"smoothing\":1.3},\"reversescale\":false,\"showscale\":false,\"x\":[\"adam\",\"rmsprop\",\"sgd\"],\"y\":[0.042601964673114265,0.04531450100143717,0.06474014431307697,0.09246386114864602,0.09933454589901237,0.09956522756789522,0.10227776389621812],\"z\":[[null,null,null],[null,null,0.8475426435470581],[null,null,0.8104313015937805],[null,null,0.8485456109046936],[null,null,0.8214644193649292],[null,null,0.8776329159736633],[null,null,null]],\"type\":\"contour\",\"xaxis\":\"x42\",\"yaxis\":\"y42\"},{\"marker\":{\"color\":\"black\",\"line\":{\"color\":\"Gray\",\"width\":2.0}},\"mode\":\"markers\",\"name\":\"Feasible Trial\",\"showlegend\":false,\"x\":[\"sgd\",\"sgd\",\"sgd\",\"sgd\",\"sgd\"],\"y\":[0.06474014431307697,0.09246386114864602,0.04531450100143717,0.09956522756789522,0.09933454589901237],\"type\":\"scatter\",\"xaxis\":\"x42\",\"yaxis\":\"y42\"},{\"type\":\"scatter\",\"xaxis\":\"x49\",\"yaxis\":\"y49\"}],                        {\"template\":{\"data\":{\"histogram2dcontour\":[{\"type\":\"histogram2dcontour\",\"colorbar\":{\"outlinewidth\":0,\"ticks\":\"\"},\"colorscale\":[[0.0,\"#0d0887\"],[0.1111111111111111,\"#46039f\"],[0.2222222222222222,\"#7201a8\"],[0.3333333333333333,\"#9c179e\"],[0.4444444444444444,\"#bd3786\"],[0.5555555555555556,\"#d8576b\"],[0.6666666666666666,\"#ed7953\"],[0.7777777777777778,\"#fb9f3a\"],[0.8888888888888888,\"#fdca26\"],[1.0,\"#f0f921\"]]}],\"choropleth\":[{\"type\":\"choropleth\",\"colorbar\":{\"outlinewidth\":0,\"ticks\":\"\"}}],\"histogram2d\":[{\"type\":\"histogram2d\",\"colorbar\":{\"outlinewidth\":0,\"ticks\":\"\"},\"colorscale\":[[0.0,\"#0d0887\"],[0.1111111111111111,\"#46039f\"],[0.2222222222222222,\"#7201a8\"],[0.3333333333333333,\"#9c179e\"],[0.4444444444444444,\"#bd3786\"],[0.5555555555555556,\"#d8576b\"],[0.6666666666666666,\"#ed7953\"],[0.7777777777777778,\"#fb9f3a\"],[0.8888888888888888,\"#fdca26\"],[1.0,\"#f0f921\"]]}],\"heatmap\":[{\"type\":\"heatmap\",\"colorbar\":{\"outlinewidth\":0,\"ticks\":\"\"},\"colorscale\":[[0.0,\"#0d0887\"],[0.1111111111111111,\"#46039f\"],[0.2222222222222222,\"#7201a8\"],[0.3333333333333333,\"#9c179e\"],[0.4444444444444444,\"#bd3786\"],[0.5555555555555556,\"#d8576b\"],[0.6666666666666666,\"#ed7953\"],[0.7777777777777778,\"#fb9f3a\"],[0.8888888888888888,\"#fdca26\"],[1.0,\"#f0f921\"]]}],\"heatmapgl\":[{\"type\":\"heatmapgl\",\"colorbar\":{\"outlinewidth\":0,\"ticks\":\"\"},\"colorscale\":[[0.0,\"#0d0887\"],[0.1111111111111111,\"#46039f\"],[0.2222222222222222,\"#7201a8\"],[0.3333333333333333,\"#9c179e\"],[0.4444444444444444,\"#bd3786\"],[0.5555555555555556,\"#d8576b\"],[0.6666666666666666,\"#ed7953\"],[0.7777777777777778,\"#fb9f3a\"],[0.8888888888888888,\"#fdca26\"],[1.0,\"#f0f921\"]]}],\"contourcarpet\":[{\"type\":\"contourcarpet\",\"colorbar\":{\"outlinewidth\":0,\"ticks\":\"\"}}],\"contour\":[{\"type\":\"contour\",\"colorbar\":{\"outlinewidth\":0,\"ticks\":\"\"},\"colorscale\":[[0.0,\"#0d0887\"],[0.1111111111111111,\"#46039f\"],[0.2222222222222222,\"#7201a8\"],[0.3333333333333333,\"#9c179e\"],[0.4444444444444444,\"#bd3786\"],[0.5555555555555556,\"#d8576b\"],[0.6666666666666666,\"#ed7953\"],[0.7777777777777778,\"#fb9f3a\"],[0.8888888888888888,\"#fdca26\"],[1.0,\"#f0f921\"]]}],\"surface\":[{\"type\":\"surface\",\"colorbar\":{\"outlinewidth\":0,\"ticks\":\"\"},\"colorscale\":[[0.0,\"#0d0887\"],[0.1111111111111111,\"#46039f\"],[0.2222222222222222,\"#7201a8\"],[0.3333333333333333,\"#9c179e\"],[0.4444444444444444,\"#bd3786\"],[0.5555555555555556,\"#d8576b\"],[0.6666666666666666,\"#ed7953\"],[0.7777777777777778,\"#fb9f3a\"],[0.8888888888888888,\"#fdca26\"],[1.0,\"#f0f921\"]]}],\"mesh3d\":[{\"type\":\"mesh3d\",\"colorbar\":{\"outlinewidth\":0,\"ticks\":\"\"}}],\"scatter\":[{\"fillpattern\":{\"fillmode\":\"overlay\",\"size\":10,\"solidity\":0.2},\"type\":\"scatter\"}],\"parcoords\":[{\"type\":\"parcoords\",\"line\":{\"colorbar\":{\"outlinewidth\":0,\"ticks\":\"\"}}}],\"scatterpolargl\":[{\"type\":\"scatterpolargl\",\"marker\":{\"colorbar\":{\"outlinewidth\":0,\"ticks\":\"\"}}}],\"bar\":[{\"error_x\":{\"color\":\"#2a3f5f\"},\"error_y\":{\"color\":\"#2a3f5f\"},\"marker\":{\"line\":{\"color\":\"#E5ECF6\",\"width\":0.5},\"pattern\":{\"fillmode\":\"overlay\",\"size\":10,\"solidity\":0.2}},\"type\":\"bar\"}],\"scattergeo\":[{\"type\":\"scattergeo\",\"marker\":{\"colorbar\":{\"outlinewidth\":0,\"ticks\":\"\"}}}],\"scatterpolar\":[{\"type\":\"scatterpolar\",\"marker\":{\"colorbar\":{\"outlinewidth\":0,\"ticks\":\"\"}}}],\"histogram\":[{\"marker\":{\"pattern\":{\"fillmode\":\"overlay\",\"size\":10,\"solidity\":0.2}},\"type\":\"histogram\"}],\"scattergl\":[{\"type\":\"scattergl\",\"marker\":{\"colorbar\":{\"outlinewidth\":0,\"ticks\":\"\"}}}],\"scatter3d\":[{\"type\":\"scatter3d\",\"line\":{\"colorbar\":{\"outlinewidth\":0,\"ticks\":\"\"}},\"marker\":{\"colorbar\":{\"outlinewidth\":0,\"ticks\":\"\"}}}],\"scattermapbox\":[{\"type\":\"scattermapbox\",\"marker\":{\"colorbar\":{\"outlinewidth\":0,\"ticks\":\"\"}}}],\"scatterternary\":[{\"type\":\"scatterternary\",\"marker\":{\"colorbar\":{\"outlinewidth\":0,\"ticks\":\"\"}}}],\"scattercarpet\":[{\"type\":\"scattercarpet\",\"marker\":{\"colorbar\":{\"outlinewidth\":0,\"ticks\":\"\"}}}],\"carpet\":[{\"aaxis\":{\"endlinecolor\":\"#2a3f5f\",\"gridcolor\":\"white\",\"linecolor\":\"white\",\"minorgridcolor\":\"white\",\"startlinecolor\":\"#2a3f5f\"},\"baxis\":{\"endlinecolor\":\"#2a3f5f\",\"gridcolor\":\"white\",\"linecolor\":\"white\",\"minorgridcolor\":\"white\",\"startlinecolor\":\"#2a3f5f\"},\"type\":\"carpet\"}],\"table\":[{\"cells\":{\"fill\":{\"color\":\"#EBF0F8\"},\"line\":{\"color\":\"white\"}},\"header\":{\"fill\":{\"color\":\"#C8D4E3\"},\"line\":{\"color\":\"white\"}},\"type\":\"table\"}],\"barpolar\":[{\"marker\":{\"line\":{\"color\":\"#E5ECF6\",\"width\":0.5},\"pattern\":{\"fillmode\":\"overlay\",\"size\":10,\"solidity\":0.2}},\"type\":\"barpolar\"}],\"pie\":[{\"automargin\":true,\"type\":\"pie\"}]},\"layout\":{\"autotypenumbers\":\"strict\",\"colorway\":[\"#636efa\",\"#EF553B\",\"#00cc96\",\"#ab63fa\",\"#FFA15A\",\"#19d3f3\",\"#FF6692\",\"#B6E880\",\"#FF97FF\",\"#FECB52\"],\"font\":{\"color\":\"#2a3f5f\"},\"hovermode\":\"closest\",\"hoverlabel\":{\"align\":\"left\"},\"paper_bgcolor\":\"white\",\"plot_bgcolor\":\"#E5ECF6\",\"polar\":{\"bgcolor\":\"#E5ECF6\",\"angularaxis\":{\"gridcolor\":\"white\",\"linecolor\":\"white\",\"ticks\":\"\"},\"radialaxis\":{\"gridcolor\":\"white\",\"linecolor\":\"white\",\"ticks\":\"\"}},\"ternary\":{\"bgcolor\":\"#E5ECF6\",\"aaxis\":{\"gridcolor\":\"white\",\"linecolor\":\"white\",\"ticks\":\"\"},\"baxis\":{\"gridcolor\":\"white\",\"linecolor\":\"white\",\"ticks\":\"\"},\"caxis\":{\"gridcolor\":\"white\",\"linecolor\":\"white\",\"ticks\":\"\"}},\"coloraxis\":{\"colorbar\":{\"outlinewidth\":0,\"ticks\":\"\"}},\"colorscale\":{\"sequential\":[[0.0,\"#0d0887\"],[0.1111111111111111,\"#46039f\"],[0.2222222222222222,\"#7201a8\"],[0.3333333333333333,\"#9c179e\"],[0.4444444444444444,\"#bd3786\"],[0.5555555555555556,\"#d8576b\"],[0.6666666666666666,\"#ed7953\"],[0.7777777777777778,\"#fb9f3a\"],[0.8888888888888888,\"#fdca26\"],[1.0,\"#f0f921\"]],\"sequentialminus\":[[0.0,\"#0d0887\"],[0.1111111111111111,\"#46039f\"],[0.2222222222222222,\"#7201a8\"],[0.3333333333333333,\"#9c179e\"],[0.4444444444444444,\"#bd3786\"],[0.5555555555555556,\"#d8576b\"],[0.6666666666666666,\"#ed7953\"],[0.7777777777777778,\"#fb9f3a\"],[0.8888888888888888,\"#fdca26\"],[1.0,\"#f0f921\"]],\"diverging\":[[0,\"#8e0152\"],[0.1,\"#c51b7d\"],[0.2,\"#de77ae\"],[0.3,\"#f1b6da\"],[0.4,\"#fde0ef\"],[0.5,\"#f7f7f7\"],[0.6,\"#e6f5d0\"],[0.7,\"#b8e186\"],[0.8,\"#7fbc41\"],[0.9,\"#4d9221\"],[1,\"#276419\"]]},\"xaxis\":{\"gridcolor\":\"white\",\"linecolor\":\"white\",\"ticks\":\"\",\"title\":{\"standoff\":15},\"zerolinecolor\":\"white\",\"automargin\":true,\"zerolinewidth\":2},\"yaxis\":{\"gridcolor\":\"white\",\"linecolor\":\"white\",\"ticks\":\"\",\"title\":{\"standoff\":15},\"zerolinecolor\":\"white\",\"automargin\":true,\"zerolinewidth\":2},\"scene\":{\"xaxis\":{\"backgroundcolor\":\"#E5ECF6\",\"gridcolor\":\"white\",\"linecolor\":\"white\",\"showbackground\":true,\"ticks\":\"\",\"zerolinecolor\":\"white\",\"gridwidth\":2},\"yaxis\":{\"backgroundcolor\":\"#E5ECF6\",\"gridcolor\":\"white\",\"linecolor\":\"white\",\"showbackground\":true,\"ticks\":\"\",\"zerolinecolor\":\"white\",\"gridwidth\":2},\"zaxis\":{\"backgroundcolor\":\"#E5ECF6\",\"gridcolor\":\"white\",\"linecolor\":\"white\",\"showbackground\":true,\"ticks\":\"\",\"zerolinecolor\":\"white\",\"gridwidth\":2}},\"shapedefaults\":{\"line\":{\"color\":\"#2a3f5f\"}},\"annotationdefaults\":{\"arrowcolor\":\"#2a3f5f\",\"arrowhead\":0,\"arrowwidth\":1},\"geo\":{\"bgcolor\":\"white\",\"landcolor\":\"#E5ECF6\",\"subunitcolor\":\"white\",\"showland\":true,\"showlakes\":true,\"lakecolor\":\"white\"},\"title\":{\"x\":0.05},\"mapbox\":{\"style\":\"light\"}}},\"xaxis\":{\"anchor\":\"y\",\"domain\":[0.0,0.1183673469387755],\"matches\":\"x43\",\"showticklabels\":false,\"range\":[27.2,132.8]},\"yaxis\":{\"anchor\":\"x\",\"domain\":[0.8938775510204082,1.0],\"range\":[27.2,132.8],\"title\":{\"text\":\"batch_size\"}},\"xaxis2\":{\"anchor\":\"y2\",\"domain\":[0.14693877551020407,0.26530612244897955],\"matches\":\"x44\",\"showticklabels\":false,\"range\":[0.20421460334384314,0.5007830881720595]},\"yaxis2\":{\"anchor\":\"x2\",\"domain\":[0.8938775510204082,1.0],\"matches\":\"y\",\"showticklabels\":false,\"range\":[27.2,132.8]},\"xaxis3\":{\"anchor\":\"y3\",\"domain\":[0.29387755102040813,0.4122448979591836],\"matches\":\"x45\",\"showticklabels\":false,\"range\":[24.7,97.3]},\"yaxis3\":{\"anchor\":\"x3\",\"domain\":[0.8938775510204082,1.0],\"matches\":\"y\",\"showticklabels\":false,\"range\":[27.2,132.8]},\"xaxis4\":{\"anchor\":\"y4\",\"domain\":[0.4408163265306122,0.5591836734693877],\"matches\":\"x46\",\"showticklabels\":false,\"range\":[0.06371741731309635,0.07615394723887244]},\"yaxis4\":{\"anchor\":\"x4\",\"domain\":[0.8938775510204082,1.0],\"matches\":\"y\",\"showticklabels\":false,\"range\":[27.2,132.8]},\"xaxis5\":{\"anchor\":\"y5\",\"domain\":[0.5877551020408163,0.7061224489795918],\"matches\":\"x47\",\"showticklabels\":false,\"range\":[0.020184119554077416,0.10102002711398088]},\"yaxis5\":{\"anchor\":\"x5\",\"domain\":[0.8938775510204082,1.0],\"matches\":\"y\",\"showticklabels\":false,\"range\":[27.2,132.8]},\"xaxis6\":{\"anchor\":\"y6\",\"domain\":[0.7346938775510204,0.8530612244897959],\"matches\":\"x48\",\"showticklabels\":false,\"range\":[0.042601964673114265,0.10227776389621812]},\"yaxis6\":{\"anchor\":\"x6\",\"domain\":[0.8938775510204082,1.0],\"matches\":\"y\",\"showticklabels\":false,\"range\":[27.2,132.8]},\"xaxis7\":{\"anchor\":\"y7\",\"domain\":[0.8816326530612244,0.9999999999999999],\"matches\":\"x49\",\"showticklabels\":false,\"range\":[-0.1,2.1],\"type\":\"category\"},\"yaxis7\":{\"anchor\":\"x7\",\"domain\":[0.8938775510204082,1.0],\"matches\":\"y\",\"showticklabels\":false,\"range\":[27.2,132.8]},\"xaxis8\":{\"anchor\":\"y8\",\"domain\":[0.0,0.1183673469387755],\"matches\":\"x43\",\"showticklabels\":false,\"range\":[27.2,132.8]},\"yaxis8\":{\"anchor\":\"x8\",\"domain\":[0.7448979591836735,0.8510204081632654],\"range\":[0.20421460334384314,0.5007830881720595],\"title\":{\"text\":\"dropout_rate\"}},\"xaxis9\":{\"anchor\":\"y9\",\"domain\":[0.14693877551020407,0.26530612244897955],\"matches\":\"x44\",\"showticklabels\":false,\"range\":[0.20421460334384314,0.5007830881720595]},\"yaxis9\":{\"anchor\":\"x9\",\"domain\":[0.7448979591836735,0.8510204081632654],\"matches\":\"y8\",\"showticklabels\":false,\"range\":[0.20421460334384314,0.5007830881720595]},\"xaxis10\":{\"anchor\":\"y10\",\"domain\":[0.29387755102040813,0.4122448979591836],\"matches\":\"x45\",\"showticklabels\":false,\"range\":[24.7,97.3]},\"yaxis10\":{\"anchor\":\"x10\",\"domain\":[0.7448979591836735,0.8510204081632654],\"matches\":\"y8\",\"showticklabels\":false,\"range\":[0.20421460334384314,0.5007830881720595]},\"xaxis11\":{\"anchor\":\"y11\",\"domain\":[0.4408163265306122,0.5591836734693877],\"matches\":\"x46\",\"showticklabels\":false,\"range\":[0.06371741731309635,0.07615394723887244]},\"yaxis11\":{\"anchor\":\"x11\",\"domain\":[0.7448979591836735,0.8510204081632654],\"matches\":\"y8\",\"showticklabels\":false,\"range\":[0.20421460334384314,0.5007830881720595]},\"xaxis12\":{\"anchor\":\"y12\",\"domain\":[0.5877551020408163,0.7061224489795918],\"matches\":\"x47\",\"showticklabels\":false,\"range\":[0.020184119554077416,0.10102002711398088]},\"yaxis12\":{\"anchor\":\"x12\",\"domain\":[0.7448979591836735,0.8510204081632654],\"matches\":\"y8\",\"showticklabels\":false,\"range\":[0.20421460334384314,0.5007830881720595]},\"xaxis13\":{\"anchor\":\"y13\",\"domain\":[0.7346938775510204,0.8530612244897959],\"matches\":\"x48\",\"showticklabels\":false,\"range\":[0.042601964673114265,0.10227776389621812]},\"yaxis13\":{\"anchor\":\"x13\",\"domain\":[0.7448979591836735,0.8510204081632654],\"matches\":\"y8\",\"showticklabels\":false,\"range\":[0.20421460334384314,0.5007830881720595]},\"xaxis14\":{\"anchor\":\"y14\",\"domain\":[0.8816326530612244,0.9999999999999999],\"matches\":\"x49\",\"showticklabels\":false,\"range\":[-0.1,2.1],\"type\":\"category\"},\"yaxis14\":{\"anchor\":\"x14\",\"domain\":[0.7448979591836735,0.8510204081632654],\"matches\":\"y8\",\"showticklabels\":false,\"range\":[0.20421460334384314,0.5007830881720595]},\"xaxis15\":{\"anchor\":\"y15\",\"domain\":[0.0,0.1183673469387755],\"matches\":\"x43\",\"showticklabels\":false,\"range\":[27.2,132.8]},\"yaxis15\":{\"anchor\":\"x15\",\"domain\":[0.5959183673469388,0.7020408163265307],\"range\":[24.7,97.3],\"title\":{\"text\":\"epochs\"}},\"xaxis16\":{\"anchor\":\"y16\",\"domain\":[0.14693877551020407,0.26530612244897955],\"matches\":\"x44\",\"showticklabels\":false,\"range\":[0.20421460334384314,0.5007830881720595]},\"yaxis16\":{\"anchor\":\"x16\",\"domain\":[0.5959183673469388,0.7020408163265307],\"matches\":\"y15\",\"showticklabels\":false,\"range\":[24.7,97.3]},\"xaxis17\":{\"anchor\":\"y17\",\"domain\":[0.29387755102040813,0.4122448979591836],\"matches\":\"x45\",\"showticklabels\":false,\"range\":[24.7,97.3]},\"yaxis17\":{\"anchor\":\"x17\",\"domain\":[0.5959183673469388,0.7020408163265307],\"matches\":\"y15\",\"showticklabels\":false,\"range\":[24.7,97.3]},\"xaxis18\":{\"anchor\":\"y18\",\"domain\":[0.4408163265306122,0.5591836734693877],\"matches\":\"x46\",\"showticklabels\":false,\"range\":[0.06371741731309635,0.07615394723887244]},\"yaxis18\":{\"anchor\":\"x18\",\"domain\":[0.5959183673469388,0.7020408163265307],\"matches\":\"y15\",\"showticklabels\":false,\"range\":[24.7,97.3]},\"xaxis19\":{\"anchor\":\"y19\",\"domain\":[0.5877551020408163,0.7061224489795918],\"matches\":\"x47\",\"showticklabels\":false,\"range\":[0.020184119554077416,0.10102002711398088]},\"yaxis19\":{\"anchor\":\"x19\",\"domain\":[0.5959183673469388,0.7020408163265307],\"matches\":\"y15\",\"showticklabels\":false,\"range\":[24.7,97.3]},\"xaxis20\":{\"anchor\":\"y20\",\"domain\":[0.7346938775510204,0.8530612244897959],\"matches\":\"x48\",\"showticklabels\":false,\"range\":[0.042601964673114265,0.10227776389621812]},\"yaxis20\":{\"anchor\":\"x20\",\"domain\":[0.5959183673469388,0.7020408163265307],\"matches\":\"y15\",\"showticklabels\":false,\"range\":[24.7,97.3]},\"xaxis21\":{\"anchor\":\"y21\",\"domain\":[0.8816326530612244,0.9999999999999999],\"matches\":\"x49\",\"showticklabels\":false,\"range\":[-0.1,2.1],\"type\":\"category\"},\"yaxis21\":{\"anchor\":\"x21\",\"domain\":[0.5959183673469388,0.7020408163265307],\"matches\":\"y15\",\"showticklabels\":false,\"range\":[24.7,97.3]},\"xaxis22\":{\"anchor\":\"y22\",\"domain\":[0.0,0.1183673469387755],\"matches\":\"x43\",\"showticklabels\":false,\"range\":[27.2,132.8]},\"yaxis22\":{\"anchor\":\"x22\",\"domain\":[0.4469387755102041,0.553061224489796],\"range\":[0.06371741731309635,0.07615394723887244],\"title\":{\"text\":\"learning_rate_adam\"}},\"xaxis23\":{\"anchor\":\"y23\",\"domain\":[0.14693877551020407,0.26530612244897955],\"matches\":\"x44\",\"showticklabels\":false,\"range\":[0.20421460334384314,0.5007830881720595]},\"yaxis23\":{\"anchor\":\"x23\",\"domain\":[0.4469387755102041,0.553061224489796],\"matches\":\"y22\",\"showticklabels\":false,\"range\":[0.06371741731309635,0.07615394723887244]},\"xaxis24\":{\"anchor\":\"y24\",\"domain\":[0.29387755102040813,0.4122448979591836],\"matches\":\"x45\",\"showticklabels\":false,\"range\":[24.7,97.3]},\"yaxis24\":{\"anchor\":\"x24\",\"domain\":[0.4469387755102041,0.553061224489796],\"matches\":\"y22\",\"showticklabels\":false,\"range\":[0.06371741731309635,0.07615394723887244]},\"xaxis25\":{\"anchor\":\"y25\",\"domain\":[0.4408163265306122,0.5591836734693877],\"matches\":\"x46\",\"showticklabels\":false,\"range\":[0.06371741731309635,0.07615394723887244]},\"yaxis25\":{\"anchor\":\"x25\",\"domain\":[0.4469387755102041,0.553061224489796],\"matches\":\"y22\",\"showticklabels\":false,\"range\":[0.06371741731309635,0.07615394723887244]},\"xaxis26\":{\"anchor\":\"y26\",\"domain\":[0.5877551020408163,0.7061224489795918],\"matches\":\"x47\",\"showticklabels\":false,\"range\":[0.020184119554077416,0.10102002711398088]},\"yaxis26\":{\"anchor\":\"x26\",\"domain\":[0.4469387755102041,0.553061224489796],\"matches\":\"y22\",\"showticklabels\":false,\"range\":[0.06371741731309635,0.07615394723887244]},\"xaxis27\":{\"anchor\":\"y27\",\"domain\":[0.7346938775510204,0.8530612244897959],\"matches\":\"x48\",\"showticklabels\":false,\"range\":[0.042601964673114265,0.10227776389621812]},\"yaxis27\":{\"anchor\":\"x27\",\"domain\":[0.4469387755102041,0.553061224489796],\"matches\":\"y22\",\"showticklabels\":false,\"range\":[0.06371741731309635,0.07615394723887244]},\"xaxis28\":{\"anchor\":\"y28\",\"domain\":[0.8816326530612244,0.9999999999999999],\"matches\":\"x49\",\"showticklabels\":false,\"range\":[-0.1,2.1],\"type\":\"category\"},\"yaxis28\":{\"anchor\":\"x28\",\"domain\":[0.4469387755102041,0.553061224489796],\"matches\":\"y22\",\"showticklabels\":false,\"range\":[0.06371741731309635,0.07615394723887244]},\"xaxis29\":{\"anchor\":\"y29\",\"domain\":[0.0,0.1183673469387755],\"matches\":\"x43\",\"showticklabels\":false,\"range\":[27.2,132.8]},\"yaxis29\":{\"anchor\":\"x29\",\"domain\":[0.2979591836734694,0.40408163265306124],\"range\":[0.020184119554077416,0.10102002711398088],\"title\":{\"text\":\"learning_rate_rmsprop\"}},\"xaxis30\":{\"anchor\":\"y30\",\"domain\":[0.14693877551020407,0.26530612244897955],\"matches\":\"x44\",\"showticklabels\":false,\"range\":[0.20421460334384314,0.5007830881720595]},\"yaxis30\":{\"anchor\":\"x30\",\"domain\":[0.2979591836734694,0.40408163265306124],\"matches\":\"y29\",\"showticklabels\":false,\"range\":[0.020184119554077416,0.10102002711398088]},\"xaxis31\":{\"anchor\":\"y31\",\"domain\":[0.29387755102040813,0.4122448979591836],\"matches\":\"x45\",\"showticklabels\":false,\"range\":[24.7,97.3]},\"yaxis31\":{\"anchor\":\"x31\",\"domain\":[0.2979591836734694,0.40408163265306124],\"matches\":\"y29\",\"showticklabels\":false,\"range\":[0.020184119554077416,0.10102002711398088]},\"xaxis32\":{\"anchor\":\"y32\",\"domain\":[0.4408163265306122,0.5591836734693877],\"matches\":\"x46\",\"showticklabels\":false,\"range\":[0.06371741731309635,0.07615394723887244]},\"yaxis32\":{\"anchor\":\"x32\",\"domain\":[0.2979591836734694,0.40408163265306124],\"matches\":\"y29\",\"showticklabels\":false,\"range\":[0.020184119554077416,0.10102002711398088]},\"xaxis33\":{\"anchor\":\"y33\",\"domain\":[0.5877551020408163,0.7061224489795918],\"matches\":\"x47\",\"showticklabels\":false,\"range\":[0.020184119554077416,0.10102002711398088]},\"yaxis33\":{\"anchor\":\"x33\",\"domain\":[0.2979591836734694,0.40408163265306124],\"matches\":\"y29\",\"showticklabels\":false,\"range\":[0.020184119554077416,0.10102002711398088]},\"xaxis34\":{\"anchor\":\"y34\",\"domain\":[0.7346938775510204,0.8530612244897959],\"matches\":\"x48\",\"showticklabels\":false,\"range\":[0.042601964673114265,0.10227776389621812]},\"yaxis34\":{\"anchor\":\"x34\",\"domain\":[0.2979591836734694,0.40408163265306124],\"matches\":\"y29\",\"showticklabels\":false,\"range\":[0.020184119554077416,0.10102002711398088]},\"xaxis35\":{\"anchor\":\"y35\",\"domain\":[0.8816326530612244,0.9999999999999999],\"matches\":\"x49\",\"showticklabels\":false,\"range\":[-0.1,2.1],\"type\":\"category\"},\"yaxis35\":{\"anchor\":\"x35\",\"domain\":[0.2979591836734694,0.40408163265306124],\"matches\":\"y29\",\"showticklabels\":false,\"range\":[0.020184119554077416,0.10102002711398088]},\"xaxis36\":{\"anchor\":\"y36\",\"domain\":[0.0,0.1183673469387755],\"matches\":\"x43\",\"showticklabels\":false,\"range\":[27.2,132.8]},\"yaxis36\":{\"anchor\":\"x36\",\"domain\":[0.1489795918367347,0.25510204081632654],\"range\":[0.042601964673114265,0.10227776389621812],\"title\":{\"text\":\"learning_rate_sgd\"}},\"xaxis37\":{\"anchor\":\"y37\",\"domain\":[0.14693877551020407,0.26530612244897955],\"matches\":\"x44\",\"showticklabels\":false,\"range\":[0.20421460334384314,0.5007830881720595]},\"yaxis37\":{\"anchor\":\"x37\",\"domain\":[0.1489795918367347,0.25510204081632654],\"matches\":\"y36\",\"showticklabels\":false,\"range\":[0.042601964673114265,0.10227776389621812]},\"xaxis38\":{\"anchor\":\"y38\",\"domain\":[0.29387755102040813,0.4122448979591836],\"matches\":\"x45\",\"showticklabels\":false,\"range\":[24.7,97.3]},\"yaxis38\":{\"anchor\":\"x38\",\"domain\":[0.1489795918367347,0.25510204081632654],\"matches\":\"y36\",\"showticklabels\":false,\"range\":[0.042601964673114265,0.10227776389621812]},\"xaxis39\":{\"anchor\":\"y39\",\"domain\":[0.4408163265306122,0.5591836734693877],\"matches\":\"x46\",\"showticklabels\":false,\"range\":[0.06371741731309635,0.07615394723887244]},\"yaxis39\":{\"anchor\":\"x39\",\"domain\":[0.1489795918367347,0.25510204081632654],\"matches\":\"y36\",\"showticklabels\":false,\"range\":[0.042601964673114265,0.10227776389621812]},\"xaxis40\":{\"anchor\":\"y40\",\"domain\":[0.5877551020408163,0.7061224489795918],\"matches\":\"x47\",\"showticklabels\":false,\"range\":[0.020184119554077416,0.10102002711398088]},\"yaxis40\":{\"anchor\":\"x40\",\"domain\":[0.1489795918367347,0.25510204081632654],\"matches\":\"y36\",\"showticklabels\":false,\"range\":[0.042601964673114265,0.10227776389621812]},\"xaxis41\":{\"anchor\":\"y41\",\"domain\":[0.7346938775510204,0.8530612244897959],\"matches\":\"x48\",\"showticklabels\":false,\"range\":[0.042601964673114265,0.10227776389621812]},\"yaxis41\":{\"anchor\":\"x41\",\"domain\":[0.1489795918367347,0.25510204081632654],\"matches\":\"y36\",\"showticklabels\":false,\"range\":[0.042601964673114265,0.10227776389621812]},\"xaxis42\":{\"anchor\":\"y42\",\"domain\":[0.8816326530612244,0.9999999999999999],\"matches\":\"x49\",\"showticklabels\":false,\"range\":[-0.1,2.1],\"type\":\"category\"},\"yaxis42\":{\"anchor\":\"x42\",\"domain\":[0.1489795918367347,0.25510204081632654],\"matches\":\"y36\",\"showticklabels\":false,\"range\":[0.042601964673114265,0.10227776389621812]},\"xaxis43\":{\"anchor\":\"y43\",\"domain\":[0.0,0.1183673469387755],\"range\":[27.2,132.8],\"title\":{\"text\":\"batch_size\"}},\"yaxis43\":{\"anchor\":\"x43\",\"domain\":[0.0,0.10612244897959185],\"range\":[-0.1,2.1],\"type\":\"category\",\"title\":{\"text\":\"optimizer\"}},\"xaxis44\":{\"anchor\":\"y44\",\"domain\":[0.14693877551020407,0.26530612244897955],\"range\":[0.20421460334384314,0.5007830881720595],\"title\":{\"text\":\"dropout_rate\"}},\"yaxis44\":{\"anchor\":\"x44\",\"domain\":[0.0,0.10612244897959185],\"matches\":\"y43\",\"showticklabels\":false,\"range\":[-0.1,2.1],\"type\":\"category\"},\"xaxis45\":{\"anchor\":\"y45\",\"domain\":[0.29387755102040813,0.4122448979591836],\"range\":[24.7,97.3],\"title\":{\"text\":\"epochs\"}},\"yaxis45\":{\"anchor\":\"x45\",\"domain\":[0.0,0.10612244897959185],\"matches\":\"y43\",\"showticklabels\":false,\"range\":[-0.1,2.1],\"type\":\"category\"},\"xaxis46\":{\"anchor\":\"y46\",\"domain\":[0.4408163265306122,0.5591836734693877],\"range\":[0.06371741731309635,0.07615394723887244],\"title\":{\"text\":\"learning_rate_adam\"}},\"yaxis46\":{\"anchor\":\"x46\",\"domain\":[0.0,0.10612244897959185],\"matches\":\"y43\",\"showticklabels\":false,\"range\":[-0.1,2.1],\"type\":\"category\"},\"xaxis47\":{\"anchor\":\"y47\",\"domain\":[0.5877551020408163,0.7061224489795918],\"range\":[0.020184119554077416,0.10102002711398088],\"title\":{\"text\":\"learning_rate_rmsprop\"}},\"yaxis47\":{\"anchor\":\"x47\",\"domain\":[0.0,0.10612244897959185],\"matches\":\"y43\",\"showticklabels\":false,\"range\":[-0.1,2.1],\"type\":\"category\"},\"xaxis48\":{\"anchor\":\"y48\",\"domain\":[0.7346938775510204,0.8530612244897959],\"range\":[0.042601964673114265,0.10227776389621812],\"title\":{\"text\":\"learning_rate_sgd\"}},\"yaxis48\":{\"anchor\":\"x48\",\"domain\":[0.0,0.10612244897959185],\"matches\":\"y43\",\"showticklabels\":false,\"range\":[-0.1,2.1],\"type\":\"category\"},\"xaxis49\":{\"anchor\":\"y49\",\"domain\":[0.8816326530612244,0.9999999999999999],\"range\":[-0.1,2.1],\"type\":\"category\",\"title\":{\"text\":\"optimizer\"}},\"yaxis49\":{\"anchor\":\"x49\",\"domain\":[0.0,0.10612244897959185],\"matches\":\"y43\",\"showticklabels\":false,\"range\":[-0.1,2.1],\"type\":\"category\"},\"title\":{\"text\":\"Contour Plot\"}},                        {\"responsive\": true}                    ).then(function(){\n",
              "                            \n",
              "var gd = document.getElementById('c1173c05-3a5a-497f-9e9d-d74c46fd5a09');\n",
              "var x = new MutationObserver(function (mutations, observer) {{\n",
              "        var display = window.getComputedStyle(gd).display;\n",
              "        if (!display || display === 'none') {{\n",
              "            console.log([gd, 'removed!']);\n",
              "            Plotly.purge(gd);\n",
              "            observer.disconnect();\n",
              "        }}\n",
              "}});\n",
              "\n",
              "// Listen for the removal of the full notebook cells\n",
              "var notebookContainer = gd.closest('#notebook-container');\n",
              "if (notebookContainer) {{\n",
              "    x.observe(notebookContainer, {childList: true});\n",
              "}}\n",
              "\n",
              "// Listen for the clearing of the current output cell\n",
              "var outputEl = gd.closest('.output');\n",
              "if (outputEl) {{\n",
              "    x.observe(outputEl, {childList: true});\n",
              "}}\n",
              "\n",
              "                        })                };                            </script>        </div>\n",
              "</body>\n",
              "</html>"
            ]
          },
          "metadata": {}
        }
      ],
      "source": [
        "import optuna.visualization as optuna_viz\n",
        "\n",
        "optuna_viz.plot_contour(study)\n"
      ]
    },
    {
      "cell_type": "code",
      "source": [
        "import optuna.visualization as optuna_viz\n",
        "\n",
        "# Assuming 'study' is your Optuna study object\n",
        "contour_plot = optuna_viz.plot_contour(study)\n",
        "\n",
        "# Adjust the size of the plot\n",
        "contour_plot.update_layout(width=1800, height=1600)\n",
        "\n",
        "\n"
      ],
      "metadata": {
        "id": "7ln-r1cEM_B2",
        "colab": {
          "base_uri": "https://localhost:8080/",
          "height": 1000
        },
        "outputId": "6b07630f-7275-4ddb-8ec1-cc5f1c2b2fe7"
      },
      "execution_count": null,
      "outputs": [
        {
          "output_type": "display_data",
          "data": {
            "text/html": [
              "<html>\n",
              "<head><meta charset=\"utf-8\" /></head>\n",
              "<body>\n",
              "    <div>            <script src=\"https://cdnjs.cloudflare.com/ajax/libs/mathjax/2.7.5/MathJax.js?config=TeX-AMS-MML_SVG\"></script><script type=\"text/javascript\">if (window.MathJax && window.MathJax.Hub && window.MathJax.Hub.Config) {window.MathJax.Hub.Config({SVG: {font: \"STIX-Web\"}});}</script>                <script type=\"text/javascript\">window.PlotlyConfig = {MathJaxConfig: 'local'};</script>\n",
              "        <script charset=\"utf-8\" src=\"https://cdn.plot.ly/plotly-2.24.1.min.js\"></script>                <div id=\"fe5a3980-4861-4543-b3a4-b743bbb8c34b\" class=\"plotly-graph-div\" style=\"height:1600px; width:1800px;\"></div>            <script type=\"text/javascript\">                                    window.PLOTLYENV=window.PLOTLYENV || {};                                    if (document.getElementById(\"fe5a3980-4861-4543-b3a4-b743bbb8c34b\")) {                    Plotly.newPlot(                        \"fe5a3980-4861-4543-b3a4-b743bbb8c34b\",                        [{\"type\":\"scatter\",\"xaxis\":\"x\",\"yaxis\":\"y\"},{\"colorbar\":{\"title\":{\"text\":\"Objective Value\"}},\"colorscale\":[[0.0,\"rgb(247,251,255)\"],[0.125,\"rgb(222,235,247)\"],[0.25,\"rgb(198,219,239)\"],[0.375,\"rgb(158,202,225)\"],[0.5,\"rgb(107,174,214)\"],[0.625,\"rgb(66,146,198)\"],[0.75,\"rgb(33,113,181)\"],[0.875,\"rgb(8,81,156)\"],[1.0,\"rgb(8,48,107)\"]],\"connectgaps\":true,\"contours\":{\"coloring\":\"heatmap\"},\"hoverinfo\":\"none\",\"line\":{\"smoothing\":1.3},\"reversescale\":false,\"showscale\":true,\"x\":[27.2,32,64,128,132.8],\"y\":[0.20421460334384314,0.21769498901785297,0.2562076496246386,0.2754041123491316,0.3568786837272921,0.37715564662125356,0.3892263644877882,0.39518942324725165,0.42565125145570576,0.43966823165243996,0.44048073411556865,0.4598679209564908,0.4873027024980497,0.5007830881720595],\"z\":[[null,null,null,null,null],[null,null,null,0.8475426435470581,null],[null,null,null,0.1624874621629715,null],[null,0.12838515639305115,null,null,null],[null,null,null,0.31594783067703247,null],[null,null,null,0.3299899697303772,null],[null,0.8776329159736633,null,null,null],[null,0.8214644193649292,null,null,null],[null,null,0.8485456109046936,null,null],[null,null,0.3039117455482483,null,null],[null,null,null,0.8104313015937805,null],[null,null,0.5486459136009216,null,null],[null,null,0.33299899101257324,null,null],[null,null,null,null,null]],\"type\":\"contour\",\"xaxis\":\"x8\",\"yaxis\":\"y8\"},{\"marker\":{\"color\":\"black\",\"line\":{\"color\":\"Gray\",\"width\":2.0}},\"mode\":\"markers\",\"name\":\"Feasible Trial\",\"showlegend\":false,\"x\":[128,128,128,64,128,128,32,64,64,64,32,32],\"y\":[0.3568786837272921,0.37715564662125356,0.44048073411556865,0.42565125145570576,0.2562076496246386,0.21769498901785297,0.2754041123491316,0.4598679209564908,0.4873027024980497,0.43966823165243996,0.3892263644877882,0.39518942324725165],\"type\":\"scatter\",\"xaxis\":\"x8\",\"yaxis\":\"y8\"},{\"colorbar\":{\"title\":{\"text\":\"Objective Value\"}},\"colorscale\":[[0.0,\"rgb(247,251,255)\"],[0.125,\"rgb(222,235,247)\"],[0.25,\"rgb(198,219,239)\"],[0.375,\"rgb(158,202,225)\"],[0.5,\"rgb(107,174,214)\"],[0.625,\"rgb(66,146,198)\"],[0.75,\"rgb(33,113,181)\"],[0.875,\"rgb(8,81,156)\"],[1.0,\"rgb(8,48,107)\"]],\"connectgaps\":true,\"contours\":{\"coloring\":\"heatmap\"},\"hoverinfo\":\"none\",\"line\":{\"smoothing\":1.3},\"reversescale\":false,\"showscale\":false,\"x\":[27.2,32,64,128,132.8],\"y\":[24.7,28,31,37,41,45,51,54,65,76,77,87,94,97.3],\"z\":[[null,null,null,null,null],[null,null,null,0.8475426435470581,null],[null,null,0.8485456109046936,null,null],[null,null,0.3039117455482483,null,null],[null,null,null,0.3299899697303772,null],[null,0.12838515639305115,null,null,null],[null,0.8776329159736633,null,null,null],[null,0.8214644193649292,null,null,null],[null,null,null,0.31594783067703247,null],[null,null,null,0.8104313015937805,null],[null,null,0.5486459136009216,null,null],[null,null,0.33299899101257324,null,null],[null,null,null,0.1624874621629715,null],[null,null,null,null,null]],\"type\":\"contour\",\"xaxis\":\"x15\",\"yaxis\":\"y15\"},{\"marker\":{\"color\":\"black\",\"line\":{\"color\":\"Gray\",\"width\":2.0}},\"mode\":\"markers\",\"name\":\"Feasible Trial\",\"showlegend\":false,\"x\":[128,128,128,64,128,128,32,64,64,64,32,32],\"y\":[65,41,76,31,94,28,45,77,87,37,51,54],\"type\":\"scatter\",\"xaxis\":\"x15\",\"yaxis\":\"y15\"},{\"colorbar\":{\"title\":{\"text\":\"Objective Value\"}},\"colorscale\":[[0.0,\"rgb(247,251,255)\"],[0.125,\"rgb(222,235,247)\"],[0.25,\"rgb(198,219,239)\"],[0.375,\"rgb(158,202,225)\"],[0.5,\"rgb(107,174,214)\"],[0.625,\"rgb(66,146,198)\"],[0.75,\"rgb(33,113,181)\"],[0.875,\"rgb(8,81,156)\"],[1.0,\"rgb(8,48,107)\"]],\"connectgaps\":true,\"contours\":{\"coloring\":\"heatmap\"},\"hoverinfo\":\"none\",\"line\":{\"smoothing\":1.3},\"reversescale\":false,\"showscale\":false,\"x\":[27.2,32,64,128,132.8],\"y\":[0.06371741731309635,0.06428271412790436,0.06934781894228761,0.07558865042406443,0.07615394723887244],\"z\":[[null,null,null,null,null],[null,null,null,0.3299899697303772,null],[null,null,0.3039117455482483,null,null],[null,0.12838515639305115,null,null,null],[null,null,null,null,null]],\"type\":\"contour\",\"xaxis\":\"x22\",\"yaxis\":\"y22\"},{\"marker\":{\"color\":\"black\",\"line\":{\"color\":\"Gray\",\"width\":2.0}},\"mode\":\"markers\",\"name\":\"Feasible Trial\",\"showlegend\":false,\"x\":[128,32,64],\"y\":[0.06428271412790436,0.07558865042406443,0.06934781894228761],\"type\":\"scatter\",\"xaxis\":\"x22\",\"yaxis\":\"y22\"},{\"colorbar\":{\"title\":{\"text\":\"Objective Value\"}},\"colorscale\":[[0.0,\"rgb(247,251,255)\"],[0.125,\"rgb(222,235,247)\"],[0.25,\"rgb(198,219,239)\"],[0.375,\"rgb(158,202,225)\"],[0.5,\"rgb(107,174,214)\"],[0.625,\"rgb(66,146,198)\"],[0.75,\"rgb(33,113,181)\"],[0.875,\"rgb(8,81,156)\"],[1.0,\"rgb(8,48,107)\"]],\"connectgaps\":true,\"contours\":{\"coloring\":\"heatmap\"},\"hoverinfo\":\"none\",\"line\":{\"smoothing\":1.3},\"reversescale\":false,\"showscale\":false,\"x\":[27.2,32,64,128,132.8],\"y\":[0.020184119554077416,0.02385847898861848,0.052856313273896074,0.08964888481179067,0.0973456676794398,0.10102002711398088],\"z\":[[null,null,null,null,null],[null,null,0.5486459136009216,null,null],[null,null,0.33299899101257324,null,null],[null,null,null,0.31594783067703247,null],[null,null,null,0.1624874621629715,null],[null,null,null,null,null]],\"type\":\"contour\",\"xaxis\":\"x29\",\"yaxis\":\"y29\"},{\"marker\":{\"color\":\"black\",\"line\":{\"color\":\"Gray\",\"width\":2.0}},\"mode\":\"markers\",\"name\":\"Feasible Trial\",\"showlegend\":false,\"x\":[128,128,64,64],\"y\":[0.08964888481179067,0.0973456676794398,0.02385847898861848,0.052856313273896074],\"type\":\"scatter\",\"xaxis\":\"x29\",\"yaxis\":\"y29\"},{\"colorbar\":{\"title\":{\"text\":\"Objective Value\"}},\"colorscale\":[[0.0,\"rgb(247,251,255)\"],[0.125,\"rgb(222,235,247)\"],[0.25,\"rgb(198,219,239)\"],[0.375,\"rgb(158,202,225)\"],[0.5,\"rgb(107,174,214)\"],[0.625,\"rgb(66,146,198)\"],[0.75,\"rgb(33,113,181)\"],[0.875,\"rgb(8,81,156)\"],[1.0,\"rgb(8,48,107)\"]],\"connectgaps\":true,\"contours\":{\"coloring\":\"heatmap\"},\"hoverinfo\":\"none\",\"line\":{\"smoothing\":1.3},\"reversescale\":false,\"showscale\":false,\"x\":[27.2,32,64,128,132.8],\"y\":[0.042601964673114265,0.04531450100143717,0.06474014431307697,0.09246386114864602,0.09933454589901237,0.09956522756789522,0.10227776389621812],\"z\":[[null,null,null,null,null],[null,null,null,0.8475426435470581,null],[null,null,null,0.8104313015937805,null],[null,null,0.8485456109046936,null,null],[null,0.8214644193649292,null,null,null],[null,0.8776329159736633,null,null,null],[null,null,null,null,null]],\"type\":\"contour\",\"xaxis\":\"x36\",\"yaxis\":\"y36\"},{\"marker\":{\"color\":\"black\",\"line\":{\"color\":\"Gray\",\"width\":2.0}},\"mode\":\"markers\",\"name\":\"Feasible Trial\",\"showlegend\":false,\"x\":[128,64,128,32,32],\"y\":[0.06474014431307697,0.09246386114864602,0.04531450100143717,0.09956522756789522,0.09933454589901237],\"type\":\"scatter\",\"xaxis\":\"x36\",\"yaxis\":\"y36\"},{\"colorbar\":{\"title\":{\"text\":\"Objective Value\"}},\"colorscale\":[[0.0,\"rgb(247,251,255)\"],[0.125,\"rgb(222,235,247)\"],[0.25,\"rgb(198,219,239)\"],[0.375,\"rgb(158,202,225)\"],[0.5,\"rgb(107,174,214)\"],[0.625,\"rgb(66,146,198)\"],[0.75,\"rgb(33,113,181)\"],[0.875,\"rgb(8,81,156)\"],[1.0,\"rgb(8,48,107)\"]],\"connectgaps\":true,\"contours\":{\"coloring\":\"heatmap\"},\"hoverinfo\":\"none\",\"line\":{\"smoothing\":1.3},\"reversescale\":false,\"showscale\":false,\"x\":[27.2,32,64,128,132.8],\"y\":[\"adam\",\"rmsprop\",\"sgd\"],\"z\":[[null,0.12838515639305115,0.3039117455482483,0.3299899697303772,null],[null,null,0.5486459136009216,0.31594783067703247,null],[null,0.8776329159736633,0.8485456109046936,0.8475426435470581,null]],\"type\":\"contour\",\"xaxis\":\"x43\",\"yaxis\":\"y43\"},{\"marker\":{\"color\":\"black\",\"line\":{\"color\":\"Gray\",\"width\":2.0}},\"mode\":\"markers\",\"name\":\"Feasible Trial\",\"showlegend\":false,\"x\":[128,128,128,64,128,128,32,64,64,64,32,32],\"y\":[\"rmsprop\",\"adam\",\"sgd\",\"sgd\",\"rmsprop\",\"sgd\",\"adam\",\"rmsprop\",\"rmsprop\",\"adam\",\"sgd\",\"sgd\"],\"type\":\"scatter\",\"xaxis\":\"x43\",\"yaxis\":\"y43\"},{\"colorbar\":{\"title\":{\"text\":\"Objective Value\"}},\"colorscale\":[[0.0,\"rgb(247,251,255)\"],[0.125,\"rgb(222,235,247)\"],[0.25,\"rgb(198,219,239)\"],[0.375,\"rgb(158,202,225)\"],[0.5,\"rgb(107,174,214)\"],[0.625,\"rgb(66,146,198)\"],[0.75,\"rgb(33,113,181)\"],[0.875,\"rgb(8,81,156)\"],[1.0,\"rgb(8,48,107)\"]],\"connectgaps\":true,\"contours\":{\"coloring\":\"heatmap\"},\"hoverinfo\":\"none\",\"line\":{\"smoothing\":1.3},\"reversescale\":false,\"showscale\":false,\"x\":[0.20421460334384314,0.21769498901785297,0.2562076496246386,0.2754041123491316,0.3568786837272921,0.37715564662125356,0.3892263644877882,0.39518942324725165,0.42565125145570576,0.43966823165243996,0.44048073411556865,0.4598679209564908,0.4873027024980497,0.5007830881720595],\"y\":[27.2,32,64,128,132.8],\"z\":[[null,null,null,null,null,null,null,null,null,null,null,null,null,null],[null,null,null,0.12838515639305115,null,null,0.8776329159736633,0.8214644193649292,null,null,null,null,null,null],[null,null,null,null,null,null,null,null,0.8485456109046936,0.3039117455482483,null,0.5486459136009216,0.33299899101257324,null],[null,0.8475426435470581,0.1624874621629715,null,0.31594783067703247,0.3299899697303772,null,null,null,null,0.8104313015937805,null,null,null],[null,null,null,null,null,null,null,null,null,null,null,null,null,null]],\"type\":\"contour\",\"xaxis\":\"x2\",\"yaxis\":\"y2\"},{\"marker\":{\"color\":\"black\",\"line\":{\"color\":\"Gray\",\"width\":2.0}},\"mode\":\"markers\",\"name\":\"Feasible Trial\",\"showlegend\":false,\"x\":[0.3568786837272921,0.37715564662125356,0.44048073411556865,0.42565125145570576,0.2562076496246386,0.21769498901785297,0.2754041123491316,0.4598679209564908,0.4873027024980497,0.43966823165243996,0.3892263644877882,0.39518942324725165],\"y\":[128,128,128,64,128,128,32,64,64,64,32,32],\"type\":\"scatter\",\"xaxis\":\"x2\",\"yaxis\":\"y2\"},{\"type\":\"scatter\",\"xaxis\":\"x9\",\"yaxis\":\"y9\"},{\"colorbar\":{\"title\":{\"text\":\"Objective Value\"}},\"colorscale\":[[0.0,\"rgb(247,251,255)\"],[0.125,\"rgb(222,235,247)\"],[0.25,\"rgb(198,219,239)\"],[0.375,\"rgb(158,202,225)\"],[0.5,\"rgb(107,174,214)\"],[0.625,\"rgb(66,146,198)\"],[0.75,\"rgb(33,113,181)\"],[0.875,\"rgb(8,81,156)\"],[1.0,\"rgb(8,48,107)\"]],\"connectgaps\":true,\"contours\":{\"coloring\":\"heatmap\"},\"hoverinfo\":\"none\",\"line\":{\"smoothing\":1.3},\"reversescale\":false,\"showscale\":false,\"x\":[0.20421460334384314,0.21769498901785297,0.2562076496246386,0.2754041123491316,0.3568786837272921,0.37715564662125356,0.3892263644877882,0.39518942324725165,0.42565125145570576,0.43966823165243996,0.44048073411556865,0.4598679209564908,0.4873027024980497,0.5007830881720595],\"y\":[24.7,28,31,37,41,45,51,54,65,76,77,87,94,97.3],\"z\":[[null,null,null,null,null,null,null,null,null,null,null,null,null,null],[null,0.8475426435470581,null,null,null,null,null,null,null,null,null,null,null,null],[null,null,null,null,null,null,null,null,0.8485456109046936,null,null,null,null,null],[null,null,null,null,null,null,null,null,null,0.3039117455482483,null,null,null,null],[null,null,null,null,null,0.3299899697303772,null,null,null,null,null,null,null,null],[null,null,null,0.12838515639305115,null,null,null,null,null,null,null,null,null,null],[null,null,null,null,null,null,0.8776329159736633,null,null,null,null,null,null,null],[null,null,null,null,null,null,null,0.8214644193649292,null,null,null,null,null,null],[null,null,null,null,0.31594783067703247,null,null,null,null,null,null,null,null,null],[null,null,null,null,null,null,null,null,null,null,0.8104313015937805,null,null,null],[null,null,null,null,null,null,null,null,null,null,null,0.5486459136009216,null,null],[null,null,null,null,null,null,null,null,null,null,null,null,0.33299899101257324,null],[null,null,0.1624874621629715,null,null,null,null,null,null,null,null,null,null,null],[null,null,null,null,null,null,null,null,null,null,null,null,null,null]],\"type\":\"contour\",\"xaxis\":\"x16\",\"yaxis\":\"y16\"},{\"marker\":{\"color\":\"black\",\"line\":{\"color\":\"Gray\",\"width\":2.0}},\"mode\":\"markers\",\"name\":\"Feasible Trial\",\"showlegend\":false,\"x\":[0.3568786837272921,0.37715564662125356,0.44048073411556865,0.42565125145570576,0.2562076496246386,0.21769498901785297,0.2754041123491316,0.4598679209564908,0.4873027024980497,0.43966823165243996,0.3892263644877882,0.39518942324725165],\"y\":[65,41,76,31,94,28,45,77,87,37,51,54],\"type\":\"scatter\",\"xaxis\":\"x16\",\"yaxis\":\"y16\"},{\"colorbar\":{\"title\":{\"text\":\"Objective Value\"}},\"colorscale\":[[0.0,\"rgb(247,251,255)\"],[0.125,\"rgb(222,235,247)\"],[0.25,\"rgb(198,219,239)\"],[0.375,\"rgb(158,202,225)\"],[0.5,\"rgb(107,174,214)\"],[0.625,\"rgb(66,146,198)\"],[0.75,\"rgb(33,113,181)\"],[0.875,\"rgb(8,81,156)\"],[1.0,\"rgb(8,48,107)\"]],\"connectgaps\":true,\"contours\":{\"coloring\":\"heatmap\"},\"hoverinfo\":\"none\",\"line\":{\"smoothing\":1.3},\"reversescale\":false,\"showscale\":false,\"x\":[0.20421460334384314,0.21769498901785297,0.2562076496246386,0.2754041123491316,0.3568786837272921,0.37715564662125356,0.3892263644877882,0.39518942324725165,0.42565125145570576,0.43966823165243996,0.44048073411556865,0.4598679209564908,0.4873027024980497,0.5007830881720595],\"y\":[0.06371741731309635,0.06428271412790436,0.06934781894228761,0.07558865042406443,0.07615394723887244],\"z\":[[null,null,null,null,null,null,null,null,null,null,null,null,null,null],[null,null,null,null,null,0.3299899697303772,null,null,null,null,null,null,null,null],[null,null,null,null,null,null,null,null,null,0.3039117455482483,null,null,null,null],[null,null,null,0.12838515639305115,null,null,null,null,null,null,null,null,null,null],[null,null,null,null,null,null,null,null,null,null,null,null,null,null]],\"type\":\"contour\",\"xaxis\":\"x23\",\"yaxis\":\"y23\"},{\"marker\":{\"color\":\"black\",\"line\":{\"color\":\"Gray\",\"width\":2.0}},\"mode\":\"markers\",\"name\":\"Feasible Trial\",\"showlegend\":false,\"x\":[0.37715564662125356,0.2754041123491316,0.43966823165243996],\"y\":[0.06428271412790436,0.07558865042406443,0.06934781894228761],\"type\":\"scatter\",\"xaxis\":\"x23\",\"yaxis\":\"y23\"},{\"colorbar\":{\"title\":{\"text\":\"Objective Value\"}},\"colorscale\":[[0.0,\"rgb(247,251,255)\"],[0.125,\"rgb(222,235,247)\"],[0.25,\"rgb(198,219,239)\"],[0.375,\"rgb(158,202,225)\"],[0.5,\"rgb(107,174,214)\"],[0.625,\"rgb(66,146,198)\"],[0.75,\"rgb(33,113,181)\"],[0.875,\"rgb(8,81,156)\"],[1.0,\"rgb(8,48,107)\"]],\"connectgaps\":true,\"contours\":{\"coloring\":\"heatmap\"},\"hoverinfo\":\"none\",\"line\":{\"smoothing\":1.3},\"reversescale\":false,\"showscale\":false,\"x\":[0.20421460334384314,0.21769498901785297,0.2562076496246386,0.2754041123491316,0.3568786837272921,0.37715564662125356,0.3892263644877882,0.39518942324725165,0.42565125145570576,0.43966823165243996,0.44048073411556865,0.4598679209564908,0.4873027024980497,0.5007830881720595],\"y\":[0.020184119554077416,0.02385847898861848,0.052856313273896074,0.08964888481179067,0.0973456676794398,0.10102002711398088],\"z\":[[null,null,null,null,null,null,null,null,null,null,null,null,null,null],[null,null,null,null,null,null,null,null,null,null,null,0.5486459136009216,null,null],[null,null,null,null,null,null,null,null,null,null,null,null,0.33299899101257324,null],[null,null,null,null,0.31594783067703247,null,null,null,null,null,null,null,null,null],[null,null,0.1624874621629715,null,null,null,null,null,null,null,null,null,null,null],[null,null,null,null,null,null,null,null,null,null,null,null,null,null]],\"type\":\"contour\",\"xaxis\":\"x30\",\"yaxis\":\"y30\"},{\"marker\":{\"color\":\"black\",\"line\":{\"color\":\"Gray\",\"width\":2.0}},\"mode\":\"markers\",\"name\":\"Feasible Trial\",\"showlegend\":false,\"x\":[0.3568786837272921,0.2562076496246386,0.4598679209564908,0.4873027024980497],\"y\":[0.08964888481179067,0.0973456676794398,0.02385847898861848,0.052856313273896074],\"type\":\"scatter\",\"xaxis\":\"x30\",\"yaxis\":\"y30\"},{\"colorbar\":{\"title\":{\"text\":\"Objective Value\"}},\"colorscale\":[[0.0,\"rgb(247,251,255)\"],[0.125,\"rgb(222,235,247)\"],[0.25,\"rgb(198,219,239)\"],[0.375,\"rgb(158,202,225)\"],[0.5,\"rgb(107,174,214)\"],[0.625,\"rgb(66,146,198)\"],[0.75,\"rgb(33,113,181)\"],[0.875,\"rgb(8,81,156)\"],[1.0,\"rgb(8,48,107)\"]],\"connectgaps\":true,\"contours\":{\"coloring\":\"heatmap\"},\"hoverinfo\":\"none\",\"line\":{\"smoothing\":1.3},\"reversescale\":false,\"showscale\":false,\"x\":[0.20421460334384314,0.21769498901785297,0.2562076496246386,0.2754041123491316,0.3568786837272921,0.37715564662125356,0.3892263644877882,0.39518942324725165,0.42565125145570576,0.43966823165243996,0.44048073411556865,0.4598679209564908,0.4873027024980497,0.5007830881720595],\"y\":[0.042601964673114265,0.04531450100143717,0.06474014431307697,0.09246386114864602,0.09933454589901237,0.09956522756789522,0.10227776389621812],\"z\":[[null,null,null,null,null,null,null,null,null,null,null,null,null,null],[null,0.8475426435470581,null,null,null,null,null,null,null,null,null,null,null,null],[null,null,null,null,null,null,null,null,null,null,0.8104313015937805,null,null,null],[null,null,null,null,null,null,null,null,0.8485456109046936,null,null,null,null,null],[null,null,null,null,null,null,null,0.8214644193649292,null,null,null,null,null,null],[null,null,null,null,null,null,0.8776329159736633,null,null,null,null,null,null,null],[null,null,null,null,null,null,null,null,null,null,null,null,null,null]],\"type\":\"contour\",\"xaxis\":\"x37\",\"yaxis\":\"y37\"},{\"marker\":{\"color\":\"black\",\"line\":{\"color\":\"Gray\",\"width\":2.0}},\"mode\":\"markers\",\"name\":\"Feasible Trial\",\"showlegend\":false,\"x\":[0.44048073411556865,0.42565125145570576,0.21769498901785297,0.3892263644877882,0.39518942324725165],\"y\":[0.06474014431307697,0.09246386114864602,0.04531450100143717,0.09956522756789522,0.09933454589901237],\"type\":\"scatter\",\"xaxis\":\"x37\",\"yaxis\":\"y37\"},{\"colorbar\":{\"title\":{\"text\":\"Objective Value\"}},\"colorscale\":[[0.0,\"rgb(247,251,255)\"],[0.125,\"rgb(222,235,247)\"],[0.25,\"rgb(198,219,239)\"],[0.375,\"rgb(158,202,225)\"],[0.5,\"rgb(107,174,214)\"],[0.625,\"rgb(66,146,198)\"],[0.75,\"rgb(33,113,181)\"],[0.875,\"rgb(8,81,156)\"],[1.0,\"rgb(8,48,107)\"]],\"connectgaps\":true,\"contours\":{\"coloring\":\"heatmap\"},\"hoverinfo\":\"none\",\"line\":{\"smoothing\":1.3},\"reversescale\":false,\"showscale\":false,\"x\":[0.20421460334384314,0.21769498901785297,0.2562076496246386,0.2754041123491316,0.3568786837272921,0.37715564662125356,0.3892263644877882,0.39518942324725165,0.42565125145570576,0.43966823165243996,0.44048073411556865,0.4598679209564908,0.4873027024980497,0.5007830881720595],\"y\":[\"adam\",\"rmsprop\",\"sgd\"],\"z\":[[null,null,null,0.12838515639305115,null,0.3299899697303772,null,null,null,0.3039117455482483,null,null,null,null],[null,null,0.1624874621629715,null,0.31594783067703247,null,null,null,null,null,null,0.5486459136009216,0.33299899101257324,null],[null,0.8475426435470581,null,null,null,null,0.8776329159736633,0.8214644193649292,0.8485456109046936,null,0.8104313015937805,null,null,null]],\"type\":\"contour\",\"xaxis\":\"x44\",\"yaxis\":\"y44\"},{\"marker\":{\"color\":\"black\",\"line\":{\"color\":\"Gray\",\"width\":2.0}},\"mode\":\"markers\",\"name\":\"Feasible Trial\",\"showlegend\":false,\"x\":[0.3568786837272921,0.37715564662125356,0.44048073411556865,0.42565125145570576,0.2562076496246386,0.21769498901785297,0.2754041123491316,0.4598679209564908,0.4873027024980497,0.43966823165243996,0.3892263644877882,0.39518942324725165],\"y\":[\"rmsprop\",\"adam\",\"sgd\",\"sgd\",\"rmsprop\",\"sgd\",\"adam\",\"rmsprop\",\"rmsprop\",\"adam\",\"sgd\",\"sgd\"],\"type\":\"scatter\",\"xaxis\":\"x44\",\"yaxis\":\"y44\"},{\"colorbar\":{\"title\":{\"text\":\"Objective Value\"}},\"colorscale\":[[0.0,\"rgb(247,251,255)\"],[0.125,\"rgb(222,235,247)\"],[0.25,\"rgb(198,219,239)\"],[0.375,\"rgb(158,202,225)\"],[0.5,\"rgb(107,174,214)\"],[0.625,\"rgb(66,146,198)\"],[0.75,\"rgb(33,113,181)\"],[0.875,\"rgb(8,81,156)\"],[1.0,\"rgb(8,48,107)\"]],\"connectgaps\":true,\"contours\":{\"coloring\":\"heatmap\"},\"hoverinfo\":\"none\",\"line\":{\"smoothing\":1.3},\"reversescale\":false,\"showscale\":false,\"x\":[24.7,28,31,37,41,45,51,54,65,76,77,87,94,97.3],\"y\":[27.2,32,64,128,132.8],\"z\":[[null,null,null,null,null,null,null,null,null,null,null,null,null,null],[null,null,null,null,null,0.12838515639305115,0.8776329159736633,0.8214644193649292,null,null,null,null,null,null],[null,null,0.8485456109046936,0.3039117455482483,null,null,null,null,null,null,0.5486459136009216,0.33299899101257324,null,null],[null,0.8475426435470581,null,null,0.3299899697303772,null,null,null,0.31594783067703247,0.8104313015937805,null,null,0.1624874621629715,null],[null,null,null,null,null,null,null,null,null,null,null,null,null,null]],\"type\":\"contour\",\"xaxis\":\"x3\",\"yaxis\":\"y3\"},{\"marker\":{\"color\":\"black\",\"line\":{\"color\":\"Gray\",\"width\":2.0}},\"mode\":\"markers\",\"name\":\"Feasible Trial\",\"showlegend\":false,\"x\":[65,41,76,31,94,28,45,77,87,37,51,54],\"y\":[128,128,128,64,128,128,32,64,64,64,32,32],\"type\":\"scatter\",\"xaxis\":\"x3\",\"yaxis\":\"y3\"},{\"colorbar\":{\"title\":{\"text\":\"Objective Value\"}},\"colorscale\":[[0.0,\"rgb(247,251,255)\"],[0.125,\"rgb(222,235,247)\"],[0.25,\"rgb(198,219,239)\"],[0.375,\"rgb(158,202,225)\"],[0.5,\"rgb(107,174,214)\"],[0.625,\"rgb(66,146,198)\"],[0.75,\"rgb(33,113,181)\"],[0.875,\"rgb(8,81,156)\"],[1.0,\"rgb(8,48,107)\"]],\"connectgaps\":true,\"contours\":{\"coloring\":\"heatmap\"},\"hoverinfo\":\"none\",\"line\":{\"smoothing\":1.3},\"reversescale\":false,\"showscale\":false,\"x\":[24.7,28,31,37,41,45,51,54,65,76,77,87,94,97.3],\"y\":[0.20421460334384314,0.21769498901785297,0.2562076496246386,0.2754041123491316,0.3568786837272921,0.37715564662125356,0.3892263644877882,0.39518942324725165,0.42565125145570576,0.43966823165243996,0.44048073411556865,0.4598679209564908,0.4873027024980497,0.5007830881720595],\"z\":[[null,null,null,null,null,null,null,null,null,null,null,null,null,null],[null,0.8475426435470581,null,null,null,null,null,null,null,null,null,null,null,null],[null,null,null,null,null,null,null,null,null,null,null,null,0.1624874621629715,null],[null,null,null,null,null,0.12838515639305115,null,null,null,null,null,null,null,null],[null,null,null,null,null,null,null,null,0.31594783067703247,null,null,null,null,null],[null,null,null,null,0.3299899697303772,null,null,null,null,null,null,null,null,null],[null,null,null,null,null,null,0.8776329159736633,null,null,null,null,null,null,null],[null,null,null,null,null,null,null,0.8214644193649292,null,null,null,null,null,null],[null,null,0.8485456109046936,null,null,null,null,null,null,null,null,null,null,null],[null,null,null,0.3039117455482483,null,null,null,null,null,null,null,null,null,null],[null,null,null,null,null,null,null,null,null,0.8104313015937805,null,null,null,null],[null,null,null,null,null,null,null,null,null,null,0.5486459136009216,null,null,null],[null,null,null,null,null,null,null,null,null,null,null,0.33299899101257324,null,null],[null,null,null,null,null,null,null,null,null,null,null,null,null,null]],\"type\":\"contour\",\"xaxis\":\"x10\",\"yaxis\":\"y10\"},{\"marker\":{\"color\":\"black\",\"line\":{\"color\":\"Gray\",\"width\":2.0}},\"mode\":\"markers\",\"name\":\"Feasible Trial\",\"showlegend\":false,\"x\":[65,41,76,31,94,28,45,77,87,37,51,54],\"y\":[0.3568786837272921,0.37715564662125356,0.44048073411556865,0.42565125145570576,0.2562076496246386,0.21769498901785297,0.2754041123491316,0.4598679209564908,0.4873027024980497,0.43966823165243996,0.3892263644877882,0.39518942324725165],\"type\":\"scatter\",\"xaxis\":\"x10\",\"yaxis\":\"y10\"},{\"type\":\"scatter\",\"xaxis\":\"x17\",\"yaxis\":\"y17\"},{\"colorbar\":{\"title\":{\"text\":\"Objective Value\"}},\"colorscale\":[[0.0,\"rgb(247,251,255)\"],[0.125,\"rgb(222,235,247)\"],[0.25,\"rgb(198,219,239)\"],[0.375,\"rgb(158,202,225)\"],[0.5,\"rgb(107,174,214)\"],[0.625,\"rgb(66,146,198)\"],[0.75,\"rgb(33,113,181)\"],[0.875,\"rgb(8,81,156)\"],[1.0,\"rgb(8,48,107)\"]],\"connectgaps\":true,\"contours\":{\"coloring\":\"heatmap\"},\"hoverinfo\":\"none\",\"line\":{\"smoothing\":1.3},\"reversescale\":false,\"showscale\":false,\"x\":[24.7,28,31,37,41,45,51,54,65,76,77,87,94,97.3],\"y\":[0.06371741731309635,0.06428271412790436,0.06934781894228761,0.07558865042406443,0.07615394723887244],\"z\":[[null,null,null,null,null,null,null,null,null,null,null,null,null,null],[null,null,null,null,0.3299899697303772,null,null,null,null,null,null,null,null,null],[null,null,null,0.3039117455482483,null,null,null,null,null,null,null,null,null,null],[null,null,null,null,null,0.12838515639305115,null,null,null,null,null,null,null,null],[null,null,null,null,null,null,null,null,null,null,null,null,null,null]],\"type\":\"contour\",\"xaxis\":\"x24\",\"yaxis\":\"y24\"},{\"marker\":{\"color\":\"black\",\"line\":{\"color\":\"Gray\",\"width\":2.0}},\"mode\":\"markers\",\"name\":\"Feasible Trial\",\"showlegend\":false,\"x\":[41,45,37],\"y\":[0.06428271412790436,0.07558865042406443,0.06934781894228761],\"type\":\"scatter\",\"xaxis\":\"x24\",\"yaxis\":\"y24\"},{\"colorbar\":{\"title\":{\"text\":\"Objective Value\"}},\"colorscale\":[[0.0,\"rgb(247,251,255)\"],[0.125,\"rgb(222,235,247)\"],[0.25,\"rgb(198,219,239)\"],[0.375,\"rgb(158,202,225)\"],[0.5,\"rgb(107,174,214)\"],[0.625,\"rgb(66,146,198)\"],[0.75,\"rgb(33,113,181)\"],[0.875,\"rgb(8,81,156)\"],[1.0,\"rgb(8,48,107)\"]],\"connectgaps\":true,\"contours\":{\"coloring\":\"heatmap\"},\"hoverinfo\":\"none\",\"line\":{\"smoothing\":1.3},\"reversescale\":false,\"showscale\":false,\"x\":[24.7,28,31,37,41,45,51,54,65,76,77,87,94,97.3],\"y\":[0.020184119554077416,0.02385847898861848,0.052856313273896074,0.08964888481179067,0.0973456676794398,0.10102002711398088],\"z\":[[null,null,null,null,null,null,null,null,null,null,null,null,null,null],[null,null,null,null,null,null,null,null,null,null,0.5486459136009216,null,null,null],[null,null,null,null,null,null,null,null,null,null,null,0.33299899101257324,null,null],[null,null,null,null,null,null,null,null,0.31594783067703247,null,null,null,null,null],[null,null,null,null,null,null,null,null,null,null,null,null,0.1624874621629715,null],[null,null,null,null,null,null,null,null,null,null,null,null,null,null]],\"type\":\"contour\",\"xaxis\":\"x31\",\"yaxis\":\"y31\"},{\"marker\":{\"color\":\"black\",\"line\":{\"color\":\"Gray\",\"width\":2.0}},\"mode\":\"markers\",\"name\":\"Feasible Trial\",\"showlegend\":false,\"x\":[65,94,77,87],\"y\":[0.08964888481179067,0.0973456676794398,0.02385847898861848,0.052856313273896074],\"type\":\"scatter\",\"xaxis\":\"x31\",\"yaxis\":\"y31\"},{\"colorbar\":{\"title\":{\"text\":\"Objective Value\"}},\"colorscale\":[[0.0,\"rgb(247,251,255)\"],[0.125,\"rgb(222,235,247)\"],[0.25,\"rgb(198,219,239)\"],[0.375,\"rgb(158,202,225)\"],[0.5,\"rgb(107,174,214)\"],[0.625,\"rgb(66,146,198)\"],[0.75,\"rgb(33,113,181)\"],[0.875,\"rgb(8,81,156)\"],[1.0,\"rgb(8,48,107)\"]],\"connectgaps\":true,\"contours\":{\"coloring\":\"heatmap\"},\"hoverinfo\":\"none\",\"line\":{\"smoothing\":1.3},\"reversescale\":false,\"showscale\":false,\"x\":[24.7,28,31,37,41,45,51,54,65,76,77,87,94,97.3],\"y\":[0.042601964673114265,0.04531450100143717,0.06474014431307697,0.09246386114864602,0.09933454589901237,0.09956522756789522,0.10227776389621812],\"z\":[[null,null,null,null,null,null,null,null,null,null,null,null,null,null],[null,0.8475426435470581,null,null,null,null,null,null,null,null,null,null,null,null],[null,null,null,null,null,null,null,null,null,0.8104313015937805,null,null,null,null],[null,null,0.8485456109046936,null,null,null,null,null,null,null,null,null,null,null],[null,null,null,null,null,null,null,0.8214644193649292,null,null,null,null,null,null],[null,null,null,null,null,null,0.8776329159736633,null,null,null,null,null,null,null],[null,null,null,null,null,null,null,null,null,null,null,null,null,null]],\"type\":\"contour\",\"xaxis\":\"x38\",\"yaxis\":\"y38\"},{\"marker\":{\"color\":\"black\",\"line\":{\"color\":\"Gray\",\"width\":2.0}},\"mode\":\"markers\",\"name\":\"Feasible Trial\",\"showlegend\":false,\"x\":[76,31,28,51,54],\"y\":[0.06474014431307697,0.09246386114864602,0.04531450100143717,0.09956522756789522,0.09933454589901237],\"type\":\"scatter\",\"xaxis\":\"x38\",\"yaxis\":\"y38\"},{\"colorbar\":{\"title\":{\"text\":\"Objective Value\"}},\"colorscale\":[[0.0,\"rgb(247,251,255)\"],[0.125,\"rgb(222,235,247)\"],[0.25,\"rgb(198,219,239)\"],[0.375,\"rgb(158,202,225)\"],[0.5,\"rgb(107,174,214)\"],[0.625,\"rgb(66,146,198)\"],[0.75,\"rgb(33,113,181)\"],[0.875,\"rgb(8,81,156)\"],[1.0,\"rgb(8,48,107)\"]],\"connectgaps\":true,\"contours\":{\"coloring\":\"heatmap\"},\"hoverinfo\":\"none\",\"line\":{\"smoothing\":1.3},\"reversescale\":false,\"showscale\":false,\"x\":[24.7,28,31,37,41,45,51,54,65,76,77,87,94,97.3],\"y\":[\"adam\",\"rmsprop\",\"sgd\"],\"z\":[[null,null,null,0.3039117455482483,0.3299899697303772,0.12838515639305115,null,null,null,null,null,null,null,null],[null,null,null,null,null,null,null,null,0.31594783067703247,null,0.5486459136009216,0.33299899101257324,0.1624874621629715,null],[null,0.8475426435470581,0.8485456109046936,null,null,null,0.8776329159736633,0.8214644193649292,null,0.8104313015937805,null,null,null,null]],\"type\":\"contour\",\"xaxis\":\"x45\",\"yaxis\":\"y45\"},{\"marker\":{\"color\":\"black\",\"line\":{\"color\":\"Gray\",\"width\":2.0}},\"mode\":\"markers\",\"name\":\"Feasible Trial\",\"showlegend\":false,\"x\":[65,41,76,31,94,28,45,77,87,37,51,54],\"y\":[\"rmsprop\",\"adam\",\"sgd\",\"sgd\",\"rmsprop\",\"sgd\",\"adam\",\"rmsprop\",\"rmsprop\",\"adam\",\"sgd\",\"sgd\"],\"type\":\"scatter\",\"xaxis\":\"x45\",\"yaxis\":\"y45\"},{\"colorbar\":{\"title\":{\"text\":\"Objective Value\"}},\"colorscale\":[[0.0,\"rgb(247,251,255)\"],[0.125,\"rgb(222,235,247)\"],[0.25,\"rgb(198,219,239)\"],[0.375,\"rgb(158,202,225)\"],[0.5,\"rgb(107,174,214)\"],[0.625,\"rgb(66,146,198)\"],[0.75,\"rgb(33,113,181)\"],[0.875,\"rgb(8,81,156)\"],[1.0,\"rgb(8,48,107)\"]],\"connectgaps\":true,\"contours\":{\"coloring\":\"heatmap\"},\"hoverinfo\":\"none\",\"line\":{\"smoothing\":1.3},\"reversescale\":false,\"showscale\":false,\"x\":[0.06371741731309635,0.06428271412790436,0.06934781894228761,0.07558865042406443,0.07615394723887244],\"y\":[27.2,32,64,128,132.8],\"z\":[[null,null,null,null,null],[null,null,null,0.12838515639305115,null],[null,null,0.3039117455482483,null,null],[null,0.3299899697303772,null,null,null],[null,null,null,null,null]],\"type\":\"contour\",\"xaxis\":\"x4\",\"yaxis\":\"y4\"},{\"marker\":{\"color\":\"black\",\"line\":{\"color\":\"Gray\",\"width\":2.0}},\"mode\":\"markers\",\"name\":\"Feasible Trial\",\"showlegend\":false,\"x\":[0.06428271412790436,0.07558865042406443,0.06934781894228761],\"y\":[128,32,64],\"type\":\"scatter\",\"xaxis\":\"x4\",\"yaxis\":\"y4\"},{\"colorbar\":{\"title\":{\"text\":\"Objective Value\"}},\"colorscale\":[[0.0,\"rgb(247,251,255)\"],[0.125,\"rgb(222,235,247)\"],[0.25,\"rgb(198,219,239)\"],[0.375,\"rgb(158,202,225)\"],[0.5,\"rgb(107,174,214)\"],[0.625,\"rgb(66,146,198)\"],[0.75,\"rgb(33,113,181)\"],[0.875,\"rgb(8,81,156)\"],[1.0,\"rgb(8,48,107)\"]],\"connectgaps\":true,\"contours\":{\"coloring\":\"heatmap\"},\"hoverinfo\":\"none\",\"line\":{\"smoothing\":1.3},\"reversescale\":false,\"showscale\":false,\"x\":[0.06371741731309635,0.06428271412790436,0.06934781894228761,0.07558865042406443,0.07615394723887244],\"y\":[0.20421460334384314,0.21769498901785297,0.2562076496246386,0.2754041123491316,0.3568786837272921,0.37715564662125356,0.3892263644877882,0.39518942324725165,0.42565125145570576,0.43966823165243996,0.44048073411556865,0.4598679209564908,0.4873027024980497,0.5007830881720595],\"z\":[[null,null,null,null,null],[null,null,null,null,null],[null,null,null,null,null],[null,null,null,0.12838515639305115,null],[null,null,null,null,null],[null,0.3299899697303772,null,null,null],[null,null,null,null,null],[null,null,null,null,null],[null,null,null,null,null],[null,null,0.3039117455482483,null,null],[null,null,null,null,null],[null,null,null,null,null],[null,null,null,null,null],[null,null,null,null,null]],\"type\":\"contour\",\"xaxis\":\"x11\",\"yaxis\":\"y11\"},{\"marker\":{\"color\":\"black\",\"line\":{\"color\":\"Gray\",\"width\":2.0}},\"mode\":\"markers\",\"name\":\"Feasible Trial\",\"showlegend\":false,\"x\":[0.06428271412790436,0.07558865042406443,0.06934781894228761],\"y\":[0.37715564662125356,0.2754041123491316,0.43966823165243996],\"type\":\"scatter\",\"xaxis\":\"x11\",\"yaxis\":\"y11\"},{\"colorbar\":{\"title\":{\"text\":\"Objective Value\"}},\"colorscale\":[[0.0,\"rgb(247,251,255)\"],[0.125,\"rgb(222,235,247)\"],[0.25,\"rgb(198,219,239)\"],[0.375,\"rgb(158,202,225)\"],[0.5,\"rgb(107,174,214)\"],[0.625,\"rgb(66,146,198)\"],[0.75,\"rgb(33,113,181)\"],[0.875,\"rgb(8,81,156)\"],[1.0,\"rgb(8,48,107)\"]],\"connectgaps\":true,\"contours\":{\"coloring\":\"heatmap\"},\"hoverinfo\":\"none\",\"line\":{\"smoothing\":1.3},\"reversescale\":false,\"showscale\":false,\"x\":[0.06371741731309635,0.06428271412790436,0.06934781894228761,0.07558865042406443,0.07615394723887244],\"y\":[24.7,28,31,37,41,45,51,54,65,76,77,87,94,97.3],\"z\":[[null,null,null,null,null],[null,null,null,null,null],[null,null,null,null,null],[null,null,0.3039117455482483,null,null],[null,0.3299899697303772,null,null,null],[null,null,null,0.12838515639305115,null],[null,null,null,null,null],[null,null,null,null,null],[null,null,null,null,null],[null,null,null,null,null],[null,null,null,null,null],[null,null,null,null,null],[null,null,null,null,null],[null,null,null,null,null]],\"type\":\"contour\",\"xaxis\":\"x18\",\"yaxis\":\"y18\"},{\"marker\":{\"color\":\"black\",\"line\":{\"color\":\"Gray\",\"width\":2.0}},\"mode\":\"markers\",\"name\":\"Feasible Trial\",\"showlegend\":false,\"x\":[0.06428271412790436,0.07558865042406443,0.06934781894228761],\"y\":[41,45,37],\"type\":\"scatter\",\"xaxis\":\"x18\",\"yaxis\":\"y18\"},{\"type\":\"scatter\",\"xaxis\":\"x25\",\"yaxis\":\"y25\"},{\"colorbar\":{\"title\":{\"text\":\"Objective Value\"}},\"colorscale\":[[0.0,\"rgb(247,251,255)\"],[0.125,\"rgb(222,235,247)\"],[0.25,\"rgb(198,219,239)\"],[0.375,\"rgb(158,202,225)\"],[0.5,\"rgb(107,174,214)\"],[0.625,\"rgb(66,146,198)\"],[0.75,\"rgb(33,113,181)\"],[0.875,\"rgb(8,81,156)\"],[1.0,\"rgb(8,48,107)\"]],\"connectgaps\":true,\"contours\":{\"coloring\":\"heatmap\"},\"hoverinfo\":\"none\",\"line\":{\"smoothing\":1.3},\"reversescale\":false,\"showscale\":false,\"x\":[0.06371741731309635,0.06428271412790436,0.06934781894228761,0.07558865042406443,0.07615394723887244],\"y\":[0.020184119554077416,0.02385847898861848,0.052856313273896074,0.08964888481179067,0.0973456676794398,0.10102002711398088],\"z\":[[null,null,null,null,null],[null,null,null,null,null],[null,null,null,null,null],[null,null,null,null,null],[null,null,null,null,null],[null,null,null,null,null]],\"type\":\"contour\",\"xaxis\":\"x32\",\"yaxis\":\"y32\"},{\"marker\":{\"color\":\"black\",\"line\":{\"color\":\"Gray\",\"width\":2.0}},\"mode\":\"markers\",\"name\":\"Feasible Trial\",\"showlegend\":false,\"x\":[],\"y\":[],\"type\":\"scatter\",\"xaxis\":\"x32\",\"yaxis\":\"y32\"},{\"colorbar\":{\"title\":{\"text\":\"Objective Value\"}},\"colorscale\":[[0.0,\"rgb(247,251,255)\"],[0.125,\"rgb(222,235,247)\"],[0.25,\"rgb(198,219,239)\"],[0.375,\"rgb(158,202,225)\"],[0.5,\"rgb(107,174,214)\"],[0.625,\"rgb(66,146,198)\"],[0.75,\"rgb(33,113,181)\"],[0.875,\"rgb(8,81,156)\"],[1.0,\"rgb(8,48,107)\"]],\"connectgaps\":true,\"contours\":{\"coloring\":\"heatmap\"},\"hoverinfo\":\"none\",\"line\":{\"smoothing\":1.3},\"reversescale\":false,\"showscale\":false,\"x\":[0.06371741731309635,0.06428271412790436,0.06934781894228761,0.07558865042406443,0.07615394723887244],\"y\":[0.042601964673114265,0.04531450100143717,0.06474014431307697,0.09246386114864602,0.09933454589901237,0.09956522756789522,0.10227776389621812],\"z\":[[null,null,null,null,null],[null,null,null,null,null],[null,null,null,null,null],[null,null,null,null,null],[null,null,null,null,null],[null,null,null,null,null],[null,null,null,null,null]],\"type\":\"contour\",\"xaxis\":\"x39\",\"yaxis\":\"y39\"},{\"marker\":{\"color\":\"black\",\"line\":{\"color\":\"Gray\",\"width\":2.0}},\"mode\":\"markers\",\"name\":\"Feasible Trial\",\"showlegend\":false,\"x\":[],\"y\":[],\"type\":\"scatter\",\"xaxis\":\"x39\",\"yaxis\":\"y39\"},{\"colorbar\":{\"title\":{\"text\":\"Objective Value\"}},\"colorscale\":[[0.0,\"rgb(247,251,255)\"],[0.125,\"rgb(222,235,247)\"],[0.25,\"rgb(198,219,239)\"],[0.375,\"rgb(158,202,225)\"],[0.5,\"rgb(107,174,214)\"],[0.625,\"rgb(66,146,198)\"],[0.75,\"rgb(33,113,181)\"],[0.875,\"rgb(8,81,156)\"],[1.0,\"rgb(8,48,107)\"]],\"connectgaps\":true,\"contours\":{\"coloring\":\"heatmap\"},\"hoverinfo\":\"none\",\"line\":{\"smoothing\":1.3},\"reversescale\":false,\"showscale\":false,\"x\":[0.06371741731309635,0.06428271412790436,0.06934781894228761,0.07558865042406443,0.07615394723887244],\"y\":[\"adam\",\"rmsprop\",\"sgd\"],\"z\":[[null,0.3299899697303772,0.3039117455482483,0.12838515639305115,null],[null,null,null,null,null],[null,null,null,null,null]],\"type\":\"contour\",\"xaxis\":\"x46\",\"yaxis\":\"y46\"},{\"marker\":{\"color\":\"black\",\"line\":{\"color\":\"Gray\",\"width\":2.0}},\"mode\":\"markers\",\"name\":\"Feasible Trial\",\"showlegend\":false,\"x\":[0.06428271412790436,0.07558865042406443,0.06934781894228761],\"y\":[\"adam\",\"adam\",\"adam\"],\"type\":\"scatter\",\"xaxis\":\"x46\",\"yaxis\":\"y46\"},{\"colorbar\":{\"title\":{\"text\":\"Objective Value\"}},\"colorscale\":[[0.0,\"rgb(247,251,255)\"],[0.125,\"rgb(222,235,247)\"],[0.25,\"rgb(198,219,239)\"],[0.375,\"rgb(158,202,225)\"],[0.5,\"rgb(107,174,214)\"],[0.625,\"rgb(66,146,198)\"],[0.75,\"rgb(33,113,181)\"],[0.875,\"rgb(8,81,156)\"],[1.0,\"rgb(8,48,107)\"]],\"connectgaps\":true,\"contours\":{\"coloring\":\"heatmap\"},\"hoverinfo\":\"none\",\"line\":{\"smoothing\":1.3},\"reversescale\":false,\"showscale\":false,\"x\":[0.020184119554077416,0.02385847898861848,0.052856313273896074,0.08964888481179067,0.0973456676794398,0.10102002711398088],\"y\":[27.2,32,64,128,132.8],\"z\":[[null,null,null,null,null,null],[null,null,null,null,null,null],[null,0.5486459136009216,0.33299899101257324,null,null,null],[null,null,null,0.31594783067703247,0.1624874621629715,null],[null,null,null,null,null,null]],\"type\":\"contour\",\"xaxis\":\"x5\",\"yaxis\":\"y5\"},{\"marker\":{\"color\":\"black\",\"line\":{\"color\":\"Gray\",\"width\":2.0}},\"mode\":\"markers\",\"name\":\"Feasible Trial\",\"showlegend\":false,\"x\":[0.08964888481179067,0.0973456676794398,0.02385847898861848,0.052856313273896074],\"y\":[128,128,64,64],\"type\":\"scatter\",\"xaxis\":\"x5\",\"yaxis\":\"y5\"},{\"colorbar\":{\"title\":{\"text\":\"Objective Value\"}},\"colorscale\":[[0.0,\"rgb(247,251,255)\"],[0.125,\"rgb(222,235,247)\"],[0.25,\"rgb(198,219,239)\"],[0.375,\"rgb(158,202,225)\"],[0.5,\"rgb(107,174,214)\"],[0.625,\"rgb(66,146,198)\"],[0.75,\"rgb(33,113,181)\"],[0.875,\"rgb(8,81,156)\"],[1.0,\"rgb(8,48,107)\"]],\"connectgaps\":true,\"contours\":{\"coloring\":\"heatmap\"},\"hoverinfo\":\"none\",\"line\":{\"smoothing\":1.3},\"reversescale\":false,\"showscale\":false,\"x\":[0.020184119554077416,0.02385847898861848,0.052856313273896074,0.08964888481179067,0.0973456676794398,0.10102002711398088],\"y\":[0.20421460334384314,0.21769498901785297,0.2562076496246386,0.2754041123491316,0.3568786837272921,0.37715564662125356,0.3892263644877882,0.39518942324725165,0.42565125145570576,0.43966823165243996,0.44048073411556865,0.4598679209564908,0.4873027024980497,0.5007830881720595],\"z\":[[null,null,null,null,null,null],[null,null,null,null,null,null],[null,null,null,null,0.1624874621629715,null],[null,null,null,null,null,null],[null,null,null,0.31594783067703247,null,null],[null,null,null,null,null,null],[null,null,null,null,null,null],[null,null,null,null,null,null],[null,null,null,null,null,null],[null,null,null,null,null,null],[null,null,null,null,null,null],[null,0.5486459136009216,null,null,null,null],[null,null,0.33299899101257324,null,null,null],[null,null,null,null,null,null]],\"type\":\"contour\",\"xaxis\":\"x12\",\"yaxis\":\"y12\"},{\"marker\":{\"color\":\"black\",\"line\":{\"color\":\"Gray\",\"width\":2.0}},\"mode\":\"markers\",\"name\":\"Feasible Trial\",\"showlegend\":false,\"x\":[0.08964888481179067,0.0973456676794398,0.02385847898861848,0.052856313273896074],\"y\":[0.3568786837272921,0.2562076496246386,0.4598679209564908,0.4873027024980497],\"type\":\"scatter\",\"xaxis\":\"x12\",\"yaxis\":\"y12\"},{\"colorbar\":{\"title\":{\"text\":\"Objective Value\"}},\"colorscale\":[[0.0,\"rgb(247,251,255)\"],[0.125,\"rgb(222,235,247)\"],[0.25,\"rgb(198,219,239)\"],[0.375,\"rgb(158,202,225)\"],[0.5,\"rgb(107,174,214)\"],[0.625,\"rgb(66,146,198)\"],[0.75,\"rgb(33,113,181)\"],[0.875,\"rgb(8,81,156)\"],[1.0,\"rgb(8,48,107)\"]],\"connectgaps\":true,\"contours\":{\"coloring\":\"heatmap\"},\"hoverinfo\":\"none\",\"line\":{\"smoothing\":1.3},\"reversescale\":false,\"showscale\":false,\"x\":[0.020184119554077416,0.02385847898861848,0.052856313273896074,0.08964888481179067,0.0973456676794398,0.10102002711398088],\"y\":[24.7,28,31,37,41,45,51,54,65,76,77,87,94,97.3],\"z\":[[null,null,null,null,null,null],[null,null,null,null,null,null],[null,null,null,null,null,null],[null,null,null,null,null,null],[null,null,null,null,null,null],[null,null,null,null,null,null],[null,null,null,null,null,null],[null,null,null,null,null,null],[null,null,null,0.31594783067703247,null,null],[null,null,null,null,null,null],[null,0.5486459136009216,null,null,null,null],[null,null,0.33299899101257324,null,null,null],[null,null,null,null,0.1624874621629715,null],[null,null,null,null,null,null]],\"type\":\"contour\",\"xaxis\":\"x19\",\"yaxis\":\"y19\"},{\"marker\":{\"color\":\"black\",\"line\":{\"color\":\"Gray\",\"width\":2.0}},\"mode\":\"markers\",\"name\":\"Feasible Trial\",\"showlegend\":false,\"x\":[0.08964888481179067,0.0973456676794398,0.02385847898861848,0.052856313273896074],\"y\":[65,94,77,87],\"type\":\"scatter\",\"xaxis\":\"x19\",\"yaxis\":\"y19\"},{\"colorbar\":{\"title\":{\"text\":\"Objective Value\"}},\"colorscale\":[[0.0,\"rgb(247,251,255)\"],[0.125,\"rgb(222,235,247)\"],[0.25,\"rgb(198,219,239)\"],[0.375,\"rgb(158,202,225)\"],[0.5,\"rgb(107,174,214)\"],[0.625,\"rgb(66,146,198)\"],[0.75,\"rgb(33,113,181)\"],[0.875,\"rgb(8,81,156)\"],[1.0,\"rgb(8,48,107)\"]],\"connectgaps\":true,\"contours\":{\"coloring\":\"heatmap\"},\"hoverinfo\":\"none\",\"line\":{\"smoothing\":1.3},\"reversescale\":false,\"showscale\":false,\"x\":[0.020184119554077416,0.02385847898861848,0.052856313273896074,0.08964888481179067,0.0973456676794398,0.10102002711398088],\"y\":[0.06371741731309635,0.06428271412790436,0.06934781894228761,0.07558865042406443,0.07615394723887244],\"z\":[[null,null,null,null,null,null],[null,null,null,null,null,null],[null,null,null,null,null,null],[null,null,null,null,null,null],[null,null,null,null,null,null]],\"type\":\"contour\",\"xaxis\":\"x26\",\"yaxis\":\"y26\"},{\"marker\":{\"color\":\"black\",\"line\":{\"color\":\"Gray\",\"width\":2.0}},\"mode\":\"markers\",\"name\":\"Feasible Trial\",\"showlegend\":false,\"x\":[],\"y\":[],\"type\":\"scatter\",\"xaxis\":\"x26\",\"yaxis\":\"y26\"},{\"type\":\"scatter\",\"xaxis\":\"x33\",\"yaxis\":\"y33\"},{\"colorbar\":{\"title\":{\"text\":\"Objective Value\"}},\"colorscale\":[[0.0,\"rgb(247,251,255)\"],[0.125,\"rgb(222,235,247)\"],[0.25,\"rgb(198,219,239)\"],[0.375,\"rgb(158,202,225)\"],[0.5,\"rgb(107,174,214)\"],[0.625,\"rgb(66,146,198)\"],[0.75,\"rgb(33,113,181)\"],[0.875,\"rgb(8,81,156)\"],[1.0,\"rgb(8,48,107)\"]],\"connectgaps\":true,\"contours\":{\"coloring\":\"heatmap\"},\"hoverinfo\":\"none\",\"line\":{\"smoothing\":1.3},\"reversescale\":false,\"showscale\":false,\"x\":[0.020184119554077416,0.02385847898861848,0.052856313273896074,0.08964888481179067,0.0973456676794398,0.10102002711398088],\"y\":[0.042601964673114265,0.04531450100143717,0.06474014431307697,0.09246386114864602,0.09933454589901237,0.09956522756789522,0.10227776389621812],\"z\":[[null,null,null,null,null,null],[null,null,null,null,null,null],[null,null,null,null,null,null],[null,null,null,null,null,null],[null,null,null,null,null,null],[null,null,null,null,null,null],[null,null,null,null,null,null]],\"type\":\"contour\",\"xaxis\":\"x40\",\"yaxis\":\"y40\"},{\"marker\":{\"color\":\"black\",\"line\":{\"color\":\"Gray\",\"width\":2.0}},\"mode\":\"markers\",\"name\":\"Feasible Trial\",\"showlegend\":false,\"x\":[],\"y\":[],\"type\":\"scatter\",\"xaxis\":\"x40\",\"yaxis\":\"y40\"},{\"colorbar\":{\"title\":{\"text\":\"Objective Value\"}},\"colorscale\":[[0.0,\"rgb(247,251,255)\"],[0.125,\"rgb(222,235,247)\"],[0.25,\"rgb(198,219,239)\"],[0.375,\"rgb(158,202,225)\"],[0.5,\"rgb(107,174,214)\"],[0.625,\"rgb(66,146,198)\"],[0.75,\"rgb(33,113,181)\"],[0.875,\"rgb(8,81,156)\"],[1.0,\"rgb(8,48,107)\"]],\"connectgaps\":true,\"contours\":{\"coloring\":\"heatmap\"},\"hoverinfo\":\"none\",\"line\":{\"smoothing\":1.3},\"reversescale\":false,\"showscale\":false,\"x\":[0.020184119554077416,0.02385847898861848,0.052856313273896074,0.08964888481179067,0.0973456676794398,0.10102002711398088],\"y\":[\"adam\",\"rmsprop\",\"sgd\"],\"z\":[[null,null,null,null,null,null],[null,0.5486459136009216,0.33299899101257324,0.31594783067703247,0.1624874621629715,null],[null,null,null,null,null,null]],\"type\":\"contour\",\"xaxis\":\"x47\",\"yaxis\":\"y47\"},{\"marker\":{\"color\":\"black\",\"line\":{\"color\":\"Gray\",\"width\":2.0}},\"mode\":\"markers\",\"name\":\"Feasible Trial\",\"showlegend\":false,\"x\":[0.08964888481179067,0.0973456676794398,0.02385847898861848,0.052856313273896074],\"y\":[\"rmsprop\",\"rmsprop\",\"rmsprop\",\"rmsprop\"],\"type\":\"scatter\",\"xaxis\":\"x47\",\"yaxis\":\"y47\"},{\"colorbar\":{\"title\":{\"text\":\"Objective Value\"}},\"colorscale\":[[0.0,\"rgb(247,251,255)\"],[0.125,\"rgb(222,235,247)\"],[0.25,\"rgb(198,219,239)\"],[0.375,\"rgb(158,202,225)\"],[0.5,\"rgb(107,174,214)\"],[0.625,\"rgb(66,146,198)\"],[0.75,\"rgb(33,113,181)\"],[0.875,\"rgb(8,81,156)\"],[1.0,\"rgb(8,48,107)\"]],\"connectgaps\":true,\"contours\":{\"coloring\":\"heatmap\"},\"hoverinfo\":\"none\",\"line\":{\"smoothing\":1.3},\"reversescale\":false,\"showscale\":false,\"x\":[0.042601964673114265,0.04531450100143717,0.06474014431307697,0.09246386114864602,0.09933454589901237,0.09956522756789522,0.10227776389621812],\"y\":[27.2,32,64,128,132.8],\"z\":[[null,null,null,null,null,null,null],[null,null,null,null,0.8214644193649292,0.8776329159736633,null],[null,null,null,0.8485456109046936,null,null,null],[null,0.8475426435470581,0.8104313015937805,null,null,null,null],[null,null,null,null,null,null,null]],\"type\":\"contour\",\"xaxis\":\"x6\",\"yaxis\":\"y6\"},{\"marker\":{\"color\":\"black\",\"line\":{\"color\":\"Gray\",\"width\":2.0}},\"mode\":\"markers\",\"name\":\"Feasible Trial\",\"showlegend\":false,\"x\":[0.06474014431307697,0.09246386114864602,0.04531450100143717,0.09956522756789522,0.09933454589901237],\"y\":[128,64,128,32,32],\"type\":\"scatter\",\"xaxis\":\"x6\",\"yaxis\":\"y6\"},{\"colorbar\":{\"title\":{\"text\":\"Objective Value\"}},\"colorscale\":[[0.0,\"rgb(247,251,255)\"],[0.125,\"rgb(222,235,247)\"],[0.25,\"rgb(198,219,239)\"],[0.375,\"rgb(158,202,225)\"],[0.5,\"rgb(107,174,214)\"],[0.625,\"rgb(66,146,198)\"],[0.75,\"rgb(33,113,181)\"],[0.875,\"rgb(8,81,156)\"],[1.0,\"rgb(8,48,107)\"]],\"connectgaps\":true,\"contours\":{\"coloring\":\"heatmap\"},\"hoverinfo\":\"none\",\"line\":{\"smoothing\":1.3},\"reversescale\":false,\"showscale\":false,\"x\":[0.042601964673114265,0.04531450100143717,0.06474014431307697,0.09246386114864602,0.09933454589901237,0.09956522756789522,0.10227776389621812],\"y\":[0.20421460334384314,0.21769498901785297,0.2562076496246386,0.2754041123491316,0.3568786837272921,0.37715564662125356,0.3892263644877882,0.39518942324725165,0.42565125145570576,0.43966823165243996,0.44048073411556865,0.4598679209564908,0.4873027024980497,0.5007830881720595],\"z\":[[null,null,null,null,null,null,null],[null,0.8475426435470581,null,null,null,null,null],[null,null,null,null,null,null,null],[null,null,null,null,null,null,null],[null,null,null,null,null,null,null],[null,null,null,null,null,null,null],[null,null,null,null,null,0.8776329159736633,null],[null,null,null,null,0.8214644193649292,null,null],[null,null,null,0.8485456109046936,null,null,null],[null,null,null,null,null,null,null],[null,null,0.8104313015937805,null,null,null,null],[null,null,null,null,null,null,null],[null,null,null,null,null,null,null],[null,null,null,null,null,null,null]],\"type\":\"contour\",\"xaxis\":\"x13\",\"yaxis\":\"y13\"},{\"marker\":{\"color\":\"black\",\"line\":{\"color\":\"Gray\",\"width\":2.0}},\"mode\":\"markers\",\"name\":\"Feasible Trial\",\"showlegend\":false,\"x\":[0.06474014431307697,0.09246386114864602,0.04531450100143717,0.09956522756789522,0.09933454589901237],\"y\":[0.44048073411556865,0.42565125145570576,0.21769498901785297,0.3892263644877882,0.39518942324725165],\"type\":\"scatter\",\"xaxis\":\"x13\",\"yaxis\":\"y13\"},{\"colorbar\":{\"title\":{\"text\":\"Objective Value\"}},\"colorscale\":[[0.0,\"rgb(247,251,255)\"],[0.125,\"rgb(222,235,247)\"],[0.25,\"rgb(198,219,239)\"],[0.375,\"rgb(158,202,225)\"],[0.5,\"rgb(107,174,214)\"],[0.625,\"rgb(66,146,198)\"],[0.75,\"rgb(33,113,181)\"],[0.875,\"rgb(8,81,156)\"],[1.0,\"rgb(8,48,107)\"]],\"connectgaps\":true,\"contours\":{\"coloring\":\"heatmap\"},\"hoverinfo\":\"none\",\"line\":{\"smoothing\":1.3},\"reversescale\":false,\"showscale\":false,\"x\":[0.042601964673114265,0.04531450100143717,0.06474014431307697,0.09246386114864602,0.09933454589901237,0.09956522756789522,0.10227776389621812],\"y\":[24.7,28,31,37,41,45,51,54,65,76,77,87,94,97.3],\"z\":[[null,null,null,null,null,null,null],[null,0.8475426435470581,null,null,null,null,null],[null,null,null,0.8485456109046936,null,null,null],[null,null,null,null,null,null,null],[null,null,null,null,null,null,null],[null,null,null,null,null,null,null],[null,null,null,null,null,0.8776329159736633,null],[null,null,null,null,0.8214644193649292,null,null],[null,null,null,null,null,null,null],[null,null,0.8104313015937805,null,null,null,null],[null,null,null,null,null,null,null],[null,null,null,null,null,null,null],[null,null,null,null,null,null,null],[null,null,null,null,null,null,null]],\"type\":\"contour\",\"xaxis\":\"x20\",\"yaxis\":\"y20\"},{\"marker\":{\"color\":\"black\",\"line\":{\"color\":\"Gray\",\"width\":2.0}},\"mode\":\"markers\",\"name\":\"Feasible Trial\",\"showlegend\":false,\"x\":[0.06474014431307697,0.09246386114864602,0.04531450100143717,0.09956522756789522,0.09933454589901237],\"y\":[76,31,28,51,54],\"type\":\"scatter\",\"xaxis\":\"x20\",\"yaxis\":\"y20\"},{\"colorbar\":{\"title\":{\"text\":\"Objective Value\"}},\"colorscale\":[[0.0,\"rgb(247,251,255)\"],[0.125,\"rgb(222,235,247)\"],[0.25,\"rgb(198,219,239)\"],[0.375,\"rgb(158,202,225)\"],[0.5,\"rgb(107,174,214)\"],[0.625,\"rgb(66,146,198)\"],[0.75,\"rgb(33,113,181)\"],[0.875,\"rgb(8,81,156)\"],[1.0,\"rgb(8,48,107)\"]],\"connectgaps\":true,\"contours\":{\"coloring\":\"heatmap\"},\"hoverinfo\":\"none\",\"line\":{\"smoothing\":1.3},\"reversescale\":false,\"showscale\":false,\"x\":[0.042601964673114265,0.04531450100143717,0.06474014431307697,0.09246386114864602,0.09933454589901237,0.09956522756789522,0.10227776389621812],\"y\":[0.06371741731309635,0.06428271412790436,0.06934781894228761,0.07558865042406443,0.07615394723887244],\"z\":[[null,null,null,null,null,null,null],[null,null,null,null,null,null,null],[null,null,null,null,null,null,null],[null,null,null,null,null,null,null],[null,null,null,null,null,null,null]],\"type\":\"contour\",\"xaxis\":\"x27\",\"yaxis\":\"y27\"},{\"marker\":{\"color\":\"black\",\"line\":{\"color\":\"Gray\",\"width\":2.0}},\"mode\":\"markers\",\"name\":\"Feasible Trial\",\"showlegend\":false,\"x\":[],\"y\":[],\"type\":\"scatter\",\"xaxis\":\"x27\",\"yaxis\":\"y27\"},{\"colorbar\":{\"title\":{\"text\":\"Objective Value\"}},\"colorscale\":[[0.0,\"rgb(247,251,255)\"],[0.125,\"rgb(222,235,247)\"],[0.25,\"rgb(198,219,239)\"],[0.375,\"rgb(158,202,225)\"],[0.5,\"rgb(107,174,214)\"],[0.625,\"rgb(66,146,198)\"],[0.75,\"rgb(33,113,181)\"],[0.875,\"rgb(8,81,156)\"],[1.0,\"rgb(8,48,107)\"]],\"connectgaps\":true,\"contours\":{\"coloring\":\"heatmap\"},\"hoverinfo\":\"none\",\"line\":{\"smoothing\":1.3},\"reversescale\":false,\"showscale\":false,\"x\":[0.042601964673114265,0.04531450100143717,0.06474014431307697,0.09246386114864602,0.09933454589901237,0.09956522756789522,0.10227776389621812],\"y\":[0.020184119554077416,0.02385847898861848,0.052856313273896074,0.08964888481179067,0.0973456676794398,0.10102002711398088],\"z\":[[null,null,null,null,null,null,null],[null,null,null,null,null,null,null],[null,null,null,null,null,null,null],[null,null,null,null,null,null,null],[null,null,null,null,null,null,null],[null,null,null,null,null,null,null]],\"type\":\"contour\",\"xaxis\":\"x34\",\"yaxis\":\"y34\"},{\"marker\":{\"color\":\"black\",\"line\":{\"color\":\"Gray\",\"width\":2.0}},\"mode\":\"markers\",\"name\":\"Feasible Trial\",\"showlegend\":false,\"x\":[],\"y\":[],\"type\":\"scatter\",\"xaxis\":\"x34\",\"yaxis\":\"y34\"},{\"type\":\"scatter\",\"xaxis\":\"x41\",\"yaxis\":\"y41\"},{\"colorbar\":{\"title\":{\"text\":\"Objective Value\"}},\"colorscale\":[[0.0,\"rgb(247,251,255)\"],[0.125,\"rgb(222,235,247)\"],[0.25,\"rgb(198,219,239)\"],[0.375,\"rgb(158,202,225)\"],[0.5,\"rgb(107,174,214)\"],[0.625,\"rgb(66,146,198)\"],[0.75,\"rgb(33,113,181)\"],[0.875,\"rgb(8,81,156)\"],[1.0,\"rgb(8,48,107)\"]],\"connectgaps\":true,\"contours\":{\"coloring\":\"heatmap\"},\"hoverinfo\":\"none\",\"line\":{\"smoothing\":1.3},\"reversescale\":false,\"showscale\":false,\"x\":[0.042601964673114265,0.04531450100143717,0.06474014431307697,0.09246386114864602,0.09933454589901237,0.09956522756789522,0.10227776389621812],\"y\":[\"adam\",\"rmsprop\",\"sgd\"],\"z\":[[null,null,null,null,null,null,null],[null,null,null,null,null,null,null],[null,0.8475426435470581,0.8104313015937805,0.8485456109046936,0.8214644193649292,0.8776329159736633,null]],\"type\":\"contour\",\"xaxis\":\"x48\",\"yaxis\":\"y48\"},{\"marker\":{\"color\":\"black\",\"line\":{\"color\":\"Gray\",\"width\":2.0}},\"mode\":\"markers\",\"name\":\"Feasible Trial\",\"showlegend\":false,\"x\":[0.06474014431307697,0.09246386114864602,0.04531450100143717,0.09956522756789522,0.09933454589901237],\"y\":[\"sgd\",\"sgd\",\"sgd\",\"sgd\",\"sgd\"],\"type\":\"scatter\",\"xaxis\":\"x48\",\"yaxis\":\"y48\"},{\"colorbar\":{\"title\":{\"text\":\"Objective Value\"}},\"colorscale\":[[0.0,\"rgb(247,251,255)\"],[0.125,\"rgb(222,235,247)\"],[0.25,\"rgb(198,219,239)\"],[0.375,\"rgb(158,202,225)\"],[0.5,\"rgb(107,174,214)\"],[0.625,\"rgb(66,146,198)\"],[0.75,\"rgb(33,113,181)\"],[0.875,\"rgb(8,81,156)\"],[1.0,\"rgb(8,48,107)\"]],\"connectgaps\":true,\"contours\":{\"coloring\":\"heatmap\"},\"hoverinfo\":\"none\",\"line\":{\"smoothing\":1.3},\"reversescale\":false,\"showscale\":false,\"x\":[\"adam\",\"rmsprop\",\"sgd\"],\"y\":[27.2,32,64,128,132.8],\"z\":[[null,null,null],[0.12838515639305115,null,0.8776329159736633],[0.3039117455482483,0.5486459136009216,0.8485456109046936],[0.3299899697303772,0.31594783067703247,0.8475426435470581],[null,null,null]],\"type\":\"contour\",\"xaxis\":\"x7\",\"yaxis\":\"y7\"},{\"marker\":{\"color\":\"black\",\"line\":{\"color\":\"Gray\",\"width\":2.0}},\"mode\":\"markers\",\"name\":\"Feasible Trial\",\"showlegend\":false,\"x\":[\"rmsprop\",\"adam\",\"sgd\",\"sgd\",\"rmsprop\",\"sgd\",\"adam\",\"rmsprop\",\"rmsprop\",\"adam\",\"sgd\",\"sgd\"],\"y\":[128,128,128,64,128,128,32,64,64,64,32,32],\"type\":\"scatter\",\"xaxis\":\"x7\",\"yaxis\":\"y7\"},{\"colorbar\":{\"title\":{\"text\":\"Objective Value\"}},\"colorscale\":[[0.0,\"rgb(247,251,255)\"],[0.125,\"rgb(222,235,247)\"],[0.25,\"rgb(198,219,239)\"],[0.375,\"rgb(158,202,225)\"],[0.5,\"rgb(107,174,214)\"],[0.625,\"rgb(66,146,198)\"],[0.75,\"rgb(33,113,181)\"],[0.875,\"rgb(8,81,156)\"],[1.0,\"rgb(8,48,107)\"]],\"connectgaps\":true,\"contours\":{\"coloring\":\"heatmap\"},\"hoverinfo\":\"none\",\"line\":{\"smoothing\":1.3},\"reversescale\":false,\"showscale\":false,\"x\":[\"adam\",\"rmsprop\",\"sgd\"],\"y\":[0.20421460334384314,0.21769498901785297,0.2562076496246386,0.2754041123491316,0.3568786837272921,0.37715564662125356,0.3892263644877882,0.39518942324725165,0.42565125145570576,0.43966823165243996,0.44048073411556865,0.4598679209564908,0.4873027024980497,0.5007830881720595],\"z\":[[null,null,null],[null,null,0.8475426435470581],[null,0.1624874621629715,null],[0.12838515639305115,null,null],[null,0.31594783067703247,null],[0.3299899697303772,null,null],[null,null,0.8776329159736633],[null,null,0.8214644193649292],[null,null,0.8485456109046936],[0.3039117455482483,null,null],[null,null,0.8104313015937805],[null,0.5486459136009216,null],[null,0.33299899101257324,null],[null,null,null]],\"type\":\"contour\",\"xaxis\":\"x14\",\"yaxis\":\"y14\"},{\"marker\":{\"color\":\"black\",\"line\":{\"color\":\"Gray\",\"width\":2.0}},\"mode\":\"markers\",\"name\":\"Feasible Trial\",\"showlegend\":false,\"x\":[\"rmsprop\",\"adam\",\"sgd\",\"sgd\",\"rmsprop\",\"sgd\",\"adam\",\"rmsprop\",\"rmsprop\",\"adam\",\"sgd\",\"sgd\"],\"y\":[0.3568786837272921,0.37715564662125356,0.44048073411556865,0.42565125145570576,0.2562076496246386,0.21769498901785297,0.2754041123491316,0.4598679209564908,0.4873027024980497,0.43966823165243996,0.3892263644877882,0.39518942324725165],\"type\":\"scatter\",\"xaxis\":\"x14\",\"yaxis\":\"y14\"},{\"colorbar\":{\"title\":{\"text\":\"Objective Value\"}},\"colorscale\":[[0.0,\"rgb(247,251,255)\"],[0.125,\"rgb(222,235,247)\"],[0.25,\"rgb(198,219,239)\"],[0.375,\"rgb(158,202,225)\"],[0.5,\"rgb(107,174,214)\"],[0.625,\"rgb(66,146,198)\"],[0.75,\"rgb(33,113,181)\"],[0.875,\"rgb(8,81,156)\"],[1.0,\"rgb(8,48,107)\"]],\"connectgaps\":true,\"contours\":{\"coloring\":\"heatmap\"},\"hoverinfo\":\"none\",\"line\":{\"smoothing\":1.3},\"reversescale\":false,\"showscale\":false,\"x\":[\"adam\",\"rmsprop\",\"sgd\"],\"y\":[24.7,28,31,37,41,45,51,54,65,76,77,87,94,97.3],\"z\":[[null,null,null],[null,null,0.8475426435470581],[null,null,0.8485456109046936],[0.3039117455482483,null,null],[0.3299899697303772,null,null],[0.12838515639305115,null,null],[null,null,0.8776329159736633],[null,null,0.8214644193649292],[null,0.31594783067703247,null],[null,null,0.8104313015937805],[null,0.5486459136009216,null],[null,0.33299899101257324,null],[null,0.1624874621629715,null],[null,null,null]],\"type\":\"contour\",\"xaxis\":\"x21\",\"yaxis\":\"y21\"},{\"marker\":{\"color\":\"black\",\"line\":{\"color\":\"Gray\",\"width\":2.0}},\"mode\":\"markers\",\"name\":\"Feasible Trial\",\"showlegend\":false,\"x\":[\"rmsprop\",\"adam\",\"sgd\",\"sgd\",\"rmsprop\",\"sgd\",\"adam\",\"rmsprop\",\"rmsprop\",\"adam\",\"sgd\",\"sgd\"],\"y\":[65,41,76,31,94,28,45,77,87,37,51,54],\"type\":\"scatter\",\"xaxis\":\"x21\",\"yaxis\":\"y21\"},{\"colorbar\":{\"title\":{\"text\":\"Objective Value\"}},\"colorscale\":[[0.0,\"rgb(247,251,255)\"],[0.125,\"rgb(222,235,247)\"],[0.25,\"rgb(198,219,239)\"],[0.375,\"rgb(158,202,225)\"],[0.5,\"rgb(107,174,214)\"],[0.625,\"rgb(66,146,198)\"],[0.75,\"rgb(33,113,181)\"],[0.875,\"rgb(8,81,156)\"],[1.0,\"rgb(8,48,107)\"]],\"connectgaps\":true,\"contours\":{\"coloring\":\"heatmap\"},\"hoverinfo\":\"none\",\"line\":{\"smoothing\":1.3},\"reversescale\":false,\"showscale\":false,\"x\":[\"adam\",\"rmsprop\",\"sgd\"],\"y\":[0.06371741731309635,0.06428271412790436,0.06934781894228761,0.07558865042406443,0.07615394723887244],\"z\":[[null,null,null],[0.3299899697303772,null,null],[0.3039117455482483,null,null],[0.12838515639305115,null,null],[null,null,null]],\"type\":\"contour\",\"xaxis\":\"x28\",\"yaxis\":\"y28\"},{\"marker\":{\"color\":\"black\",\"line\":{\"color\":\"Gray\",\"width\":2.0}},\"mode\":\"markers\",\"name\":\"Feasible Trial\",\"showlegend\":false,\"x\":[\"adam\",\"adam\",\"adam\"],\"y\":[0.06428271412790436,0.07558865042406443,0.06934781894228761],\"type\":\"scatter\",\"xaxis\":\"x28\",\"yaxis\":\"y28\"},{\"colorbar\":{\"title\":{\"text\":\"Objective Value\"}},\"colorscale\":[[0.0,\"rgb(247,251,255)\"],[0.125,\"rgb(222,235,247)\"],[0.25,\"rgb(198,219,239)\"],[0.375,\"rgb(158,202,225)\"],[0.5,\"rgb(107,174,214)\"],[0.625,\"rgb(66,146,198)\"],[0.75,\"rgb(33,113,181)\"],[0.875,\"rgb(8,81,156)\"],[1.0,\"rgb(8,48,107)\"]],\"connectgaps\":true,\"contours\":{\"coloring\":\"heatmap\"},\"hoverinfo\":\"none\",\"line\":{\"smoothing\":1.3},\"reversescale\":false,\"showscale\":false,\"x\":[\"adam\",\"rmsprop\",\"sgd\"],\"y\":[0.020184119554077416,0.02385847898861848,0.052856313273896074,0.08964888481179067,0.0973456676794398,0.10102002711398088],\"z\":[[null,null,null],[null,0.5486459136009216,null],[null,0.33299899101257324,null],[null,0.31594783067703247,null],[null,0.1624874621629715,null],[null,null,null]],\"type\":\"contour\",\"xaxis\":\"x35\",\"yaxis\":\"y35\"},{\"marker\":{\"color\":\"black\",\"line\":{\"color\":\"Gray\",\"width\":2.0}},\"mode\":\"markers\",\"name\":\"Feasible Trial\",\"showlegend\":false,\"x\":[\"rmsprop\",\"rmsprop\",\"rmsprop\",\"rmsprop\"],\"y\":[0.08964888481179067,0.0973456676794398,0.02385847898861848,0.052856313273896074],\"type\":\"scatter\",\"xaxis\":\"x35\",\"yaxis\":\"y35\"},{\"colorbar\":{\"title\":{\"text\":\"Objective Value\"}},\"colorscale\":[[0.0,\"rgb(247,251,255)\"],[0.125,\"rgb(222,235,247)\"],[0.25,\"rgb(198,219,239)\"],[0.375,\"rgb(158,202,225)\"],[0.5,\"rgb(107,174,214)\"],[0.625,\"rgb(66,146,198)\"],[0.75,\"rgb(33,113,181)\"],[0.875,\"rgb(8,81,156)\"],[1.0,\"rgb(8,48,107)\"]],\"connectgaps\":true,\"contours\":{\"coloring\":\"heatmap\"},\"hoverinfo\":\"none\",\"line\":{\"smoothing\":1.3},\"reversescale\":false,\"showscale\":false,\"x\":[\"adam\",\"rmsprop\",\"sgd\"],\"y\":[0.042601964673114265,0.04531450100143717,0.06474014431307697,0.09246386114864602,0.09933454589901237,0.09956522756789522,0.10227776389621812],\"z\":[[null,null,null],[null,null,0.8475426435470581],[null,null,0.8104313015937805],[null,null,0.8485456109046936],[null,null,0.8214644193649292],[null,null,0.8776329159736633],[null,null,null]],\"type\":\"contour\",\"xaxis\":\"x42\",\"yaxis\":\"y42\"},{\"marker\":{\"color\":\"black\",\"line\":{\"color\":\"Gray\",\"width\":2.0}},\"mode\":\"markers\",\"name\":\"Feasible Trial\",\"showlegend\":false,\"x\":[\"sgd\",\"sgd\",\"sgd\",\"sgd\",\"sgd\"],\"y\":[0.06474014431307697,0.09246386114864602,0.04531450100143717,0.09956522756789522,0.09933454589901237],\"type\":\"scatter\",\"xaxis\":\"x42\",\"yaxis\":\"y42\"},{\"type\":\"scatter\",\"xaxis\":\"x49\",\"yaxis\":\"y49\"}],                        {\"template\":{\"data\":{\"histogram2dcontour\":[{\"type\":\"histogram2dcontour\",\"colorbar\":{\"outlinewidth\":0,\"ticks\":\"\"},\"colorscale\":[[0.0,\"#0d0887\"],[0.1111111111111111,\"#46039f\"],[0.2222222222222222,\"#7201a8\"],[0.3333333333333333,\"#9c179e\"],[0.4444444444444444,\"#bd3786\"],[0.5555555555555556,\"#d8576b\"],[0.6666666666666666,\"#ed7953\"],[0.7777777777777778,\"#fb9f3a\"],[0.8888888888888888,\"#fdca26\"],[1.0,\"#f0f921\"]]}],\"choropleth\":[{\"type\":\"choropleth\",\"colorbar\":{\"outlinewidth\":0,\"ticks\":\"\"}}],\"histogram2d\":[{\"type\":\"histogram2d\",\"colorbar\":{\"outlinewidth\":0,\"ticks\":\"\"},\"colorscale\":[[0.0,\"#0d0887\"],[0.1111111111111111,\"#46039f\"],[0.2222222222222222,\"#7201a8\"],[0.3333333333333333,\"#9c179e\"],[0.4444444444444444,\"#bd3786\"],[0.5555555555555556,\"#d8576b\"],[0.6666666666666666,\"#ed7953\"],[0.7777777777777778,\"#fb9f3a\"],[0.8888888888888888,\"#fdca26\"],[1.0,\"#f0f921\"]]}],\"heatmap\":[{\"type\":\"heatmap\",\"colorbar\":{\"outlinewidth\":0,\"ticks\":\"\"},\"colorscale\":[[0.0,\"#0d0887\"],[0.1111111111111111,\"#46039f\"],[0.2222222222222222,\"#7201a8\"],[0.3333333333333333,\"#9c179e\"],[0.4444444444444444,\"#bd3786\"],[0.5555555555555556,\"#d8576b\"],[0.6666666666666666,\"#ed7953\"],[0.7777777777777778,\"#fb9f3a\"],[0.8888888888888888,\"#fdca26\"],[1.0,\"#f0f921\"]]}],\"heatmapgl\":[{\"type\":\"heatmapgl\",\"colorbar\":{\"outlinewidth\":0,\"ticks\":\"\"},\"colorscale\":[[0.0,\"#0d0887\"],[0.1111111111111111,\"#46039f\"],[0.2222222222222222,\"#7201a8\"],[0.3333333333333333,\"#9c179e\"],[0.4444444444444444,\"#bd3786\"],[0.5555555555555556,\"#d8576b\"],[0.6666666666666666,\"#ed7953\"],[0.7777777777777778,\"#fb9f3a\"],[0.8888888888888888,\"#fdca26\"],[1.0,\"#f0f921\"]]}],\"contourcarpet\":[{\"type\":\"contourcarpet\",\"colorbar\":{\"outlinewidth\":0,\"ticks\":\"\"}}],\"contour\":[{\"type\":\"contour\",\"colorbar\":{\"outlinewidth\":0,\"ticks\":\"\"},\"colorscale\":[[0.0,\"#0d0887\"],[0.1111111111111111,\"#46039f\"],[0.2222222222222222,\"#7201a8\"],[0.3333333333333333,\"#9c179e\"],[0.4444444444444444,\"#bd3786\"],[0.5555555555555556,\"#d8576b\"],[0.6666666666666666,\"#ed7953\"],[0.7777777777777778,\"#fb9f3a\"],[0.8888888888888888,\"#fdca26\"],[1.0,\"#f0f921\"]]}],\"surface\":[{\"type\":\"surface\",\"colorbar\":{\"outlinewidth\":0,\"ticks\":\"\"},\"colorscale\":[[0.0,\"#0d0887\"],[0.1111111111111111,\"#46039f\"],[0.2222222222222222,\"#7201a8\"],[0.3333333333333333,\"#9c179e\"],[0.4444444444444444,\"#bd3786\"],[0.5555555555555556,\"#d8576b\"],[0.6666666666666666,\"#ed7953\"],[0.7777777777777778,\"#fb9f3a\"],[0.8888888888888888,\"#fdca26\"],[1.0,\"#f0f921\"]]}],\"mesh3d\":[{\"type\":\"mesh3d\",\"colorbar\":{\"outlinewidth\":0,\"ticks\":\"\"}}],\"scatter\":[{\"fillpattern\":{\"fillmode\":\"overlay\",\"size\":10,\"solidity\":0.2},\"type\":\"scatter\"}],\"parcoords\":[{\"type\":\"parcoords\",\"line\":{\"colorbar\":{\"outlinewidth\":0,\"ticks\":\"\"}}}],\"scatterpolargl\":[{\"type\":\"scatterpolargl\",\"marker\":{\"colorbar\":{\"outlinewidth\":0,\"ticks\":\"\"}}}],\"bar\":[{\"error_x\":{\"color\":\"#2a3f5f\"},\"error_y\":{\"color\":\"#2a3f5f\"},\"marker\":{\"line\":{\"color\":\"#E5ECF6\",\"width\":0.5},\"pattern\":{\"fillmode\":\"overlay\",\"size\":10,\"solidity\":0.2}},\"type\":\"bar\"}],\"scattergeo\":[{\"type\":\"scattergeo\",\"marker\":{\"colorbar\":{\"outlinewidth\":0,\"ticks\":\"\"}}}],\"scatterpolar\":[{\"type\":\"scatterpolar\",\"marker\":{\"colorbar\":{\"outlinewidth\":0,\"ticks\":\"\"}}}],\"histogram\":[{\"marker\":{\"pattern\":{\"fillmode\":\"overlay\",\"size\":10,\"solidity\":0.2}},\"type\":\"histogram\"}],\"scattergl\":[{\"type\":\"scattergl\",\"marker\":{\"colorbar\":{\"outlinewidth\":0,\"ticks\":\"\"}}}],\"scatter3d\":[{\"type\":\"scatter3d\",\"line\":{\"colorbar\":{\"outlinewidth\":0,\"ticks\":\"\"}},\"marker\":{\"colorbar\":{\"outlinewidth\":0,\"ticks\":\"\"}}}],\"scattermapbox\":[{\"type\":\"scattermapbox\",\"marker\":{\"colorbar\":{\"outlinewidth\":0,\"ticks\":\"\"}}}],\"scatterternary\":[{\"type\":\"scatterternary\",\"marker\":{\"colorbar\":{\"outlinewidth\":0,\"ticks\":\"\"}}}],\"scattercarpet\":[{\"type\":\"scattercarpet\",\"marker\":{\"colorbar\":{\"outlinewidth\":0,\"ticks\":\"\"}}}],\"carpet\":[{\"aaxis\":{\"endlinecolor\":\"#2a3f5f\",\"gridcolor\":\"white\",\"linecolor\":\"white\",\"minorgridcolor\":\"white\",\"startlinecolor\":\"#2a3f5f\"},\"baxis\":{\"endlinecolor\":\"#2a3f5f\",\"gridcolor\":\"white\",\"linecolor\":\"white\",\"minorgridcolor\":\"white\",\"startlinecolor\":\"#2a3f5f\"},\"type\":\"carpet\"}],\"table\":[{\"cells\":{\"fill\":{\"color\":\"#EBF0F8\"},\"line\":{\"color\":\"white\"}},\"header\":{\"fill\":{\"color\":\"#C8D4E3\"},\"line\":{\"color\":\"white\"}},\"type\":\"table\"}],\"barpolar\":[{\"marker\":{\"line\":{\"color\":\"#E5ECF6\",\"width\":0.5},\"pattern\":{\"fillmode\":\"overlay\",\"size\":10,\"solidity\":0.2}},\"type\":\"barpolar\"}],\"pie\":[{\"automargin\":true,\"type\":\"pie\"}]},\"layout\":{\"autotypenumbers\":\"strict\",\"colorway\":[\"#636efa\",\"#EF553B\",\"#00cc96\",\"#ab63fa\",\"#FFA15A\",\"#19d3f3\",\"#FF6692\",\"#B6E880\",\"#FF97FF\",\"#FECB52\"],\"font\":{\"color\":\"#2a3f5f\"},\"hovermode\":\"closest\",\"hoverlabel\":{\"align\":\"left\"},\"paper_bgcolor\":\"white\",\"plot_bgcolor\":\"#E5ECF6\",\"polar\":{\"bgcolor\":\"#E5ECF6\",\"angularaxis\":{\"gridcolor\":\"white\",\"linecolor\":\"white\",\"ticks\":\"\"},\"radialaxis\":{\"gridcolor\":\"white\",\"linecolor\":\"white\",\"ticks\":\"\"}},\"ternary\":{\"bgcolor\":\"#E5ECF6\",\"aaxis\":{\"gridcolor\":\"white\",\"linecolor\":\"white\",\"ticks\":\"\"},\"baxis\":{\"gridcolor\":\"white\",\"linecolor\":\"white\",\"ticks\":\"\"},\"caxis\":{\"gridcolor\":\"white\",\"linecolor\":\"white\",\"ticks\":\"\"}},\"coloraxis\":{\"colorbar\":{\"outlinewidth\":0,\"ticks\":\"\"}},\"colorscale\":{\"sequential\":[[0.0,\"#0d0887\"],[0.1111111111111111,\"#46039f\"],[0.2222222222222222,\"#7201a8\"],[0.3333333333333333,\"#9c179e\"],[0.4444444444444444,\"#bd3786\"],[0.5555555555555556,\"#d8576b\"],[0.6666666666666666,\"#ed7953\"],[0.7777777777777778,\"#fb9f3a\"],[0.8888888888888888,\"#fdca26\"],[1.0,\"#f0f921\"]],\"sequentialminus\":[[0.0,\"#0d0887\"],[0.1111111111111111,\"#46039f\"],[0.2222222222222222,\"#7201a8\"],[0.3333333333333333,\"#9c179e\"],[0.4444444444444444,\"#bd3786\"],[0.5555555555555556,\"#d8576b\"],[0.6666666666666666,\"#ed7953\"],[0.7777777777777778,\"#fb9f3a\"],[0.8888888888888888,\"#fdca26\"],[1.0,\"#f0f921\"]],\"diverging\":[[0,\"#8e0152\"],[0.1,\"#c51b7d\"],[0.2,\"#de77ae\"],[0.3,\"#f1b6da\"],[0.4,\"#fde0ef\"],[0.5,\"#f7f7f7\"],[0.6,\"#e6f5d0\"],[0.7,\"#b8e186\"],[0.8,\"#7fbc41\"],[0.9,\"#4d9221\"],[1,\"#276419\"]]},\"xaxis\":{\"gridcolor\":\"white\",\"linecolor\":\"white\",\"ticks\":\"\",\"title\":{\"standoff\":15},\"zerolinecolor\":\"white\",\"automargin\":true,\"zerolinewidth\":2},\"yaxis\":{\"gridcolor\":\"white\",\"linecolor\":\"white\",\"ticks\":\"\",\"title\":{\"standoff\":15},\"zerolinecolor\":\"white\",\"automargin\":true,\"zerolinewidth\":2},\"scene\":{\"xaxis\":{\"backgroundcolor\":\"#E5ECF6\",\"gridcolor\":\"white\",\"linecolor\":\"white\",\"showbackground\":true,\"ticks\":\"\",\"zerolinecolor\":\"white\",\"gridwidth\":2},\"yaxis\":{\"backgroundcolor\":\"#E5ECF6\",\"gridcolor\":\"white\",\"linecolor\":\"white\",\"showbackground\":true,\"ticks\":\"\",\"zerolinecolor\":\"white\",\"gridwidth\":2},\"zaxis\":{\"backgroundcolor\":\"#E5ECF6\",\"gridcolor\":\"white\",\"linecolor\":\"white\",\"showbackground\":true,\"ticks\":\"\",\"zerolinecolor\":\"white\",\"gridwidth\":2}},\"shapedefaults\":{\"line\":{\"color\":\"#2a3f5f\"}},\"annotationdefaults\":{\"arrowcolor\":\"#2a3f5f\",\"arrowhead\":0,\"arrowwidth\":1},\"geo\":{\"bgcolor\":\"white\",\"landcolor\":\"#E5ECF6\",\"subunitcolor\":\"white\",\"showland\":true,\"showlakes\":true,\"lakecolor\":\"white\"},\"title\":{\"x\":0.05},\"mapbox\":{\"style\":\"light\"}}},\"xaxis\":{\"anchor\":\"y\",\"domain\":[0.0,0.1183673469387755],\"matches\":\"x43\",\"showticklabels\":false,\"range\":[27.2,132.8]},\"yaxis\":{\"anchor\":\"x\",\"domain\":[0.8938775510204082,1.0],\"range\":[27.2,132.8],\"title\":{\"text\":\"batch_size\"}},\"xaxis2\":{\"anchor\":\"y2\",\"domain\":[0.14693877551020407,0.26530612244897955],\"matches\":\"x44\",\"showticklabels\":false,\"range\":[0.20421460334384314,0.5007830881720595]},\"yaxis2\":{\"anchor\":\"x2\",\"domain\":[0.8938775510204082,1.0],\"matches\":\"y\",\"showticklabels\":false,\"range\":[27.2,132.8]},\"xaxis3\":{\"anchor\":\"y3\",\"domain\":[0.29387755102040813,0.4122448979591836],\"matches\":\"x45\",\"showticklabels\":false,\"range\":[24.7,97.3]},\"yaxis3\":{\"anchor\":\"x3\",\"domain\":[0.8938775510204082,1.0],\"matches\":\"y\",\"showticklabels\":false,\"range\":[27.2,132.8]},\"xaxis4\":{\"anchor\":\"y4\",\"domain\":[0.4408163265306122,0.5591836734693877],\"matches\":\"x46\",\"showticklabels\":false,\"range\":[0.06371741731309635,0.07615394723887244]},\"yaxis4\":{\"anchor\":\"x4\",\"domain\":[0.8938775510204082,1.0],\"matches\":\"y\",\"showticklabels\":false,\"range\":[27.2,132.8]},\"xaxis5\":{\"anchor\":\"y5\",\"domain\":[0.5877551020408163,0.7061224489795918],\"matches\":\"x47\",\"showticklabels\":false,\"range\":[0.020184119554077416,0.10102002711398088]},\"yaxis5\":{\"anchor\":\"x5\",\"domain\":[0.8938775510204082,1.0],\"matches\":\"y\",\"showticklabels\":false,\"range\":[27.2,132.8]},\"xaxis6\":{\"anchor\":\"y6\",\"domain\":[0.7346938775510204,0.8530612244897959],\"matches\":\"x48\",\"showticklabels\":false,\"range\":[0.042601964673114265,0.10227776389621812]},\"yaxis6\":{\"anchor\":\"x6\",\"domain\":[0.8938775510204082,1.0],\"matches\":\"y\",\"showticklabels\":false,\"range\":[27.2,132.8]},\"xaxis7\":{\"anchor\":\"y7\",\"domain\":[0.8816326530612244,0.9999999999999999],\"matches\":\"x49\",\"showticklabels\":false,\"range\":[-0.1,2.1],\"type\":\"category\"},\"yaxis7\":{\"anchor\":\"x7\",\"domain\":[0.8938775510204082,1.0],\"matches\":\"y\",\"showticklabels\":false,\"range\":[27.2,132.8]},\"xaxis8\":{\"anchor\":\"y8\",\"domain\":[0.0,0.1183673469387755],\"matches\":\"x43\",\"showticklabels\":false,\"range\":[27.2,132.8]},\"yaxis8\":{\"anchor\":\"x8\",\"domain\":[0.7448979591836735,0.8510204081632654],\"range\":[0.20421460334384314,0.5007830881720595],\"title\":{\"text\":\"dropout_rate\"}},\"xaxis9\":{\"anchor\":\"y9\",\"domain\":[0.14693877551020407,0.26530612244897955],\"matches\":\"x44\",\"showticklabels\":false,\"range\":[0.20421460334384314,0.5007830881720595]},\"yaxis9\":{\"anchor\":\"x9\",\"domain\":[0.7448979591836735,0.8510204081632654],\"matches\":\"y8\",\"showticklabels\":false,\"range\":[0.20421460334384314,0.5007830881720595]},\"xaxis10\":{\"anchor\":\"y10\",\"domain\":[0.29387755102040813,0.4122448979591836],\"matches\":\"x45\",\"showticklabels\":false,\"range\":[24.7,97.3]},\"yaxis10\":{\"anchor\":\"x10\",\"domain\":[0.7448979591836735,0.8510204081632654],\"matches\":\"y8\",\"showticklabels\":false,\"range\":[0.20421460334384314,0.5007830881720595]},\"xaxis11\":{\"anchor\":\"y11\",\"domain\":[0.4408163265306122,0.5591836734693877],\"matches\":\"x46\",\"showticklabels\":false,\"range\":[0.06371741731309635,0.07615394723887244]},\"yaxis11\":{\"anchor\":\"x11\",\"domain\":[0.7448979591836735,0.8510204081632654],\"matches\":\"y8\",\"showticklabels\":false,\"range\":[0.20421460334384314,0.5007830881720595]},\"xaxis12\":{\"anchor\":\"y12\",\"domain\":[0.5877551020408163,0.7061224489795918],\"matches\":\"x47\",\"showticklabels\":false,\"range\":[0.020184119554077416,0.10102002711398088]},\"yaxis12\":{\"anchor\":\"x12\",\"domain\":[0.7448979591836735,0.8510204081632654],\"matches\":\"y8\",\"showticklabels\":false,\"range\":[0.20421460334384314,0.5007830881720595]},\"xaxis13\":{\"anchor\":\"y13\",\"domain\":[0.7346938775510204,0.8530612244897959],\"matches\":\"x48\",\"showticklabels\":false,\"range\":[0.042601964673114265,0.10227776389621812]},\"yaxis13\":{\"anchor\":\"x13\",\"domain\":[0.7448979591836735,0.8510204081632654],\"matches\":\"y8\",\"showticklabels\":false,\"range\":[0.20421460334384314,0.5007830881720595]},\"xaxis14\":{\"anchor\":\"y14\",\"domain\":[0.8816326530612244,0.9999999999999999],\"matches\":\"x49\",\"showticklabels\":false,\"range\":[-0.1,2.1],\"type\":\"category\"},\"yaxis14\":{\"anchor\":\"x14\",\"domain\":[0.7448979591836735,0.8510204081632654],\"matches\":\"y8\",\"showticklabels\":false,\"range\":[0.20421460334384314,0.5007830881720595]},\"xaxis15\":{\"anchor\":\"y15\",\"domain\":[0.0,0.1183673469387755],\"matches\":\"x43\",\"showticklabels\":false,\"range\":[27.2,132.8]},\"yaxis15\":{\"anchor\":\"x15\",\"domain\":[0.5959183673469388,0.7020408163265307],\"range\":[24.7,97.3],\"title\":{\"text\":\"epochs\"}},\"xaxis16\":{\"anchor\":\"y16\",\"domain\":[0.14693877551020407,0.26530612244897955],\"matches\":\"x44\",\"showticklabels\":false,\"range\":[0.20421460334384314,0.5007830881720595]},\"yaxis16\":{\"anchor\":\"x16\",\"domain\":[0.5959183673469388,0.7020408163265307],\"matches\":\"y15\",\"showticklabels\":false,\"range\":[24.7,97.3]},\"xaxis17\":{\"anchor\":\"y17\",\"domain\":[0.29387755102040813,0.4122448979591836],\"matches\":\"x45\",\"showticklabels\":false,\"range\":[24.7,97.3]},\"yaxis17\":{\"anchor\":\"x17\",\"domain\":[0.5959183673469388,0.7020408163265307],\"matches\":\"y15\",\"showticklabels\":false,\"range\":[24.7,97.3]},\"xaxis18\":{\"anchor\":\"y18\",\"domain\":[0.4408163265306122,0.5591836734693877],\"matches\":\"x46\",\"showticklabels\":false,\"range\":[0.06371741731309635,0.07615394723887244]},\"yaxis18\":{\"anchor\":\"x18\",\"domain\":[0.5959183673469388,0.7020408163265307],\"matches\":\"y15\",\"showticklabels\":false,\"range\":[24.7,97.3]},\"xaxis19\":{\"anchor\":\"y19\",\"domain\":[0.5877551020408163,0.7061224489795918],\"matches\":\"x47\",\"showticklabels\":false,\"range\":[0.020184119554077416,0.10102002711398088]},\"yaxis19\":{\"anchor\":\"x19\",\"domain\":[0.5959183673469388,0.7020408163265307],\"matches\":\"y15\",\"showticklabels\":false,\"range\":[24.7,97.3]},\"xaxis20\":{\"anchor\":\"y20\",\"domain\":[0.7346938775510204,0.8530612244897959],\"matches\":\"x48\",\"showticklabels\":false,\"range\":[0.042601964673114265,0.10227776389621812]},\"yaxis20\":{\"anchor\":\"x20\",\"domain\":[0.5959183673469388,0.7020408163265307],\"matches\":\"y15\",\"showticklabels\":false,\"range\":[24.7,97.3]},\"xaxis21\":{\"anchor\":\"y21\",\"domain\":[0.8816326530612244,0.9999999999999999],\"matches\":\"x49\",\"showticklabels\":false,\"range\":[-0.1,2.1],\"type\":\"category\"},\"yaxis21\":{\"anchor\":\"x21\",\"domain\":[0.5959183673469388,0.7020408163265307],\"matches\":\"y15\",\"showticklabels\":false,\"range\":[24.7,97.3]},\"xaxis22\":{\"anchor\":\"y22\",\"domain\":[0.0,0.1183673469387755],\"matches\":\"x43\",\"showticklabels\":false,\"range\":[27.2,132.8]},\"yaxis22\":{\"anchor\":\"x22\",\"domain\":[0.4469387755102041,0.553061224489796],\"range\":[0.06371741731309635,0.07615394723887244],\"title\":{\"text\":\"learning_rate_adam\"}},\"xaxis23\":{\"anchor\":\"y23\",\"domain\":[0.14693877551020407,0.26530612244897955],\"matches\":\"x44\",\"showticklabels\":false,\"range\":[0.20421460334384314,0.5007830881720595]},\"yaxis23\":{\"anchor\":\"x23\",\"domain\":[0.4469387755102041,0.553061224489796],\"matches\":\"y22\",\"showticklabels\":false,\"range\":[0.06371741731309635,0.07615394723887244]},\"xaxis24\":{\"anchor\":\"y24\",\"domain\":[0.29387755102040813,0.4122448979591836],\"matches\":\"x45\",\"showticklabels\":false,\"range\":[24.7,97.3]},\"yaxis24\":{\"anchor\":\"x24\",\"domain\":[0.4469387755102041,0.553061224489796],\"matches\":\"y22\",\"showticklabels\":false,\"range\":[0.06371741731309635,0.07615394723887244]},\"xaxis25\":{\"anchor\":\"y25\",\"domain\":[0.4408163265306122,0.5591836734693877],\"matches\":\"x46\",\"showticklabels\":false,\"range\":[0.06371741731309635,0.07615394723887244]},\"yaxis25\":{\"anchor\":\"x25\",\"domain\":[0.4469387755102041,0.553061224489796],\"matches\":\"y22\",\"showticklabels\":false,\"range\":[0.06371741731309635,0.07615394723887244]},\"xaxis26\":{\"anchor\":\"y26\",\"domain\":[0.5877551020408163,0.7061224489795918],\"matches\":\"x47\",\"showticklabels\":false,\"range\":[0.020184119554077416,0.10102002711398088]},\"yaxis26\":{\"anchor\":\"x26\",\"domain\":[0.4469387755102041,0.553061224489796],\"matches\":\"y22\",\"showticklabels\":false,\"range\":[0.06371741731309635,0.07615394723887244]},\"xaxis27\":{\"anchor\":\"y27\",\"domain\":[0.7346938775510204,0.8530612244897959],\"matches\":\"x48\",\"showticklabels\":false,\"range\":[0.042601964673114265,0.10227776389621812]},\"yaxis27\":{\"anchor\":\"x27\",\"domain\":[0.4469387755102041,0.553061224489796],\"matches\":\"y22\",\"showticklabels\":false,\"range\":[0.06371741731309635,0.07615394723887244]},\"xaxis28\":{\"anchor\":\"y28\",\"domain\":[0.8816326530612244,0.9999999999999999],\"matches\":\"x49\",\"showticklabels\":false,\"range\":[-0.1,2.1],\"type\":\"category\"},\"yaxis28\":{\"anchor\":\"x28\",\"domain\":[0.4469387755102041,0.553061224489796],\"matches\":\"y22\",\"showticklabels\":false,\"range\":[0.06371741731309635,0.07615394723887244]},\"xaxis29\":{\"anchor\":\"y29\",\"domain\":[0.0,0.1183673469387755],\"matches\":\"x43\",\"showticklabels\":false,\"range\":[27.2,132.8]},\"yaxis29\":{\"anchor\":\"x29\",\"domain\":[0.2979591836734694,0.40408163265306124],\"range\":[0.020184119554077416,0.10102002711398088],\"title\":{\"text\":\"learning_rate_rmsprop\"}},\"xaxis30\":{\"anchor\":\"y30\",\"domain\":[0.14693877551020407,0.26530612244897955],\"matches\":\"x44\",\"showticklabels\":false,\"range\":[0.20421460334384314,0.5007830881720595]},\"yaxis30\":{\"anchor\":\"x30\",\"domain\":[0.2979591836734694,0.40408163265306124],\"matches\":\"y29\",\"showticklabels\":false,\"range\":[0.020184119554077416,0.10102002711398088]},\"xaxis31\":{\"anchor\":\"y31\",\"domain\":[0.29387755102040813,0.4122448979591836],\"matches\":\"x45\",\"showticklabels\":false,\"range\":[24.7,97.3]},\"yaxis31\":{\"anchor\":\"x31\",\"domain\":[0.2979591836734694,0.40408163265306124],\"matches\":\"y29\",\"showticklabels\":false,\"range\":[0.020184119554077416,0.10102002711398088]},\"xaxis32\":{\"anchor\":\"y32\",\"domain\":[0.4408163265306122,0.5591836734693877],\"matches\":\"x46\",\"showticklabels\":false,\"range\":[0.06371741731309635,0.07615394723887244]},\"yaxis32\":{\"anchor\":\"x32\",\"domain\":[0.2979591836734694,0.40408163265306124],\"matches\":\"y29\",\"showticklabels\":false,\"range\":[0.020184119554077416,0.10102002711398088]},\"xaxis33\":{\"anchor\":\"y33\",\"domain\":[0.5877551020408163,0.7061224489795918],\"matches\":\"x47\",\"showticklabels\":false,\"range\":[0.020184119554077416,0.10102002711398088]},\"yaxis33\":{\"anchor\":\"x33\",\"domain\":[0.2979591836734694,0.40408163265306124],\"matches\":\"y29\",\"showticklabels\":false,\"range\":[0.020184119554077416,0.10102002711398088]},\"xaxis34\":{\"anchor\":\"y34\",\"domain\":[0.7346938775510204,0.8530612244897959],\"matches\":\"x48\",\"showticklabels\":false,\"range\":[0.042601964673114265,0.10227776389621812]},\"yaxis34\":{\"anchor\":\"x34\",\"domain\":[0.2979591836734694,0.40408163265306124],\"matches\":\"y29\",\"showticklabels\":false,\"range\":[0.020184119554077416,0.10102002711398088]},\"xaxis35\":{\"anchor\":\"y35\",\"domain\":[0.8816326530612244,0.9999999999999999],\"matches\":\"x49\",\"showticklabels\":false,\"range\":[-0.1,2.1],\"type\":\"category\"},\"yaxis35\":{\"anchor\":\"x35\",\"domain\":[0.2979591836734694,0.40408163265306124],\"matches\":\"y29\",\"showticklabels\":false,\"range\":[0.020184119554077416,0.10102002711398088]},\"xaxis36\":{\"anchor\":\"y36\",\"domain\":[0.0,0.1183673469387755],\"matches\":\"x43\",\"showticklabels\":false,\"range\":[27.2,132.8]},\"yaxis36\":{\"anchor\":\"x36\",\"domain\":[0.1489795918367347,0.25510204081632654],\"range\":[0.042601964673114265,0.10227776389621812],\"title\":{\"text\":\"learning_rate_sgd\"}},\"xaxis37\":{\"anchor\":\"y37\",\"domain\":[0.14693877551020407,0.26530612244897955],\"matches\":\"x44\",\"showticklabels\":false,\"range\":[0.20421460334384314,0.5007830881720595]},\"yaxis37\":{\"anchor\":\"x37\",\"domain\":[0.1489795918367347,0.25510204081632654],\"matches\":\"y36\",\"showticklabels\":false,\"range\":[0.042601964673114265,0.10227776389621812]},\"xaxis38\":{\"anchor\":\"y38\",\"domain\":[0.29387755102040813,0.4122448979591836],\"matches\":\"x45\",\"showticklabels\":false,\"range\":[24.7,97.3]},\"yaxis38\":{\"anchor\":\"x38\",\"domain\":[0.1489795918367347,0.25510204081632654],\"matches\":\"y36\",\"showticklabels\":false,\"range\":[0.042601964673114265,0.10227776389621812]},\"xaxis39\":{\"anchor\":\"y39\",\"domain\":[0.4408163265306122,0.5591836734693877],\"matches\":\"x46\",\"showticklabels\":false,\"range\":[0.06371741731309635,0.07615394723887244]},\"yaxis39\":{\"anchor\":\"x39\",\"domain\":[0.1489795918367347,0.25510204081632654],\"matches\":\"y36\",\"showticklabels\":false,\"range\":[0.042601964673114265,0.10227776389621812]},\"xaxis40\":{\"anchor\":\"y40\",\"domain\":[0.5877551020408163,0.7061224489795918],\"matches\":\"x47\",\"showticklabels\":false,\"range\":[0.020184119554077416,0.10102002711398088]},\"yaxis40\":{\"anchor\":\"x40\",\"domain\":[0.1489795918367347,0.25510204081632654],\"matches\":\"y36\",\"showticklabels\":false,\"range\":[0.042601964673114265,0.10227776389621812]},\"xaxis41\":{\"anchor\":\"y41\",\"domain\":[0.7346938775510204,0.8530612244897959],\"matches\":\"x48\",\"showticklabels\":false,\"range\":[0.042601964673114265,0.10227776389621812]},\"yaxis41\":{\"anchor\":\"x41\",\"domain\":[0.1489795918367347,0.25510204081632654],\"matches\":\"y36\",\"showticklabels\":false,\"range\":[0.042601964673114265,0.10227776389621812]},\"xaxis42\":{\"anchor\":\"y42\",\"domain\":[0.8816326530612244,0.9999999999999999],\"matches\":\"x49\",\"showticklabels\":false,\"range\":[-0.1,2.1],\"type\":\"category\"},\"yaxis42\":{\"anchor\":\"x42\",\"domain\":[0.1489795918367347,0.25510204081632654],\"matches\":\"y36\",\"showticklabels\":false,\"range\":[0.042601964673114265,0.10227776389621812]},\"xaxis43\":{\"anchor\":\"y43\",\"domain\":[0.0,0.1183673469387755],\"range\":[27.2,132.8],\"title\":{\"text\":\"batch_size\"}},\"yaxis43\":{\"anchor\":\"x43\",\"domain\":[0.0,0.10612244897959185],\"range\":[-0.1,2.1],\"type\":\"category\",\"title\":{\"text\":\"optimizer\"}},\"xaxis44\":{\"anchor\":\"y44\",\"domain\":[0.14693877551020407,0.26530612244897955],\"range\":[0.20421460334384314,0.5007830881720595],\"title\":{\"text\":\"dropout_rate\"}},\"yaxis44\":{\"anchor\":\"x44\",\"domain\":[0.0,0.10612244897959185],\"matches\":\"y43\",\"showticklabels\":false,\"range\":[-0.1,2.1],\"type\":\"category\"},\"xaxis45\":{\"anchor\":\"y45\",\"domain\":[0.29387755102040813,0.4122448979591836],\"range\":[24.7,97.3],\"title\":{\"text\":\"epochs\"}},\"yaxis45\":{\"anchor\":\"x45\",\"domain\":[0.0,0.10612244897959185],\"matches\":\"y43\",\"showticklabels\":false,\"range\":[-0.1,2.1],\"type\":\"category\"},\"xaxis46\":{\"anchor\":\"y46\",\"domain\":[0.4408163265306122,0.5591836734693877],\"range\":[0.06371741731309635,0.07615394723887244],\"title\":{\"text\":\"learning_rate_adam\"}},\"yaxis46\":{\"anchor\":\"x46\",\"domain\":[0.0,0.10612244897959185],\"matches\":\"y43\",\"showticklabels\":false,\"range\":[-0.1,2.1],\"type\":\"category\"},\"xaxis47\":{\"anchor\":\"y47\",\"domain\":[0.5877551020408163,0.7061224489795918],\"range\":[0.020184119554077416,0.10102002711398088],\"title\":{\"text\":\"learning_rate_rmsprop\"}},\"yaxis47\":{\"anchor\":\"x47\",\"domain\":[0.0,0.10612244897959185],\"matches\":\"y43\",\"showticklabels\":false,\"range\":[-0.1,2.1],\"type\":\"category\"},\"xaxis48\":{\"anchor\":\"y48\",\"domain\":[0.7346938775510204,0.8530612244897959],\"range\":[0.042601964673114265,0.10227776389621812],\"title\":{\"text\":\"learning_rate_sgd\"}},\"yaxis48\":{\"anchor\":\"x48\",\"domain\":[0.0,0.10612244897959185],\"matches\":\"y43\",\"showticklabels\":false,\"range\":[-0.1,2.1],\"type\":\"category\"},\"xaxis49\":{\"anchor\":\"y49\",\"domain\":[0.8816326530612244,0.9999999999999999],\"range\":[-0.1,2.1],\"type\":\"category\",\"title\":{\"text\":\"optimizer\"}},\"yaxis49\":{\"anchor\":\"x49\",\"domain\":[0.0,0.10612244897959185],\"matches\":\"y43\",\"showticklabels\":false,\"range\":[-0.1,2.1],\"type\":\"category\"},\"title\":{\"text\":\"Contour Plot\"},\"width\":1800,\"height\":1600},                        {\"responsive\": true}                    ).then(function(){\n",
              "                            \n",
              "var gd = document.getElementById('fe5a3980-4861-4543-b3a4-b743bbb8c34b');\n",
              "var x = new MutationObserver(function (mutations, observer) {{\n",
              "        var display = window.getComputedStyle(gd).display;\n",
              "        if (!display || display === 'none') {{\n",
              "            console.log([gd, 'removed!']);\n",
              "            Plotly.purge(gd);\n",
              "            observer.disconnect();\n",
              "        }}\n",
              "}});\n",
              "\n",
              "// Listen for the removal of the full notebook cells\n",
              "var notebookContainer = gd.closest('#notebook-container');\n",
              "if (notebookContainer) {{\n",
              "    x.observe(notebookContainer, {childList: true});\n",
              "}}\n",
              "\n",
              "// Listen for the clearing of the current output cell\n",
              "var outputEl = gd.closest('.output');\n",
              "if (outputEl) {{\n",
              "    x.observe(outputEl, {childList: true});\n",
              "}}\n",
              "\n",
              "                        })                };                            </script>        </div>\n",
              "</body>\n",
              "</html>"
            ]
          },
          "metadata": {}
        }
      ]
    },
    {
      "cell_type": "code",
      "execution_count": null,
      "metadata": {
        "id": "No1LEe-oHRhS",
        "colab": {
          "base_uri": "https://localhost:8080/",
          "height": 617
        },
        "outputId": "94bf2223-2902-4fd5-a691-18d9f7a64f73"
      },
      "outputs": [
        {
          "output_type": "display_data",
          "data": {
            "text/html": [
              "<html>\n",
              "<head><meta charset=\"utf-8\" /></head>\n",
              "<body>\n",
              "    <div>            <script src=\"https://cdnjs.cloudflare.com/ajax/libs/mathjax/2.7.5/MathJax.js?config=TeX-AMS-MML_SVG\"></script><script type=\"text/javascript\">if (window.MathJax && window.MathJax.Hub && window.MathJax.Hub.Config) {window.MathJax.Hub.Config({SVG: {font: \"STIX-Web\"}});}</script>                <script type=\"text/javascript\">window.PlotlyConfig = {MathJaxConfig: 'local'};</script>\n",
              "        <script charset=\"utf-8\" src=\"https://cdn.plot.ly/plotly-2.24.1.min.js\"></script>                <div id=\"a5bb31a8-a744-4040-a59c-0a01efb94c96\" class=\"plotly-graph-div\" style=\"height:600px; width:800px;\"></div>            <script type=\"text/javascript\">                                    window.PLOTLYENV=window.PLOTLYENV || {};                                    if (document.getElementById(\"a5bb31a8-a744-4040-a59c-0a01efb94c96\")) {                    Plotly.newPlot(                        \"a5bb31a8-a744-4040-a59c-0a01efb94c96\",                        [{\"colorbar\":{\"title\":{\"text\":\"Objective Value\"}},\"colorscale\":[[0.0,\"rgb(247,251,255)\"],[0.125,\"rgb(222,235,247)\"],[0.25,\"rgb(198,219,239)\"],[0.375,\"rgb(158,202,225)\"],[0.5,\"rgb(107,174,214)\"],[0.625,\"rgb(66,146,198)\"],[0.75,\"rgb(33,113,181)\"],[0.875,\"rgb(8,81,156)\"],[1.0,\"rgb(8,48,107)\"]],\"connectgaps\":true,\"contours\":{\"coloring\":\"heatmap\"},\"hoverinfo\":\"none\",\"line\":{\"smoothing\":1.3},\"reversescale\":false,\"x\":[24.7,28,31,37,41,45,51,54,65,76,77,87,94,97.3],\"y\":[0.042601964673114265,0.04531450100143717,0.06474014431307697,0.09246386114864602,0.09933454589901237,0.09956522756789522,0.10227776389621812],\"z\":[[null,null,null,null,null,null,null,null,null,null,null,null,null,null],[null,0.8475426435470581,null,null,null,null,null,null,null,null,null,null,null,null],[null,null,null,null,null,null,null,null,null,0.8104313015937805,null,null,null,null],[null,null,0.8485456109046936,null,null,null,null,null,null,null,null,null,null,null],[null,null,null,null,null,null,null,0.8214644193649292,null,null,null,null,null,null],[null,null,null,null,null,null,0.8776329159736633,null,null,null,null,null,null,null],[null,null,null,null,null,null,null,null,null,null,null,null,null,null]],\"type\":\"contour\"},{\"marker\":{\"color\":\"black\",\"line\":{\"color\":\"Gray\",\"width\":2.0}},\"mode\":\"markers\",\"name\":\"Feasible Trial\",\"showlegend\":false,\"x\":[76,31,28,51,54],\"y\":[0.06474014431307697,0.09246386114864602,0.04531450100143717,0.09956522756789522,0.09933454589901237],\"type\":\"scatter\"},{\"marker\":{\"color\":\"#cccccc\",\"line\":{\"color\":\"Gray\",\"width\":2.0}},\"mode\":\"markers\",\"name\":\"Infeasible Trial\",\"showlegend\":false,\"x\":[],\"y\":[],\"type\":\"scatter\"}],                        {\"title\":{\"text\":\"Contour Plot\"},\"template\":{\"data\":{\"histogram2dcontour\":[{\"type\":\"histogram2dcontour\",\"colorbar\":{\"outlinewidth\":0,\"ticks\":\"\"},\"colorscale\":[[0.0,\"#0d0887\"],[0.1111111111111111,\"#46039f\"],[0.2222222222222222,\"#7201a8\"],[0.3333333333333333,\"#9c179e\"],[0.4444444444444444,\"#bd3786\"],[0.5555555555555556,\"#d8576b\"],[0.6666666666666666,\"#ed7953\"],[0.7777777777777778,\"#fb9f3a\"],[0.8888888888888888,\"#fdca26\"],[1.0,\"#f0f921\"]]}],\"choropleth\":[{\"type\":\"choropleth\",\"colorbar\":{\"outlinewidth\":0,\"ticks\":\"\"}}],\"histogram2d\":[{\"type\":\"histogram2d\",\"colorbar\":{\"outlinewidth\":0,\"ticks\":\"\"},\"colorscale\":[[0.0,\"#0d0887\"],[0.1111111111111111,\"#46039f\"],[0.2222222222222222,\"#7201a8\"],[0.3333333333333333,\"#9c179e\"],[0.4444444444444444,\"#bd3786\"],[0.5555555555555556,\"#d8576b\"],[0.6666666666666666,\"#ed7953\"],[0.7777777777777778,\"#fb9f3a\"],[0.8888888888888888,\"#fdca26\"],[1.0,\"#f0f921\"]]}],\"heatmap\":[{\"type\":\"heatmap\",\"colorbar\":{\"outlinewidth\":0,\"ticks\":\"\"},\"colorscale\":[[0.0,\"#0d0887\"],[0.1111111111111111,\"#46039f\"],[0.2222222222222222,\"#7201a8\"],[0.3333333333333333,\"#9c179e\"],[0.4444444444444444,\"#bd3786\"],[0.5555555555555556,\"#d8576b\"],[0.6666666666666666,\"#ed7953\"],[0.7777777777777778,\"#fb9f3a\"],[0.8888888888888888,\"#fdca26\"],[1.0,\"#f0f921\"]]}],\"heatmapgl\":[{\"type\":\"heatmapgl\",\"colorbar\":{\"outlinewidth\":0,\"ticks\":\"\"},\"colorscale\":[[0.0,\"#0d0887\"],[0.1111111111111111,\"#46039f\"],[0.2222222222222222,\"#7201a8\"],[0.3333333333333333,\"#9c179e\"],[0.4444444444444444,\"#bd3786\"],[0.5555555555555556,\"#d8576b\"],[0.6666666666666666,\"#ed7953\"],[0.7777777777777778,\"#fb9f3a\"],[0.8888888888888888,\"#fdca26\"],[1.0,\"#f0f921\"]]}],\"contourcarpet\":[{\"type\":\"contourcarpet\",\"colorbar\":{\"outlinewidth\":0,\"ticks\":\"\"}}],\"contour\":[{\"type\":\"contour\",\"colorbar\":{\"outlinewidth\":0,\"ticks\":\"\"},\"colorscale\":[[0.0,\"#0d0887\"],[0.1111111111111111,\"#46039f\"],[0.2222222222222222,\"#7201a8\"],[0.3333333333333333,\"#9c179e\"],[0.4444444444444444,\"#bd3786\"],[0.5555555555555556,\"#d8576b\"],[0.6666666666666666,\"#ed7953\"],[0.7777777777777778,\"#fb9f3a\"],[0.8888888888888888,\"#fdca26\"],[1.0,\"#f0f921\"]]}],\"surface\":[{\"type\":\"surface\",\"colorbar\":{\"outlinewidth\":0,\"ticks\":\"\"},\"colorscale\":[[0.0,\"#0d0887\"],[0.1111111111111111,\"#46039f\"],[0.2222222222222222,\"#7201a8\"],[0.3333333333333333,\"#9c179e\"],[0.4444444444444444,\"#bd3786\"],[0.5555555555555556,\"#d8576b\"],[0.6666666666666666,\"#ed7953\"],[0.7777777777777778,\"#fb9f3a\"],[0.8888888888888888,\"#fdca26\"],[1.0,\"#f0f921\"]]}],\"mesh3d\":[{\"type\":\"mesh3d\",\"colorbar\":{\"outlinewidth\":0,\"ticks\":\"\"}}],\"scatter\":[{\"fillpattern\":{\"fillmode\":\"overlay\",\"size\":10,\"solidity\":0.2},\"type\":\"scatter\"}],\"parcoords\":[{\"type\":\"parcoords\",\"line\":{\"colorbar\":{\"outlinewidth\":0,\"ticks\":\"\"}}}],\"scatterpolargl\":[{\"type\":\"scatterpolargl\",\"marker\":{\"colorbar\":{\"outlinewidth\":0,\"ticks\":\"\"}}}],\"bar\":[{\"error_x\":{\"color\":\"#2a3f5f\"},\"error_y\":{\"color\":\"#2a3f5f\"},\"marker\":{\"line\":{\"color\":\"#E5ECF6\",\"width\":0.5},\"pattern\":{\"fillmode\":\"overlay\",\"size\":10,\"solidity\":0.2}},\"type\":\"bar\"}],\"scattergeo\":[{\"type\":\"scattergeo\",\"marker\":{\"colorbar\":{\"outlinewidth\":0,\"ticks\":\"\"}}}],\"scatterpolar\":[{\"type\":\"scatterpolar\",\"marker\":{\"colorbar\":{\"outlinewidth\":0,\"ticks\":\"\"}}}],\"histogram\":[{\"marker\":{\"pattern\":{\"fillmode\":\"overlay\",\"size\":10,\"solidity\":0.2}},\"type\":\"histogram\"}],\"scattergl\":[{\"type\":\"scattergl\",\"marker\":{\"colorbar\":{\"outlinewidth\":0,\"ticks\":\"\"}}}],\"scatter3d\":[{\"type\":\"scatter3d\",\"line\":{\"colorbar\":{\"outlinewidth\":0,\"ticks\":\"\"}},\"marker\":{\"colorbar\":{\"outlinewidth\":0,\"ticks\":\"\"}}}],\"scattermapbox\":[{\"type\":\"scattermapbox\",\"marker\":{\"colorbar\":{\"outlinewidth\":0,\"ticks\":\"\"}}}],\"scatterternary\":[{\"type\":\"scatterternary\",\"marker\":{\"colorbar\":{\"outlinewidth\":0,\"ticks\":\"\"}}}],\"scattercarpet\":[{\"type\":\"scattercarpet\",\"marker\":{\"colorbar\":{\"outlinewidth\":0,\"ticks\":\"\"}}}],\"carpet\":[{\"aaxis\":{\"endlinecolor\":\"#2a3f5f\",\"gridcolor\":\"white\",\"linecolor\":\"white\",\"minorgridcolor\":\"white\",\"startlinecolor\":\"#2a3f5f\"},\"baxis\":{\"endlinecolor\":\"#2a3f5f\",\"gridcolor\":\"white\",\"linecolor\":\"white\",\"minorgridcolor\":\"white\",\"startlinecolor\":\"#2a3f5f\"},\"type\":\"carpet\"}],\"table\":[{\"cells\":{\"fill\":{\"color\":\"#EBF0F8\"},\"line\":{\"color\":\"white\"}},\"header\":{\"fill\":{\"color\":\"#C8D4E3\"},\"line\":{\"color\":\"white\"}},\"type\":\"table\"}],\"barpolar\":[{\"marker\":{\"line\":{\"color\":\"#E5ECF6\",\"width\":0.5},\"pattern\":{\"fillmode\":\"overlay\",\"size\":10,\"solidity\":0.2}},\"type\":\"barpolar\"}],\"pie\":[{\"automargin\":true,\"type\":\"pie\"}]},\"layout\":{\"autotypenumbers\":\"strict\",\"colorway\":[\"#636efa\",\"#EF553B\",\"#00cc96\",\"#ab63fa\",\"#FFA15A\",\"#19d3f3\",\"#FF6692\",\"#B6E880\",\"#FF97FF\",\"#FECB52\"],\"font\":{\"color\":\"#2a3f5f\"},\"hovermode\":\"closest\",\"hoverlabel\":{\"align\":\"left\"},\"paper_bgcolor\":\"white\",\"plot_bgcolor\":\"#E5ECF6\",\"polar\":{\"bgcolor\":\"#E5ECF6\",\"angularaxis\":{\"gridcolor\":\"white\",\"linecolor\":\"white\",\"ticks\":\"\"},\"radialaxis\":{\"gridcolor\":\"white\",\"linecolor\":\"white\",\"ticks\":\"\"}},\"ternary\":{\"bgcolor\":\"#E5ECF6\",\"aaxis\":{\"gridcolor\":\"white\",\"linecolor\":\"white\",\"ticks\":\"\"},\"baxis\":{\"gridcolor\":\"white\",\"linecolor\":\"white\",\"ticks\":\"\"},\"caxis\":{\"gridcolor\":\"white\",\"linecolor\":\"white\",\"ticks\":\"\"}},\"coloraxis\":{\"colorbar\":{\"outlinewidth\":0,\"ticks\":\"\"}},\"colorscale\":{\"sequential\":[[0.0,\"#0d0887\"],[0.1111111111111111,\"#46039f\"],[0.2222222222222222,\"#7201a8\"],[0.3333333333333333,\"#9c179e\"],[0.4444444444444444,\"#bd3786\"],[0.5555555555555556,\"#d8576b\"],[0.6666666666666666,\"#ed7953\"],[0.7777777777777778,\"#fb9f3a\"],[0.8888888888888888,\"#fdca26\"],[1.0,\"#f0f921\"]],\"sequentialminus\":[[0.0,\"#0d0887\"],[0.1111111111111111,\"#46039f\"],[0.2222222222222222,\"#7201a8\"],[0.3333333333333333,\"#9c179e\"],[0.4444444444444444,\"#bd3786\"],[0.5555555555555556,\"#d8576b\"],[0.6666666666666666,\"#ed7953\"],[0.7777777777777778,\"#fb9f3a\"],[0.8888888888888888,\"#fdca26\"],[1.0,\"#f0f921\"]],\"diverging\":[[0,\"#8e0152\"],[0.1,\"#c51b7d\"],[0.2,\"#de77ae\"],[0.3,\"#f1b6da\"],[0.4,\"#fde0ef\"],[0.5,\"#f7f7f7\"],[0.6,\"#e6f5d0\"],[0.7,\"#b8e186\"],[0.8,\"#7fbc41\"],[0.9,\"#4d9221\"],[1,\"#276419\"]]},\"xaxis\":{\"gridcolor\":\"white\",\"linecolor\":\"white\",\"ticks\":\"\",\"title\":{\"standoff\":15},\"zerolinecolor\":\"white\",\"automargin\":true,\"zerolinewidth\":2},\"yaxis\":{\"gridcolor\":\"white\",\"linecolor\":\"white\",\"ticks\":\"\",\"title\":{\"standoff\":15},\"zerolinecolor\":\"white\",\"automargin\":true,\"zerolinewidth\":2},\"scene\":{\"xaxis\":{\"backgroundcolor\":\"#E5ECF6\",\"gridcolor\":\"white\",\"linecolor\":\"white\",\"showbackground\":true,\"ticks\":\"\",\"zerolinecolor\":\"white\",\"gridwidth\":2},\"yaxis\":{\"backgroundcolor\":\"#E5ECF6\",\"gridcolor\":\"white\",\"linecolor\":\"white\",\"showbackground\":true,\"ticks\":\"\",\"zerolinecolor\":\"white\",\"gridwidth\":2},\"zaxis\":{\"backgroundcolor\":\"#E5ECF6\",\"gridcolor\":\"white\",\"linecolor\":\"white\",\"showbackground\":true,\"ticks\":\"\",\"zerolinecolor\":\"white\",\"gridwidth\":2}},\"shapedefaults\":{\"line\":{\"color\":\"#2a3f5f\"}},\"annotationdefaults\":{\"arrowcolor\":\"#2a3f5f\",\"arrowhead\":0,\"arrowwidth\":1},\"geo\":{\"bgcolor\":\"white\",\"landcolor\":\"#E5ECF6\",\"subunitcolor\":\"white\",\"showland\":true,\"showlakes\":true,\"lakecolor\":\"white\"},\"title\":{\"x\":0.05},\"mapbox\":{\"style\":\"light\"}}},\"xaxis\":{\"title\":{\"text\":\"epochs\"},\"range\":[24.7,97.3]},\"yaxis\":{\"title\":{\"text\":\"learning_rate_sgd\"},\"range\":[0.042601964673114265,0.10227776389621812]},\"width\":800,\"height\":600},                        {\"responsive\": true}                    ).then(function(){\n",
              "                            \n",
              "var gd = document.getElementById('a5bb31a8-a744-4040-a59c-0a01efb94c96');\n",
              "var x = new MutationObserver(function (mutations, observer) {{\n",
              "        var display = window.getComputedStyle(gd).display;\n",
              "        if (!display || display === 'none') {{\n",
              "            console.log([gd, 'removed!']);\n",
              "            Plotly.purge(gd);\n",
              "            observer.disconnect();\n",
              "        }}\n",
              "}});\n",
              "\n",
              "// Listen for the removal of the full notebook cells\n",
              "var notebookContainer = gd.closest('#notebook-container');\n",
              "if (notebookContainer) {{\n",
              "    x.observe(notebookContainer, {childList: true});\n",
              "}}\n",
              "\n",
              "// Listen for the clearing of the current output cell\n",
              "var outputEl = gd.closest('.output');\n",
              "if (outputEl) {{\n",
              "    x.observe(outputEl, {childList: true});\n",
              "}}\n",
              "\n",
              "                        })                };                            </script>        </div>\n",
              "</body>\n",
              "</html>"
            ]
          },
          "metadata": {}
        }
      ],
      "source": [
        "\n",
        "# Assuming 'study' is your Optuna study object\n",
        "contour_plot = optuna_viz.plot_contour(study, params=['epochs', 'learning_rate_sgd'])\n",
        "\n",
        "# Adjust the size of the plot\n",
        "contour_plot.update_layout(width=800, height=600)"
      ]
    },
    {
      "cell_type": "code",
      "source": [
        "# Assuming 'study' is your Optuna study object\n",
        "contour_plot = optuna_viz.plot_contour(study, params=['dropout_rate', 'learning_rate_sgd'])\n",
        "\n",
        "# Adjust the size of the plot\n",
        "contour_plot.update_layout(width=800, height=600)"
      ],
      "metadata": {
        "id": "4rFD84OxPq6g",
        "colab": {
          "base_uri": "https://localhost:8080/",
          "height": 617
        },
        "outputId": "15e794e1-db29-4c1b-9003-ef7664a471a7"
      },
      "execution_count": null,
      "outputs": [
        {
          "output_type": "display_data",
          "data": {
            "text/html": [
              "<html>\n",
              "<head><meta charset=\"utf-8\" /></head>\n",
              "<body>\n",
              "    <div>            <script src=\"https://cdnjs.cloudflare.com/ajax/libs/mathjax/2.7.5/MathJax.js?config=TeX-AMS-MML_SVG\"></script><script type=\"text/javascript\">if (window.MathJax && window.MathJax.Hub && window.MathJax.Hub.Config) {window.MathJax.Hub.Config({SVG: {font: \"STIX-Web\"}});}</script>                <script type=\"text/javascript\">window.PlotlyConfig = {MathJaxConfig: 'local'};</script>\n",
              "        <script charset=\"utf-8\" src=\"https://cdn.plot.ly/plotly-2.24.1.min.js\"></script>                <div id=\"72b268c8-c5a7-4355-a2c0-f528fb2f8726\" class=\"plotly-graph-div\" style=\"height:600px; width:800px;\"></div>            <script type=\"text/javascript\">                                    window.PLOTLYENV=window.PLOTLYENV || {};                                    if (document.getElementById(\"72b268c8-c5a7-4355-a2c0-f528fb2f8726\")) {                    Plotly.newPlot(                        \"72b268c8-c5a7-4355-a2c0-f528fb2f8726\",                        [{\"colorbar\":{\"title\":{\"text\":\"Objective Value\"}},\"colorscale\":[[0.0,\"rgb(247,251,255)\"],[0.125,\"rgb(222,235,247)\"],[0.25,\"rgb(198,219,239)\"],[0.375,\"rgb(158,202,225)\"],[0.5,\"rgb(107,174,214)\"],[0.625,\"rgb(66,146,198)\"],[0.75,\"rgb(33,113,181)\"],[0.875,\"rgb(8,81,156)\"],[1.0,\"rgb(8,48,107)\"]],\"connectgaps\":true,\"contours\":{\"coloring\":\"heatmap\"},\"hoverinfo\":\"none\",\"line\":{\"smoothing\":1.3},\"reversescale\":false,\"x\":[0.20421460334384314,0.21769498901785297,0.2562076496246386,0.2754041123491316,0.3568786837272921,0.37715564662125356,0.3892263644877882,0.39518942324725165,0.42565125145570576,0.43966823165243996,0.44048073411556865,0.4598679209564908,0.4873027024980497,0.5007830881720595],\"y\":[0.042601964673114265,0.04531450100143717,0.06474014431307697,0.09246386114864602,0.09933454589901237,0.09956522756789522,0.10227776389621812],\"z\":[[null,null,null,null,null,null,null,null,null,null,null,null,null,null],[null,0.8475426435470581,null,null,null,null,null,null,null,null,null,null,null,null],[null,null,null,null,null,null,null,null,null,null,0.8104313015937805,null,null,null],[null,null,null,null,null,null,null,null,0.8485456109046936,null,null,null,null,null],[null,null,null,null,null,null,null,0.8214644193649292,null,null,null,null,null,null],[null,null,null,null,null,null,0.8776329159736633,null,null,null,null,null,null,null],[null,null,null,null,null,null,null,null,null,null,null,null,null,null]],\"type\":\"contour\"},{\"marker\":{\"color\":\"black\",\"line\":{\"color\":\"Gray\",\"width\":2.0}},\"mode\":\"markers\",\"name\":\"Feasible Trial\",\"showlegend\":false,\"x\":[0.44048073411556865,0.42565125145570576,0.21769498901785297,0.3892263644877882,0.39518942324725165],\"y\":[0.06474014431307697,0.09246386114864602,0.04531450100143717,0.09956522756789522,0.09933454589901237],\"type\":\"scatter\"},{\"marker\":{\"color\":\"#cccccc\",\"line\":{\"color\":\"Gray\",\"width\":2.0}},\"mode\":\"markers\",\"name\":\"Infeasible Trial\",\"showlegend\":false,\"x\":[],\"y\":[],\"type\":\"scatter\"}],                        {\"title\":{\"text\":\"Contour Plot\"},\"template\":{\"data\":{\"histogram2dcontour\":[{\"type\":\"histogram2dcontour\",\"colorbar\":{\"outlinewidth\":0,\"ticks\":\"\"},\"colorscale\":[[0.0,\"#0d0887\"],[0.1111111111111111,\"#46039f\"],[0.2222222222222222,\"#7201a8\"],[0.3333333333333333,\"#9c179e\"],[0.4444444444444444,\"#bd3786\"],[0.5555555555555556,\"#d8576b\"],[0.6666666666666666,\"#ed7953\"],[0.7777777777777778,\"#fb9f3a\"],[0.8888888888888888,\"#fdca26\"],[1.0,\"#f0f921\"]]}],\"choropleth\":[{\"type\":\"choropleth\",\"colorbar\":{\"outlinewidth\":0,\"ticks\":\"\"}}],\"histogram2d\":[{\"type\":\"histogram2d\",\"colorbar\":{\"outlinewidth\":0,\"ticks\":\"\"},\"colorscale\":[[0.0,\"#0d0887\"],[0.1111111111111111,\"#46039f\"],[0.2222222222222222,\"#7201a8\"],[0.3333333333333333,\"#9c179e\"],[0.4444444444444444,\"#bd3786\"],[0.5555555555555556,\"#d8576b\"],[0.6666666666666666,\"#ed7953\"],[0.7777777777777778,\"#fb9f3a\"],[0.8888888888888888,\"#fdca26\"],[1.0,\"#f0f921\"]]}],\"heatmap\":[{\"type\":\"heatmap\",\"colorbar\":{\"outlinewidth\":0,\"ticks\":\"\"},\"colorscale\":[[0.0,\"#0d0887\"],[0.1111111111111111,\"#46039f\"],[0.2222222222222222,\"#7201a8\"],[0.3333333333333333,\"#9c179e\"],[0.4444444444444444,\"#bd3786\"],[0.5555555555555556,\"#d8576b\"],[0.6666666666666666,\"#ed7953\"],[0.7777777777777778,\"#fb9f3a\"],[0.8888888888888888,\"#fdca26\"],[1.0,\"#f0f921\"]]}],\"heatmapgl\":[{\"type\":\"heatmapgl\",\"colorbar\":{\"outlinewidth\":0,\"ticks\":\"\"},\"colorscale\":[[0.0,\"#0d0887\"],[0.1111111111111111,\"#46039f\"],[0.2222222222222222,\"#7201a8\"],[0.3333333333333333,\"#9c179e\"],[0.4444444444444444,\"#bd3786\"],[0.5555555555555556,\"#d8576b\"],[0.6666666666666666,\"#ed7953\"],[0.7777777777777778,\"#fb9f3a\"],[0.8888888888888888,\"#fdca26\"],[1.0,\"#f0f921\"]]}],\"contourcarpet\":[{\"type\":\"contourcarpet\",\"colorbar\":{\"outlinewidth\":0,\"ticks\":\"\"}}],\"contour\":[{\"type\":\"contour\",\"colorbar\":{\"outlinewidth\":0,\"ticks\":\"\"},\"colorscale\":[[0.0,\"#0d0887\"],[0.1111111111111111,\"#46039f\"],[0.2222222222222222,\"#7201a8\"],[0.3333333333333333,\"#9c179e\"],[0.4444444444444444,\"#bd3786\"],[0.5555555555555556,\"#d8576b\"],[0.6666666666666666,\"#ed7953\"],[0.7777777777777778,\"#fb9f3a\"],[0.8888888888888888,\"#fdca26\"],[1.0,\"#f0f921\"]]}],\"surface\":[{\"type\":\"surface\",\"colorbar\":{\"outlinewidth\":0,\"ticks\":\"\"},\"colorscale\":[[0.0,\"#0d0887\"],[0.1111111111111111,\"#46039f\"],[0.2222222222222222,\"#7201a8\"],[0.3333333333333333,\"#9c179e\"],[0.4444444444444444,\"#bd3786\"],[0.5555555555555556,\"#d8576b\"],[0.6666666666666666,\"#ed7953\"],[0.7777777777777778,\"#fb9f3a\"],[0.8888888888888888,\"#fdca26\"],[1.0,\"#f0f921\"]]}],\"mesh3d\":[{\"type\":\"mesh3d\",\"colorbar\":{\"outlinewidth\":0,\"ticks\":\"\"}}],\"scatter\":[{\"fillpattern\":{\"fillmode\":\"overlay\",\"size\":10,\"solidity\":0.2},\"type\":\"scatter\"}],\"parcoords\":[{\"type\":\"parcoords\",\"line\":{\"colorbar\":{\"outlinewidth\":0,\"ticks\":\"\"}}}],\"scatterpolargl\":[{\"type\":\"scatterpolargl\",\"marker\":{\"colorbar\":{\"outlinewidth\":0,\"ticks\":\"\"}}}],\"bar\":[{\"error_x\":{\"color\":\"#2a3f5f\"},\"error_y\":{\"color\":\"#2a3f5f\"},\"marker\":{\"line\":{\"color\":\"#E5ECF6\",\"width\":0.5},\"pattern\":{\"fillmode\":\"overlay\",\"size\":10,\"solidity\":0.2}},\"type\":\"bar\"}],\"scattergeo\":[{\"type\":\"scattergeo\",\"marker\":{\"colorbar\":{\"outlinewidth\":0,\"ticks\":\"\"}}}],\"scatterpolar\":[{\"type\":\"scatterpolar\",\"marker\":{\"colorbar\":{\"outlinewidth\":0,\"ticks\":\"\"}}}],\"histogram\":[{\"marker\":{\"pattern\":{\"fillmode\":\"overlay\",\"size\":10,\"solidity\":0.2}},\"type\":\"histogram\"}],\"scattergl\":[{\"type\":\"scattergl\",\"marker\":{\"colorbar\":{\"outlinewidth\":0,\"ticks\":\"\"}}}],\"scatter3d\":[{\"type\":\"scatter3d\",\"line\":{\"colorbar\":{\"outlinewidth\":0,\"ticks\":\"\"}},\"marker\":{\"colorbar\":{\"outlinewidth\":0,\"ticks\":\"\"}}}],\"scattermapbox\":[{\"type\":\"scattermapbox\",\"marker\":{\"colorbar\":{\"outlinewidth\":0,\"ticks\":\"\"}}}],\"scatterternary\":[{\"type\":\"scatterternary\",\"marker\":{\"colorbar\":{\"outlinewidth\":0,\"ticks\":\"\"}}}],\"scattercarpet\":[{\"type\":\"scattercarpet\",\"marker\":{\"colorbar\":{\"outlinewidth\":0,\"ticks\":\"\"}}}],\"carpet\":[{\"aaxis\":{\"endlinecolor\":\"#2a3f5f\",\"gridcolor\":\"white\",\"linecolor\":\"white\",\"minorgridcolor\":\"white\",\"startlinecolor\":\"#2a3f5f\"},\"baxis\":{\"endlinecolor\":\"#2a3f5f\",\"gridcolor\":\"white\",\"linecolor\":\"white\",\"minorgridcolor\":\"white\",\"startlinecolor\":\"#2a3f5f\"},\"type\":\"carpet\"}],\"table\":[{\"cells\":{\"fill\":{\"color\":\"#EBF0F8\"},\"line\":{\"color\":\"white\"}},\"header\":{\"fill\":{\"color\":\"#C8D4E3\"},\"line\":{\"color\":\"white\"}},\"type\":\"table\"}],\"barpolar\":[{\"marker\":{\"line\":{\"color\":\"#E5ECF6\",\"width\":0.5},\"pattern\":{\"fillmode\":\"overlay\",\"size\":10,\"solidity\":0.2}},\"type\":\"barpolar\"}],\"pie\":[{\"automargin\":true,\"type\":\"pie\"}]},\"layout\":{\"autotypenumbers\":\"strict\",\"colorway\":[\"#636efa\",\"#EF553B\",\"#00cc96\",\"#ab63fa\",\"#FFA15A\",\"#19d3f3\",\"#FF6692\",\"#B6E880\",\"#FF97FF\",\"#FECB52\"],\"font\":{\"color\":\"#2a3f5f\"},\"hovermode\":\"closest\",\"hoverlabel\":{\"align\":\"left\"},\"paper_bgcolor\":\"white\",\"plot_bgcolor\":\"#E5ECF6\",\"polar\":{\"bgcolor\":\"#E5ECF6\",\"angularaxis\":{\"gridcolor\":\"white\",\"linecolor\":\"white\",\"ticks\":\"\"},\"radialaxis\":{\"gridcolor\":\"white\",\"linecolor\":\"white\",\"ticks\":\"\"}},\"ternary\":{\"bgcolor\":\"#E5ECF6\",\"aaxis\":{\"gridcolor\":\"white\",\"linecolor\":\"white\",\"ticks\":\"\"},\"baxis\":{\"gridcolor\":\"white\",\"linecolor\":\"white\",\"ticks\":\"\"},\"caxis\":{\"gridcolor\":\"white\",\"linecolor\":\"white\",\"ticks\":\"\"}},\"coloraxis\":{\"colorbar\":{\"outlinewidth\":0,\"ticks\":\"\"}},\"colorscale\":{\"sequential\":[[0.0,\"#0d0887\"],[0.1111111111111111,\"#46039f\"],[0.2222222222222222,\"#7201a8\"],[0.3333333333333333,\"#9c179e\"],[0.4444444444444444,\"#bd3786\"],[0.5555555555555556,\"#d8576b\"],[0.6666666666666666,\"#ed7953\"],[0.7777777777777778,\"#fb9f3a\"],[0.8888888888888888,\"#fdca26\"],[1.0,\"#f0f921\"]],\"sequentialminus\":[[0.0,\"#0d0887\"],[0.1111111111111111,\"#46039f\"],[0.2222222222222222,\"#7201a8\"],[0.3333333333333333,\"#9c179e\"],[0.4444444444444444,\"#bd3786\"],[0.5555555555555556,\"#d8576b\"],[0.6666666666666666,\"#ed7953\"],[0.7777777777777778,\"#fb9f3a\"],[0.8888888888888888,\"#fdca26\"],[1.0,\"#f0f921\"]],\"diverging\":[[0,\"#8e0152\"],[0.1,\"#c51b7d\"],[0.2,\"#de77ae\"],[0.3,\"#f1b6da\"],[0.4,\"#fde0ef\"],[0.5,\"#f7f7f7\"],[0.6,\"#e6f5d0\"],[0.7,\"#b8e186\"],[0.8,\"#7fbc41\"],[0.9,\"#4d9221\"],[1,\"#276419\"]]},\"xaxis\":{\"gridcolor\":\"white\",\"linecolor\":\"white\",\"ticks\":\"\",\"title\":{\"standoff\":15},\"zerolinecolor\":\"white\",\"automargin\":true,\"zerolinewidth\":2},\"yaxis\":{\"gridcolor\":\"white\",\"linecolor\":\"white\",\"ticks\":\"\",\"title\":{\"standoff\":15},\"zerolinecolor\":\"white\",\"automargin\":true,\"zerolinewidth\":2},\"scene\":{\"xaxis\":{\"backgroundcolor\":\"#E5ECF6\",\"gridcolor\":\"white\",\"linecolor\":\"white\",\"showbackground\":true,\"ticks\":\"\",\"zerolinecolor\":\"white\",\"gridwidth\":2},\"yaxis\":{\"backgroundcolor\":\"#E5ECF6\",\"gridcolor\":\"white\",\"linecolor\":\"white\",\"showbackground\":true,\"ticks\":\"\",\"zerolinecolor\":\"white\",\"gridwidth\":2},\"zaxis\":{\"backgroundcolor\":\"#E5ECF6\",\"gridcolor\":\"white\",\"linecolor\":\"white\",\"showbackground\":true,\"ticks\":\"\",\"zerolinecolor\":\"white\",\"gridwidth\":2}},\"shapedefaults\":{\"line\":{\"color\":\"#2a3f5f\"}},\"annotationdefaults\":{\"arrowcolor\":\"#2a3f5f\",\"arrowhead\":0,\"arrowwidth\":1},\"geo\":{\"bgcolor\":\"white\",\"landcolor\":\"#E5ECF6\",\"subunitcolor\":\"white\",\"showland\":true,\"showlakes\":true,\"lakecolor\":\"white\"},\"title\":{\"x\":0.05},\"mapbox\":{\"style\":\"light\"}}},\"xaxis\":{\"title\":{\"text\":\"dropout_rate\"},\"range\":[0.20421460334384314,0.5007830881720595]},\"yaxis\":{\"title\":{\"text\":\"learning_rate_sgd\"},\"range\":[0.042601964673114265,0.10227776389621812]},\"width\":800,\"height\":600},                        {\"responsive\": true}                    ).then(function(){\n",
              "                            \n",
              "var gd = document.getElementById('72b268c8-c5a7-4355-a2c0-f528fb2f8726');\n",
              "var x = new MutationObserver(function (mutations, observer) {{\n",
              "        var display = window.getComputedStyle(gd).display;\n",
              "        if (!display || display === 'none') {{\n",
              "            console.log([gd, 'removed!']);\n",
              "            Plotly.purge(gd);\n",
              "            observer.disconnect();\n",
              "        }}\n",
              "}});\n",
              "\n",
              "// Listen for the removal of the full notebook cells\n",
              "var notebookContainer = gd.closest('#notebook-container');\n",
              "if (notebookContainer) {{\n",
              "    x.observe(notebookContainer, {childList: true});\n",
              "}}\n",
              "\n",
              "// Listen for the clearing of the current output cell\n",
              "var outputEl = gd.closest('.output');\n",
              "if (outputEl) {{\n",
              "    x.observe(outputEl, {childList: true});\n",
              "}}\n",
              "\n",
              "                        })                };                            </script>        </div>\n",
              "</body>\n",
              "</html>"
            ]
          },
          "metadata": {}
        }
      ]
    },
    {
      "cell_type": "code",
      "source": [
        "# Assuming 'study' is your Optuna study object\n",
        "contour_plot = optuna_viz.plot_contour(study, params=['batch_size', 'learning_rate_sgd'])\n",
        "\n",
        "# Adjust the size of the plot\n",
        "contour_plot.update_layout(width=800, height=600)"
      ],
      "metadata": {
        "id": "7hxfllA0PrE-",
        "colab": {
          "base_uri": "https://localhost:8080/",
          "height": 617
        },
        "outputId": "051ca646-e99d-49db-bf20-8ee557598b3f"
      },
      "execution_count": null,
      "outputs": [
        {
          "output_type": "display_data",
          "data": {
            "text/html": [
              "<html>\n",
              "<head><meta charset=\"utf-8\" /></head>\n",
              "<body>\n",
              "    <div>            <script src=\"https://cdnjs.cloudflare.com/ajax/libs/mathjax/2.7.5/MathJax.js?config=TeX-AMS-MML_SVG\"></script><script type=\"text/javascript\">if (window.MathJax && window.MathJax.Hub && window.MathJax.Hub.Config) {window.MathJax.Hub.Config({SVG: {font: \"STIX-Web\"}});}</script>                <script type=\"text/javascript\">window.PlotlyConfig = {MathJaxConfig: 'local'};</script>\n",
              "        <script charset=\"utf-8\" src=\"https://cdn.plot.ly/plotly-2.24.1.min.js\"></script>                <div id=\"4b046840-cf63-420a-b256-0cad7344f8e7\" class=\"plotly-graph-div\" style=\"height:600px; width:800px;\"></div>            <script type=\"text/javascript\">                                    window.PLOTLYENV=window.PLOTLYENV || {};                                    if (document.getElementById(\"4b046840-cf63-420a-b256-0cad7344f8e7\")) {                    Plotly.newPlot(                        \"4b046840-cf63-420a-b256-0cad7344f8e7\",                        [{\"colorbar\":{\"title\":{\"text\":\"Objective Value\"}},\"colorscale\":[[0.0,\"rgb(247,251,255)\"],[0.125,\"rgb(222,235,247)\"],[0.25,\"rgb(198,219,239)\"],[0.375,\"rgb(158,202,225)\"],[0.5,\"rgb(107,174,214)\"],[0.625,\"rgb(66,146,198)\"],[0.75,\"rgb(33,113,181)\"],[0.875,\"rgb(8,81,156)\"],[1.0,\"rgb(8,48,107)\"]],\"connectgaps\":true,\"contours\":{\"coloring\":\"heatmap\"},\"hoverinfo\":\"none\",\"line\":{\"smoothing\":1.3},\"reversescale\":false,\"x\":[27.2,32,64,128,132.8],\"y\":[0.042601964673114265,0.04531450100143717,0.06474014431307697,0.09246386114864602,0.09933454589901237,0.09956522756789522,0.10227776389621812],\"z\":[[null,null,null,null,null],[null,null,null,0.8475426435470581,null],[null,null,null,0.8104313015937805,null],[null,null,0.8485456109046936,null,null],[null,0.8214644193649292,null,null,null],[null,0.8776329159736633,null,null,null],[null,null,null,null,null]],\"type\":\"contour\"},{\"marker\":{\"color\":\"black\",\"line\":{\"color\":\"Gray\",\"width\":2.0}},\"mode\":\"markers\",\"name\":\"Feasible Trial\",\"showlegend\":false,\"x\":[128,64,128,32,32],\"y\":[0.06474014431307697,0.09246386114864602,0.04531450100143717,0.09956522756789522,0.09933454589901237],\"type\":\"scatter\"},{\"marker\":{\"color\":\"#cccccc\",\"line\":{\"color\":\"Gray\",\"width\":2.0}},\"mode\":\"markers\",\"name\":\"Infeasible Trial\",\"showlegend\":false,\"x\":[],\"y\":[],\"type\":\"scatter\"}],                        {\"title\":{\"text\":\"Contour Plot\"},\"template\":{\"data\":{\"histogram2dcontour\":[{\"type\":\"histogram2dcontour\",\"colorbar\":{\"outlinewidth\":0,\"ticks\":\"\"},\"colorscale\":[[0.0,\"#0d0887\"],[0.1111111111111111,\"#46039f\"],[0.2222222222222222,\"#7201a8\"],[0.3333333333333333,\"#9c179e\"],[0.4444444444444444,\"#bd3786\"],[0.5555555555555556,\"#d8576b\"],[0.6666666666666666,\"#ed7953\"],[0.7777777777777778,\"#fb9f3a\"],[0.8888888888888888,\"#fdca26\"],[1.0,\"#f0f921\"]]}],\"choropleth\":[{\"type\":\"choropleth\",\"colorbar\":{\"outlinewidth\":0,\"ticks\":\"\"}}],\"histogram2d\":[{\"type\":\"histogram2d\",\"colorbar\":{\"outlinewidth\":0,\"ticks\":\"\"},\"colorscale\":[[0.0,\"#0d0887\"],[0.1111111111111111,\"#46039f\"],[0.2222222222222222,\"#7201a8\"],[0.3333333333333333,\"#9c179e\"],[0.4444444444444444,\"#bd3786\"],[0.5555555555555556,\"#d8576b\"],[0.6666666666666666,\"#ed7953\"],[0.7777777777777778,\"#fb9f3a\"],[0.8888888888888888,\"#fdca26\"],[1.0,\"#f0f921\"]]}],\"heatmap\":[{\"type\":\"heatmap\",\"colorbar\":{\"outlinewidth\":0,\"ticks\":\"\"},\"colorscale\":[[0.0,\"#0d0887\"],[0.1111111111111111,\"#46039f\"],[0.2222222222222222,\"#7201a8\"],[0.3333333333333333,\"#9c179e\"],[0.4444444444444444,\"#bd3786\"],[0.5555555555555556,\"#d8576b\"],[0.6666666666666666,\"#ed7953\"],[0.7777777777777778,\"#fb9f3a\"],[0.8888888888888888,\"#fdca26\"],[1.0,\"#f0f921\"]]}],\"heatmapgl\":[{\"type\":\"heatmapgl\",\"colorbar\":{\"outlinewidth\":0,\"ticks\":\"\"},\"colorscale\":[[0.0,\"#0d0887\"],[0.1111111111111111,\"#46039f\"],[0.2222222222222222,\"#7201a8\"],[0.3333333333333333,\"#9c179e\"],[0.4444444444444444,\"#bd3786\"],[0.5555555555555556,\"#d8576b\"],[0.6666666666666666,\"#ed7953\"],[0.7777777777777778,\"#fb9f3a\"],[0.8888888888888888,\"#fdca26\"],[1.0,\"#f0f921\"]]}],\"contourcarpet\":[{\"type\":\"contourcarpet\",\"colorbar\":{\"outlinewidth\":0,\"ticks\":\"\"}}],\"contour\":[{\"type\":\"contour\",\"colorbar\":{\"outlinewidth\":0,\"ticks\":\"\"},\"colorscale\":[[0.0,\"#0d0887\"],[0.1111111111111111,\"#46039f\"],[0.2222222222222222,\"#7201a8\"],[0.3333333333333333,\"#9c179e\"],[0.4444444444444444,\"#bd3786\"],[0.5555555555555556,\"#d8576b\"],[0.6666666666666666,\"#ed7953\"],[0.7777777777777778,\"#fb9f3a\"],[0.8888888888888888,\"#fdca26\"],[1.0,\"#f0f921\"]]}],\"surface\":[{\"type\":\"surface\",\"colorbar\":{\"outlinewidth\":0,\"ticks\":\"\"},\"colorscale\":[[0.0,\"#0d0887\"],[0.1111111111111111,\"#46039f\"],[0.2222222222222222,\"#7201a8\"],[0.3333333333333333,\"#9c179e\"],[0.4444444444444444,\"#bd3786\"],[0.5555555555555556,\"#d8576b\"],[0.6666666666666666,\"#ed7953\"],[0.7777777777777778,\"#fb9f3a\"],[0.8888888888888888,\"#fdca26\"],[1.0,\"#f0f921\"]]}],\"mesh3d\":[{\"type\":\"mesh3d\",\"colorbar\":{\"outlinewidth\":0,\"ticks\":\"\"}}],\"scatter\":[{\"fillpattern\":{\"fillmode\":\"overlay\",\"size\":10,\"solidity\":0.2},\"type\":\"scatter\"}],\"parcoords\":[{\"type\":\"parcoords\",\"line\":{\"colorbar\":{\"outlinewidth\":0,\"ticks\":\"\"}}}],\"scatterpolargl\":[{\"type\":\"scatterpolargl\",\"marker\":{\"colorbar\":{\"outlinewidth\":0,\"ticks\":\"\"}}}],\"bar\":[{\"error_x\":{\"color\":\"#2a3f5f\"},\"error_y\":{\"color\":\"#2a3f5f\"},\"marker\":{\"line\":{\"color\":\"#E5ECF6\",\"width\":0.5},\"pattern\":{\"fillmode\":\"overlay\",\"size\":10,\"solidity\":0.2}},\"type\":\"bar\"}],\"scattergeo\":[{\"type\":\"scattergeo\",\"marker\":{\"colorbar\":{\"outlinewidth\":0,\"ticks\":\"\"}}}],\"scatterpolar\":[{\"type\":\"scatterpolar\",\"marker\":{\"colorbar\":{\"outlinewidth\":0,\"ticks\":\"\"}}}],\"histogram\":[{\"marker\":{\"pattern\":{\"fillmode\":\"overlay\",\"size\":10,\"solidity\":0.2}},\"type\":\"histogram\"}],\"scattergl\":[{\"type\":\"scattergl\",\"marker\":{\"colorbar\":{\"outlinewidth\":0,\"ticks\":\"\"}}}],\"scatter3d\":[{\"type\":\"scatter3d\",\"line\":{\"colorbar\":{\"outlinewidth\":0,\"ticks\":\"\"}},\"marker\":{\"colorbar\":{\"outlinewidth\":0,\"ticks\":\"\"}}}],\"scattermapbox\":[{\"type\":\"scattermapbox\",\"marker\":{\"colorbar\":{\"outlinewidth\":0,\"ticks\":\"\"}}}],\"scatterternary\":[{\"type\":\"scatterternary\",\"marker\":{\"colorbar\":{\"outlinewidth\":0,\"ticks\":\"\"}}}],\"scattercarpet\":[{\"type\":\"scattercarpet\",\"marker\":{\"colorbar\":{\"outlinewidth\":0,\"ticks\":\"\"}}}],\"carpet\":[{\"aaxis\":{\"endlinecolor\":\"#2a3f5f\",\"gridcolor\":\"white\",\"linecolor\":\"white\",\"minorgridcolor\":\"white\",\"startlinecolor\":\"#2a3f5f\"},\"baxis\":{\"endlinecolor\":\"#2a3f5f\",\"gridcolor\":\"white\",\"linecolor\":\"white\",\"minorgridcolor\":\"white\",\"startlinecolor\":\"#2a3f5f\"},\"type\":\"carpet\"}],\"table\":[{\"cells\":{\"fill\":{\"color\":\"#EBF0F8\"},\"line\":{\"color\":\"white\"}},\"header\":{\"fill\":{\"color\":\"#C8D4E3\"},\"line\":{\"color\":\"white\"}},\"type\":\"table\"}],\"barpolar\":[{\"marker\":{\"line\":{\"color\":\"#E5ECF6\",\"width\":0.5},\"pattern\":{\"fillmode\":\"overlay\",\"size\":10,\"solidity\":0.2}},\"type\":\"barpolar\"}],\"pie\":[{\"automargin\":true,\"type\":\"pie\"}]},\"layout\":{\"autotypenumbers\":\"strict\",\"colorway\":[\"#636efa\",\"#EF553B\",\"#00cc96\",\"#ab63fa\",\"#FFA15A\",\"#19d3f3\",\"#FF6692\",\"#B6E880\",\"#FF97FF\",\"#FECB52\"],\"font\":{\"color\":\"#2a3f5f\"},\"hovermode\":\"closest\",\"hoverlabel\":{\"align\":\"left\"},\"paper_bgcolor\":\"white\",\"plot_bgcolor\":\"#E5ECF6\",\"polar\":{\"bgcolor\":\"#E5ECF6\",\"angularaxis\":{\"gridcolor\":\"white\",\"linecolor\":\"white\",\"ticks\":\"\"},\"radialaxis\":{\"gridcolor\":\"white\",\"linecolor\":\"white\",\"ticks\":\"\"}},\"ternary\":{\"bgcolor\":\"#E5ECF6\",\"aaxis\":{\"gridcolor\":\"white\",\"linecolor\":\"white\",\"ticks\":\"\"},\"baxis\":{\"gridcolor\":\"white\",\"linecolor\":\"white\",\"ticks\":\"\"},\"caxis\":{\"gridcolor\":\"white\",\"linecolor\":\"white\",\"ticks\":\"\"}},\"coloraxis\":{\"colorbar\":{\"outlinewidth\":0,\"ticks\":\"\"}},\"colorscale\":{\"sequential\":[[0.0,\"#0d0887\"],[0.1111111111111111,\"#46039f\"],[0.2222222222222222,\"#7201a8\"],[0.3333333333333333,\"#9c179e\"],[0.4444444444444444,\"#bd3786\"],[0.5555555555555556,\"#d8576b\"],[0.6666666666666666,\"#ed7953\"],[0.7777777777777778,\"#fb9f3a\"],[0.8888888888888888,\"#fdca26\"],[1.0,\"#f0f921\"]],\"sequentialminus\":[[0.0,\"#0d0887\"],[0.1111111111111111,\"#46039f\"],[0.2222222222222222,\"#7201a8\"],[0.3333333333333333,\"#9c179e\"],[0.4444444444444444,\"#bd3786\"],[0.5555555555555556,\"#d8576b\"],[0.6666666666666666,\"#ed7953\"],[0.7777777777777778,\"#fb9f3a\"],[0.8888888888888888,\"#fdca26\"],[1.0,\"#f0f921\"]],\"diverging\":[[0,\"#8e0152\"],[0.1,\"#c51b7d\"],[0.2,\"#de77ae\"],[0.3,\"#f1b6da\"],[0.4,\"#fde0ef\"],[0.5,\"#f7f7f7\"],[0.6,\"#e6f5d0\"],[0.7,\"#b8e186\"],[0.8,\"#7fbc41\"],[0.9,\"#4d9221\"],[1,\"#276419\"]]},\"xaxis\":{\"gridcolor\":\"white\",\"linecolor\":\"white\",\"ticks\":\"\",\"title\":{\"standoff\":15},\"zerolinecolor\":\"white\",\"automargin\":true,\"zerolinewidth\":2},\"yaxis\":{\"gridcolor\":\"white\",\"linecolor\":\"white\",\"ticks\":\"\",\"title\":{\"standoff\":15},\"zerolinecolor\":\"white\",\"automargin\":true,\"zerolinewidth\":2},\"scene\":{\"xaxis\":{\"backgroundcolor\":\"#E5ECF6\",\"gridcolor\":\"white\",\"linecolor\":\"white\",\"showbackground\":true,\"ticks\":\"\",\"zerolinecolor\":\"white\",\"gridwidth\":2},\"yaxis\":{\"backgroundcolor\":\"#E5ECF6\",\"gridcolor\":\"white\",\"linecolor\":\"white\",\"showbackground\":true,\"ticks\":\"\",\"zerolinecolor\":\"white\",\"gridwidth\":2},\"zaxis\":{\"backgroundcolor\":\"#E5ECF6\",\"gridcolor\":\"white\",\"linecolor\":\"white\",\"showbackground\":true,\"ticks\":\"\",\"zerolinecolor\":\"white\",\"gridwidth\":2}},\"shapedefaults\":{\"line\":{\"color\":\"#2a3f5f\"}},\"annotationdefaults\":{\"arrowcolor\":\"#2a3f5f\",\"arrowhead\":0,\"arrowwidth\":1},\"geo\":{\"bgcolor\":\"white\",\"landcolor\":\"#E5ECF6\",\"subunitcolor\":\"white\",\"showland\":true,\"showlakes\":true,\"lakecolor\":\"white\"},\"title\":{\"x\":0.05},\"mapbox\":{\"style\":\"light\"}}},\"xaxis\":{\"title\":{\"text\":\"batch_size\"},\"range\":[27.2,132.8]},\"yaxis\":{\"title\":{\"text\":\"learning_rate_sgd\"},\"range\":[0.042601964673114265,0.10227776389621812]},\"width\":800,\"height\":600},                        {\"responsive\": true}                    ).then(function(){\n",
              "                            \n",
              "var gd = document.getElementById('4b046840-cf63-420a-b256-0cad7344f8e7');\n",
              "var x = new MutationObserver(function (mutations, observer) {{\n",
              "        var display = window.getComputedStyle(gd).display;\n",
              "        if (!display || display === 'none') {{\n",
              "            console.log([gd, 'removed!']);\n",
              "            Plotly.purge(gd);\n",
              "            observer.disconnect();\n",
              "        }}\n",
              "}});\n",
              "\n",
              "// Listen for the removal of the full notebook cells\n",
              "var notebookContainer = gd.closest('#notebook-container');\n",
              "if (notebookContainer) {{\n",
              "    x.observe(notebookContainer, {childList: true});\n",
              "}}\n",
              "\n",
              "// Listen for the clearing of the current output cell\n",
              "var outputEl = gd.closest('.output');\n",
              "if (outputEl) {{\n",
              "    x.observe(outputEl, {childList: true});\n",
              "}}\n",
              "\n",
              "                        })                };                            </script>        </div>\n",
              "</body>\n",
              "</html>"
            ]
          },
          "metadata": {}
        }
      ]
    },
    {
      "cell_type": "markdown",
      "metadata": {
        "id": "K5ws6tRck7uf"
      },
      "source": [
        "## **Using best Hyper parameters train model**"
      ]
    },
    {
      "cell_type": "code",
      "execution_count": null,
      "metadata": {
        "id": "v_D9OTlGL7tu"
      },
      "outputs": [],
      "source": [
        "    base_model1 = EfficientNetV2B0(include_top=False, weights='imagenet',  input_shape=(224, 224, 3), pooling='avg')\n",
        "    base_model1.trainable = False\n",
        "\n",
        "    # Create a new model and set EfficientNetB2 as its input\n",
        "    model = Sequential()\n",
        "    model.add(base_model1)\n",
        "    model.add(Dense(256, activation='relu'))\n",
        "    model.add(Dense(128, activation='relu'))\n",
        "    model.add(Dropout(0.3892263644877882))\n",
        "    model.add(Dense(12, activation='softmax'))"
      ]
    },
    {
      "cell_type": "code",
      "execution_count": null,
      "metadata": {
        "id": "oKkw-VhwU7Qp"
      },
      "outputs": [],
      "source": [
        "model.compile(optimizer=SGD(learning_rate=0.09956522756789522),\n",
        "                  loss='categorical_crossentropy',\n",
        "                  metrics=['accuracy'])"
      ]
    },
    {
      "cell_type": "code",
      "execution_count": null,
      "metadata": {
        "id": "mTo-h9SRJhXH"
      },
      "outputs": [],
      "source": [
        "checkpoint = ModelCheckpoint(\"best_hyper_model.h5\",\n",
        "                             monitor='val_accuracy',  # You can choose the metric to monitor (e.g., 'val_accuracy')\n",
        "                             save_best_only=True,  # Save only the best model\n",
        "                             mode='max',  # 'min' for loss, 'max' for accuracy, etc.\n",
        "                             verbose=1)"
      ]
    },
    {
      "cell_type": "code",
      "execution_count": null,
      "metadata": {
        "id": "cCBMbESfytSM"
      },
      "outputs": [],
      "source": [
        "from keras.preprocessing.image import ImageDataGenerator\n",
        "datagen = ImageDataGenerator(\n",
        "        rotation_range=180,\n",
        "        zoom_range = 0.1,\n",
        "        width_shift_range=0.1,\n",
        "        height_shift_range=0.1,\n",
        "        horizontal_flip=True,\n",
        "        vertical_flip=True\n",
        "        )\n",
        "datagen.fit(X_train)\n"
      ]
    },
    {
      "cell_type": "code",
      "execution_count": null,
      "metadata": {
        "id": "Tqh8Gw4yPp3i",
        "colab": {
          "base_uri": "https://localhost:8080/"
        },
        "outputId": "e94f18ff-9169-40ff-eec3-d9ca663b4873"
      },
      "outputs": [
        {
          "output_type": "stream",
          "name": "stdout",
          "text": [
            "Epoch 1/51\n",
            "125/125 [==============================] - ETA: 0s - loss: 1.6033 - accuracy: 0.4496\n",
            "Epoch 1: val_accuracy improved from -inf to 0.63691, saving model to best_hyper_model.h5\n"
          ]
        },
        {
          "output_type": "stream",
          "name": "stderr",
          "text": [
            "/usr/local/lib/python3.10/dist-packages/keras/src/engine/training.py:3103: UserWarning:\n",
            "\n",
            "You are saving your model as an HDF5 file via `model.save()`. This file format is considered legacy. We recommend using instead the native Keras format, e.g. `model.save('my_model.keras')`.\n",
            "\n"
          ]
        },
        {
          "output_type": "stream",
          "name": "stdout",
          "text": [
            "\b\b\b\b\b\b\b\b\b\b\b\b\b\b\b\b\b\b\b\b\b\b\b\b\b\b\b\b\b\b\b\b\b\b\b\b\b\b\b\b\b\b\b\b\b\b\b\b\b\b\b\b\b\b\b\b\b\b\b\b\b\b\b\b\b\b\b\b\b\b\b\b\b\b\b\b\b\b\b\b\b\b\b\b\r125/125 [==============================] - 49s 336ms/step - loss: 1.6033 - accuracy: 0.4496 - val_loss: 1.0786 - val_accuracy: 0.6369\n",
            "Epoch 2/51\n",
            "125/125 [==============================] - ETA: 0s - loss: 0.9952 - accuracy: 0.6550\n",
            "Epoch 2: val_accuracy improved from 0.63691 to 0.67703, saving model to best_hyper_model.h5\n",
            "125/125 [==============================] - 40s 320ms/step - loss: 0.9952 - accuracy: 0.6550 - val_loss: 0.8093 - val_accuracy: 0.6770\n",
            "Epoch 3/51\n",
            "125/125 [==============================] - ETA: 0s - loss: 0.7731 - accuracy: 0.7282\n",
            "Epoch 3: val_accuracy improved from 0.67703 to 0.71414, saving model to best_hyper_model.h5\n",
            "125/125 [==============================] - 40s 323ms/step - loss: 0.7731 - accuracy: 0.7282 - val_loss: 0.7528 - val_accuracy: 0.7141\n",
            "Epoch 4/51\n",
            "125/125 [==============================] - ETA: 0s - loss: 0.6551 - accuracy: 0.7703\n",
            "Epoch 4: val_accuracy improved from 0.71414 to 0.79739, saving model to best_hyper_model.h5\n",
            "125/125 [==============================] - 40s 320ms/step - loss: 0.6551 - accuracy: 0.7703 - val_loss: 0.5383 - val_accuracy: 0.7974\n",
            "Epoch 5/51\n",
            "125/125 [==============================] - ETA: 0s - loss: 0.5577 - accuracy: 0.8029\n",
            "Epoch 5: val_accuracy improved from 0.79739 to 0.81745, saving model to best_hyper_model.h5\n",
            "125/125 [==============================] - 40s 320ms/step - loss: 0.5577 - accuracy: 0.8029 - val_loss: 0.5029 - val_accuracy: 0.8175\n",
            "Epoch 6/51\n",
            "125/125 [==============================] - ETA: 0s - loss: 0.5518 - accuracy: 0.8054\n",
            "Epoch 6: val_accuracy improved from 0.81745 to 0.84554, saving model to best_hyper_model.h5\n",
            "125/125 [==============================] - 40s 321ms/step - loss: 0.5518 - accuracy: 0.8054 - val_loss: 0.4331 - val_accuracy: 0.8455\n",
            "Epoch 7/51\n",
            "125/125 [==============================] - ETA: 0s - loss: 0.5133 - accuracy: 0.8207\n",
            "Epoch 7: val_accuracy improved from 0.84554 to 0.86560, saving model to best_hyper_model.h5\n",
            "125/125 [==============================] - 40s 321ms/step - loss: 0.5133 - accuracy: 0.8207 - val_loss: 0.3768 - val_accuracy: 0.8656\n",
            "Epoch 8/51\n",
            "125/125 [==============================] - ETA: 0s - loss: 0.4850 - accuracy: 0.8330\n",
            "Epoch 8: val_accuracy did not improve from 0.86560\n",
            "125/125 [==============================] - 40s 317ms/step - loss: 0.4850 - accuracy: 0.8330 - val_loss: 0.4920 - val_accuracy: 0.8225\n",
            "Epoch 9/51\n",
            "125/125 [==============================] - ETA: 0s - loss: 0.4516 - accuracy: 0.8398\n",
            "Epoch 9: val_accuracy did not improve from 0.86560\n",
            "125/125 [==============================] - 40s 318ms/step - loss: 0.4516 - accuracy: 0.8398 - val_loss: 0.4431 - val_accuracy: 0.8415\n",
            "Epoch 10/51\n",
            "125/125 [==============================] - ETA: 0s - loss: 0.4395 - accuracy: 0.8445\n",
            "Epoch 10: val_accuracy did not improve from 0.86560\n",
            "125/125 [==============================] - 40s 318ms/step - loss: 0.4395 - accuracy: 0.8445 - val_loss: 0.3947 - val_accuracy: 0.8626\n",
            "Epoch 11/51\n",
            "125/125 [==============================] - ETA: 0s - loss: 0.4361 - accuracy: 0.8428\n",
            "Epoch 11: val_accuracy did not improve from 0.86560\n",
            "125/125 [==============================] - 40s 316ms/step - loss: 0.4361 - accuracy: 0.8428 - val_loss: 0.3878 - val_accuracy: 0.8566\n",
            "Epoch 12/51\n",
            "125/125 [==============================] - ETA: 0s - loss: 0.3976 - accuracy: 0.8628\n",
            "Epoch 12: val_accuracy did not improve from 0.86560\n",
            "125/125 [==============================] - 39s 315ms/step - loss: 0.3976 - accuracy: 0.8628 - val_loss: 0.5309 - val_accuracy: 0.8285\n",
            "Epoch 13/51\n",
            "125/125 [==============================] - ETA: 0s - loss: 0.3899 - accuracy: 0.8658\n",
            "Epoch 13: val_accuracy improved from 0.86560 to 0.87061, saving model to best_hyper_model.h5\n",
            "125/125 [==============================] - 40s 318ms/step - loss: 0.3899 - accuracy: 0.8658 - val_loss: 0.3583 - val_accuracy: 0.8706\n",
            "Epoch 14/51\n",
            "125/125 [==============================] - ETA: 0s - loss: 0.3764 - accuracy: 0.8641\n",
            "Epoch 14: val_accuracy did not improve from 0.87061\n",
            "125/125 [==============================] - 40s 318ms/step - loss: 0.3764 - accuracy: 0.8641 - val_loss: 0.3601 - val_accuracy: 0.8656\n",
            "Epoch 15/51\n",
            "125/125 [==============================] - ETA: 0s - loss: 0.3588 - accuracy: 0.8744\n",
            "Epoch 15: val_accuracy improved from 0.87061 to 0.88164, saving model to best_hyper_model.h5\n",
            "125/125 [==============================] - 40s 319ms/step - loss: 0.3588 - accuracy: 0.8744 - val_loss: 0.3379 - val_accuracy: 0.8816\n",
            "Epoch 16/51\n",
            "125/125 [==============================] - ETA: 0s - loss: 0.3485 - accuracy: 0.8756\n",
            "Epoch 16: val_accuracy did not improve from 0.88164\n",
            "125/125 [==============================] - 39s 315ms/step - loss: 0.3485 - accuracy: 0.8756 - val_loss: 0.4393 - val_accuracy: 0.8385\n",
            "Epoch 17/51\n",
            "125/125 [==============================] - ETA: 0s - loss: 0.3326 - accuracy: 0.8811\n",
            "Epoch 17: val_accuracy did not improve from 0.88164\n",
            "125/125 [==============================] - 39s 316ms/step - loss: 0.3326 - accuracy: 0.8811 - val_loss: 0.3647 - val_accuracy: 0.8716\n",
            "Epoch 18/51\n",
            "125/125 [==============================] - ETA: 0s - loss: 0.3473 - accuracy: 0.8731\n",
            "Epoch 18: val_accuracy did not improve from 0.88164\n",
            "125/125 [==============================] - 40s 316ms/step - loss: 0.3473 - accuracy: 0.8731 - val_loss: 0.3382 - val_accuracy: 0.8786\n",
            "Epoch 19/51\n",
            "125/125 [==============================] - ETA: 0s - loss: 0.3268 - accuracy: 0.8819\n",
            "Epoch 19: val_accuracy did not improve from 0.88164\n",
            "125/125 [==============================] - 40s 317ms/step - loss: 0.3268 - accuracy: 0.8819 - val_loss: 0.3321 - val_accuracy: 0.8786\n",
            "Epoch 20/51\n",
            "125/125 [==============================] - ETA: 0s - loss: 0.3180 - accuracy: 0.8862\n",
            "Epoch 20: val_accuracy did not improve from 0.88164\n",
            "125/125 [==============================] - 40s 318ms/step - loss: 0.3180 - accuracy: 0.8862 - val_loss: 0.3554 - val_accuracy: 0.8736\n",
            "Epoch 21/51\n",
            "125/125 [==============================] - ETA: 0s - loss: 0.3040 - accuracy: 0.8962\n",
            "Epoch 21: val_accuracy did not improve from 0.88164\n",
            "125/125 [==============================] - 40s 316ms/step - loss: 0.3040 - accuracy: 0.8962 - val_loss: 0.3168 - val_accuracy: 0.8816\n",
            "Epoch 22/51\n",
            "125/125 [==============================] - ETA: 0s - loss: 0.3137 - accuracy: 0.8879\n",
            "Epoch 22: val_accuracy did not improve from 0.88164\n",
            "125/125 [==============================] - 39s 315ms/step - loss: 0.3137 - accuracy: 0.8879 - val_loss: 0.4233 - val_accuracy: 0.8526\n",
            "Epoch 23/51\n",
            "125/125 [==============================] - ETA: 0s - loss: 0.3008 - accuracy: 0.8932\n",
            "Epoch 23: val_accuracy improved from 0.88164 to 0.89167, saving model to best_hyper_model.h5\n",
            "125/125 [==============================] - 40s 318ms/step - loss: 0.3008 - accuracy: 0.8932 - val_loss: 0.3155 - val_accuracy: 0.8917\n",
            "Epoch 24/51\n",
            "125/125 [==============================] - ETA: 0s - loss: 0.2929 - accuracy: 0.8912\n",
            "Epoch 24: val_accuracy did not improve from 0.89167\n",
            "125/125 [==============================] - 39s 315ms/step - loss: 0.2929 - accuracy: 0.8912 - val_loss: 0.3849 - val_accuracy: 0.8696\n",
            "Epoch 25/51\n",
            "125/125 [==============================] - ETA: 0s - loss: 0.2855 - accuracy: 0.9015\n",
            "Epoch 25: val_accuracy did not improve from 0.89167\n",
            "125/125 [==============================] - 40s 318ms/step - loss: 0.2855 - accuracy: 0.9015 - val_loss: 0.3743 - val_accuracy: 0.8686\n",
            "Epoch 26/51\n",
            "125/125 [==============================] - ETA: 0s - loss: 0.2666 - accuracy: 0.9080\n",
            "Epoch 26: val_accuracy did not improve from 0.89167\n",
            "125/125 [==============================] - 40s 316ms/step - loss: 0.2666 - accuracy: 0.9080 - val_loss: 0.3389 - val_accuracy: 0.8776\n",
            "Epoch 27/51\n",
            "125/125 [==============================] - ETA: 0s - loss: 0.2772 - accuracy: 0.8989\n",
            "Epoch 27: val_accuracy improved from 0.89167 to 0.89268, saving model to best_hyper_model.h5\n",
            "125/125 [==============================] - 40s 320ms/step - loss: 0.2772 - accuracy: 0.8989 - val_loss: 0.3157 - val_accuracy: 0.8927\n",
            "Epoch 28/51\n",
            "125/125 [==============================] - ETA: 0s - loss: 0.2696 - accuracy: 0.9022\n",
            "Epoch 28: val_accuracy did not improve from 0.89268\n",
            "125/125 [==============================] - 39s 315ms/step - loss: 0.2696 - accuracy: 0.9022 - val_loss: 0.3487 - val_accuracy: 0.8826\n",
            "Epoch 29/51\n",
            "125/125 [==============================] - ETA: 0s - loss: 0.2787 - accuracy: 0.9035\n",
            "Epoch 29: val_accuracy did not improve from 0.89268\n",
            "125/125 [==============================] - 40s 318ms/step - loss: 0.2787 - accuracy: 0.9035 - val_loss: 0.3343 - val_accuracy: 0.8786\n",
            "Epoch 30/51\n",
            "125/125 [==============================] - ETA: 0s - loss: 0.2817 - accuracy: 0.8994\n",
            "Epoch 30: val_accuracy did not improve from 0.89268\n",
            "125/125 [==============================] - 40s 317ms/step - loss: 0.2817 - accuracy: 0.8994 - val_loss: 0.3565 - val_accuracy: 0.8766\n",
            "Epoch 31/51\n",
            "125/125 [==============================] - ETA: 0s - loss: 0.2623 - accuracy: 0.9052\n",
            "Epoch 31: val_accuracy did not improve from 0.89268\n",
            "125/125 [==============================] - 40s 316ms/step - loss: 0.2623 - accuracy: 0.9052 - val_loss: 0.3256 - val_accuracy: 0.8877\n",
            "Epoch 32/51\n",
            "125/125 [==============================] - ETA: 0s - loss: 0.2627 - accuracy: 0.9085\n",
            "Epoch 32: val_accuracy did not improve from 0.89268\n",
            "125/125 [==============================] - 40s 318ms/step - loss: 0.2627 - accuracy: 0.9085 - val_loss: 0.3314 - val_accuracy: 0.8897\n",
            "Epoch 33/51\n",
            "125/125 [==============================] - ETA: 0s - loss: 0.2751 - accuracy: 0.9002\n",
            "Epoch 33: val_accuracy improved from 0.89268 to 0.89368, saving model to best_hyper_model.h5\n",
            "125/125 [==============================] - 40s 320ms/step - loss: 0.2751 - accuracy: 0.9002 - val_loss: 0.3210 - val_accuracy: 0.8937\n",
            "Epoch 34/51\n",
            "125/125 [==============================] - ETA: 0s - loss: 0.2438 - accuracy: 0.9160\n",
            "Epoch 34: val_accuracy improved from 0.89368 to 0.89870, saving model to best_hyper_model.h5\n",
            "125/125 [==============================] - 40s 323ms/step - loss: 0.2438 - accuracy: 0.9160 - val_loss: 0.3042 - val_accuracy: 0.8987\n",
            "Epoch 35/51\n",
            "125/125 [==============================] - ETA: 0s - loss: 0.2345 - accuracy: 0.9145\n",
            "Epoch 35: val_accuracy did not improve from 0.89870\n",
            "125/125 [==============================] - 40s 317ms/step - loss: 0.2345 - accuracy: 0.9145 - val_loss: 0.3207 - val_accuracy: 0.8907\n",
            "Epoch 36/51\n",
            "125/125 [==============================] - ETA: 0s - loss: 0.2533 - accuracy: 0.9105\n",
            "Epoch 36: val_accuracy did not improve from 0.89870\n",
            "125/125 [==============================] - 40s 320ms/step - loss: 0.2533 - accuracy: 0.9105 - val_loss: 0.3160 - val_accuracy: 0.8967\n",
            "Epoch 37/51\n",
            "125/125 [==============================] - ETA: 0s - loss: 0.2488 - accuracy: 0.9122\n",
            "Epoch 37: val_accuracy improved from 0.89870 to 0.90070, saving model to best_hyper_model.h5\n",
            "125/125 [==============================] - 40s 319ms/step - loss: 0.2488 - accuracy: 0.9122 - val_loss: 0.3066 - val_accuracy: 0.9007\n",
            "Epoch 38/51\n",
            "125/125 [==============================] - ETA: 0s - loss: 0.2493 - accuracy: 0.9082\n",
            "Epoch 38: val_accuracy did not improve from 0.90070\n",
            "125/125 [==============================] - 39s 314ms/step - loss: 0.2493 - accuracy: 0.9082 - val_loss: 0.3228 - val_accuracy: 0.8937\n",
            "Epoch 39/51\n",
            "125/125 [==============================] - ETA: 0s - loss: 0.2349 - accuracy: 0.9132\n",
            "Epoch 39: val_accuracy did not improve from 0.90070\n",
            "125/125 [==============================] - 40s 316ms/step - loss: 0.2349 - accuracy: 0.9132 - val_loss: 0.3020 - val_accuracy: 0.8917\n",
            "Epoch 40/51\n",
            "125/125 [==============================] - ETA: 0s - loss: 0.2452 - accuracy: 0.9125\n",
            "Epoch 40: val_accuracy did not improve from 0.90070\n",
            "125/125 [==============================] - 40s 318ms/step - loss: 0.2452 - accuracy: 0.9125 - val_loss: 0.3124 - val_accuracy: 0.8937\n",
            "Epoch 41/51\n",
            "125/125 [==============================] - ETA: 0s - loss: 0.2507 - accuracy: 0.9140\n",
            "Epoch 41: val_accuracy did not improve from 0.90070\n",
            "125/125 [==============================] - 40s 317ms/step - loss: 0.2507 - accuracy: 0.9140 - val_loss: 0.2976 - val_accuracy: 0.8927\n",
            "Epoch 42/51\n",
            "125/125 [==============================] - ETA: 0s - loss: 0.2271 - accuracy: 0.9165\n",
            "Epoch 42: val_accuracy did not improve from 0.90070\n",
            "125/125 [==============================] - 40s 318ms/step - loss: 0.2271 - accuracy: 0.9165 - val_loss: 0.3777 - val_accuracy: 0.8736\n",
            "Epoch 43/51\n",
            "125/125 [==============================] - ETA: 0s - loss: 0.2269 - accuracy: 0.9130\n",
            "Epoch 43: val_accuracy did not improve from 0.90070\n",
            "125/125 [==============================] - 40s 317ms/step - loss: 0.2269 - accuracy: 0.9130 - val_loss: 0.2939 - val_accuracy: 0.8937\n",
            "Epoch 44/51\n",
            "125/125 [==============================] - ETA: 0s - loss: 0.2253 - accuracy: 0.9178\n",
            "Epoch 44: val_accuracy improved from 0.90070 to 0.90271, saving model to best_hyper_model.h5\n",
            "125/125 [==============================] - 40s 324ms/step - loss: 0.2253 - accuracy: 0.9178 - val_loss: 0.2904 - val_accuracy: 0.9027\n",
            "Epoch 45/51\n",
            "125/125 [==============================] - ETA: 0s - loss: 0.2197 - accuracy: 0.9225\n",
            "Epoch 45: val_accuracy did not improve from 0.90271\n",
            "125/125 [==============================] - 40s 323ms/step - loss: 0.2197 - accuracy: 0.9225 - val_loss: 0.3137 - val_accuracy: 0.8987\n",
            "Epoch 46/51\n",
            "125/125 [==============================] - ETA: 0s - loss: 0.2309 - accuracy: 0.9170\n",
            "Epoch 46: val_accuracy did not improve from 0.90271\n",
            "125/125 [==============================] - 40s 322ms/step - loss: 0.2309 - accuracy: 0.9170 - val_loss: 0.3140 - val_accuracy: 0.8917\n",
            "Epoch 47/51\n",
            "125/125 [==============================] - ETA: 0s - loss: 0.2338 - accuracy: 0.9168\n",
            "Epoch 47: val_accuracy did not improve from 0.90271\n",
            "125/125 [==============================] - 40s 317ms/step - loss: 0.2338 - accuracy: 0.9168 - val_loss: 0.3170 - val_accuracy: 0.8897\n",
            "Epoch 48/51\n",
            "125/125 [==============================] - ETA: 0s - loss: 0.2090 - accuracy: 0.9208\n",
            "Epoch 48: val_accuracy did not improve from 0.90271\n",
            "125/125 [==============================] - 40s 317ms/step - loss: 0.2090 - accuracy: 0.9208 - val_loss: 0.3127 - val_accuracy: 0.8917\n",
            "Epoch 49/51\n",
            "125/125 [==============================] - ETA: 0s - loss: 0.2039 - accuracy: 0.9233\n",
            "Epoch 49: val_accuracy did not improve from 0.90271\n",
            "125/125 [==============================] - 40s 316ms/step - loss: 0.2039 - accuracy: 0.9233 - val_loss: 0.3141 - val_accuracy: 0.8967\n",
            "Epoch 50/51\n",
            "125/125 [==============================] - ETA: 0s - loss: 0.2116 - accuracy: 0.9273\n",
            "Epoch 50: val_accuracy did not improve from 0.90271\n",
            "125/125 [==============================] - 40s 317ms/step - loss: 0.2116 - accuracy: 0.9273 - val_loss: 0.3088 - val_accuracy: 0.8937\n",
            "Epoch 51/51\n",
            "125/125 [==============================] - ETA: 0s - loss: 0.2177 - accuracy: 0.9240\n",
            "Epoch 51: val_accuracy did not improve from 0.90271\n",
            "125/125 [==============================] - 40s 316ms/step - loss: 0.2177 - accuracy: 0.9240 - val_loss: 0.3267 - val_accuracy: 0.8887\n"
          ]
        }
      ],
      "source": [
        "# Train the model\n",
        "history=model.fit(datagen.flow(X_train, train_label,batch_size=32) ,epochs=51,  validation_data=(X_valid, valid_label), callbacks=[checkpoint])"
      ]
    },
    {
      "cell_type": "markdown",
      "metadata": {
        "id": "m3rmOtOdLDw1"
      },
      "source": [
        "### **CALLING SAVED MODEL**"
      ]
    },
    {
      "cell_type": "code",
      "execution_count": null,
      "metadata": {
        "id": "jT9tR8ehKt7Y"
      },
      "outputs": [],
      "source": [
        "model1 = load_model('best_hyper_model.h5')"
      ]
    },
    {
      "cell_type": "code",
      "source": [
        "print(os.path.getsize(\"best_hyper_model.h5\")/1048576, \"MB\")"
      ],
      "metadata": {
        "id": "SdXzI9rATsd1",
        "colab": {
          "base_uri": "https://localhost:8080/"
        },
        "outputId": "ad51c240-834c-4e45-844e-389dce87acb6"
      },
      "execution_count": null,
      "outputs": [
        {
          "output_type": "stream",
          "name": "stdout",
          "text": [
            "25.83116912841797 MB\n"
          ]
        }
      ]
    },
    {
      "cell_type": "code",
      "execution_count": null,
      "metadata": {
        "id": "SiXHa-VYHMSP",
        "colab": {
          "base_uri": "https://localhost:8080/"
        },
        "outputId": "30b5adc4-361f-4562-da97-162f0d230707"
      },
      "outputs": [
        {
          "output_type": "stream",
          "name": "stdout",
          "text": [
            "18/18 [==============================] - 2s 15ms/step - loss: 0.2914 - accuracy: 0.8935\n",
            "32/32 [==============================] - 0s 13ms/step - loss: 0.2904 - accuracy: 0.9027\n",
            "32/32 [==============================] - 11s 303ms/step - loss: 0.2901 - accuracy: 0.8997\n",
            "Test loss: 0.2913863956928253    Test accuracy: 0.8935018181800842\n",
            "Train loss: 0.2903992533683777    Train accuracy: 0.902708113193512\n",
            "Train loss: 0.2900923788547516    Train accuracy: 0.8996990919113159\n"
          ]
        }
      ],
      "source": [
        "loss, acc = model1.evaluate(X_test,test_label)\n",
        "loss1, acc1 = model1.evaluate(X_valid,valid_label)\n",
        "loss2, acc2 = model1.evaluate(datagen.flow(X_valid,valid_label))\n",
        "print('Test loss:', loss,'   Test accuracy:', acc)\n",
        "print('Train loss:', loss1,'   Train accuracy:',acc1)\n",
        "print('Train loss:', loss2,'   Train accuracy:',acc2)"
      ]
    },
    {
      "cell_type": "code",
      "execution_count": null,
      "metadata": {
        "id": "Da-nJGfM8BzS",
        "colab": {
          "base_uri": "https://localhost:8080/",
          "height": 1000
        },
        "outputId": "b93fdf83-34a7-4eca-bd93-29dfb6dddf43"
      },
      "outputs": [
        {
          "output_type": "stream",
          "name": "stdout",
          "text": [
            "18/18 [==============================] - 2s 13ms/step\n"
          ]
        },
        {
          "output_type": "display_data",
          "data": {
            "text/plain": [
              "<Figure size 1000x1000 with 2 Axes>"
            ],
            "image/png": "[encoded data removed]"
          },
          "metadata": {}
        }
      ],
      "source": [
        "from sklearn.metrics import confusion_matrix\n",
        "import itertools\n",
        "\n",
        "def plot_confusion_matrix(cm, classes,\n",
        "                          normalize=False,\n",
        "                          title='Confusion matrix EfficientNetB2',\n",
        "                          cmap=plt.cm.Greens):\n",
        "\n",
        "    fig = plt.figure(figsize=(10,10))\n",
        "    plt.imshow(cm, interpolation='nearest', cmap=cmap)\n",
        "    plt.title(title)\n",
        "    plt.colorbar()\n",
        "    tick_marks = np.arange(len(classes))\n",
        "    plt.xticks(tick_marks, classes, rotation=90)\n",
        "    plt.yticks(tick_marks, classes)\n",
        "\n",
        "    if normalize:\n",
        "        cm = cm.astype('float') / cm.sum(axis=1)[:, np.newaxis]\n",
        "\n",
        "    thresh = cm.max() / 2.\n",
        "    for i, j in itertools.product(range(cm.shape[0]), range(cm.shape[1])):\n",
        "        plt.text(j, i, cm[i, j],\n",
        "                 horizontalalignment=\"center\",\n",
        "                 color=\"white\" if cm[i, j] > thresh else \"black\")\n",
        "\n",
        "    plt.tight_layout()\n",
        "    plt.ylabel('True label')\n",
        "    plt.xlabel('Predicted label')\n",
        "\n",
        "# Predict the values from the validation dataset\n",
        "predY = model1.predict(X_test)\n",
        "predYClasses = np.argmax(predY, axis = 1)\n",
        "trueY = np.argmax(test_label, axis = 1)\n",
        "\n",
        "# confusion matrix\n",
        "confusionMTX = confusion_matrix(trueY, predYClasses)\n",
        "\n",
        "# plot the confusion matrix\n",
        "plot_confusion_matrix(confusionMTX, classes = class_names_lst)"
      ]
    },
    {
      "cell_type": "code",
      "execution_count": null,
      "metadata": {
        "id": "VE4jdyXXrpz0",
        "colab": {
          "base_uri": "https://localhost:8080/"
        },
        "outputId": "56a9e6fd-00e2-4225-d3fa-6cc804f852b8"
      },
      "outputs": [
        {
          "output_type": "stream",
          "name": "stdout",
          "text": [
            "0.8929854502473936\n",
            "0.8935018050541517\n",
            "0.8941580936973348\n",
            "[0.64367816 0.96078431 0.96774194 0.96969697 0.95652174 0.98039216\n",
            " 0.78431373 0.83870968 0.88135593 0.82539683 0.97029703 0.93693694]\n"
          ]
        }
      ],
      "source": [
        "from sklearn.metrics import f1_score\n",
        "\n",
        "print(f1_score(trueY, predYClasses, average='macro')) # macro, take the average of each class’s F-1 score:\n",
        "print(f1_score(trueY, predYClasses, average='micro')) #micro calculates positive and negative values globally\n",
        "print(f1_score(trueY, predYClasses, average='weighted')) #F-1 scores are averaged by using the number of instances in a class as weight\n",
        "print(f1_score(trueY, predYClasses, average=None))"
      ]
    },
    {
      "cell_type": "code",
      "execution_count": null,
      "metadata": {
        "id": "Z5Wp8KhRCFQc",
        "colab": {
          "base_uri": "https://localhost:8080/"
        },
        "outputId": "a322947d-bd45-4d43-92c6-2412fec048ec"
      },
      "outputs": [
        {
          "output_type": "stream",
          "name": "stdout",
          "text": [
            "\u001b[1;32;47m                      Classification Report EfficientNetB2                      \u001b[m\n",
            "                           precision    recall  f1-score   support\n",
            "\n",
            "              Black-grass       0.61      0.68      0.64        41\n",
            "                 Charlock       0.94      0.98      0.96        50\n",
            "                 Cleavers       0.97      0.97      0.97        31\n",
            "         Common Chickweed       0.97      0.97      0.97        66\n",
            "             Common wheat       0.96      0.96      0.96        23\n",
            "                  Fat Hen       0.98      0.98      0.98        51\n",
            "         Loose Silky-bent       0.80      0.77      0.78        78\n",
            "                    Maize       1.00      0.72      0.84        18\n",
            "        Scentless Mayweed       0.93      0.84      0.88        62\n",
            "         Shepherd’s Purse       0.76      0.90      0.83        29\n",
            "Small-flowered Cranesbill       0.98      0.96      0.97        51\n",
            "               Sugar beet       0.91      0.96      0.94        54\n",
            "\n",
            "                 accuracy                           0.89       554\n",
            "                macro avg       0.90      0.89      0.89       554\n",
            "             weighted avg       0.90      0.89      0.89       554\n",
            "\n"
          ]
        }
      ],
      "source": [
        "from sklearn.metrics import classification_report\n",
        "\n",
        "# Define your title\n",
        "title = \"Classification Report EfficientNetB2\"\n",
        "\n",
        "# Calculate the padding to center the title\n",
        "padding_length = (80 - len(title)) // 2\n",
        "\n",
        "# Create the formatted title with centered and bold text\n",
        "formatted_title = f\"\\033[1;32;47m{' ' * padding_length}{title}{' ' * padding_length}\\033[m\"\n",
        "\n",
        "# Print the formatted title\n",
        "print(formatted_title)\n",
        "\n",
        "print(classification_report(trueY, predYClasses, target_names=class_names_lst))"
      ]
    },
    {
      "cell_type": "markdown",
      "metadata": {
        "id": "57r_F4x_Cxxj"
      },
      "source": [
        "**Observation:**\n",
        "\n",
        "\n",
        "\n",
        "*   Recall is very low for Black-grass.\n",
        "*   Precison is below .70 for Black grass.\n",
        "*   Even from Confusion matrix, we see model did not perform well for black grass.\n",
        "*   Other classes have better balane between precision and recall and a goof f1 score.\n",
        "\n",
        "Overall Accuracy is also great.\n",
        "\n",
        "\n",
        "\n"
      ]
    },
    {
      "cell_type": "code",
      "execution_count": null,
      "metadata": {
        "id": "1NbYJXvOCkvi",
        "colab": {
          "base_uri": "https://localhost:8080/"
        },
        "outputId": "a5adffdc-8d3f-436c-a6cc-53c998c25ffb"
      },
      "outputs": [
        {
          "output_type": "execute_result",
          "data": {
            "text/plain": [
              "array([[[495,  18],\n",
              "        [ 13,  28]],\n",
              "\n",
              "       [[501,   3],\n",
              "        [  1,  49]],\n",
              "\n",
              "       [[522,   1],\n",
              "        [  1,  30]],\n",
              "\n",
              "       [[486,   2],\n",
              "        [  2,  64]],\n",
              "\n",
              "       [[530,   1],\n",
              "        [  1,  22]],\n",
              "\n",
              "       [[502,   1],\n",
              "        [  1,  50]],\n",
              "\n",
              "       [[461,  15],\n",
              "        [ 18,  60]],\n",
              "\n",
              "       [[536,   0],\n",
              "        [  5,  13]],\n",
              "\n",
              "       [[488,   4],\n",
              "        [ 10,  52]],\n",
              "\n",
              "       [[517,   8],\n",
              "        [  3,  26]],\n",
              "\n",
              "       [[502,   1],\n",
              "        [  2,  49]],\n",
              "\n",
              "       [[495,   5],\n",
              "        [  2,  52]]])"
            ]
          },
          "metadata": {},
          "execution_count": 47
        }
      ],
      "source": [
        "from sklearn.metrics import multilabel_confusion_matrix\n",
        "\n",
        "multilabel_confusion_matrix(trueY, predYClasses)"
      ]
    },
    {
      "cell_type": "markdown",
      "metadata": {
        "id": "a_q9Hee-Cqa-"
      },
      "source": [
        "**Each plant category level TP, FP, FN, TN can be seen from above matrix:**"
      ]
    },
    {
      "cell_type": "code",
      "execution_count": null,
      "metadata": {
        "id": "tSkTyP_GCnoC",
        "colab": {
          "base_uri": "https://localhost:8080/",
          "height": 472
        },
        "outputId": "9b79aaec-89a7-4cd0-c698-4d1d056ed379"
      },
      "outputs": [
        {
          "output_type": "display_data",
          "data": {
            "text/plain": [
              "<Figure size 640x480 with 1 Axes>"
            ],
            "image/png": "[encoded data removed]"
          },
          "metadata": {}
        }
      ],
      "source": [
        "plt.plot(history.history['accuracy'])\n",
        "plt.plot(history.history['val_accuracy'])\n",
        "plt.title('model accuracy')\n",
        "plt.ylabel('accuracy')\n",
        "plt.xlabel('epoch')\n",
        "plt.legend(['train', 'val'], loc='upper left')\n",
        "plt.show()\n",
        "\n",
        "\n"
      ]
    },
    {
      "cell_type": "code",
      "execution_count": null,
      "metadata": {
        "id": "RbXk56nxE8l8",
        "colab": {
          "base_uri": "https://localhost:8080/",
          "height": 472
        },
        "outputId": "497a0e8a-3e5b-4dc7-c013-a38b1847a256"
      },
      "outputs": [
        {
          "output_type": "display_data",
          "data": {
            "text/plain": [
              "<Figure size 640x480 with 1 Axes>"
            ],
            "image/png": "[encoded data removed]"
          },
          "metadata": {}
        }
      ],
      "source": [
        "plt.plot(history.history['loss'])\n",
        "plt.plot(history.history['val_loss'])\n",
        "plt.title('model loss')\n",
        "plt.ylabel('loss')\n",
        "plt.xlabel('epoch')\n",
        "plt.legend(['train', 'val'], loc='upper left')\n",
        "plt.show()\n"
      ]
    },
    {
      "cell_type": "markdown",
      "metadata": {
        "id": "T0vSDlYDFKTR"
      },
      "source": [
        "**Observation:**\n",
        "\n",
        "\n",
        "*   Loss is decreasing and val loss is close to training loss\n",
        "*   Accuracy of val set is also close to training accuracy\n",
        "*   No overfitting or underfitting observerd based on the scores of val and testing sets\n",
        "\n",
        "\n",
        "\n",
        "\n",
        "\n"
      ]
    }
  ],
  "metadata": {
    "accelerator": "GPU",
    "colab": {
      "machine_shape": "hm",
      "provenance": [],
      "gpuType": "A100",
      "mount_file_id": "1U_18Y-d6auu0yNd1_2p4mPV8FpDNTtmp",
      "authorship_tag": "ABX9TyN2oTsTcn/Wzp+BfHOb7qu2"
    },
    "kernelspec": {
      "display_name": "Python 3",
      "name": "python3"
    },
    "language_info": {
      "name": "python"
    }
  },
  "nbformat": 4,
  "nbformat_minor": 0
}